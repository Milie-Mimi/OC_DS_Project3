{
 "cells": [
  {
   "cell_type": "markdown",
   "id": "b6e89a93",
   "metadata": {},
   "source": [
    "# Projet 3: Concevez une application au service de la santé publique"
   ]
  },
  {
   "cell_type": "markdown",
   "id": "b64bb93d",
   "metadata": {},
   "source": [
    "Open Food Facts est une association à but non lucratif composée de volontaires qui fournit une base de données de produits alimentaires qui répertorie les ingrédients, les allergènes, la composition nutritionnelle et toutes les informations présentes sur les étiquettes des aliments. \n",
    "\n",
    "Toute la base de données est publiée sous forme de données ouvertes (open data) qui peuvent être utilisées par tous et pour tous usages.\n",
    "\n",
    "La base de données contient:\n",
    "- des **informations générales**: code barre du produit, url du produit sur le site d'Open Food Facts, contributeur qui a ajouté le produit pour la première fois, date de l'ajout et de la modification d'un produit, le nom du produit, sa quantité, son image\n",
    "- des informations sur le **type du produit**: marque, catégorie, label\n",
    "- des informations sur sa **provenance**: origine, lieu de transformation, pays,villes et magasins où sont proposés les produits\n",
    "- des informations sur le type d'**emballage** du produit\n",
    "- des informations sur la **composition** du produit: ingrédients, additifs, allergènes, nutriments, vitamines\n",
    "- des **scores**: empreinte carbonne, nutriscore (défini par la FSA et sa version adaptée au marché français), grade de nutrition (de A à E)\n",
    "\n",
    "Le nutriscore est attribué sur la base d’un score prenant en compte pour 100 gr ou 100 mL de produit, la teneur :\n",
    "- en **nutriments et aliments à favoriser** (fibres, protéines, fruits, légumes, légumineuses, fruits à coques, huile de colza, de noix et d’olive),\n",
    "- et en **nutriments à limiter** (énergie, acides gras saturés, sucres, sel)\n",
    "\n",
    "Après calcul, le score obtenu par un produit permet de lui attribuer une lettre et une couleur.\n",
    "\n",
    "L'agence \"Santé publique France\" a lancé un appel à projets pour trouver des idées innovantes d’applications en lien avec l'alimentation."
   ]
  },
  {
   "cell_type": "markdown",
   "id": "7bb6110a",
   "metadata": {
    "heading_collapsed": true
   },
   "source": [
    "## Table des matières: <a class=\"anchor\" id=\"0\"></a>\n",
    "\n",
    "1. [Import des librairies et configurations générales](#library)\n",
    "2. [Visualisation et chargement du dataset](#dataset)\n",
    "3. [Mots qui apparaissent le plus souvent dans le nom des variables](#words)\n",
    "4. [Autres variables](#misc)\n",
    "5. [Sélection de variables pertinentes en lien avec le choix d'application](#selec_var)\n",
    "6. [Doublons](#doublons)\n",
    "7. [Gestion des valeurs aberrantes](#outliers)\n",
    "8. [Gestion des valeurs manquantes](#nan)    "
   ]
  },
  {
   "cell_type": "markdown",
   "id": "87582c69",
   "metadata": {
    "heading_collapsed": true
   },
   "source": [
    "## Import des librairies et configurations générales <a class=\"anchor\" id=\"library\"></a>"
   ]
  },
  {
   "cell_type": "code",
   "execution_count": 1,
   "id": "e552d84a",
   "metadata": {
    "hidden": true
   },
   "outputs": [],
   "source": [
    "import numpy as np # pour l'algèbre linéaire\n",
    "import pandas as pd # pour l'analyse de données\n",
    "import collections # pour compter l'occurence de mots\n",
    "from collections import Counter\n",
    "\n",
    "import seaborn as sns # datavisualisation\n",
    "import matplotlib.pyplot as plt # datavisualisation\n",
    "from matplotlib.gridspec import GridSpec # visualisation sous forme de grille\n",
    "from wordcloud import WordCloud # nuage de mots"
   ]
  },
  {
   "cell_type": "code",
   "execution_count": 2,
   "id": "b48ea3ae",
   "metadata": {
    "hidden": true
   },
   "outputs": [],
   "source": [
    "#plt.rcParams.keys()"
   ]
  },
  {
   "cell_type": "code",
   "execution_count": 3,
   "id": "20c5ecd5",
   "metadata": {
    "hidden": true
   },
   "outputs": [],
   "source": [
    "# Configuration générale des graphiques\n",
    "parameters = {'axes.labelsize': 13, 'axes.titlesize': 16, 'axes.titleweight': 'bold'}\n",
    "plt.rcParams.update(parameters)"
   ]
  },
  {
   "cell_type": "code",
   "execution_count": 4,
   "id": "34d54cf4",
   "metadata": {
    "hidden": true
   },
   "outputs": [],
   "source": [
    "# Modification de l'affichage des lignes et colonnes pour plus de lisibilité\n",
    "pd.set_option('display.max_rows', 500)\n",
    "pd.set_option('display.max_columns', 100)\n",
    "pd.set_option('display.max_colwidth', None)"
   ]
  },
  {
   "cell_type": "code",
   "execution_count": 5,
   "id": "2f06bbb4",
   "metadata": {
    "hidden": true
   },
   "outputs": [],
   "source": [
    "#import warnings\n",
    "#warnings.filterwarnings('ignore')"
   ]
  },
  {
   "cell_type": "markdown",
   "id": "7f2da54a",
   "metadata": {
    "heading_collapsed": true
   },
   "source": [
    "## Visualisation et chargement du dataset <a class=\"anchor\" id=\"dataset\"></a>"
   ]
  },
  {
   "cell_type": "code",
   "execution_count": 6,
   "id": "abc251d8",
   "metadata": {
    "hidden": true
   },
   "outputs": [],
   "source": [
    "#openfoodfacts = pd.read_csv('data\\en.openfoodfacts.org.products.csv', sep = '\\t')"
   ]
  },
  {
   "cell_type": "markdown",
   "id": "80f2f837",
   "metadata": {
    "hidden": true
   },
   "source": [
    "Lorsque l'on tente de charger directement le dataset, on obtient une erreur indiquant l'index des colonnes posant problème (type mixte). Afin de récupérer le nom des variables pour leur affecter un dtypes avant import, nous allons charger uniquement les 5 premières lignes et récupérer les colonnes (0,8,13,19,20,21,22,23,27,28,29,31,32,38,40,41,42,52,55,64,66):"
   ]
  },
  {
   "cell_type": "code",
   "execution_count": 7,
   "id": "a178e050",
   "metadata": {
    "hidden": true
   },
   "outputs": [],
   "source": [
    "#openfoodfacts = pd.read_csv('data\\en.openfoodfacts.org.products.csv', sep = '\\t', nrows = 5)\n",
    "#openfoodfacts"
   ]
  },
  {
   "cell_type": "code",
   "execution_count": 8,
   "id": "76756c6d",
   "metadata": {
    "hidden": true
   },
   "outputs": [],
   "source": [
    "#liste_colonnes_pour_dtypes = [0,8,13,19,20,21,22,23,27,28,29,31,32,38,40,41,42,52,55,64,66]\n",
    "#print(openfoodfacts.iloc[:,liste_colonnes_pour_dtypes].columns.tolist())"
   ]
  },
  {
   "cell_type": "code",
   "execution_count": 9,
   "id": "43fcd1f2",
   "metadata": {
    "hidden": true
   },
   "outputs": [],
   "source": [
    "# Certaines colonnes ont des modalités de type différent, forçons le type en object\n",
    "dtypes = {\n",
    "    'code':object, \n",
    "    'abbreviated_product_name':object, \n",
    "    'packaging_text':object, \n",
    "    'origins':object,\n",
    "    'origins_tags':object, \n",
    "    'origins_en':object, \n",
    "    'manufacturing_places':object,\n",
    "    'manufacturing_places_tags':object, \n",
    "    'emb_codes':object, \n",
    "    'emb_codes_tags':object,\n",
    "    'first_packaging_code_geo':object, \n",
    "    'cities_tags':object,\n",
    "    'purchase_places':object,\n",
    "    'allergens':object,\n",
    "    'traces':object,\n",
    "    'traces_tags':object, \n",
    "    'traces_en':object, \n",
    "    'ingredients_from_palm_oil_tags':object, \n",
    "    'ingredients_that_may_be_from_palm_oil_tags':object, \n",
    "    'brand_owner':object, \n",
    "    'ecoscore_grade_fr':object\n",
    "}"
   ]
  },
  {
   "cell_type": "code",
   "execution_count": 10,
   "id": "4ec3c244",
   "metadata": {
    "hidden": true
   },
   "outputs": [],
   "source": [
    "# Chargement du dataset avec les bons dtypes\n",
    "openfoodfacts = pd.read_csv('data\\en.openfoodfacts.org.products.csv', sep = '\\t', dtype=dtypes)"
   ]
  },
  {
   "cell_type": "markdown",
   "id": "04a0bdd4",
   "metadata": {
    "hidden": true
   },
   "source": [
    "Nous allons créer une fonction qui permettra de savoir si lors d'un import futur, les variables correspondent à celles chargées à l'origine. Si ce n'est pas le cas, il faudra analyser les nouvelles variables afin de définir si elles apportent une information supplémentaire et peut être adapter le script."
   ]
  },
  {
   "cell_type": "code",
   "execution_count": 11,
   "id": "f2e218f8",
   "metadata": {
    "hidden": true
   },
   "outputs": [],
   "source": [
    "#print(openfoodfacts.columns.tolist())"
   ]
  },
  {
   "cell_type": "code",
   "execution_count": 12,
   "id": "6d8f83b3",
   "metadata": {
    "hidden": true
   },
   "outputs": [],
   "source": [
    "def controle_des_colonnes(dataset):\n",
    "    '''Fonction qui permet de vérifier que toutes les colonnes ont bien été importées parmi la liste des variables \n",
    "    importées lors de la phase de cleaning'''\n",
    "    \n",
    "    liste_colonnes = ['code', 'url', 'creator', 'created_t', 'created_datetime', 'last_modified_t', \n",
    "                      'last_modified_datetime', 'product_name', 'abbreviated_product_name', 'generic_name', 'quantity', \n",
    "                      'packaging', 'packaging_tags', 'packaging_text', 'brands', 'brands_tags', 'categories', \n",
    "                      'categories_tags', 'categories_en', 'origins', 'origins_tags', 'origins_en', 'manufacturing_places', \n",
    "                      'manufacturing_places_tags', 'labels', 'labels_tags', 'labels_en', 'emb_codes', 'emb_codes_tags', \n",
    "                      'first_packaging_code_geo', 'cities', 'cities_tags', 'purchase_places', 'stores', 'countries', \n",
    "                      'countries_tags', 'countries_en', 'ingredients_text', 'allergens', 'allergens_en', 'traces', \n",
    "                      'traces_tags', 'traces_en', 'serving_size', 'serving_quantity', 'no_nutriments', 'additives_n', \n",
    "                      'additives', 'additives_tags', 'additives_en', 'ingredients_from_palm_oil_n', \n",
    "                      'ingredients_from_palm_oil', 'ingredients_from_palm_oil_tags', 'ingredients_that_may_be_from_palm_oil_n', \n",
    "                      'ingredients_that_may_be_from_palm_oil', 'ingredients_that_may_be_from_palm_oil_tags', \n",
    "                      'nutriscore_score', 'nutriscore_grade', 'nova_group', 'pnns_groups_1', 'pnns_groups_2', \n",
    "                      'states', 'states_tags', 'states_en', 'brand_owner', 'ecoscore_score_fr', 'ecoscore_grade_fr', \n",
    "                      'main_category', 'main_category_en', 'image_url', 'image_small_url', 'image_ingredients_url', \n",
    "                      'image_ingredients_small_url', 'image_nutrition_url', 'image_nutrition_small_url', 'energy-kj_100g', \n",
    "                      'energy-kcal_100g', 'energy_100g', 'energy-from-fat_100g', 'fat_100g', 'saturated-fat_100g', \n",
    "                      '-butyric-acid_100g', '-caproic-acid_100g', '-caprylic-acid_100g', '-capric-acid_100g', \n",
    "                      '-lauric-acid_100g', '-myristic-acid_100g', '-palmitic-acid_100g', '-stearic-acid_100g', \n",
    "                      '-arachidic-acid_100g', '-behenic-acid_100g', '-lignoceric-acid_100g', '-cerotic-acid_100g', \n",
    "                      '-montanic-acid_100g', '-melissic-acid_100g', 'monounsaturated-fat_100g', 'polyunsaturated-fat_100g', \n",
    "                      'omega-3-fat_100g', '-alpha-linolenic-acid_100g', '-eicosapentaenoic-acid_100g', \n",
    "                      '-docosahexaenoic-acid_100g', 'omega-6-fat_100g', '-linoleic-acid_100g', '-arachidonic-acid_100g', \n",
    "                      '-gamma-linolenic-acid_100g', '-dihomo-gamma-linolenic-acid_100g', 'omega-9-fat_100g', \n",
    "                      '-oleic-acid_100g', '-elaidic-acid_100g', '-gondoic-acid_100g', '-mead-acid_100g', \n",
    "                      '-erucic-acid_100g', '-nervonic-acid_100g', 'trans-fat_100g', 'cholesterol_100g', \n",
    "                      'carbohydrates_100g', 'sugars_100g', '-sucrose_100g', '-glucose_100g', '-fructose_100g', \n",
    "                      '-lactose_100g', '-maltose_100g', '-maltodextrins_100g', 'starch_100g', 'polyols_100g', \n",
    "                      'fiber_100g', 'soluble-fiber_100g', 'insoluble-fiber_100g', 'proteins_100g', 'casein_100g', \n",
    "                      'serum-proteins_100g', 'nucleotides_100g', 'salt_100g', 'sodium_100g', 'alcohol_100g', \n",
    "                      'vitamin-a_100g', 'beta-carotene_100g', 'vitamin-d_100g', 'vitamin-e_100g', 'vitamin-k_100g', \n",
    "                      'vitamin-c_100g', 'vitamin-b1_100g', 'vitamin-b2_100g', 'vitamin-pp_100g', 'vitamin-b6_100g', \n",
    "                      'vitamin-b9_100g', 'folates_100g', 'vitamin-b12_100g', 'biotin_100g', 'pantothenic-acid_100g', \n",
    "                      'silica_100g', 'bicarbonate_100g', 'potassium_100g', 'chloride_100g', 'calcium_100g', \n",
    "                      'phosphorus_100g', 'iron_100g', 'magnesium_100g', 'zinc_100g', 'copper_100g', 'manganese_100g', \n",
    "                      'fluoride_100g', 'selenium_100g', 'chromium_100g', 'molybdenum_100g', 'iodine_100g', 'caffeine_100g', \n",
    "                      'taurine_100g', 'ph_100g', 'fruits-vegetables-nuts_100g', 'fruits-vegetables-nuts-dried_100g', \n",
    "                      'fruits-vegetables-nuts-estimate_100g', 'fruits-vegetables-nuts-estimate-from-ingredients_100g', \n",
    "                      'collagen-meat-protein-ratio_100g', 'cocoa_100g', 'chlorophyl_100g', 'carbon-footprint_100g', \n",
    "                      'carbon-footprint-from-meat-or-fish_100g', 'nutrition-score-fr_100g', 'nutrition-score-uk_100g', \n",
    "                      'glycemic-index_100g', 'water-hardness_100g', 'choline_100g', 'phylloquinone_100g', 'beta-glucan_100g', \n",
    "                      'inositol_100g', 'carnitine_100g']\n",
    "    \n",
    "    \n",
    "    if dataset.columns.tolist() == liste_colonnes:\n",
    "        print('Toutes les variables ont bien été chargées')\n",
    "    \n",
    "    else:\n",
    "        print('Variable(s) non présente(s) dans le dataset:')\n",
    "        print(set(liste_colonnes) - set(dataset.columns.tolist()))\n",
    "        \n",
    "        print('Variable(s) supplémentaires dans le dataset:')\n",
    "        print(set(dataset.columns.tolist()) - set(liste_colonnes))"
   ]
  },
  {
   "cell_type": "code",
   "execution_count": 13,
   "id": "2460b801",
   "metadata": {
    "hidden": true
   },
   "outputs": [
    {
     "name": "stdout",
     "output_type": "stream",
     "text": [
      "Toutes les variables ont bien été chargées\n"
     ]
    }
   ],
   "source": [
    "controle_des_colonnes(openfoodfacts)"
   ]
  },
  {
   "cell_type": "code",
   "execution_count": 14,
   "id": "1c4b6617",
   "metadata": {
    "hidden": true
   },
   "outputs": [
    {
     "name": "stdout",
     "output_type": "stream",
     "text": [
      "<class 'pandas.core.frame.DataFrame'>\n",
      "RangeIndex: 2053679 entries, 0 to 2053678\n",
      "Columns: 187 entries, code to carnitine_100g\n",
      "dtypes: float64(125), int64(2), object(60)\n",
      "memory usage: 2.9+ GB\n"
     ]
    }
   ],
   "source": [
    "openfoodfacts.info()"
   ]
  },
  {
   "cell_type": "code",
   "execution_count": 15,
   "id": "c234f96f",
   "metadata": {
    "hidden": true
   },
   "outputs": [
    {
     "data": {
      "text/html": [
       "<div>\n",
       "<style scoped>\n",
       "    .dataframe tbody tr th:only-of-type {\n",
       "        vertical-align: middle;\n",
       "    }\n",
       "\n",
       "    .dataframe tbody tr th {\n",
       "        vertical-align: top;\n",
       "    }\n",
       "\n",
       "    .dataframe thead th {\n",
       "        text-align: right;\n",
       "    }\n",
       "</style>\n",
       "<table border=\"1\" class=\"dataframe\">\n",
       "  <thead>\n",
       "    <tr style=\"text-align: right;\">\n",
       "      <th></th>\n",
       "      <th>code</th>\n",
       "      <th>url</th>\n",
       "      <th>creator</th>\n",
       "      <th>created_t</th>\n",
       "      <th>created_datetime</th>\n",
       "      <th>last_modified_t</th>\n",
       "      <th>last_modified_datetime</th>\n",
       "      <th>product_name</th>\n",
       "      <th>abbreviated_product_name</th>\n",
       "      <th>generic_name</th>\n",
       "      <th>quantity</th>\n",
       "      <th>packaging</th>\n",
       "      <th>packaging_tags</th>\n",
       "      <th>packaging_text</th>\n",
       "      <th>brands</th>\n",
       "      <th>brands_tags</th>\n",
       "      <th>categories</th>\n",
       "      <th>categories_tags</th>\n",
       "      <th>categories_en</th>\n",
       "      <th>origins</th>\n",
       "      <th>origins_tags</th>\n",
       "      <th>origins_en</th>\n",
       "      <th>manufacturing_places</th>\n",
       "      <th>manufacturing_places_tags</th>\n",
       "      <th>labels</th>\n",
       "      <th>labels_tags</th>\n",
       "      <th>labels_en</th>\n",
       "      <th>emb_codes</th>\n",
       "      <th>emb_codes_tags</th>\n",
       "      <th>first_packaging_code_geo</th>\n",
       "      <th>cities</th>\n",
       "      <th>cities_tags</th>\n",
       "      <th>purchase_places</th>\n",
       "      <th>stores</th>\n",
       "      <th>countries</th>\n",
       "      <th>countries_tags</th>\n",
       "      <th>countries_en</th>\n",
       "      <th>ingredients_text</th>\n",
       "      <th>allergens</th>\n",
       "      <th>allergens_en</th>\n",
       "      <th>traces</th>\n",
       "      <th>traces_tags</th>\n",
       "      <th>traces_en</th>\n",
       "      <th>serving_size</th>\n",
       "      <th>serving_quantity</th>\n",
       "      <th>no_nutriments</th>\n",
       "      <th>additives_n</th>\n",
       "      <th>additives</th>\n",
       "      <th>additives_tags</th>\n",
       "      <th>additives_en</th>\n",
       "      <th>...</th>\n",
       "      <th>vitamin-d_100g</th>\n",
       "      <th>vitamin-e_100g</th>\n",
       "      <th>vitamin-k_100g</th>\n",
       "      <th>vitamin-c_100g</th>\n",
       "      <th>vitamin-b1_100g</th>\n",
       "      <th>vitamin-b2_100g</th>\n",
       "      <th>vitamin-pp_100g</th>\n",
       "      <th>vitamin-b6_100g</th>\n",
       "      <th>vitamin-b9_100g</th>\n",
       "      <th>folates_100g</th>\n",
       "      <th>vitamin-b12_100g</th>\n",
       "      <th>biotin_100g</th>\n",
       "      <th>pantothenic-acid_100g</th>\n",
       "      <th>silica_100g</th>\n",
       "      <th>bicarbonate_100g</th>\n",
       "      <th>potassium_100g</th>\n",
       "      <th>chloride_100g</th>\n",
       "      <th>calcium_100g</th>\n",
       "      <th>phosphorus_100g</th>\n",
       "      <th>iron_100g</th>\n",
       "      <th>magnesium_100g</th>\n",
       "      <th>zinc_100g</th>\n",
       "      <th>copper_100g</th>\n",
       "      <th>manganese_100g</th>\n",
       "      <th>fluoride_100g</th>\n",
       "      <th>selenium_100g</th>\n",
       "      <th>chromium_100g</th>\n",
       "      <th>molybdenum_100g</th>\n",
       "      <th>iodine_100g</th>\n",
       "      <th>caffeine_100g</th>\n",
       "      <th>taurine_100g</th>\n",
       "      <th>ph_100g</th>\n",
       "      <th>fruits-vegetables-nuts_100g</th>\n",
       "      <th>fruits-vegetables-nuts-dried_100g</th>\n",
       "      <th>fruits-vegetables-nuts-estimate_100g</th>\n",
       "      <th>fruits-vegetables-nuts-estimate-from-ingredients_100g</th>\n",
       "      <th>collagen-meat-protein-ratio_100g</th>\n",
       "      <th>cocoa_100g</th>\n",
       "      <th>chlorophyl_100g</th>\n",
       "      <th>carbon-footprint_100g</th>\n",
       "      <th>carbon-footprint-from-meat-or-fish_100g</th>\n",
       "      <th>nutrition-score-fr_100g</th>\n",
       "      <th>nutrition-score-uk_100g</th>\n",
       "      <th>glycemic-index_100g</th>\n",
       "      <th>water-hardness_100g</th>\n",
       "      <th>choline_100g</th>\n",
       "      <th>phylloquinone_100g</th>\n",
       "      <th>beta-glucan_100g</th>\n",
       "      <th>inositol_100g</th>\n",
       "      <th>carnitine_100g</th>\n",
       "    </tr>\n",
       "  </thead>\n",
       "  <tbody>\n",
       "    <tr>\n",
       "      <th>0</th>\n",
       "      <td>00000000000000225</td>\n",
       "      <td>http://world-en.openfoodfacts.org/product/00000000000000225/jeunes-pousses-endives</td>\n",
       "      <td>nutrinet-sante</td>\n",
       "      <td>1623855208</td>\n",
       "      <td>2021-06-16T14:53:28Z</td>\n",
       "      <td>1623855209</td>\n",
       "      <td>2021-06-16T14:53:29Z</td>\n",
       "      <td>jeunes pousses</td>\n",
       "      <td>NaN</td>\n",
       "      <td>NaN</td>\n",
       "      <td>NaN</td>\n",
       "      <td>NaN</td>\n",
       "      <td>NaN</td>\n",
       "      <td>NaN</td>\n",
       "      <td>endives</td>\n",
       "      <td>endives</td>\n",
       "      <td>NaN</td>\n",
       "      <td>NaN</td>\n",
       "      <td>NaN</td>\n",
       "      <td>NaN</td>\n",
       "      <td>NaN</td>\n",
       "      <td>NaN</td>\n",
       "      <td>NaN</td>\n",
       "      <td>NaN</td>\n",
       "      <td>NaN</td>\n",
       "      <td>NaN</td>\n",
       "      <td>NaN</td>\n",
       "      <td>NaN</td>\n",
       "      <td>NaN</td>\n",
       "      <td>NaN</td>\n",
       "      <td>NaN</td>\n",
       "      <td>NaN</td>\n",
       "      <td>NaN</td>\n",
       "      <td>NaN</td>\n",
       "      <td>en:france</td>\n",
       "      <td>en:france</td>\n",
       "      <td>France</td>\n",
       "      <td>NaN</td>\n",
       "      <td>NaN</td>\n",
       "      <td>NaN</td>\n",
       "      <td>NaN</td>\n",
       "      <td>NaN</td>\n",
       "      <td>NaN</td>\n",
       "      <td>NaN</td>\n",
       "      <td>NaN</td>\n",
       "      <td>NaN</td>\n",
       "      <td>NaN</td>\n",
       "      <td>NaN</td>\n",
       "      <td>NaN</td>\n",
       "      <td>NaN</td>\n",
       "      <td>...</td>\n",
       "      <td>NaN</td>\n",
       "      <td>NaN</td>\n",
       "      <td>NaN</td>\n",
       "      <td>NaN</td>\n",
       "      <td>NaN</td>\n",
       "      <td>NaN</td>\n",
       "      <td>NaN</td>\n",
       "      <td>NaN</td>\n",
       "      <td>NaN</td>\n",
       "      <td>NaN</td>\n",
       "      <td>NaN</td>\n",
       "      <td>NaN</td>\n",
       "      <td>NaN</td>\n",
       "      <td>NaN</td>\n",
       "      <td>NaN</td>\n",
       "      <td>NaN</td>\n",
       "      <td>NaN</td>\n",
       "      <td>NaN</td>\n",
       "      <td>NaN</td>\n",
       "      <td>NaN</td>\n",
       "      <td>NaN</td>\n",
       "      <td>NaN</td>\n",
       "      <td>NaN</td>\n",
       "      <td>NaN</td>\n",
       "      <td>NaN</td>\n",
       "      <td>NaN</td>\n",
       "      <td>NaN</td>\n",
       "      <td>NaN</td>\n",
       "      <td>NaN</td>\n",
       "      <td>NaN</td>\n",
       "      <td>NaN</td>\n",
       "      <td>NaN</td>\n",
       "      <td>NaN</td>\n",
       "      <td>NaN</td>\n",
       "      <td>NaN</td>\n",
       "      <td>NaN</td>\n",
       "      <td>NaN</td>\n",
       "      <td>NaN</td>\n",
       "      <td>NaN</td>\n",
       "      <td>NaN</td>\n",
       "      <td>NaN</td>\n",
       "      <td>NaN</td>\n",
       "      <td>NaN</td>\n",
       "      <td>NaN</td>\n",
       "      <td>NaN</td>\n",
       "      <td>NaN</td>\n",
       "      <td>NaN</td>\n",
       "      <td>NaN</td>\n",
       "      <td>NaN</td>\n",
       "      <td>NaN</td>\n",
       "    </tr>\n",
       "    <tr>\n",
       "      <th>1</th>\n",
       "      <td>00000000000003429145</td>\n",
       "      <td>http://world-en.openfoodfacts.org/product/00000000000003429145/l-casei</td>\n",
       "      <td>kiliweb</td>\n",
       "      <td>1630483911</td>\n",
       "      <td>2021-09-01T08:11:51Z</td>\n",
       "      <td>1630484064</td>\n",
       "      <td>2021-09-01T08:14:24Z</td>\n",
       "      <td>L.casei</td>\n",
       "      <td>NaN</td>\n",
       "      <td>NaN</td>\n",
       "      <td>NaN</td>\n",
       "      <td>NaN</td>\n",
       "      <td>NaN</td>\n",
       "      <td>NaN</td>\n",
       "      <td>NaN</td>\n",
       "      <td>NaN</td>\n",
       "      <td>NaN</td>\n",
       "      <td>NaN</td>\n",
       "      <td>NaN</td>\n",
       "      <td>Spain</td>\n",
       "      <td>en:spain</td>\n",
       "      <td>Spain</td>\n",
       "      <td>NaN</td>\n",
       "      <td>NaN</td>\n",
       "      <td>NaN</td>\n",
       "      <td>NaN</td>\n",
       "      <td>NaN</td>\n",
       "      <td>NaN</td>\n",
       "      <td>NaN</td>\n",
       "      <td>NaN</td>\n",
       "      <td>NaN</td>\n",
       "      <td>NaN</td>\n",
       "      <td>NaN</td>\n",
       "      <td>NaN</td>\n",
       "      <td>Spain</td>\n",
       "      <td>en:spain</td>\n",
       "      <td>Spain</td>\n",
       "      <td>Leche semidesnatada, azucar 6.9% leche desnatada en polva, fermentos lacticos (contiene Lactobacidus casei), vitaminas (B6 y D).</td>\n",
       "      <td>NaN</td>\n",
       "      <td>NaN</td>\n",
       "      <td>NaN</td>\n",
       "      <td>NaN</td>\n",
       "      <td>NaN</td>\n",
       "      <td>NaN</td>\n",
       "      <td>NaN</td>\n",
       "      <td>NaN</td>\n",
       "      <td>0.0</td>\n",
       "      <td>NaN</td>\n",
       "      <td>NaN</td>\n",
       "      <td>NaN</td>\n",
       "      <td>...</td>\n",
       "      <td>NaN</td>\n",
       "      <td>NaN</td>\n",
       "      <td>NaN</td>\n",
       "      <td>NaN</td>\n",
       "      <td>NaN</td>\n",
       "      <td>NaN</td>\n",
       "      <td>NaN</td>\n",
       "      <td>NaN</td>\n",
       "      <td>NaN</td>\n",
       "      <td>NaN</td>\n",
       "      <td>NaN</td>\n",
       "      <td>NaN</td>\n",
       "      <td>NaN</td>\n",
       "      <td>NaN</td>\n",
       "      <td>NaN</td>\n",
       "      <td>NaN</td>\n",
       "      <td>NaN</td>\n",
       "      <td>NaN</td>\n",
       "      <td>NaN</td>\n",
       "      <td>NaN</td>\n",
       "      <td>NaN</td>\n",
       "      <td>NaN</td>\n",
       "      <td>NaN</td>\n",
       "      <td>NaN</td>\n",
       "      <td>NaN</td>\n",
       "      <td>NaN</td>\n",
       "      <td>NaN</td>\n",
       "      <td>NaN</td>\n",
       "      <td>NaN</td>\n",
       "      <td>NaN</td>\n",
       "      <td>NaN</td>\n",
       "      <td>NaN</td>\n",
       "      <td>NaN</td>\n",
       "      <td>NaN</td>\n",
       "      <td>NaN</td>\n",
       "      <td>0.0</td>\n",
       "      <td>NaN</td>\n",
       "      <td>NaN</td>\n",
       "      <td>NaN</td>\n",
       "      <td>NaN</td>\n",
       "      <td>NaN</td>\n",
       "      <td>NaN</td>\n",
       "      <td>NaN</td>\n",
       "      <td>NaN</td>\n",
       "      <td>NaN</td>\n",
       "      <td>NaN</td>\n",
       "      <td>NaN</td>\n",
       "      <td>NaN</td>\n",
       "      <td>NaN</td>\n",
       "      <td>NaN</td>\n",
       "    </tr>\n",
       "    <tr>\n",
       "      <th>2</th>\n",
       "      <td>0000000000017</td>\n",
       "      <td>http://world-en.openfoodfacts.org/product/0000000000017/vitoria-crackers</td>\n",
       "      <td>kiliweb</td>\n",
       "      <td>1529059080</td>\n",
       "      <td>2018-06-15T10:38:00Z</td>\n",
       "      <td>1561463718</td>\n",
       "      <td>2019-06-25T11:55:18Z</td>\n",
       "      <td>Vitória crackers</td>\n",
       "      <td>NaN</td>\n",
       "      <td>NaN</td>\n",
       "      <td>NaN</td>\n",
       "      <td>NaN</td>\n",
       "      <td>NaN</td>\n",
       "      <td>NaN</td>\n",
       "      <td>NaN</td>\n",
       "      <td>NaN</td>\n",
       "      <td>NaN</td>\n",
       "      <td>NaN</td>\n",
       "      <td>NaN</td>\n",
       "      <td>NaN</td>\n",
       "      <td>NaN</td>\n",
       "      <td>NaN</td>\n",
       "      <td>NaN</td>\n",
       "      <td>NaN</td>\n",
       "      <td>NaN</td>\n",
       "      <td>NaN</td>\n",
       "      <td>NaN</td>\n",
       "      <td>NaN</td>\n",
       "      <td>NaN</td>\n",
       "      <td>NaN</td>\n",
       "      <td>NaN</td>\n",
       "      <td>NaN</td>\n",
       "      <td>NaN</td>\n",
       "      <td>NaN</td>\n",
       "      <td>France</td>\n",
       "      <td>en:france</td>\n",
       "      <td>France</td>\n",
       "      <td>NaN</td>\n",
       "      <td>NaN</td>\n",
       "      <td>NaN</td>\n",
       "      <td>NaN</td>\n",
       "      <td>NaN</td>\n",
       "      <td>NaN</td>\n",
       "      <td>NaN</td>\n",
       "      <td>NaN</td>\n",
       "      <td>NaN</td>\n",
       "      <td>NaN</td>\n",
       "      <td>NaN</td>\n",
       "      <td>NaN</td>\n",
       "      <td>NaN</td>\n",
       "      <td>...</td>\n",
       "      <td>NaN</td>\n",
       "      <td>NaN</td>\n",
       "      <td>NaN</td>\n",
       "      <td>NaN</td>\n",
       "      <td>NaN</td>\n",
       "      <td>NaN</td>\n",
       "      <td>NaN</td>\n",
       "      <td>NaN</td>\n",
       "      <td>NaN</td>\n",
       "      <td>NaN</td>\n",
       "      <td>NaN</td>\n",
       "      <td>NaN</td>\n",
       "      <td>NaN</td>\n",
       "      <td>NaN</td>\n",
       "      <td>NaN</td>\n",
       "      <td>NaN</td>\n",
       "      <td>NaN</td>\n",
       "      <td>NaN</td>\n",
       "      <td>NaN</td>\n",
       "      <td>NaN</td>\n",
       "      <td>NaN</td>\n",
       "      <td>NaN</td>\n",
       "      <td>NaN</td>\n",
       "      <td>NaN</td>\n",
       "      <td>NaN</td>\n",
       "      <td>NaN</td>\n",
       "      <td>NaN</td>\n",
       "      <td>NaN</td>\n",
       "      <td>NaN</td>\n",
       "      <td>NaN</td>\n",
       "      <td>NaN</td>\n",
       "      <td>NaN</td>\n",
       "      <td>NaN</td>\n",
       "      <td>NaN</td>\n",
       "      <td>NaN</td>\n",
       "      <td>NaN</td>\n",
       "      <td>NaN</td>\n",
       "      <td>NaN</td>\n",
       "      <td>NaN</td>\n",
       "      <td>NaN</td>\n",
       "      <td>NaN</td>\n",
       "      <td>NaN</td>\n",
       "      <td>NaN</td>\n",
       "      <td>NaN</td>\n",
       "      <td>NaN</td>\n",
       "      <td>NaN</td>\n",
       "      <td>NaN</td>\n",
       "      <td>NaN</td>\n",
       "      <td>NaN</td>\n",
       "      <td>NaN</td>\n",
       "    </tr>\n",
       "    <tr>\n",
       "      <th>3</th>\n",
       "      <td>0000000000031</td>\n",
       "      <td>http://world-en.openfoodfacts.org/product/0000000000031/cacao</td>\n",
       "      <td>isagoofy</td>\n",
       "      <td>1539464774</td>\n",
       "      <td>2018-10-13T21:06:14Z</td>\n",
       "      <td>1539464817</td>\n",
       "      <td>2018-10-13T21:06:57Z</td>\n",
       "      <td>Cacao</td>\n",
       "      <td>NaN</td>\n",
       "      <td>NaN</td>\n",
       "      <td>130 g</td>\n",
       "      <td>NaN</td>\n",
       "      <td>NaN</td>\n",
       "      <td>NaN</td>\n",
       "      <td>NaN</td>\n",
       "      <td>NaN</td>\n",
       "      <td>NaN</td>\n",
       "      <td>NaN</td>\n",
       "      <td>NaN</td>\n",
       "      <td>NaN</td>\n",
       "      <td>NaN</td>\n",
       "      <td>NaN</td>\n",
       "      <td>NaN</td>\n",
       "      <td>NaN</td>\n",
       "      <td>NaN</td>\n",
       "      <td>NaN</td>\n",
       "      <td>NaN</td>\n",
       "      <td>NaN</td>\n",
       "      <td>NaN</td>\n",
       "      <td>NaN</td>\n",
       "      <td>NaN</td>\n",
       "      <td>NaN</td>\n",
       "      <td>NaN</td>\n",
       "      <td>NaN</td>\n",
       "      <td>France</td>\n",
       "      <td>en:france</td>\n",
       "      <td>France</td>\n",
       "      <td>NaN</td>\n",
       "      <td>NaN</td>\n",
       "      <td>NaN</td>\n",
       "      <td>NaN</td>\n",
       "      <td>NaN</td>\n",
       "      <td>NaN</td>\n",
       "      <td>NaN</td>\n",
       "      <td>NaN</td>\n",
       "      <td>NaN</td>\n",
       "      <td>NaN</td>\n",
       "      <td>NaN</td>\n",
       "      <td>NaN</td>\n",
       "      <td>NaN</td>\n",
       "      <td>...</td>\n",
       "      <td>NaN</td>\n",
       "      <td>NaN</td>\n",
       "      <td>NaN</td>\n",
       "      <td>NaN</td>\n",
       "      <td>NaN</td>\n",
       "      <td>NaN</td>\n",
       "      <td>NaN</td>\n",
       "      <td>NaN</td>\n",
       "      <td>NaN</td>\n",
       "      <td>NaN</td>\n",
       "      <td>NaN</td>\n",
       "      <td>NaN</td>\n",
       "      <td>NaN</td>\n",
       "      <td>NaN</td>\n",
       "      <td>NaN</td>\n",
       "      <td>NaN</td>\n",
       "      <td>NaN</td>\n",
       "      <td>NaN</td>\n",
       "      <td>NaN</td>\n",
       "      <td>NaN</td>\n",
       "      <td>NaN</td>\n",
       "      <td>NaN</td>\n",
       "      <td>NaN</td>\n",
       "      <td>NaN</td>\n",
       "      <td>NaN</td>\n",
       "      <td>NaN</td>\n",
       "      <td>NaN</td>\n",
       "      <td>NaN</td>\n",
       "      <td>NaN</td>\n",
       "      <td>NaN</td>\n",
       "      <td>NaN</td>\n",
       "      <td>NaN</td>\n",
       "      <td>NaN</td>\n",
       "      <td>NaN</td>\n",
       "      <td>NaN</td>\n",
       "      <td>NaN</td>\n",
       "      <td>NaN</td>\n",
       "      <td>NaN</td>\n",
       "      <td>NaN</td>\n",
       "      <td>NaN</td>\n",
       "      <td>NaN</td>\n",
       "      <td>NaN</td>\n",
       "      <td>NaN</td>\n",
       "      <td>NaN</td>\n",
       "      <td>NaN</td>\n",
       "      <td>NaN</td>\n",
       "      <td>NaN</td>\n",
       "      <td>NaN</td>\n",
       "      <td>NaN</td>\n",
       "      <td>NaN</td>\n",
       "    </tr>\n",
       "    <tr>\n",
       "      <th>4</th>\n",
       "      <td>000000000003327986</td>\n",
       "      <td>http://world-en.openfoodfacts.org/product/000000000003327986/filetes-de-pollo-empanado</td>\n",
       "      <td>kiliweb</td>\n",
       "      <td>1574175736</td>\n",
       "      <td>2019-11-19T15:02:16Z</td>\n",
       "      <td>1624390765</td>\n",
       "      <td>2021-06-22T19:39:25Z</td>\n",
       "      <td>Filetes de pollo empanado</td>\n",
       "      <td>NaN</td>\n",
       "      <td>NaN</td>\n",
       "      <td>NaN</td>\n",
       "      <td>NaN</td>\n",
       "      <td>NaN</td>\n",
       "      <td>NaN</td>\n",
       "      <td>NaN</td>\n",
       "      <td>NaN</td>\n",
       "      <td>NaN</td>\n",
       "      <td>NaN</td>\n",
       "      <td>NaN</td>\n",
       "      <td>NaN</td>\n",
       "      <td>NaN</td>\n",
       "      <td>NaN</td>\n",
       "      <td>NaN</td>\n",
       "      <td>NaN</td>\n",
       "      <td>NaN</td>\n",
       "      <td>NaN</td>\n",
       "      <td>NaN</td>\n",
       "      <td>NaN</td>\n",
       "      <td>NaN</td>\n",
       "      <td>NaN</td>\n",
       "      <td>NaN</td>\n",
       "      <td>NaN</td>\n",
       "      <td>NaN</td>\n",
       "      <td>NaN</td>\n",
       "      <td>Espagne</td>\n",
       "      <td>en:spain</td>\n",
       "      <td>Spain</td>\n",
       "      <td>NaN</td>\n",
       "      <td>NaN</td>\n",
       "      <td>NaN</td>\n",
       "      <td>NaN</td>\n",
       "      <td>NaN</td>\n",
       "      <td>NaN</td>\n",
       "      <td>NaN</td>\n",
       "      <td>NaN</td>\n",
       "      <td>NaN</td>\n",
       "      <td>NaN</td>\n",
       "      <td>NaN</td>\n",
       "      <td>NaN</td>\n",
       "      <td>NaN</td>\n",
       "      <td>...</td>\n",
       "      <td>NaN</td>\n",
       "      <td>NaN</td>\n",
       "      <td>NaN</td>\n",
       "      <td>NaN</td>\n",
       "      <td>NaN</td>\n",
       "      <td>NaN</td>\n",
       "      <td>NaN</td>\n",
       "      <td>NaN</td>\n",
       "      <td>NaN</td>\n",
       "      <td>NaN</td>\n",
       "      <td>NaN</td>\n",
       "      <td>NaN</td>\n",
       "      <td>NaN</td>\n",
       "      <td>NaN</td>\n",
       "      <td>NaN</td>\n",
       "      <td>NaN</td>\n",
       "      <td>NaN</td>\n",
       "      <td>NaN</td>\n",
       "      <td>NaN</td>\n",
       "      <td>NaN</td>\n",
       "      <td>NaN</td>\n",
       "      <td>NaN</td>\n",
       "      <td>NaN</td>\n",
       "      <td>NaN</td>\n",
       "      <td>NaN</td>\n",
       "      <td>NaN</td>\n",
       "      <td>NaN</td>\n",
       "      <td>NaN</td>\n",
       "      <td>NaN</td>\n",
       "      <td>NaN</td>\n",
       "      <td>NaN</td>\n",
       "      <td>NaN</td>\n",
       "      <td>NaN</td>\n",
       "      <td>NaN</td>\n",
       "      <td>NaN</td>\n",
       "      <td>NaN</td>\n",
       "      <td>NaN</td>\n",
       "      <td>NaN</td>\n",
       "      <td>NaN</td>\n",
       "      <td>NaN</td>\n",
       "      <td>NaN</td>\n",
       "      <td>NaN</td>\n",
       "      <td>NaN</td>\n",
       "      <td>NaN</td>\n",
       "      <td>NaN</td>\n",
       "      <td>NaN</td>\n",
       "      <td>NaN</td>\n",
       "      <td>NaN</td>\n",
       "      <td>NaN</td>\n",
       "      <td>NaN</td>\n",
       "    </tr>\n",
       "  </tbody>\n",
       "</table>\n",
       "<p>5 rows × 187 columns</p>\n",
       "</div>"
      ],
      "text/plain": [
       "                   code  \\\n",
       "0     00000000000000225   \n",
       "1  00000000000003429145   \n",
       "2         0000000000017   \n",
       "3         0000000000031   \n",
       "4    000000000003327986   \n",
       "\n",
       "                                                                                      url  \\\n",
       "0      http://world-en.openfoodfacts.org/product/00000000000000225/jeunes-pousses-endives   \n",
       "1                  http://world-en.openfoodfacts.org/product/00000000000003429145/l-casei   \n",
       "2                http://world-en.openfoodfacts.org/product/0000000000017/vitoria-crackers   \n",
       "3                           http://world-en.openfoodfacts.org/product/0000000000031/cacao   \n",
       "4  http://world-en.openfoodfacts.org/product/000000000003327986/filetes-de-pollo-empanado   \n",
       "\n",
       "          creator   created_t      created_datetime  last_modified_t  \\\n",
       "0  nutrinet-sante  1623855208  2021-06-16T14:53:28Z       1623855209   \n",
       "1         kiliweb  1630483911  2021-09-01T08:11:51Z       1630484064   \n",
       "2         kiliweb  1529059080  2018-06-15T10:38:00Z       1561463718   \n",
       "3        isagoofy  1539464774  2018-10-13T21:06:14Z       1539464817   \n",
       "4         kiliweb  1574175736  2019-11-19T15:02:16Z       1624390765   \n",
       "\n",
       "  last_modified_datetime               product_name abbreviated_product_name  \\\n",
       "0   2021-06-16T14:53:29Z             jeunes pousses                      NaN   \n",
       "1   2021-09-01T08:14:24Z                    L.casei                      NaN   \n",
       "2   2019-06-25T11:55:18Z           Vitória crackers                      NaN   \n",
       "3   2018-10-13T21:06:57Z                      Cacao                      NaN   \n",
       "4   2021-06-22T19:39:25Z  Filetes de pollo empanado                      NaN   \n",
       "\n",
       "  generic_name quantity packaging packaging_tags packaging_text   brands  \\\n",
       "0          NaN      NaN       NaN            NaN            NaN  endives   \n",
       "1          NaN      NaN       NaN            NaN            NaN      NaN   \n",
       "2          NaN      NaN       NaN            NaN            NaN      NaN   \n",
       "3          NaN    130 g       NaN            NaN            NaN      NaN   \n",
       "4          NaN      NaN       NaN            NaN            NaN      NaN   \n",
       "\n",
       "  brands_tags categories categories_tags categories_en origins origins_tags  \\\n",
       "0     endives        NaN             NaN           NaN     NaN          NaN   \n",
       "1         NaN        NaN             NaN           NaN   Spain     en:spain   \n",
       "2         NaN        NaN             NaN           NaN     NaN          NaN   \n",
       "3         NaN        NaN             NaN           NaN     NaN          NaN   \n",
       "4         NaN        NaN             NaN           NaN     NaN          NaN   \n",
       "\n",
       "  origins_en manufacturing_places manufacturing_places_tags labels  \\\n",
       "0        NaN                  NaN                       NaN    NaN   \n",
       "1      Spain                  NaN                       NaN    NaN   \n",
       "2        NaN                  NaN                       NaN    NaN   \n",
       "3        NaN                  NaN                       NaN    NaN   \n",
       "4        NaN                  NaN                       NaN    NaN   \n",
       "\n",
       "  labels_tags labels_en emb_codes emb_codes_tags first_packaging_code_geo  \\\n",
       "0         NaN       NaN       NaN            NaN                      NaN   \n",
       "1         NaN       NaN       NaN            NaN                      NaN   \n",
       "2         NaN       NaN       NaN            NaN                      NaN   \n",
       "3         NaN       NaN       NaN            NaN                      NaN   \n",
       "4         NaN       NaN       NaN            NaN                      NaN   \n",
       "\n",
       "   cities cities_tags purchase_places stores  countries countries_tags  \\\n",
       "0     NaN         NaN             NaN    NaN  en:france      en:france   \n",
       "1     NaN         NaN             NaN    NaN      Spain       en:spain   \n",
       "2     NaN         NaN             NaN    NaN     France      en:france   \n",
       "3     NaN         NaN             NaN    NaN     France      en:france   \n",
       "4     NaN         NaN             NaN    NaN    Espagne       en:spain   \n",
       "\n",
       "  countries_en  \\\n",
       "0       France   \n",
       "1        Spain   \n",
       "2       France   \n",
       "3       France   \n",
       "4        Spain   \n",
       "\n",
       "                                                                                                                   ingredients_text  \\\n",
       "0                                                                                                                               NaN   \n",
       "1  Leche semidesnatada, azucar 6.9% leche desnatada en polva, fermentos lacticos (contiene Lactobacidus casei), vitaminas (B6 y D).   \n",
       "2                                                                                                                               NaN   \n",
       "3                                                                                                                               NaN   \n",
       "4                                                                                                                               NaN   \n",
       "\n",
       "  allergens  allergens_en traces traces_tags traces_en serving_size  \\\n",
       "0       NaN           NaN    NaN         NaN       NaN          NaN   \n",
       "1       NaN           NaN    NaN         NaN       NaN          NaN   \n",
       "2       NaN           NaN    NaN         NaN       NaN          NaN   \n",
       "3       NaN           NaN    NaN         NaN       NaN          NaN   \n",
       "4       NaN           NaN    NaN         NaN       NaN          NaN   \n",
       "\n",
       "   serving_quantity  no_nutriments  additives_n  additives additives_tags  \\\n",
       "0               NaN            NaN          NaN        NaN            NaN   \n",
       "1               NaN            NaN          0.0        NaN            NaN   \n",
       "2               NaN            NaN          NaN        NaN            NaN   \n",
       "3               NaN            NaN          NaN        NaN            NaN   \n",
       "4               NaN            NaN          NaN        NaN            NaN   \n",
       "\n",
       "  additives_en  ...  vitamin-d_100g  vitamin-e_100g vitamin-k_100g  \\\n",
       "0          NaN  ...             NaN             NaN            NaN   \n",
       "1          NaN  ...             NaN             NaN            NaN   \n",
       "2          NaN  ...             NaN             NaN            NaN   \n",
       "3          NaN  ...             NaN             NaN            NaN   \n",
       "4          NaN  ...             NaN             NaN            NaN   \n",
       "\n",
       "   vitamin-c_100g  vitamin-b1_100g vitamin-b2_100g  vitamin-pp_100g  \\\n",
       "0             NaN              NaN             NaN              NaN   \n",
       "1             NaN              NaN             NaN              NaN   \n",
       "2             NaN              NaN             NaN              NaN   \n",
       "3             NaN              NaN             NaN              NaN   \n",
       "4             NaN              NaN             NaN              NaN   \n",
       "\n",
       "  vitamin-b6_100g  vitamin-b9_100g folates_100g vitamin-b12_100g biotin_100g  \\\n",
       "0             NaN              NaN          NaN              NaN         NaN   \n",
       "1             NaN              NaN          NaN              NaN         NaN   \n",
       "2             NaN              NaN          NaN              NaN         NaN   \n",
       "3             NaN              NaN          NaN              NaN         NaN   \n",
       "4             NaN              NaN          NaN              NaN         NaN   \n",
       "\n",
       "  pantothenic-acid_100g silica_100g bicarbonate_100g  potassium_100g  \\\n",
       "0                   NaN         NaN              NaN             NaN   \n",
       "1                   NaN         NaN              NaN             NaN   \n",
       "2                   NaN         NaN              NaN             NaN   \n",
       "3                   NaN         NaN              NaN             NaN   \n",
       "4                   NaN         NaN              NaN             NaN   \n",
       "\n",
       "  chloride_100g calcium_100g phosphorus_100g iron_100g magnesium_100g  \\\n",
       "0           NaN          NaN             NaN       NaN            NaN   \n",
       "1           NaN          NaN             NaN       NaN            NaN   \n",
       "2           NaN          NaN             NaN       NaN            NaN   \n",
       "3           NaN          NaN             NaN       NaN            NaN   \n",
       "4           NaN          NaN             NaN       NaN            NaN   \n",
       "\n",
       "  zinc_100g copper_100g manganese_100g fluoride_100g  selenium_100g  \\\n",
       "0       NaN         NaN            NaN           NaN            NaN   \n",
       "1       NaN         NaN            NaN           NaN            NaN   \n",
       "2       NaN         NaN            NaN           NaN            NaN   \n",
       "3       NaN         NaN            NaN           NaN            NaN   \n",
       "4       NaN         NaN            NaN           NaN            NaN   \n",
       "\n",
       "   chromium_100g  molybdenum_100g  iodine_100g  caffeine_100g  taurine_100g  \\\n",
       "0            NaN              NaN          NaN            NaN           NaN   \n",
       "1            NaN              NaN          NaN            NaN           NaN   \n",
       "2            NaN              NaN          NaN            NaN           NaN   \n",
       "3            NaN              NaN          NaN            NaN           NaN   \n",
       "4            NaN              NaN          NaN            NaN           NaN   \n",
       "\n",
       "   ph_100g  fruits-vegetables-nuts_100g  fruits-vegetables-nuts-dried_100g  \\\n",
       "0      NaN                          NaN                                NaN   \n",
       "1      NaN                          NaN                                NaN   \n",
       "2      NaN                          NaN                                NaN   \n",
       "3      NaN                          NaN                                NaN   \n",
       "4      NaN                          NaN                                NaN   \n",
       "\n",
       "   fruits-vegetables-nuts-estimate_100g  \\\n",
       "0                                   NaN   \n",
       "1                                   NaN   \n",
       "2                                   NaN   \n",
       "3                                   NaN   \n",
       "4                                   NaN   \n",
       "\n",
       "   fruits-vegetables-nuts-estimate-from-ingredients_100g  \\\n",
       "0                                                    NaN   \n",
       "1                                                    0.0   \n",
       "2                                                    NaN   \n",
       "3                                                    NaN   \n",
       "4                                                    NaN   \n",
       "\n",
       "   collagen-meat-protein-ratio_100g  cocoa_100g  chlorophyl_100g  \\\n",
       "0                               NaN         NaN              NaN   \n",
       "1                               NaN         NaN              NaN   \n",
       "2                               NaN         NaN              NaN   \n",
       "3                               NaN         NaN              NaN   \n",
       "4                               NaN         NaN              NaN   \n",
       "\n",
       "   carbon-footprint_100g  carbon-footprint-from-meat-or-fish_100g  \\\n",
       "0                    NaN                                      NaN   \n",
       "1                    NaN                                      NaN   \n",
       "2                    NaN                                      NaN   \n",
       "3                    NaN                                      NaN   \n",
       "4                    NaN                                      NaN   \n",
       "\n",
       "   nutrition-score-fr_100g  nutrition-score-uk_100g  glycemic-index_100g  \\\n",
       "0                      NaN                      NaN                  NaN   \n",
       "1                      NaN                      NaN                  NaN   \n",
       "2                      NaN                      NaN                  NaN   \n",
       "3                      NaN                      NaN                  NaN   \n",
       "4                      NaN                      NaN                  NaN   \n",
       "\n",
       "   water-hardness_100g  choline_100g  phylloquinone_100g  beta-glucan_100g  \\\n",
       "0                  NaN           NaN                 NaN               NaN   \n",
       "1                  NaN           NaN                 NaN               NaN   \n",
       "2                  NaN           NaN                 NaN               NaN   \n",
       "3                  NaN           NaN                 NaN               NaN   \n",
       "4                  NaN           NaN                 NaN               NaN   \n",
       "\n",
       "   inositol_100g  carnitine_100g  \n",
       "0            NaN             NaN  \n",
       "1            NaN             NaN  \n",
       "2            NaN             NaN  \n",
       "3            NaN             NaN  \n",
       "4            NaN             NaN  \n",
       "\n",
       "[5 rows x 187 columns]"
      ]
     },
     "execution_count": 15,
     "metadata": {},
     "output_type": "execute_result"
    }
   ],
   "source": [
    "openfoodfacts.head()"
   ]
  },
  {
   "cell_type": "markdown",
   "id": "bbe08a68",
   "metadata": {
    "hidden": true
   },
   "source": [
    "Regardons à présent le nombre de lignes et colonnes du dataset."
   ]
  },
  {
   "cell_type": "code",
   "execution_count": 16,
   "id": "1bbad8f4",
   "metadata": {
    "hidden": true
   },
   "outputs": [
    {
     "name": "stdout",
     "output_type": "stream",
     "text": [
      "Nombre de lignes: 2053679\n",
      "Nombre de variables: 187\n"
     ]
    }
   ],
   "source": [
    "print(f\"Nombre de lignes: {openfoodfacts.shape[0]}\\nNombre de variables: {openfoodfacts.shape[1]}\")"
   ]
  },
  {
   "cell_type": "markdown",
   "id": "293f17f4",
   "metadata": {
    "hidden": true
   },
   "source": [
    "Supprimons les variables composées à 100% de valeurs manquantes qui n'apportent aucune information et viennent alourdir le dataset."
   ]
  },
  {
   "cell_type": "code",
   "execution_count": 17,
   "id": "cd449f59",
   "metadata": {
    "hidden": true
   },
   "outputs": [
    {
     "name": "stdout",
     "output_type": "stream",
     "text": [
      "['cities', 'allergens_en', 'no_nutriments', 'additives', 'ingredients_from_palm_oil', 'ingredients_that_may_be_from_palm_oil', '-butyric-acid_100g', '-caproic-acid_100g', '-caprylic-acid_100g', '-capric-acid_100g', '-lauric-acid_100g', '-myristic-acid_100g', '-palmitic-acid_100g', '-stearic-acid_100g', '-arachidic-acid_100g', '-behenic-acid_100g', '-lignoceric-acid_100g', '-cerotic-acid_100g', '-montanic-acid_100g', '-melissic-acid_100g', '-alpha-linolenic-acid_100g', '-eicosapentaenoic-acid_100g', '-docosahexaenoic-acid_100g', '-linoleic-acid_100g', '-arachidonic-acid_100g', '-gamma-linolenic-acid_100g', '-dihomo-gamma-linolenic-acid_100g', '-oleic-acid_100g', '-elaidic-acid_100g', '-gondoic-acid_100g', '-mead-acid_100g', '-erucic-acid_100g', '-nervonic-acid_100g', '-sucrose_100g', '-glucose_100g', '-fructose_100g', '-lactose_100g', '-maltose_100g', '-maltodextrins_100g']\n"
     ]
    }
   ],
   "source": [
    "# Liste des colonnes avec 100% de NaN\n",
    "print([c for c in openfoodfacts.columns if (openfoodfacts[c].isnull().mean()*100 == 100)])"
   ]
  },
  {
   "cell_type": "code",
   "execution_count": 18,
   "id": "94827e92",
   "metadata": {
    "hidden": true
   },
   "outputs": [
    {
     "name": "stdout",
     "output_type": "stream",
     "text": [
      "Nombre de lignes: 2053679\n",
      "Nombre de variables: 148\n"
     ]
    }
   ],
   "source": [
    "# Suppression les colonnes avec 100% de données manquantes\n",
    "openfoodfacts.dropna(how='all', axis = 'columns', inplace = True)\n",
    "print(f\"Nombre de lignes: {openfoodfacts.shape[0]}\\nNombre de variables: {openfoodfacts.shape[1]}\")"
   ]
  },
  {
   "cell_type": "code",
   "execution_count": 19,
   "id": "18020eae",
   "metadata": {
    "hidden": true
   },
   "outputs": [],
   "source": [
    "def missing_values_all(dataframe):\n",
    "    missing = dataframe.isna().sum().sum()\n",
    "    missing_percent = round(missing / (dataframe.shape[0] * dataframe.shape[1]) * 100, 2)\n",
    "    \n",
    "    print(f'Nombre total de NaN du dataset: {missing} \\n % total de NaN du dataset: {missing_percent}%')"
   ]
  },
  {
   "cell_type": "code",
   "execution_count": 20,
   "id": "ea6e71a5",
   "metadata": {
    "hidden": true
   },
   "outputs": [
    {
     "name": "stdout",
     "output_type": "stream",
     "text": [
      "Nombre total de NaN du dataset: 227465052 \n",
      " % total de NaN du dataset: 74.84%\n"
     ]
    }
   ],
   "source": [
    "missing_values_all(openfoodfacts)"
   ]
  },
  {
   "cell_type": "markdown",
   "id": "a1390aac",
   "metadata": {},
   "source": [
    "## Mots qui apparaissent le plus souvent dans le nom des variables <a class=\"anchor\" id=\"words\"></a>"
   ]
  },
  {
   "cell_type": "markdown",
   "id": "dcebc69e",
   "metadata": {},
   "source": [
    "Dans un premier temps et afin de prendre connaissance avec les variables du jeu de données, récupérons les mots contenus dans le titre des variables qui reviennent le plus souvent.\n",
    "Cette étape nous permettra de repérer une potentielle redondance entre les variables."
   ]
  },
  {
   "cell_type": "code",
   "execution_count": 21,
   "id": "1c0a9d75",
   "metadata": {},
   "outputs": [],
   "source": [
    "# Récupération des mots contenus dans les titres des colonnes (séparateur =  \"_\")\n",
    "liste_mots_colonnes = [i.split('_') for i in openfoodfacts.columns] \n",
    "\n",
    "# Applatissement de la liste de listes\n",
    "liste_mots_colonnes_flat = []\n",
    "\n",
    "for item in liste_mots_colonnes:\n",
    "    liste_mots_colonnes_flat += item"
   ]
  },
  {
   "cell_type": "code",
   "execution_count": 22,
   "id": "6d6dd2b6",
   "metadata": {},
   "outputs": [
    {
     "name": "stdout",
     "output_type": "stream",
     "text": [
      "[('100g', 79), ('tags', 14), ('en', 8), ('url', 7), ('ingredients', 7), ('image', 6), ('packaging', 4), ('from', 4), ('palm', 4), ('oil', 4), ('name', 3), ('categories', 3), ('origins', 3), ('places', 3), ('labels', 3), ('countries', 3), ('traces', 3), ('additives', 3), ('n', 3), ('states', 3)]\n"
     ]
    }
   ],
   "source": [
    "# J'affiche les 20 mots qui reviennent le plus dans les titres de colonnes\n",
    "print(collections.Counter(liste_mots_colonnes_flat).most_common(20))\n",
    "\n",
    "# J'enregistre tous les mots et le nombre associé dans une variable\n",
    "most_common_columns_words = collections.Counter(liste_mots_colonnes_flat).most_common(len(liste_mots_colonnes_flat))"
   ]
  },
  {
   "cell_type": "code",
   "execution_count": 23,
   "id": "257754b4",
   "metadata": {},
   "outputs": [],
   "source": [
    "# Passage sous dataframe afin de pouvoir visualiser les données sous forme de graphique (nb occurences >= 6)\n",
    "most_common_columns_words = pd.DataFrame(most_common_columns_words, \n",
    "                                 columns = ['Mots', 'Nombre d\\'occurences']).sort_values(by = 'Nombre d\\'occurences', \n",
    "                                                                                         ascending=False)\n",
    "\n",
    "most_common_columns_words = most_common_columns_words[most_common_columns_words[\"Nombre d\\'occurences\"] >= 6]"
   ]
  },
  {
   "cell_type": "code",
   "execution_count": 24,
   "id": "36d5c45d",
   "metadata": {},
   "outputs": [],
   "source": [
    "def etiquette_h(ax):\n",
    "    \"\"\"Ajoute les étiquettes en haut de chaque barre sur un barplot horizontal.\n",
    "    Arguments:\n",
    "    ax (matplotlib.axes.Axes): objet matplotlib ocontenant les axes du plot à annoter.\"\"\"\n",
    "    \n",
    "    for p in ax.patches:\n",
    "        etiquette = '{:,.0f}'.format(p.get_width())\n",
    "        width, height = p.get_width(),p.get_height()\n",
    "        x = p.get_x() + width + 0.02\n",
    "        y = p.get_y() + height / 2\n",
    "        ax.annotate(etiquette,(x,y))"
   ]
  },
  {
   "cell_type": "code",
   "execution_count": 25,
   "id": "272abfb9",
   "metadata": {
    "scrolled": false
   },
   "outputs": [
    {
     "data": {
      "image/png": "[encoded data removed]",
      "text/plain": [
       "<Figure size 576x288 with 1 Axes>"
      ]
     },
     "metadata": {
      "needs_background": "light"
     },
     "output_type": "display_data"
    }
   ],
   "source": [
    "# Visualisation sous forme de barplot\n",
    "plt.figure(figsize=(8, 4))\n",
    "ax = sns.barplot(y = 'Mots', x = 'Nombre d\\'occurences', data = most_common_columns_words, palette = 'muted')\n",
    "plt.title(\"Mots les plus utilisés dans le nom des variables \\n (>= 6 occurences)\")\n",
    "plt.ylabel(\"\")\n",
    "plt.xlabel(\"% NaN\")\n",
    "etiquette_h(ax);"
   ]
  },
  {
   "cell_type": "code",
   "execution_count": 26,
   "id": "3566505b",
   "metadata": {
    "scrolled": false
   },
   "outputs": [
    {
     "data": {
      "image/png": "[encoded data removed]",
      "text/plain": [
       "<Figure size 1080x576 with 1 Axes>"
      ]
     },
     "metadata": {
      "needs_background": "light"
     },
     "output_type": "display_data"
    }
   ],
   "source": [
    "# Création d'un nuage de mots\n",
    "\n",
    "# Conversion de la liste en dictionnaire valeurs / occurences\n",
    "word_cloud_dict = Counter(liste_mots_colonnes_flat)\n",
    "wordcloud = WordCloud(width = 800, height = 400).generate_from_frequencies(word_cloud_dict)\n",
    "\n",
    "plt.figure(figsize=(15,8))\n",
    "plt.imshow(wordcloud)\n",
    "plt.axis(\"off\");"
   ]
  },
  {
   "cell_type": "markdown",
   "id": "d82c05fc",
   "metadata": {},
   "source": [
    "Nous allons analyser les variables qui ont le même préfixe afin de commencer à supprimer les variables qui apportent la même information. Ensuite, nous passerons en revue les autres variables afin de savoir lesquelles sélectionner dans notre dataset final. Lors de la sélection des variables, nous gardons en tête notre idée d'application. Ce passage en revue des différents variables va nous permettre de mieux connaitre le jeu de données et d'affiner notre projet en lien avec l'alimentation."
   ]
  },
  {
   "cell_type": "markdown",
   "id": "17142602",
   "metadata": {},
   "source": [
    "### 100g"
   ]
  },
  {
   "cell_type": "markdown",
   "id": "680b1819",
   "metadata": {},
   "source": [
    "Les variables qui se terminent par _100g correspondent à la quantité de nutriments (en g ou kj pour l'énergie) pour 100g ou 100 ml de produit. Logiquement ces variables devraient être de type float."
   ]
  },
  {
   "cell_type": "code",
   "execution_count": 27,
   "id": "6d8418f3",
   "metadata": {},
   "outputs": [
    {
     "name": "stdout",
     "output_type": "stream",
     "text": [
      "['energy-kj_100g', 'energy-kcal_100g', 'energy_100g', 'energy-from-fat_100g', 'fat_100g', 'saturated-fat_100g', 'monounsaturated-fat_100g', 'polyunsaturated-fat_100g', 'omega-3-fat_100g', 'omega-6-fat_100g', 'omega-9-fat_100g', 'trans-fat_100g', 'cholesterol_100g', 'carbohydrates_100g', 'sugars_100g', 'starch_100g', 'polyols_100g', 'fiber_100g', 'soluble-fiber_100g', 'insoluble-fiber_100g', 'proteins_100g', 'casein_100g', 'serum-proteins_100g', 'nucleotides_100g', 'salt_100g', 'sodium_100g', 'alcohol_100g', 'vitamin-a_100g', 'beta-carotene_100g', 'vitamin-d_100g', 'vitamin-e_100g', 'vitamin-k_100g', 'vitamin-c_100g', 'vitamin-b1_100g', 'vitamin-b2_100g', 'vitamin-pp_100g', 'vitamin-b6_100g', 'vitamin-b9_100g', 'folates_100g', 'vitamin-b12_100g', 'biotin_100g', 'pantothenic-acid_100g', 'silica_100g', 'bicarbonate_100g', 'potassium_100g', 'chloride_100g', 'calcium_100g', 'phosphorus_100g', 'iron_100g', 'magnesium_100g', 'zinc_100g', 'copper_100g', 'manganese_100g', 'fluoride_100g', 'selenium_100g', 'chromium_100g', 'molybdenum_100g', 'iodine_100g', 'caffeine_100g', 'taurine_100g', 'ph_100g', 'fruits-vegetables-nuts_100g', 'fruits-vegetables-nuts-dried_100g', 'fruits-vegetables-nuts-estimate_100g', 'fruits-vegetables-nuts-estimate-from-ingredients_100g', 'collagen-meat-protein-ratio_100g', 'cocoa_100g', 'chlorophyl_100g', 'carbon-footprint_100g', 'carbon-footprint-from-meat-or-fish_100g', 'nutrition-score-fr_100g', 'nutrition-score-uk_100g', 'glycemic-index_100g', 'water-hardness_100g', 'choline_100g', 'phylloquinone_100g', 'beta-glucan_100g', 'inositol_100g', 'carnitine_100g']\n"
     ]
    }
   ],
   "source": [
    "# Liste des colonnes qui se terminent par _100g\n",
    "col_100g = openfoodfacts.iloc[:,openfoodfacts.columns.str.endswith('_100g')].columns.tolist()\n",
    "print(col_100g)"
   ]
  },
  {
   "cell_type": "code",
   "execution_count": 28,
   "id": "c43144ef",
   "metadata": {},
   "outputs": [],
   "source": [
    "# On downcast les variables en float32 pour réduire la mémoire\n",
    "for col in col_100g:\n",
    "    openfoodfacts[col] = openfoodfacts[col].astype('float32')"
   ]
  },
  {
   "cell_type": "code",
   "execution_count": 29,
   "id": "077fe5b2",
   "metadata": {},
   "outputs": [
    {
     "name": "stdout",
     "output_type": "stream",
     "text": [
      "<class 'pandas.core.frame.DataFrame'>\n",
      "RangeIndex: 2053679 entries, 0 to 2053678\n",
      "Columns: 148 entries, code to carnitine_100g\n",
      "dtypes: float32(79), float64(7), int64(2), object(60)\n",
      "memory usage: 1.7+ GB\n"
     ]
    }
   ],
   "source": [
    "openfoodfacts.info()"
   ]
  },
  {
   "cell_type": "code",
   "execution_count": 30,
   "id": "5cdfdc61",
   "metadata": {},
   "outputs": [
    {
     "data": {
      "text/plain": [
       "Series([], dtype: object)"
      ]
     },
     "execution_count": 30,
     "metadata": {},
     "output_type": "execute_result"
    }
   ],
   "source": [
    "# Dtypes des variables qui se terminent par _100g et qui ne sont pas de type float\n",
    "openfoodfacts.iloc[:,openfoodfacts.columns.isin(col_100g)].select_dtypes(exclude = ['float32']).dtypes"
   ]
  },
  {
   "cell_type": "markdown",
   "id": "8e79b001",
   "metadata": {},
   "source": [
    "Toutes ces variables sont bien au format float. En regardant la liste des colonnes, on peut se demander si les variables energy-kj_100g et energy_100g apportent la même information."
   ]
  },
  {
   "cell_type": "code",
   "execution_count": 31,
   "id": "6346aa44",
   "metadata": {},
   "outputs": [
    {
     "data": {
      "text/html": [
       "<div>\n",
       "<style scoped>\n",
       "    .dataframe tbody tr th:only-of-type {\n",
       "        vertical-align: middle;\n",
       "    }\n",
       "\n",
       "    .dataframe tbody tr th {\n",
       "        vertical-align: top;\n",
       "    }\n",
       "\n",
       "    .dataframe thead th {\n",
       "        text-align: right;\n",
       "    }\n",
       "</style>\n",
       "<table border=\"1\" class=\"dataframe\">\n",
       "  <thead>\n",
       "    <tr style=\"text-align: right;\">\n",
       "      <th></th>\n",
       "      <th>energy-kj_100g</th>\n",
       "      <th>energy-kcal_100g</th>\n",
       "      <th>energy_100g</th>\n",
       "    </tr>\n",
       "  </thead>\n",
       "  <tbody>\n",
       "    <tr>\n",
       "      <th>4</th>\n",
       "      <td>685.799988</td>\n",
       "      <td>163.899994</td>\n",
       "      <td>685.799988</td>\n",
       "    </tr>\n",
       "    <tr>\n",
       "      <th>417</th>\n",
       "      <td>2318.000000</td>\n",
       "      <td>561.000000</td>\n",
       "      <td>2318.000000</td>\n",
       "    </tr>\n",
       "    <tr>\n",
       "      <th>419</th>\n",
       "      <td>1104.000000</td>\n",
       "      <td>268.000000</td>\n",
       "      <td>1104.000000</td>\n",
       "    </tr>\n",
       "    <tr>\n",
       "      <th>790</th>\n",
       "      <td>442.000000</td>\n",
       "      <td>1852.000000</td>\n",
       "      <td>442.000000</td>\n",
       "    </tr>\n",
       "    <tr>\n",
       "      <th>863</th>\n",
       "      <td>1926.000000</td>\n",
       "      <td>460.000000</td>\n",
       "      <td>1926.000000</td>\n",
       "    </tr>\n",
       "  </tbody>\n",
       "</table>\n",
       "</div>"
      ],
      "text/plain": [
       "     energy-kj_100g  energy-kcal_100g  energy_100g\n",
       "4        685.799988        163.899994   685.799988\n",
       "417     2318.000000        561.000000  2318.000000\n",
       "419     1104.000000        268.000000  1104.000000\n",
       "790      442.000000       1852.000000   442.000000\n",
       "863     1926.000000        460.000000  1926.000000"
      ]
     },
     "execution_count": 31,
     "metadata": {},
     "output_type": "execute_result"
    }
   ],
   "source": [
    "openfoodfacts[openfoodfacts[['energy-kj_100g', 'energy-kcal_100g', 'energy_100g']].notnull().all(1)][\n",
    "    ['energy-kj_100g', 'energy-kcal_100g', 'energy_100g']].head()"
   ]
  },
  {
   "cell_type": "markdown",
   "id": "8b196135",
   "metadata": {},
   "source": [
    "Les colonnes energy-kj_100g et energy_100g semblent être redondantes. Regardons la proportion de NaN."
   ]
  },
  {
   "cell_type": "code",
   "execution_count": 32,
   "id": "96fe2e19",
   "metadata": {},
   "outputs": [
    {
     "name": "stdout",
     "output_type": "stream",
     "text": [
      "% de NaN de la variable energy-kj_100g: 92.7%\n",
      "% de NaN de la variable energy_100g: 20.66%\n"
     ]
    }
   ],
   "source": [
    "print(f\"% de NaN de la variable energy-kj_100g: {round(openfoodfacts['energy-kj_100g'].isna().mean(),4)*100}%\")\n",
    "print(f\"% de NaN de la variable energy_100g: {round(openfoodfacts['energy_100g'].isna().mean(),4)*100}%\")"
   ]
  },
  {
   "cell_type": "markdown",
   "id": "ce76f4b5",
   "metadata": {},
   "source": [
    "La variables energy_100g comporte bien moins de valeurs manquantes que energy-kj_100g. Nous allons remplir les NaN de energy_100g avec les éventuelles  valeurs renseignées de energy-kj_100g puis supprimer la colonne energy-kj_100g."
   ]
  },
  {
   "cell_type": "code",
   "execution_count": 33,
   "id": "22fabf15",
   "metadata": {},
   "outputs": [],
   "source": [
    "# Pour les NaN de energy_100g, je complète avec energy-kj_100g sinon je laisse tel quel\n",
    "openfoodfacts['energy_100g'] = np.where(openfoodfacts['energy_100g'].isnull(), \n",
    "                                        openfoodfacts['energy-kj_100g'], \n",
    "                                        openfoodfacts['energy_100g'])"
   ]
  },
  {
   "cell_type": "code",
   "execution_count": 34,
   "id": "ef75297c",
   "metadata": {},
   "outputs": [
    {
     "name": "stdout",
     "output_type": "stream",
     "text": [
      "% de NaN de la variable energy_100g: 20.66%\n"
     ]
    }
   ],
   "source": [
    "print(f\"% de NaN de la variable energy_100g: {round(openfoodfacts['energy_100g'].isna().mean(),4)*100}%\")"
   ]
  },
  {
   "cell_type": "markdown",
   "id": "96b1fdef",
   "metadata": {},
   "source": [
    "La variable energy-kj_100g ne semble pas avoir diminué le taux de NaN de energy_100g, nous pouvons la supprimer."
   ]
  },
  {
   "cell_type": "code",
   "execution_count": 35,
   "id": "b27a980d",
   "metadata": {},
   "outputs": [
    {
     "name": "stderr",
     "output_type": "stream",
     "text": [
      "<ipython-input-35-112d0e192dab>:1: FutureWarning: In a future version of pandas all arguments of DataFrame.drop except for the argument 'labels' will be keyword-only\n",
      "  openfoodfacts = openfoodfacts.drop('energy-kj_100g', 'columns')\n"
     ]
    },
    {
     "data": {
      "text/plain": [
       "(2053679, 147)"
      ]
     },
     "execution_count": 35,
     "metadata": {},
     "output_type": "execute_result"
    }
   ],
   "source": [
    "openfoodfacts = openfoodfacts.drop('energy-kj_100g', 'columns')\n",
    "openfoodfacts.shape"
   ]
  },
  {
   "cell_type": "markdown",
   "id": "e37afa73",
   "metadata": {},
   "source": [
    "### tags"
   ]
  },
  {
   "cell_type": "markdown",
   "id": "b18323d9",
   "metadata": {},
   "source": [
    "Les variables qui se terminent par _tags sont des variables qualitatives (packaging, marques, catégories etc). Elles doivent être de type \"object\"."
   ]
  },
  {
   "cell_type": "code",
   "execution_count": 36,
   "id": "f17a9378",
   "metadata": {},
   "outputs": [
    {
     "name": "stdout",
     "output_type": "stream",
     "text": [
      "['packaging_tags', 'brands_tags', 'categories_tags', 'origins_tags', 'manufacturing_places_tags', 'labels_tags', 'emb_codes_tags', 'cities_tags', 'countries_tags', 'traces_tags', 'additives_tags', 'ingredients_from_palm_oil_tags', 'ingredients_that_may_be_from_palm_oil_tags', 'states_tags']\n"
     ]
    }
   ],
   "source": [
    "# Liste des colonnes qui se terminent par _tags\n",
    "col_tags = openfoodfacts.iloc[:,openfoodfacts.columns.str.endswith('_tags')].columns.tolist()\n",
    "print(col_tags)"
   ]
  },
  {
   "cell_type": "code",
   "execution_count": 37,
   "id": "4e8b99d0",
   "metadata": {},
   "outputs": [],
   "source": [
    "# On cast les variables en str\n",
    "for col in col_tags:\n",
    "    openfoodfacts[col] = openfoodfacts[col].astype(\"object\")"
   ]
  },
  {
   "cell_type": "code",
   "execution_count": 38,
   "id": "5e463f4b",
   "metadata": {},
   "outputs": [
    {
     "data": {
      "text/plain": [
       "Series([], dtype: object)"
      ]
     },
     "execution_count": 38,
     "metadata": {},
     "output_type": "execute_result"
    }
   ],
   "source": [
    "openfoodfacts.iloc[:,openfoodfacts.columns.isin(col_tags)].select_dtypes(exclude = ['object']).dtypes"
   ]
  },
  {
   "cell_type": "markdown",
   "id": "915bd544",
   "metadata": {},
   "source": [
    "Toutes ces variables ont bien le dtype objet. A partir du préfixe des variables se terminant par _tags, tentons de récupérer les variables associées afin de s'assurer qu'elles ne sont pas redondantes. "
   ]
  },
  {
   "cell_type": "code",
   "execution_count": 39,
   "id": "926910b8",
   "metadata": {},
   "outputs": [
    {
     "name": "stdout",
     "output_type": "stream",
     "text": [
      "Préfixes des colonnes se terminant par _tags: ['packaging', 'brands', 'categories', 'origins', 'manufacturing_places', 'labels', 'emb_codes', 'cities', 'countries', 'traces', 'additives', 'ingredients_from_palm_oil', 'ingredients_that_may_be_from_palm_oil', 'states']\n"
     ]
    }
   ],
   "source": [
    "# Pour chaque colonne se terminant par _tags, je supprime cette mention pour n'avoir que le préfixe\n",
    "liste_col_tags_prefixe = [i.replace('_tags', '') for i in openfoodfacts.iloc[\n",
    "    :,openfoodfacts.columns.isin(col_tags)].columns.unique().tolist()]\n",
    "\n",
    "print(f'Préfixes des colonnes se terminant par _tags: {liste_col_tags_prefixe}')"
   ]
  },
  {
   "cell_type": "code",
   "execution_count": 40,
   "id": "c74917b5",
   "metadata": {},
   "outputs": [],
   "source": [
    "# Fusion des 2 listes + tri par ordre alphabétique\n",
    "liste_col_tags = liste_col_tags_prefixe + col_tags\n",
    "liste_col_tags.sort()"
   ]
  },
  {
   "cell_type": "code",
   "execution_count": 41,
   "id": "ec256753",
   "metadata": {},
   "outputs": [
    {
     "name": "stdout",
     "output_type": "stream",
     "text": [
      "Colonnes + colonnes associées _tags:\n",
      "\n",
      " ['additives', 'additives_tags', 'brands', 'brands_tags', 'categories', 'categories_tags', 'cities', 'cities_tags', 'countries', 'countries_tags', 'emb_codes', 'emb_codes_tags', 'ingredients_from_palm_oil', 'ingredients_from_palm_oil_tags', 'ingredients_that_may_be_from_palm_oil', 'ingredients_that_may_be_from_palm_oil_tags', 'labels', 'labels_tags', 'manufacturing_places', 'manufacturing_places_tags', 'origins', 'origins_tags', 'packaging', 'packaging_tags', 'states', 'states_tags', 'traces', 'traces_tags']\n"
     ]
    }
   ],
   "source": [
    "print(f'Colonnes + colonnes associées _tags:\\n\\n {liste_col_tags}')"
   ]
  },
  {
   "cell_type": "markdown",
   "id": "e2fff4bf",
   "metadata": {},
   "source": [
    "Automatisation des étapes précédentes."
   ]
  },
  {
   "cell_type": "code",
   "execution_count": 42,
   "id": "b386c301",
   "metadata": {},
   "outputs": [],
   "source": [
    "def liste_col_endswith(dataframe, keyword):\n",
    "    ''' Fonction qui permet de récupérer le préfixe des colonnes se terminant par un mot clef et qui retourne une liste\n",
    "    de ces variables et des variables associées qui contiennent le préfixe. L'objectif est de s'assurer que ces variables\n",
    "    n'apportent pas la même information.'''\n",
    "    \n",
    "    liste_col_keyword_prefixe = [i.replace(f'_{keyword}', '') for i in dataframe.iloc[\n",
    "    :,dataframe.columns.str.endswith(keyword)].columns.unique().tolist()]\n",
    "    \n",
    "    liste_col_ends_keyword = dataframe.iloc[:,(dataframe.columns.str.endswith(\n",
    "    keyword))].columns.unique().tolist()\n",
    "    \n",
    "    liste_col_keyword = liste_col_keyword_prefixe + liste_col_ends_keyword\n",
    "    liste_col_keyword.sort()\n",
    "    \n",
    "    return liste_col_keyword"
   ]
  },
  {
   "cell_type": "code",
   "execution_count": 43,
   "id": "fabaa64e",
   "metadata": {},
   "outputs": [],
   "source": [
    "liste_col_tags = liste_col_endswith(openfoodfacts, 'tags')"
   ]
  },
  {
   "cell_type": "code",
   "execution_count": 44,
   "id": "03d2a2dc",
   "metadata": {},
   "outputs": [],
   "source": [
    "def describe_variables_light(data):\n",
    "    '''Fonction qui prend un dataframe en entrée, et retourne un récapitulatif qui contient le nom des variables, \n",
    "    leur type, un exemple de modalité, le nombre total de lignes, le nombre et pourcentage de valeurs distinctes, \n",
    "    le nombre et pourcentage de valeurs non manquantes et de valeurs manquantes (NaN)'''\n",
    "\n",
    "    # Choix du nom des variables à afficher\n",
    "    df = pd.DataFrame(columns = ['Variable name', 'Variable type', 'Example', 'Raws', 'Distinct', '% distinct', \n",
    "                                 'Not NaN', '% Not NaN', 'NaN', '% NaN'])\n",
    "    \n",
    "    # Pour chaque colonne du dataframe\n",
    "    for column in data.columns:\n",
    "        \n",
    "        # Définition des variables\n",
    "        var_type = data[column].dtypes # type de la variable (object, float, int...)\n",
    "        example = data[data[column].notna()][column].iloc[0] # premier élément notNA\n",
    "        #example = [data[data[column].notna()][column].iloc[0] if data[column].isna().sum() != len(data[column]) else 0]\n",
    "        nb_raw = len(data[column]) # nombre total de lignes\n",
    "        count = len(data[column])- data[column].isna().sum() # nombre de valeurs non manquantes\n",
    "        percent_count = round(data[column].notnull().mean(),4)*100 # % de valeurs non manquantes\n",
    "        distinct = data[column].nunique() # nombre de modalités que peut prendre la variable\n",
    "        percent_distinct = round(data[column].nunique()/len(data[column]),4)*100 # % de valeurs distinctes\n",
    "        missing = data[column].isna().sum() # nombre de valeurs manquantes\n",
    "        percent_missing = round(data[column].isna().mean(),4)*100 # % de valeurs manquantes\n",
    "        \n",
    "        \n",
    "        df = df.append(pd.DataFrame([[column, var_type, example, nb_raw, distinct, percent_distinct, count, \n",
    "                                      percent_count,missing, percent_missing]], \n",
    "                                    columns = ['Variable name', 'Variable type', 'Example', 'Raws', 'Distinct', \n",
    "                                               '% distinct', 'Not NaN', '% Not NaN', 'NaN', '% NaN']))\n",
    "        \n",
    "    return df.reset_index(drop = True)"
   ]
  },
  {
   "cell_type": "code",
   "execution_count": 45,
   "id": "0f02b480",
   "metadata": {
    "scrolled": true
   },
   "outputs": [
    {
     "data": {
      "text/html": [
       "<div>\n",
       "<style scoped>\n",
       "    .dataframe tbody tr th:only-of-type {\n",
       "        vertical-align: middle;\n",
       "    }\n",
       "\n",
       "    .dataframe tbody tr th {\n",
       "        vertical-align: top;\n",
       "    }\n",
       "\n",
       "    .dataframe thead th {\n",
       "        text-align: right;\n",
       "    }\n",
       "</style>\n",
       "<table border=\"1\" class=\"dataframe\">\n",
       "  <thead>\n",
       "    <tr style=\"text-align: right;\">\n",
       "      <th></th>\n",
       "      <th>Variable name</th>\n",
       "      <th>Variable type</th>\n",
       "      <th>Example</th>\n",
       "      <th>Raws</th>\n",
       "      <th>Distinct</th>\n",
       "      <th>% distinct</th>\n",
       "      <th>Not NaN</th>\n",
       "      <th>% Not NaN</th>\n",
       "      <th>NaN</th>\n",
       "      <th>% NaN</th>\n",
       "    </tr>\n",
       "  </thead>\n",
       "  <tbody>\n",
       "    <tr>\n",
       "      <th>0</th>\n",
       "      <td>packaging</td>\n",
       "      <td>object</td>\n",
       "      <td>barquette,plastique</td>\n",
       "      <td>2053679</td>\n",
       "      <td>57066</td>\n",
       "      <td>2.78</td>\n",
       "      <td>315935</td>\n",
       "      <td>15.38</td>\n",
       "      <td>1737744</td>\n",
       "      <td>84.62</td>\n",
       "    </tr>\n",
       "    <tr>\n",
       "      <th>1</th>\n",
       "      <td>packaging_tags</td>\n",
       "      <td>object</td>\n",
       "      <td>barquette,plastique</td>\n",
       "      <td>2053679</td>\n",
       "      <td>46485</td>\n",
       "      <td>2.26</td>\n",
       "      <td>315895</td>\n",
       "      <td>15.38</td>\n",
       "      <td>1737784</td>\n",
       "      <td>84.62</td>\n",
       "    </tr>\n",
       "    <tr>\n",
       "      <th>2</th>\n",
       "      <td>brands</td>\n",
       "      <td>object</td>\n",
       "      <td>endives</td>\n",
       "      <td>2053679</td>\n",
       "      <td>183520</td>\n",
       "      <td>8.94</td>\n",
       "      <td>1050597</td>\n",
       "      <td>51.16</td>\n",
       "      <td>1003082</td>\n",
       "      <td>48.84</td>\n",
       "    </tr>\n",
       "    <tr>\n",
       "      <th>3</th>\n",
       "      <td>brands_tags</td>\n",
       "      <td>object</td>\n",
       "      <td>endives</td>\n",
       "      <td>2053679</td>\n",
       "      <td>141427</td>\n",
       "      <td>6.89</td>\n",
       "      <td>1050528</td>\n",
       "      <td>51.15</td>\n",
       "      <td>1003151</td>\n",
       "      <td>48.85</td>\n",
       "    </tr>\n",
       "    <tr>\n",
       "      <th>4</th>\n",
       "      <td>categories</td>\n",
       "      <td>object</td>\n",
       "      <td>Epicerie, Condiments, Sauces, Moutardes</td>\n",
       "      <td>2053679</td>\n",
       "      <td>117610</td>\n",
       "      <td>5.73</td>\n",
       "      <td>945149</td>\n",
       "      <td>46.02</td>\n",
       "      <td>1108530</td>\n",
       "      <td>53.98</td>\n",
       "    </tr>\n",
       "    <tr>\n",
       "      <th>5</th>\n",
       "      <td>categories_tags</td>\n",
       "      <td>object</td>\n",
       "      <td>en:groceries,en:condiments,en:sauces,en:mustards</td>\n",
       "      <td>2053679</td>\n",
       "      <td>72803</td>\n",
       "      <td>3.55</td>\n",
       "      <td>945141</td>\n",
       "      <td>46.02</td>\n",
       "      <td>1108538</td>\n",
       "      <td>53.98</td>\n",
       "    </tr>\n",
       "    <tr>\n",
       "      <th>6</th>\n",
       "      <td>origins</td>\n",
       "      <td>object</td>\n",
       "      <td>Spain</td>\n",
       "      <td>2053679</td>\n",
       "      <td>14023</td>\n",
       "      <td>0.68</td>\n",
       "      <td>88290</td>\n",
       "      <td>4.30</td>\n",
       "      <td>1965389</td>\n",
       "      <td>95.70</td>\n",
       "    </tr>\n",
       "    <tr>\n",
       "      <th>7</th>\n",
       "      <td>origins_tags</td>\n",
       "      <td>object</td>\n",
       "      <td>en:spain</td>\n",
       "      <td>2053679</td>\n",
       "      <td>11428</td>\n",
       "      <td>0.56</td>\n",
       "      <td>88160</td>\n",
       "      <td>4.29</td>\n",
       "      <td>1965519</td>\n",
       "      <td>95.71</td>\n",
       "    </tr>\n",
       "    <tr>\n",
       "      <th>8</th>\n",
       "      <td>manufacturing_places</td>\n",
       "      <td>object</td>\n",
       "      <td>bénivay-ollon</td>\n",
       "      <td>2053679</td>\n",
       "      <td>28901</td>\n",
       "      <td>1.41</td>\n",
       "      <td>128424</td>\n",
       "      <td>6.25</td>\n",
       "      <td>1925255</td>\n",
       "      <td>93.75</td>\n",
       "    </tr>\n",
       "    <tr>\n",
       "      <th>9</th>\n",
       "      <td>manufacturing_places_tags</td>\n",
       "      <td>object</td>\n",
       "      <td>benivay-ollon</td>\n",
       "      <td>2053679</td>\n",
       "      <td>25973</td>\n",
       "      <td>1.26</td>\n",
       "      <td>128364</td>\n",
       "      <td>6.25</td>\n",
       "      <td>1925315</td>\n",
       "      <td>93.75</td>\n",
       "    </tr>\n",
       "    <tr>\n",
       "      <th>10</th>\n",
       "      <td>labels</td>\n",
       "      <td>object</td>\n",
       "      <td>Delois france</td>\n",
       "      <td>2053679</td>\n",
       "      <td>81006</td>\n",
       "      <td>3.94</td>\n",
       "      <td>438478</td>\n",
       "      <td>21.35</td>\n",
       "      <td>1615201</td>\n",
       "      <td>78.65</td>\n",
       "    </tr>\n",
       "    <tr>\n",
       "      <th>11</th>\n",
       "      <td>labels_tags</td>\n",
       "      <td>object</td>\n",
       "      <td>fr:delois-france</td>\n",
       "      <td>2053679</td>\n",
       "      <td>60380</td>\n",
       "      <td>2.94</td>\n",
       "      <td>438458</td>\n",
       "      <td>21.35</td>\n",
       "      <td>1615221</td>\n",
       "      <td>78.65</td>\n",
       "    </tr>\n",
       "    <tr>\n",
       "      <th>12</th>\n",
       "      <td>emb_codes</td>\n",
       "      <td>object</td>\n",
       "      <td>FR 72.264.002 EC</td>\n",
       "      <td>2053679</td>\n",
       "      <td>34208</td>\n",
       "      <td>1.67</td>\n",
       "      <td>123665</td>\n",
       "      <td>6.02</td>\n",
       "      <td>1930014</td>\n",
       "      <td>93.98</td>\n",
       "    </tr>\n",
       "    <tr>\n",
       "      <th>13</th>\n",
       "      <td>emb_codes_tags</td>\n",
       "      <td>object</td>\n",
       "      <td>fr-72-264-002-ec</td>\n",
       "      <td>2053679</td>\n",
       "      <td>29641</td>\n",
       "      <td>1.44</td>\n",
       "      <td>123618</td>\n",
       "      <td>6.02</td>\n",
       "      <td>1930061</td>\n",
       "      <td>93.98</td>\n",
       "    </tr>\n",
       "    <tr>\n",
       "      <th>14</th>\n",
       "      <td>cities_tags</td>\n",
       "      <td>object</td>\n",
       "      <td>sable-sur-sarthe-sarthe-france</td>\n",
       "      <td>2053679</td>\n",
       "      <td>7129</td>\n",
       "      <td>0.35</td>\n",
       "      <td>79644</td>\n",
       "      <td>3.88</td>\n",
       "      <td>1974035</td>\n",
       "      <td>96.12</td>\n",
       "    </tr>\n",
       "    <tr>\n",
       "      <th>15</th>\n",
       "      <td>countries</td>\n",
       "      <td>object</td>\n",
       "      <td>en:france</td>\n",
       "      <td>2053679</td>\n",
       "      <td>11126</td>\n",
       "      <td>0.54</td>\n",
       "      <td>2047493</td>\n",
       "      <td>99.70</td>\n",
       "      <td>6186</td>\n",
       "      <td>0.30</td>\n",
       "    </tr>\n",
       "    <tr>\n",
       "      <th>16</th>\n",
       "      <td>countries_tags</td>\n",
       "      <td>object</td>\n",
       "      <td>en:france</td>\n",
       "      <td>2053679</td>\n",
       "      <td>4403</td>\n",
       "      <td>0.21</td>\n",
       "      <td>2047488</td>\n",
       "      <td>99.70</td>\n",
       "      <td>6191</td>\n",
       "      <td>0.30</td>\n",
       "    </tr>\n",
       "    <tr>\n",
       "      <th>17</th>\n",
       "      <td>traces</td>\n",
       "      <td>object</td>\n",
       "      <td>en:eggs,en:milk</td>\n",
       "      <td>2053679</td>\n",
       "      <td>12777</td>\n",
       "      <td>0.62</td>\n",
       "      <td>104812</td>\n",
       "      <td>5.10</td>\n",
       "      <td>1948867</td>\n",
       "      <td>94.90</td>\n",
       "    </tr>\n",
       "    <tr>\n",
       "      <th>18</th>\n",
       "      <td>traces_tags</td>\n",
       "      <td>object</td>\n",
       "      <td>en:eggs,en:milk</td>\n",
       "      <td>2053679</td>\n",
       "      <td>12766</td>\n",
       "      <td>0.62</td>\n",
       "      <td>129529</td>\n",
       "      <td>6.31</td>\n",
       "      <td>1924150</td>\n",
       "      <td>93.69</td>\n",
       "    </tr>\n",
       "    <tr>\n",
       "      <th>19</th>\n",
       "      <td>additives_tags</td>\n",
       "      <td>object</td>\n",
       "      <td>en:e296,en:e330,en:e552,en:e950,en:e955</td>\n",
       "      <td>2053679</td>\n",
       "      <td>100577</td>\n",
       "      <td>4.90</td>\n",
       "      <td>423384</td>\n",
       "      <td>20.62</td>\n",
       "      <td>1630295</td>\n",
       "      <td>79.38</td>\n",
       "    </tr>\n",
       "    <tr>\n",
       "      <th>20</th>\n",
       "      <td>ingredients_from_palm_oil_tags</td>\n",
       "      <td>object</td>\n",
       "      <td>huile-de-palme</td>\n",
       "      <td>2053679</td>\n",
       "      <td>16</td>\n",
       "      <td>0.00</td>\n",
       "      <td>14505</td>\n",
       "      <td>0.71</td>\n",
       "      <td>2039174</td>\n",
       "      <td>99.29</td>\n",
       "    </tr>\n",
       "    <tr>\n",
       "      <th>21</th>\n",
       "      <td>ingredients_that_may_be_from_palm_oil_tags</td>\n",
       "      <td>object</td>\n",
       "      <td>e481-stearoyl-2-lactylate-de-sodium,e472e-ester-monoacethyltartrique-de-mono-et-diglycerides-d-acides-gras,e472b-ester-diacetyl-lactique-de-mono-et-diglycerides-d-acides-gras</td>\n",
       "      <td>2053679</td>\n",
       "      <td>350</td>\n",
       "      <td>0.02</td>\n",
       "      <td>43295</td>\n",
       "      <td>2.11</td>\n",
       "      <td>2010384</td>\n",
       "      <td>97.89</td>\n",
       "    </tr>\n",
       "    <tr>\n",
       "      <th>22</th>\n",
       "      <td>states</td>\n",
       "      <td>object</td>\n",
       "      <td>en:to-be-completed, en:nutrition-facts-to-be-completed, en:ingredients-to-be-completed, en:expiration-date-to-be-completed, en:packaging-code-to-be-completed, en:characteristics-to-be-completed, en:origins-to-be-completed, en:categories-to-be-completed, en:brands-completed, en:packaging-to-be-completed, en:quantity-to-be-completed, en:product-name-completed, en:photos-to-be-uploaded</td>\n",
       "      <td>2053679</td>\n",
       "      <td>6210</td>\n",
       "      <td>0.30</td>\n",
       "      <td>2053679</td>\n",
       "      <td>100.00</td>\n",
       "      <td>0</td>\n",
       "      <td>0.00</td>\n",
       "    </tr>\n",
       "    <tr>\n",
       "      <th>23</th>\n",
       "      <td>states_tags</td>\n",
       "      <td>object</td>\n",
       "      <td>en:to-be-completed,en:nutrition-facts-to-be-completed,en:ingredients-to-be-completed,en:expiration-date-to-be-completed,en:packaging-code-to-be-completed,en:characteristics-to-be-completed,en:origins-to-be-completed,en:categories-to-be-completed,en:brands-completed,en:packaging-to-be-completed,en:quantity-to-be-completed,en:product-name-completed,en:photos-to-be-uploaded</td>\n",
       "      <td>2053679</td>\n",
       "      <td>6210</td>\n",
       "      <td>0.30</td>\n",
       "      <td>2053679</td>\n",
       "      <td>100.00</td>\n",
       "      <td>0</td>\n",
       "      <td>0.00</td>\n",
       "    </tr>\n",
       "  </tbody>\n",
       "</table>\n",
       "</div>"
      ],
      "text/plain": [
       "                                 Variable name Variable type  \\\n",
       "0                                    packaging        object   \n",
       "1                               packaging_tags        object   \n",
       "2                                       brands        object   \n",
       "3                                  brands_tags        object   \n",
       "4                                   categories        object   \n",
       "5                              categories_tags        object   \n",
       "6                                      origins        object   \n",
       "7                                 origins_tags        object   \n",
       "8                         manufacturing_places        object   \n",
       "9                    manufacturing_places_tags        object   \n",
       "10                                      labels        object   \n",
       "11                                 labels_tags        object   \n",
       "12                                   emb_codes        object   \n",
       "13                              emb_codes_tags        object   \n",
       "14                                 cities_tags        object   \n",
       "15                                   countries        object   \n",
       "16                              countries_tags        object   \n",
       "17                                      traces        object   \n",
       "18                                 traces_tags        object   \n",
       "19                              additives_tags        object   \n",
       "20              ingredients_from_palm_oil_tags        object   \n",
       "21  ingredients_that_may_be_from_palm_oil_tags        object   \n",
       "22                                      states        object   \n",
       "23                                 states_tags        object   \n",
       "\n",
       "                                                                                                                                                                                                                                                                                                                                                                                              Example  \\\n",
       "0                                                                                                                                                                                                                                                                                                                                                                                 barquette,plastique   \n",
       "1                                                                                                                                                                                                                                                                                                                                                                                 barquette,plastique   \n",
       "2                                                                                                                                                                                                                                                                                                                                                                                             endives   \n",
       "3                                                                                                                                                                                                                                                                                                                                                                                             endives   \n",
       "4                                                                                                                                                                                                                                                                                                                                                             Epicerie, Condiments, Sauces, Moutardes   \n",
       "5                                                                                                                                                                                                                                                                                                                                                    en:groceries,en:condiments,en:sauces,en:mustards   \n",
       "6                                                                                                                                                                                                                                                                                                                                                                                               Spain   \n",
       "7                                                                                                                                                                                                                                                                                                                                                                                            en:spain   \n",
       "8                                                                                                                                                                                                                                                                                                                                                                                       bénivay-ollon   \n",
       "9                                                                                                                                                                                                                                                                                                                                                                                       benivay-ollon   \n",
       "10                                                                                                                                                                                                                                                                                                                                                                                      Delois france   \n",
       "11                                                                                                                                                                                                                                                                                                                                                                                   fr:delois-france   \n",
       "12                                                                                                                                                                                                                                                                                                                                                                                   FR 72.264.002 EC   \n",
       "13                                                                                                                                                                                                                                                                                                                                                                                   fr-72-264-002-ec   \n",
       "14                                                                                                                                                                                                                                                                                                                                                                     sable-sur-sarthe-sarthe-france   \n",
       "15                                                                                                                                                                                                                                                                                                                                                                                          en:france   \n",
       "16                                                                                                                                                                                                                                                                                                                                                                                          en:france   \n",
       "17                                                                                                                                                                                                                                                                                                                                                                                    en:eggs,en:milk   \n",
       "18                                                                                                                                                                                                                                                                                                                                                                                    en:eggs,en:milk   \n",
       "19                                                                                                                                                                                                                                                                                                                                                            en:e296,en:e330,en:e552,en:e950,en:e955   \n",
       "20                                                                                                                                                                                                                                                                                                                                                                                     huile-de-palme   \n",
       "21                                                                                                                                                                                                                     e481-stearoyl-2-lactylate-de-sodium,e472e-ester-monoacethyltartrique-de-mono-et-diglycerides-d-acides-gras,e472b-ester-diacetyl-lactique-de-mono-et-diglycerides-d-acides-gras   \n",
       "22  en:to-be-completed, en:nutrition-facts-to-be-completed, en:ingredients-to-be-completed, en:expiration-date-to-be-completed, en:packaging-code-to-be-completed, en:characteristics-to-be-completed, en:origins-to-be-completed, en:categories-to-be-completed, en:brands-completed, en:packaging-to-be-completed, en:quantity-to-be-completed, en:product-name-completed, en:photos-to-be-uploaded   \n",
       "23              en:to-be-completed,en:nutrition-facts-to-be-completed,en:ingredients-to-be-completed,en:expiration-date-to-be-completed,en:packaging-code-to-be-completed,en:characteristics-to-be-completed,en:origins-to-be-completed,en:categories-to-be-completed,en:brands-completed,en:packaging-to-be-completed,en:quantity-to-be-completed,en:product-name-completed,en:photos-to-be-uploaded   \n",
       "\n",
       "       Raws Distinct  % distinct  Not NaN  % Not NaN      NaN  % NaN  \n",
       "0   2053679    57066        2.78   315935      15.38  1737744  84.62  \n",
       "1   2053679    46485        2.26   315895      15.38  1737784  84.62  \n",
       "2   2053679   183520        8.94  1050597      51.16  1003082  48.84  \n",
       "3   2053679   141427        6.89  1050528      51.15  1003151  48.85  \n",
       "4   2053679   117610        5.73   945149      46.02  1108530  53.98  \n",
       "5   2053679    72803        3.55   945141      46.02  1108538  53.98  \n",
       "6   2053679    14023        0.68    88290       4.30  1965389  95.70  \n",
       "7   2053679    11428        0.56    88160       4.29  1965519  95.71  \n",
       "8   2053679    28901        1.41   128424       6.25  1925255  93.75  \n",
       "9   2053679    25973        1.26   128364       6.25  1925315  93.75  \n",
       "10  2053679    81006        3.94   438478      21.35  1615201  78.65  \n",
       "11  2053679    60380        2.94   438458      21.35  1615221  78.65  \n",
       "12  2053679    34208        1.67   123665       6.02  1930014  93.98  \n",
       "13  2053679    29641        1.44   123618       6.02  1930061  93.98  \n",
       "14  2053679     7129        0.35    79644       3.88  1974035  96.12  \n",
       "15  2053679    11126        0.54  2047493      99.70     6186   0.30  \n",
       "16  2053679     4403        0.21  2047488      99.70     6191   0.30  \n",
       "17  2053679    12777        0.62   104812       5.10  1948867  94.90  \n",
       "18  2053679    12766        0.62   129529       6.31  1924150  93.69  \n",
       "19  2053679   100577        4.90   423384      20.62  1630295  79.38  \n",
       "20  2053679       16        0.00    14505       0.71  2039174  99.29  \n",
       "21  2053679      350        0.02    43295       2.11  2010384  97.89  \n",
       "22  2053679     6210        0.30  2053679     100.00        0   0.00  \n",
       "23  2053679     6210        0.30  2053679     100.00        0   0.00  "
      ]
     },
     "execution_count": 45,
     "metadata": {},
     "output_type": "execute_result"
    }
   ],
   "source": [
    "describe_variables_light(openfoodfacts.iloc[:,openfoodfacts.columns.isin(liste_col_tags)])"
   ]
  },
  {
   "cell_type": "code",
   "execution_count": 46,
   "id": "2dc70a53",
   "metadata": {},
   "outputs": [],
   "source": [
    "def completion_distinct_plots(data):\n",
    "    ''' fonction qui prend un dataframe en entrée et retourne 2 diagrammes en barres représentant le pourcentage \n",
    "    de données manquantes et le pourcentage de données distinctes du dataset. Cette fonction nécessite que\n",
    "    soit chargée auparavant la fonction describe_variables '''   \n",
    "    \n",
    "    # Initialisation de la grille avec 1 ligne et 2 colonnes\n",
    "    fig = plt.figure(figsize=(15,7), constrained_layout=True)\n",
    "    gs = GridSpec(nrows=1, ncols=2, figure=fig)\n",
    "\n",
    "    # Premier graphique\n",
    "    ax1 = fig.add_subplot(gs[0,0]) # emplacement dans la grille\n",
    "    ax1 = sns.barplot(y = 'Variable name', x = '% NaN', data = describe_variables_light(data), palette = 'muted')\n",
    "    plt.title(\"% NaN\")\n",
    "    plt.ylabel(\"\")\n",
    "    plt.xlabel(\"% NaN\")\n",
    "    etiquette_h(ax1)\n",
    "        \n",
    "\n",
    "# Deuxième graphique\n",
    "    ax2 = fig.add_subplot(gs[0,1]) # emplacement dans la grille\n",
    "    ax2 = sns.barplot(y = 'Variable name', x = '% distinct', data = describe_variables_light(data), palette = 'muted')\n",
    "    plt.title(\"% valeurs distinctes\")\n",
    "    plt.ylabel(\"\")\n",
    "    plt.xlabel(\"% distinct\")\n",
    "    etiquette_h(ax2);"
   ]
  },
  {
   "cell_type": "code",
   "execution_count": 47,
   "id": "e07ffde6",
   "metadata": {},
   "outputs": [
    {
     "data": {
      "image/png": "[encoded data removed]",
      "text/plain": [
       "<Figure size 1080x504 with 2 Axes>"
      ]
     },
     "metadata": {
      "needs_background": "light"
     },
     "output_type": "display_data"
    }
   ],
   "source": [
    "completion_distinct_plots(openfoodfacts.iloc[:,openfoodfacts.columns.isin(liste_col_tags)])"
   ]
  },
  {
   "cell_type": "markdown",
   "id": "401c2696",
   "metadata": {},
   "source": [
    "Nous remarquons que les variables se terminant par _tags comportent souvent le même % de NaN que la variable associée mais le % de valeurs distinctes est quant à lui inférieur. Il semble être plus intéressant de conserver les variables se terminant par _tags et de supprimer les variables associées afin d'éviter la redondance d'information. De plus le site openfoodfacts nous indique que les variables _tags sont normalisées. Regardons quelques exemples avant de supprimer toutes les variables associées à celles se terminant par _tags."
   ]
  },
  {
   "cell_type": "code",
   "execution_count": 48,
   "id": "b6075bc8",
   "metadata": {},
   "outputs": [
    {
     "data": {
      "text/html": [
       "<div>\n",
       "<style scoped>\n",
       "    .dataframe tbody tr th:only-of-type {\n",
       "        vertical-align: middle;\n",
       "    }\n",
       "\n",
       "    .dataframe tbody tr th {\n",
       "        vertical-align: top;\n",
       "    }\n",
       "\n",
       "    .dataframe thead th {\n",
       "        text-align: right;\n",
       "    }\n",
       "</style>\n",
       "<table border=\"1\" class=\"dataframe\">\n",
       "  <thead>\n",
       "    <tr style=\"text-align: right;\">\n",
       "      <th></th>\n",
       "      <th>brands</th>\n",
       "      <th>brands_tags</th>\n",
       "    </tr>\n",
       "  </thead>\n",
       "  <tbody>\n",
       "    <tr>\n",
       "      <th>851451</th>\n",
       "      <td>Picard</td>\n",
       "      <td>picard</td>\n",
       "    </tr>\n",
       "    <tr>\n",
       "      <th>1892951</th>\n",
       "      <td>ecoooo</td>\n",
       "      <td>ecoooo</td>\n",
       "    </tr>\n",
       "    <tr>\n",
       "      <th>235526</th>\n",
       "      <td>Clover Valley</td>\n",
       "      <td>clover-valley</td>\n",
       "    </tr>\n",
       "    <tr>\n",
       "      <th>763488</th>\n",
       "      <td>Saupiquet</td>\n",
       "      <td>saupiquet</td>\n",
       "    </tr>\n",
       "    <tr>\n",
       "      <th>748155</th>\n",
       "      <td>Lune de Miel</td>\n",
       "      <td>lune-de-miel</td>\n",
       "    </tr>\n",
       "    <tr>\n",
       "      <th>1794384</th>\n",
       "      <td>caro</td>\n",
       "      <td>caro</td>\n",
       "    </tr>\n",
       "    <tr>\n",
       "      <th>957665</th>\n",
       "      <td>La Mère Poulard</td>\n",
       "      <td>la-mere-poulard</td>\n",
       "    </tr>\n",
       "    <tr>\n",
       "      <th>459881</th>\n",
       "      <td>Cardenas</td>\n",
       "      <td>cardenas</td>\n",
       "    </tr>\n",
       "    <tr>\n",
       "      <th>1114952</th>\n",
       "      <td>La Cour d'Orgères</td>\n",
       "      <td>la-cour-d-orgeres</td>\n",
       "    </tr>\n",
       "    <tr>\n",
       "      <th>1061863</th>\n",
       "      <td>Voie verte</td>\n",
       "      <td>voie-verte</td>\n",
       "    </tr>\n",
       "  </tbody>\n",
       "</table>\n",
       "</div>"
      ],
      "text/plain": [
       "                    brands        brands_tags\n",
       "851451              Picard             picard\n",
       "1892951             ecoooo             ecoooo\n",
       "235526       Clover Valley      clover-valley\n",
       "763488           Saupiquet          saupiquet\n",
       "748155        Lune de Miel       lune-de-miel\n",
       "1794384               caro               caro\n",
       "957665     La Mère Poulard    la-mere-poulard\n",
       "459881            Cardenas           cardenas\n",
       "1114952  La Cour d'Orgères  la-cour-d-orgeres\n",
       "1061863         Voie verte         voie-verte"
      ]
     },
     "execution_count": 48,
     "metadata": {},
     "output_type": "execute_result"
    }
   ],
   "source": [
    "openfoodfacts[~openfoodfacts['brands'].isnull()][['brands', 'brands_tags']].sample(10)"
   ]
  },
  {
   "cell_type": "code",
   "execution_count": 49,
   "id": "80cde3fd",
   "metadata": {},
   "outputs": [
    {
     "data": {
      "text/html": [
       "<div>\n",
       "<style scoped>\n",
       "    .dataframe tbody tr th:only-of-type {\n",
       "        vertical-align: middle;\n",
       "    }\n",
       "\n",
       "    .dataframe tbody tr th {\n",
       "        vertical-align: top;\n",
       "    }\n",
       "\n",
       "    .dataframe thead th {\n",
       "        text-align: right;\n",
       "    }\n",
       "</style>\n",
       "<table border=\"1\" class=\"dataframe\">\n",
       "  <thead>\n",
       "    <tr style=\"text-align: right;\">\n",
       "      <th></th>\n",
       "      <th>categories</th>\n",
       "      <th>categories_tags</th>\n",
       "    </tr>\n",
       "  </thead>\n",
       "  <tbody>\n",
       "    <tr>\n",
       "      <th>348723</th>\n",
       "      <td>Produits laitiers, Produits fermentés, Produits laitiers fermentés, Fromages, Fromages à pâte pressée cuite, Fromages de vache, Emmentals, Fromages de France, Emmentals français</td>\n",
       "      <td>en:dairies,en:fermented-foods,en:fermented-milk-products,en:cheeses,en:cooked-pressed-cheeses,en:cow-cheeses,en:emmentaler,en:french-cheeses,en:french-emmentaler</td>\n",
       "    </tr>\n",
       "    <tr>\n",
       "      <th>634425</th>\n",
       "      <td>Alimentos y bebidas de origen vegetal, Alimentos de origen vegetal, Conservas, Frutas y verduras y sus productos, Alimentos de origen vegetal en conserva, Frutas y sus productos, Frutas en conserva, Conservas de frutas en zumo, Piña en conserva en zumo</td>\n",
       "      <td>en:plant-based-foods-and-beverages,en:plant-based-foods,en:canned-foods,en:fruits-and-vegetables-based-foods,en:canned-plant-based-foods,en:fruits-based-foods,en:canned-fruits,en:canned-fruits-in-juice,en:pineapple-in-juice</td>\n",
       "    </tr>\n",
       "    <tr>\n",
       "      <th>286608</th>\n",
       "      <td>Dairies, Milks, Evaporated milks</td>\n",
       "      <td>en:dairies,en:milks,en:evaporated-milks</td>\n",
       "    </tr>\n",
       "    <tr>\n",
       "      <th>1644143</th>\n",
       "      <td>Snacks,Sweet snacks,Cocoa and its products,Chocolates,Dark chocolates</td>\n",
       "      <td>en:snacks,en:sweet-snacks,en:cocoa-and-its-products,en:chocolates,en:dark-chocolates</td>\n",
       "    </tr>\n",
       "    <tr>\n",
       "      <th>611422</th>\n",
       "      <td>Aliments et boissons à base de végétaux, Boissons, Boissons chaudes, Boissons à base de végétaux, Infusions</td>\n",
       "      <td>en:plant-based-foods-and-beverages,en:beverages,en:hot-beverages,en:plant-based-beverages,en:herbal-teas</td>\n",
       "    </tr>\n",
       "    <tr>\n",
       "      <th>765581</th>\n",
       "      <td>Snacks, Snacks sucrés, Cacao et dérivés, Chocolats, Chocolats au lait, Chocolats aux noisettes, Chocolats au lait aux noisettes</td>\n",
       "      <td>en:snacks,en:sweet-snacks,en:cocoa-and-its-products,en:chocolates,en:milk-chocolates,en:chocolates-with-hazelnuts,en:milk-chocolate-with-hazelnuts</td>\n",
       "    </tr>\n",
       "    <tr>\n",
       "      <th>844723</th>\n",
       "      <td>Aliments et boissons à base de végétaux, Aliments d'origine végétale, Conserves, Aliments à base de fruits et de légumes, Aliments à base de plantes en conserve, Surgelés, Légumes et dérivés, Légumes en conserve, Légumes-feuilles, Épinards, Épinards en conserve</td>\n",
       "      <td>en:plant-based-foods-and-beverages,en:plant-based-foods,en:canned-foods,en:fruits-and-vegetables-based-foods,en:canned-plant-based-foods,en:frozen-foods,en:vegetables-based-foods,en:canned-vegetables,en:leaf-vegetables,en:spinachs,en:canned-spinachs</td>\n",
       "    </tr>\n",
       "    <tr>\n",
       "      <th>816925</th>\n",
       "      <td>Aliments et boissons à base de végétaux, Aliments d'origine végétale, Snacks, Céréales et pommes de terre, Snacks salés, Apéritif, Chips et frites, Chips, Chips de pommes de terre, Chips de pommes de terre aromatisées, Chips de pommes de terre à l'huile de tournesol</td>\n",
       "      <td>en:plant-based-foods-and-beverages,en:plant-based-foods,en:snacks,en:cereals-and-potatoes,en:salty-snacks,en:appetizers,en:chips-and-fries,en:crisps,en:potato-crisps,en:flavoured-potato-crisps,en:potato-crisps-in-sunflower-oil</td>\n",
       "    </tr>\n",
       "    <tr>\n",
       "      <th>297818</th>\n",
       "      <td>Produits à tartiner, Petit-déjeuners, Produits de la ruche, Produits d'élevages, Produits à tartiner sucrés, Édulcorants, Préparations à base de miel, Préparations à base de miel et gelée royale</td>\n",
       "      <td>en:spreads,en:breakfasts,en:bee-products,en:farming-products,en:sweet-spreads,en:sweeteners,en:honey-based-preparations,en:honey-and-royal-jelly-mixtures</td>\n",
       "    </tr>\n",
       "    <tr>\n",
       "      <th>458452</th>\n",
       "      <td>Snacks, Sweet snacks, Confectioneries</td>\n",
       "      <td>en:snacks,en:sweet-snacks,en:confectioneries</td>\n",
       "    </tr>\n",
       "  </tbody>\n",
       "</table>\n",
       "</div>"
      ],
      "text/plain": [
       "                                                                                                                                                                                                                                                                         categories  \\\n",
       "348723                                                                                            Produits laitiers, Produits fermentés, Produits laitiers fermentés, Fromages, Fromages à pâte pressée cuite, Fromages de vache, Emmentals, Fromages de France, Emmentals français   \n",
       "634425                 Alimentos y bebidas de origen vegetal, Alimentos de origen vegetal, Conservas, Frutas y verduras y sus productos, Alimentos de origen vegetal en conserva, Frutas y sus productos, Frutas en conserva, Conservas de frutas en zumo, Piña en conserva en zumo   \n",
       "286608                                                                                                                                                                                                                                             Dairies, Milks, Evaporated milks   \n",
       "1644143                                                                                                                                                                                                       Snacks,Sweet snacks,Cocoa and its products,Chocolates,Dark chocolates   \n",
       "611422                                                                                                                                                                  Aliments et boissons à base de végétaux, Boissons, Boissons chaudes, Boissons à base de végétaux, Infusions   \n",
       "765581                                                                                                                                              Snacks, Snacks sucrés, Cacao et dérivés, Chocolats, Chocolats au lait, Chocolats aux noisettes, Chocolats au lait aux noisettes   \n",
       "844723        Aliments et boissons à base de végétaux, Aliments d'origine végétale, Conserves, Aliments à base de fruits et de légumes, Aliments à base de plantes en conserve, Surgelés, Légumes et dérivés, Légumes en conserve, Légumes-feuilles, Épinards, Épinards en conserve   \n",
       "816925   Aliments et boissons à base de végétaux, Aliments d'origine végétale, Snacks, Céréales et pommes de terre, Snacks salés, Apéritif, Chips et frites, Chips, Chips de pommes de terre, Chips de pommes de terre aromatisées, Chips de pommes de terre à l'huile de tournesol   \n",
       "297818                                                                           Produits à tartiner, Petit-déjeuners, Produits de la ruche, Produits d'élevages, Produits à tartiner sucrés, Édulcorants, Préparations à base de miel, Préparations à base de miel et gelée royale   \n",
       "458452                                                                                                                                                                                                                                        Snacks, Sweet snacks, Confectioneries   \n",
       "\n",
       "                                                                                                                                                                                                                                                   categories_tags  \n",
       "348723                                                                                           en:dairies,en:fermented-foods,en:fermented-milk-products,en:cheeses,en:cooked-pressed-cheeses,en:cow-cheeses,en:emmentaler,en:french-cheeses,en:french-emmentaler  \n",
       "634425                             en:plant-based-foods-and-beverages,en:plant-based-foods,en:canned-foods,en:fruits-and-vegetables-based-foods,en:canned-plant-based-foods,en:fruits-based-foods,en:canned-fruits,en:canned-fruits-in-juice,en:pineapple-in-juice  \n",
       "286608                                                                                                                                                                                                                     en:dairies,en:milks,en:evaporated-milks  \n",
       "1644143                                                                                                                                                                       en:snacks,en:sweet-snacks,en:cocoa-and-its-products,en:chocolates,en:dark-chocolates  \n",
       "611422                                                                                                                                                    en:plant-based-foods-and-beverages,en:beverages,en:hot-beverages,en:plant-based-beverages,en:herbal-teas  \n",
       "765581                                                                                                          en:snacks,en:sweet-snacks,en:cocoa-and-its-products,en:chocolates,en:milk-chocolates,en:chocolates-with-hazelnuts,en:milk-chocolate-with-hazelnuts  \n",
       "844723   en:plant-based-foods-and-beverages,en:plant-based-foods,en:canned-foods,en:fruits-and-vegetables-based-foods,en:canned-plant-based-foods,en:frozen-foods,en:vegetables-based-foods,en:canned-vegetables,en:leaf-vegetables,en:spinachs,en:canned-spinachs  \n",
       "816925                          en:plant-based-foods-and-beverages,en:plant-based-foods,en:snacks,en:cereals-and-potatoes,en:salty-snacks,en:appetizers,en:chips-and-fries,en:crisps,en:potato-crisps,en:flavoured-potato-crisps,en:potato-crisps-in-sunflower-oil  \n",
       "297818                                                                                                   en:spreads,en:breakfasts,en:bee-products,en:farming-products,en:sweet-spreads,en:sweeteners,en:honey-based-preparations,en:honey-and-royal-jelly-mixtures  \n",
       "458452                                                                                                                                                                                                                en:snacks,en:sweet-snacks,en:confectioneries  "
      ]
     },
     "execution_count": 49,
     "metadata": {},
     "output_type": "execute_result"
    }
   ],
   "source": [
    "openfoodfacts[~openfoodfacts['categories'].isnull()][['categories', 'categories_tags']].sample(10)"
   ]
  },
  {
   "cell_type": "code",
   "execution_count": 50,
   "id": "9898e0f1",
   "metadata": {},
   "outputs": [
    {
     "data": {
      "text/html": [
       "<div>\n",
       "<style scoped>\n",
       "    .dataframe tbody tr th:only-of-type {\n",
       "        vertical-align: middle;\n",
       "    }\n",
       "\n",
       "    .dataframe tbody tr th {\n",
       "        vertical-align: top;\n",
       "    }\n",
       "\n",
       "    .dataframe thead th {\n",
       "        text-align: right;\n",
       "    }\n",
       "</style>\n",
       "<table border=\"1\" class=\"dataframe\">\n",
       "  <thead>\n",
       "    <tr style=\"text-align: right;\">\n",
       "      <th></th>\n",
       "      <th>labels</th>\n",
       "      <th>labels_tags</th>\n",
       "    </tr>\n",
       "  </thead>\n",
       "  <tbody>\n",
       "    <tr>\n",
       "      <th>1240339</th>\n",
       "      <td>en:no-artificial-colors</td>\n",
       "      <td>en:no-artificial-colors</td>\n",
       "    </tr>\n",
       "    <tr>\n",
       "      <th>797057</th>\n",
       "      <td>Viande Française, Sans colorants, Nutriscore, Nutriscore A, Triman, Viande-bovine-francaise</td>\n",
       "      <td>en:french-meat,en:french-beef,en:no-colorings,en:nutriscore,en:nutriscore-grade-a,fr:triman</td>\n",
       "    </tr>\n",
       "    <tr>\n",
       "      <th>1385264</th>\n",
       "      <td>Bio, Bio européen, GR-BIO-03</td>\n",
       "      <td>en:organic,en:eu-organic,en:gr-bio-03</td>\n",
       "    </tr>\n",
       "    <tr>\n",
       "      <th>1201732</th>\n",
       "      <td>Nachhaltige Fischerei, Zertifizierte nachhaltige Fischerei MSC</td>\n",
       "      <td>en:sustainable-fishery,en:sustainable-seafood-msc</td>\n",
       "    </tr>\n",
       "    <tr>\n",
       "      <th>1976544</th>\n",
       "      <td>en:halal</td>\n",
       "      <td>en:halal</td>\n",
       "    </tr>\n",
       "    <tr>\n",
       "      <th>1160622</th>\n",
       "      <td>Sans conservateurs</td>\n",
       "      <td>en:no-preservatives</td>\n",
       "    </tr>\n",
       "    <tr>\n",
       "      <th>902940</th>\n",
       "      <td>Bio, Bio européen, AB Agriculture Biologique, Agriculture UE/Non UE, IT-BIO-007</td>\n",
       "      <td>en:organic,en:eu-organic,en:non-eu-agriculture,en:eu-agriculture,en:eu-non-eu-agriculture,en:it-bio-007,fr:ab-agriculture-biologique</td>\n",
       "    </tr>\n",
       "    <tr>\n",
       "      <th>136061</th>\n",
       "      <td>Bio, EU-Öko-Verordnung, DE-ÖKO-001</td>\n",
       "      <td>en:organic,en:eu-organic,en:de-oko-001</td>\n",
       "    </tr>\n",
       "    <tr>\n",
       "      <th>1472858</th>\n",
       "      <td>lactose, diabetic</td>\n",
       "      <td>en:diabetic,en:lactose</td>\n",
       "    </tr>\n",
       "    <tr>\n",
       "      <th>1991824</th>\n",
       "      <td>Made in Italy, en:no-additives</td>\n",
       "      <td>en:made-in-italy,en:no-additives</td>\n",
       "    </tr>\n",
       "  </tbody>\n",
       "</table>\n",
       "</div>"
      ],
      "text/plain": [
       "                                                                                               labels  \\\n",
       "1240339                                                                       en:no-artificial-colors   \n",
       "797057   Viande Française, Sans colorants, Nutriscore, Nutriscore A, Triman, Viande-bovine-francaise    \n",
       "1385264                                                                 Bio, Bio européen, GR-BIO-03    \n",
       "1201732                               Nachhaltige Fischerei, Zertifizierte nachhaltige Fischerei MSC    \n",
       "1976544                                                                                      en:halal   \n",
       "1160622                                                                            Sans conservateurs   \n",
       "902940               Bio, Bio européen, AB Agriculture Biologique, Agriculture UE/Non UE, IT-BIO-007    \n",
       "136061                                                           Bio, EU-Öko-Verordnung, DE-ÖKO-001     \n",
       "1472858                                                                             lactose, diabetic   \n",
       "1991824                                                                Made in Italy, en:no-additives   \n",
       "\n",
       "                                                                                                                                  labels_tags  \n",
       "1240339                                                                                                               en:no-artificial-colors  \n",
       "797057                                            en:french-meat,en:french-beef,en:no-colorings,en:nutriscore,en:nutriscore-grade-a,fr:triman  \n",
       "1385264                                                                                                 en:organic,en:eu-organic,en:gr-bio-03  \n",
       "1201732                                                                                     en:sustainable-fishery,en:sustainable-seafood-msc  \n",
       "1976544                                                                                                                              en:halal  \n",
       "1160622                                                                                                                   en:no-preservatives  \n",
       "902940   en:organic,en:eu-organic,en:non-eu-agriculture,en:eu-agriculture,en:eu-non-eu-agriculture,en:it-bio-007,fr:ab-agriculture-biologique  \n",
       "136061                                                                                                 en:organic,en:eu-organic,en:de-oko-001  \n",
       "1472858                                                                                                                en:diabetic,en:lactose  \n",
       "1991824                                                                                                      en:made-in-italy,en:no-additives  "
      ]
     },
     "execution_count": 50,
     "metadata": {},
     "output_type": "execute_result"
    }
   ],
   "source": [
    "openfoodfacts[~openfoodfacts['labels'].isnull()][['labels', 'labels_tags']].sample(10)"
   ]
  },
  {
   "cell_type": "markdown",
   "id": "9e248742",
   "metadata": {},
   "source": [
    "Les variables semblent bien redondantes entre elles. Nous remarquons également que les variables se terminant par _tags semblent être le plus souvent traduites en anglais. Nous décidons de garder ces dernières."
   ]
  },
  {
   "cell_type": "code",
   "execution_count": 51,
   "id": "234ee4a2",
   "metadata": {},
   "outputs": [
    {
     "name": "stdout",
     "output_type": "stream",
     "text": [
      "Liste des variables à supprimer: \n",
      "\n",
      " ['packaging', 'brands', 'categories', 'origins', 'manufacturing_places', 'labels', 'emb_codes', 'countries', 'traces', 'states']\n"
     ]
    }
   ],
   "source": [
    "liste_col_suppr = openfoodfacts.iloc[:,(openfoodfacts.columns.isin(liste_col_tags)) & \n",
    "                                        (~openfoodfacts.columns.str.endswith('_tags'))].columns.unique().tolist()\n",
    "print(f\"Liste des variables à supprimer: \\n\\n {liste_col_suppr}\")"
   ]
  },
  {
   "cell_type": "code",
   "execution_count": 52,
   "id": "0fb40e8e",
   "metadata": {},
   "outputs": [
    {
     "name": "stdout",
     "output_type": "stream",
     "text": [
      "Nombre de lignes: 2053679\n",
      "Nombre de variables: 137\n"
     ]
    }
   ],
   "source": [
    "# Suppression des variables sans suffixe _tags\n",
    "openfoodfacts_tags = openfoodfacts.drop(liste_col_suppr, axis = 'columns', inplace = False)\n",
    "\n",
    "print(f\"Nombre de lignes: {openfoodfacts_tags.shape[0]}\\nNombre de variables: {openfoodfacts_tags.shape[1]}\")"
   ]
  },
  {
   "cell_type": "markdown",
   "id": "6f346f92",
   "metadata": {
    "heading_collapsed": true
   },
   "source": [
    "### en"
   ]
  },
  {
   "cell_type": "markdown",
   "id": "8c0a9218",
   "metadata": {
    "hidden": true
   },
   "source": [
    "La documentation nous indique que ces variables sont la traduction des variables _tags dans la langue indiquée. Elles doivent être de type \"object\"."
   ]
  },
  {
   "cell_type": "code",
   "execution_count": 53,
   "id": "fd050096",
   "metadata": {
    "hidden": true
   },
   "outputs": [
    {
     "name": "stdout",
     "output_type": "stream",
     "text": [
      "['categories_en', 'origins_en', 'labels_en', 'countries_en', 'traces_en', 'additives_en', 'states_en', 'main_category_en']\n"
     ]
    }
   ],
   "source": [
    "# Liste des colonnes qui se terminent par _en\n",
    "col_en = openfoodfacts_tags.iloc[:,openfoodfacts_tags.columns.str.endswith('_en')].columns.tolist()\n",
    "print(col_en)"
   ]
  },
  {
   "cell_type": "code",
   "execution_count": 54,
   "id": "3f9a68cc",
   "metadata": {
    "hidden": true
   },
   "outputs": [],
   "source": [
    "# On cast les variables en str\n",
    "for col in col_en:\n",
    "    openfoodfacts_tags[col] = openfoodfacts_tags[col].astype(\"object\")"
   ]
  },
  {
   "cell_type": "code",
   "execution_count": 55,
   "id": "aeaa1a61",
   "metadata": {
    "hidden": true
   },
   "outputs": [
    {
     "data": {
      "text/plain": [
       "Series([], dtype: object)"
      ]
     },
     "execution_count": 55,
     "metadata": {},
     "output_type": "execute_result"
    }
   ],
   "source": [
    "openfoodfacts_tags.iloc[:,openfoodfacts_tags.columns.isin(col_en)].select_dtypes(exclude = ['object']).dtypes"
   ]
  },
  {
   "cell_type": "code",
   "execution_count": 56,
   "id": "7dd8de1e",
   "metadata": {
    "hidden": true
   },
   "outputs": [
    {
     "name": "stdout",
     "output_type": "stream",
     "text": [
      "['additives', 'additives_en', 'categories', 'categories_en', 'countries', 'countries_en', 'labels', 'labels_en', 'main_category', 'main_category_en', 'origins', 'origins_en', 'states', 'states_en', 'traces', 'traces_en']\n"
     ]
    }
   ],
   "source": [
    "print(liste_col_endswith(openfoodfacts_tags, 'en'))"
   ]
  },
  {
   "cell_type": "markdown",
   "id": "a0d82713",
   "metadata": {
    "hidden": true
   },
   "source": [
    "On retrouve dans cette liste les préfixes des variables qui se terminent par _tags. Lorsque l'on applique la fonction précédente on ne récupère que le préfixe et la variable associée. Il faudrait en fait récupérer tous les préfixes et regarder les variables associées: _tags, _en etc. Améliorons la fonction."
   ]
  },
  {
   "cell_type": "code",
   "execution_count": 57,
   "id": "26558f78",
   "metadata": {
    "hidden": true
   },
   "outputs": [],
   "source": [
    "def liste_col_prefixe(dataframe, keyword):\n",
    "    ''' Fonction qui permet de récupérer le préfixe des colonnes se terminant par un mot clef et qui retourne une liste\n",
    "    de ces variables et des variables associées qui contiennent le préfixe. L'objectif est de s'assurer que ces variables\n",
    "    n'apportent pas la même information.'''\n",
    "    \n",
    "    liste_col_keyword_prefixe = [i.replace(f'_{keyword}', '') for i in dataframe.iloc[\n",
    "    :,dataframe.columns.str.endswith(keyword)].columns.unique().tolist()]\n",
    "    \n",
    "    liste_col_select = dataframe.iloc[:, dataframe.columns.str.startswith(\n",
    "        tuple(liste_col_keyword_prefixe))].columns.unique().tolist()\n",
    "    \n",
    "    liste_col_select.sort()\n",
    "                                      \n",
    "    return dataframe.iloc[:,dataframe.columns.isin(liste_col_select)].columns"
   ]
  },
  {
   "cell_type": "code",
   "execution_count": 58,
   "id": "8db453e8",
   "metadata": {
    "hidden": true
   },
   "outputs": [],
   "source": [
    "liste_col_en = liste_col_prefixe(openfoodfacts_tags, 'en')"
   ]
  },
  {
   "cell_type": "code",
   "execution_count": 59,
   "id": "f18f2a26",
   "metadata": {
    "hidden": true
   },
   "outputs": [
    {
     "data": {
      "text/html": [
       "<div>\n",
       "<style scoped>\n",
       "    .dataframe tbody tr th:only-of-type {\n",
       "        vertical-align: middle;\n",
       "    }\n",
       "\n",
       "    .dataframe tbody tr th {\n",
       "        vertical-align: top;\n",
       "    }\n",
       "\n",
       "    .dataframe thead th {\n",
       "        text-align: right;\n",
       "    }\n",
       "</style>\n",
       "<table border=\"1\" class=\"dataframe\">\n",
       "  <thead>\n",
       "    <tr style=\"text-align: right;\">\n",
       "      <th></th>\n",
       "      <th>Variable name</th>\n",
       "      <th>Variable type</th>\n",
       "      <th>Example</th>\n",
       "      <th>Raws</th>\n",
       "      <th>Distinct</th>\n",
       "      <th>% distinct</th>\n",
       "      <th>Not NaN</th>\n",
       "      <th>% Not NaN</th>\n",
       "      <th>NaN</th>\n",
       "      <th>% NaN</th>\n",
       "    </tr>\n",
       "  </thead>\n",
       "  <tbody>\n",
       "    <tr>\n",
       "      <th>0</th>\n",
       "      <td>categories_tags</td>\n",
       "      <td>object</td>\n",
       "      <td>en:groceries,en:condiments,en:sauces,en:mustards</td>\n",
       "      <td>2053679</td>\n",
       "      <td>72803</td>\n",
       "      <td>3.55</td>\n",
       "      <td>945141</td>\n",
       "      <td>46.02</td>\n",
       "      <td>1108538</td>\n",
       "      <td>53.98</td>\n",
       "    </tr>\n",
       "    <tr>\n",
       "      <th>1</th>\n",
       "      <td>categories_en</td>\n",
       "      <td>object</td>\n",
       "      <td>Groceries,Condiments,Sauces,Mustards</td>\n",
       "      <td>2053679</td>\n",
       "      <td>72800</td>\n",
       "      <td>3.54</td>\n",
       "      <td>945141</td>\n",
       "      <td>46.02</td>\n",
       "      <td>1108538</td>\n",
       "      <td>53.98</td>\n",
       "    </tr>\n",
       "    <tr>\n",
       "      <th>2</th>\n",
       "      <td>origins_tags</td>\n",
       "      <td>object</td>\n",
       "      <td>en:spain</td>\n",
       "      <td>2053679</td>\n",
       "      <td>11428</td>\n",
       "      <td>0.56</td>\n",
       "      <td>88160</td>\n",
       "      <td>4.29</td>\n",
       "      <td>1965519</td>\n",
       "      <td>95.71</td>\n",
       "    </tr>\n",
       "    <tr>\n",
       "      <th>3</th>\n",
       "      <td>origins_en</td>\n",
       "      <td>object</td>\n",
       "      <td>Spain</td>\n",
       "      <td>2053679</td>\n",
       "      <td>11389</td>\n",
       "      <td>0.55</td>\n",
       "      <td>88160</td>\n",
       "      <td>4.29</td>\n",
       "      <td>1965519</td>\n",
       "      <td>95.71</td>\n",
       "    </tr>\n",
       "    <tr>\n",
       "      <th>4</th>\n",
       "      <td>labels_tags</td>\n",
       "      <td>object</td>\n",
       "      <td>fr:delois-france</td>\n",
       "      <td>2053679</td>\n",
       "      <td>60380</td>\n",
       "      <td>2.94</td>\n",
       "      <td>438458</td>\n",
       "      <td>21.35</td>\n",
       "      <td>1615221</td>\n",
       "      <td>78.65</td>\n",
       "    </tr>\n",
       "    <tr>\n",
       "      <th>5</th>\n",
       "      <td>labels_en</td>\n",
       "      <td>object</td>\n",
       "      <td>fr:delois-france</td>\n",
       "      <td>2053679</td>\n",
       "      <td>60362</td>\n",
       "      <td>2.94</td>\n",
       "      <td>438458</td>\n",
       "      <td>21.35</td>\n",
       "      <td>1615221</td>\n",
       "      <td>78.65</td>\n",
       "    </tr>\n",
       "    <tr>\n",
       "      <th>6</th>\n",
       "      <td>countries_tags</td>\n",
       "      <td>object</td>\n",
       "      <td>en:france</td>\n",
       "      <td>2053679</td>\n",
       "      <td>4403</td>\n",
       "      <td>0.21</td>\n",
       "      <td>2047488</td>\n",
       "      <td>99.70</td>\n",
       "      <td>6191</td>\n",
       "      <td>0.30</td>\n",
       "    </tr>\n",
       "    <tr>\n",
       "      <th>7</th>\n",
       "      <td>countries_en</td>\n",
       "      <td>object</td>\n",
       "      <td>France</td>\n",
       "      <td>2053679</td>\n",
       "      <td>4403</td>\n",
       "      <td>0.21</td>\n",
       "      <td>2047488</td>\n",
       "      <td>99.70</td>\n",
       "      <td>6191</td>\n",
       "      <td>0.30</td>\n",
       "    </tr>\n",
       "    <tr>\n",
       "      <th>8</th>\n",
       "      <td>traces_tags</td>\n",
       "      <td>object</td>\n",
       "      <td>en:eggs,en:milk</td>\n",
       "      <td>2053679</td>\n",
       "      <td>12766</td>\n",
       "      <td>0.62</td>\n",
       "      <td>129529</td>\n",
       "      <td>6.31</td>\n",
       "      <td>1924150</td>\n",
       "      <td>93.69</td>\n",
       "    </tr>\n",
       "    <tr>\n",
       "      <th>9</th>\n",
       "      <td>traces_en</td>\n",
       "      <td>object</td>\n",
       "      <td>Eggs,Milk</td>\n",
       "      <td>2053679</td>\n",
       "      <td>12766</td>\n",
       "      <td>0.62</td>\n",
       "      <td>129529</td>\n",
       "      <td>6.31</td>\n",
       "      <td>1924150</td>\n",
       "      <td>93.69</td>\n",
       "    </tr>\n",
       "    <tr>\n",
       "      <th>10</th>\n",
       "      <td>additives_n</td>\n",
       "      <td>float64</td>\n",
       "      <td>0.0</td>\n",
       "      <td>2053679</td>\n",
       "      <td>40</td>\n",
       "      <td>0.00</td>\n",
       "      <td>732673</td>\n",
       "      <td>35.68</td>\n",
       "      <td>1321006</td>\n",
       "      <td>64.32</td>\n",
       "    </tr>\n",
       "    <tr>\n",
       "      <th>11</th>\n",
       "      <td>additives_tags</td>\n",
       "      <td>object</td>\n",
       "      <td>en:e296,en:e330,en:e552,en:e950,en:e955</td>\n",
       "      <td>2053679</td>\n",
       "      <td>100577</td>\n",
       "      <td>4.90</td>\n",
       "      <td>423384</td>\n",
       "      <td>20.62</td>\n",
       "      <td>1630295</td>\n",
       "      <td>79.38</td>\n",
       "    </tr>\n",
       "    <tr>\n",
       "      <th>12</th>\n",
       "      <td>additives_en</td>\n",
       "      <td>object</td>\n",
       "      <td>E296 - Malic acid,E330 - Citric acid,E552 - Calcium silicate,E950 - Acesulfame k,E955 - Sucralose</td>\n",
       "      <td>2053679</td>\n",
       "      <td>100577</td>\n",
       "      <td>4.90</td>\n",
       "      <td>423384</td>\n",
       "      <td>20.62</td>\n",
       "      <td>1630295</td>\n",
       "      <td>79.38</td>\n",
       "    </tr>\n",
       "    <tr>\n",
       "      <th>13</th>\n",
       "      <td>states_tags</td>\n",
       "      <td>object</td>\n",
       "      <td>en:to-be-completed,en:nutrition-facts-to-be-completed,en:ingredients-to-be-completed,en:expiration-date-to-be-completed,en:packaging-code-to-be-completed,en:characteristics-to-be-completed,en:origins-to-be-completed,en:categories-to-be-completed,en:brands-completed,en:packaging-to-be-completed,en:quantity-to-be-completed,en:product-name-completed,en:photos-to-be-uploaded</td>\n",
       "      <td>2053679</td>\n",
       "      <td>6210</td>\n",
       "      <td>0.30</td>\n",
       "      <td>2053679</td>\n",
       "      <td>100.00</td>\n",
       "      <td>0</td>\n",
       "      <td>0.00</td>\n",
       "    </tr>\n",
       "    <tr>\n",
       "      <th>14</th>\n",
       "      <td>states_en</td>\n",
       "      <td>object</td>\n",
       "      <td>To be completed,Nutrition facts to be completed,Ingredients to be completed,Expiration date to be completed,Packaging code to be completed,Characteristics to be completed,Origins to be completed,Categories to be completed,Brands completed,Packaging to be completed,Quantity to be completed,Product name completed,Photos to be uploaded</td>\n",
       "      <td>2053679</td>\n",
       "      <td>6210</td>\n",
       "      <td>0.30</td>\n",
       "      <td>2053679</td>\n",
       "      <td>100.00</td>\n",
       "      <td>0</td>\n",
       "      <td>0.00</td>\n",
       "    </tr>\n",
       "    <tr>\n",
       "      <th>15</th>\n",
       "      <td>main_category</td>\n",
       "      <td>object</td>\n",
       "      <td>en:mustards</td>\n",
       "      <td>2053679</td>\n",
       "      <td>32887</td>\n",
       "      <td>1.60</td>\n",
       "      <td>945141</td>\n",
       "      <td>46.02</td>\n",
       "      <td>1108538</td>\n",
       "      <td>53.98</td>\n",
       "    </tr>\n",
       "    <tr>\n",
       "      <th>16</th>\n",
       "      <td>main_category_en</td>\n",
       "      <td>object</td>\n",
       "      <td>Mustards</td>\n",
       "      <td>2053679</td>\n",
       "      <td>32885</td>\n",
       "      <td>1.60</td>\n",
       "      <td>945141</td>\n",
       "      <td>46.02</td>\n",
       "      <td>1108538</td>\n",
       "      <td>53.98</td>\n",
       "    </tr>\n",
       "  </tbody>\n",
       "</table>\n",
       "</div>"
      ],
      "text/plain": [
       "       Variable name Variable type  \\\n",
       "0    categories_tags        object   \n",
       "1      categories_en        object   \n",
       "2       origins_tags        object   \n",
       "3         origins_en        object   \n",
       "4        labels_tags        object   \n",
       "5          labels_en        object   \n",
       "6     countries_tags        object   \n",
       "7       countries_en        object   \n",
       "8        traces_tags        object   \n",
       "9          traces_en        object   \n",
       "10       additives_n       float64   \n",
       "11    additives_tags        object   \n",
       "12      additives_en        object   \n",
       "13       states_tags        object   \n",
       "14         states_en        object   \n",
       "15     main_category        object   \n",
       "16  main_category_en        object   \n",
       "\n",
       "                                                                                                                                                                                                                                                                                                                                                                                  Example  \\\n",
       "0                                                                                                                                                                                                                                                                                                                                        en:groceries,en:condiments,en:sauces,en:mustards   \n",
       "1                                                                                                                                                                                                                                                                                                                                                    Groceries,Condiments,Sauces,Mustards   \n",
       "2                                                                                                                                                                                                                                                                                                                                                                                en:spain   \n",
       "3                                                                                                                                                                                                                                                                                                                                                                                   Spain   \n",
       "4                                                                                                                                                                                                                                                                                                                                                                        fr:delois-france   \n",
       "5                                                                                                                                                                                                                                                                                                                                                                        fr:delois-france   \n",
       "6                                                                                                                                                                                                                                                                                                                                                                               en:france   \n",
       "7                                                                                                                                                                                                                                                                                                                                                                                  France   \n",
       "8                                                                                                                                                                                                                                                                                                                                                                         en:eggs,en:milk   \n",
       "9                                                                                                                                                                                                                                                                                                                                                                               Eggs,Milk   \n",
       "10                                                                                                                                                                                                                                                                                                                                                                                    0.0   \n",
       "11                                                                                                                                                                                                                                                                                                                                                en:e296,en:e330,en:e552,en:e950,en:e955   \n",
       "12                                                                                                                                                                                                                                                                                      E296 - Malic acid,E330 - Citric acid,E552 - Calcium silicate,E950 - Acesulfame k,E955 - Sucralose   \n",
       "13  en:to-be-completed,en:nutrition-facts-to-be-completed,en:ingredients-to-be-completed,en:expiration-date-to-be-completed,en:packaging-code-to-be-completed,en:characteristics-to-be-completed,en:origins-to-be-completed,en:categories-to-be-completed,en:brands-completed,en:packaging-to-be-completed,en:quantity-to-be-completed,en:product-name-completed,en:photos-to-be-uploaded   \n",
       "14                                         To be completed,Nutrition facts to be completed,Ingredients to be completed,Expiration date to be completed,Packaging code to be completed,Characteristics to be completed,Origins to be completed,Categories to be completed,Brands completed,Packaging to be completed,Quantity to be completed,Product name completed,Photos to be uploaded   \n",
       "15                                                                                                                                                                                                                                                                                                                                                                            en:mustards   \n",
       "16                                                                                                                                                                                                                                                                                                                                                                               Mustards   \n",
       "\n",
       "       Raws Distinct  % distinct  Not NaN  % Not NaN      NaN  % NaN  \n",
       "0   2053679    72803        3.55   945141      46.02  1108538  53.98  \n",
       "1   2053679    72800        3.54   945141      46.02  1108538  53.98  \n",
       "2   2053679    11428        0.56    88160       4.29  1965519  95.71  \n",
       "3   2053679    11389        0.55    88160       4.29  1965519  95.71  \n",
       "4   2053679    60380        2.94   438458      21.35  1615221  78.65  \n",
       "5   2053679    60362        2.94   438458      21.35  1615221  78.65  \n",
       "6   2053679     4403        0.21  2047488      99.70     6191   0.30  \n",
       "7   2053679     4403        0.21  2047488      99.70     6191   0.30  \n",
       "8   2053679    12766        0.62   129529       6.31  1924150  93.69  \n",
       "9   2053679    12766        0.62   129529       6.31  1924150  93.69  \n",
       "10  2053679       40        0.00   732673      35.68  1321006  64.32  \n",
       "11  2053679   100577        4.90   423384      20.62  1630295  79.38  \n",
       "12  2053679   100577        4.90   423384      20.62  1630295  79.38  \n",
       "13  2053679     6210        0.30  2053679     100.00        0   0.00  \n",
       "14  2053679     6210        0.30  2053679     100.00        0   0.00  \n",
       "15  2053679    32887        1.60   945141      46.02  1108538  53.98  \n",
       "16  2053679    32885        1.60   945141      46.02  1108538  53.98  "
      ]
     },
     "execution_count": 59,
     "metadata": {},
     "output_type": "execute_result"
    }
   ],
   "source": [
    "describe_variables_light(openfoodfacts_tags.iloc[:,openfoodfacts_tags.columns.isin(liste_col_en)])"
   ]
  },
  {
   "cell_type": "code",
   "execution_count": 60,
   "id": "c93268b0",
   "metadata": {
    "hidden": true
   },
   "outputs": [
    {
     "data": {
      "image/png": "[encoded data removed]",
      "text/plain": [
       "<Figure size 1080x504 with 2 Axes>"
      ]
     },
     "metadata": {
      "needs_background": "light"
     },
     "output_type": "display_data"
    }
   ],
   "source": [
    "completion_distinct_plots(openfoodfacts_tags.iloc[:,openfoodfacts_tags.columns.isin(liste_col_en)])"
   ]
  },
  {
   "cell_type": "markdown",
   "id": "9a33ef1b",
   "metadata": {
    "hidden": true
   },
   "source": [
    "Nous remarquons que les variables ayant le même préfixe comportent le même % de NaN et de valeurs distinctes. Comme nous avons déjà précedemment supprimé les variables sans suffixe, il nous reste les variables se terminant par _tags et _en. Nous avons donc le choix de conserver soit l'une soit l'autre. Vérifions juste un exemple avant de choisir quelles variables supprimer."
   ]
  },
  {
   "cell_type": "code",
   "execution_count": 61,
   "id": "2c45ba1c",
   "metadata": {
    "hidden": true
   },
   "outputs": [
    {
     "data": {
      "text/html": [
       "<div>\n",
       "<style scoped>\n",
       "    .dataframe tbody tr th:only-of-type {\n",
       "        vertical-align: middle;\n",
       "    }\n",
       "\n",
       "    .dataframe tbody tr th {\n",
       "        vertical-align: top;\n",
       "    }\n",
       "\n",
       "    .dataframe thead th {\n",
       "        text-align: right;\n",
       "    }\n",
       "</style>\n",
       "<table border=\"1\" class=\"dataframe\">\n",
       "  <thead>\n",
       "    <tr style=\"text-align: right;\">\n",
       "      <th></th>\n",
       "      <th>categories_tags</th>\n",
       "      <th>categories_en</th>\n",
       "    </tr>\n",
       "  </thead>\n",
       "  <tbody>\n",
       "    <tr>\n",
       "      <th>435910</th>\n",
       "      <td>en:beverages,en:dried-products,en:dried-products-to-be-rehydrated,en:dehydrated-beverages</td>\n",
       "      <td>Beverages,Dried products,Dried products to be rehydrated,Dehydrated beverages</td>\n",
       "    </tr>\n",
       "    <tr>\n",
       "      <th>714033</th>\n",
       "      <td>en:plant-based-foods-and-beverages,en:plant-based-foods,en:groceries,en:condiments,en:seasonings</td>\n",
       "      <td>Plant-based foods and beverages,Plant-based foods,Groceries,Condiments,Seasonings</td>\n",
       "    </tr>\n",
       "    <tr>\n",
       "      <th>723221</th>\n",
       "      <td>en:meats,en:prepared-meats,en:fish-and-meat-and-eggs,en:offals,fr:boudins,en:tripe-dishes,fr:boudins-blancs,en:black-pudding,en:sauteed-black-pudding</td>\n",
       "      <td>Meats,Prepared meats,Fish and meat and eggs,Offals,fr:Boudins,Tripe dishes,fr:Boudins blancs,Black pudding,Sautéed black pudding</td>\n",
       "    </tr>\n",
       "    <tr>\n",
       "      <th>384980</th>\n",
       "      <td>en:plant-based-foods-and-beverages,en:plant-based-foods,en:snacks,en:salty-snacks,en:nuts-and-their-products,en:nuts,en:pistachios,en:salted-nuts,en:salted-pistachios</td>\n",
       "      <td>Plant-based foods and beverages,Plant-based foods,Snacks,Salty snacks,Nuts and their products,Nuts,Pistachios,Salted nuts,Salted pistachios</td>\n",
       "    </tr>\n",
       "    <tr>\n",
       "      <th>1785565</th>\n",
       "      <td>en:groceries,en:broths,en:liquid-broths</td>\n",
       "      <td>Groceries,Broths,Liquid broths</td>\n",
       "    </tr>\n",
       "    <tr>\n",
       "      <th>810779</th>\n",
       "      <td>en:plant-based-foods-and-beverages,en:beverages,en:plant-based-beverages,en:fruit-based-beverages,en:juices-and-nectars,en:fruit-juices,en:concentrated-fruit-juices,en:grapefruit-juices,en:squeezed-juices,en:concentrated-grapefruit-juices,en:squeezed-grapefruit-juices</td>\n",
       "      <td>Plant-based foods and beverages,Beverages,Plant-based beverages,Fruit-based beverages,Juices and nectars,Fruit juices,Concentrated fruit juices,Grapefruit juices,Squeezed juices,Concentrated grapefruit juices,Squeezed grapefruit juices</td>\n",
       "    </tr>\n",
       "    <tr>\n",
       "      <th>22430</th>\n",
       "      <td>en:snacks,en:sweet-snacks,en:biscuits-and-cakes,en:biscuits</td>\n",
       "      <td>Snacks,Sweet snacks,Biscuits and cakes,Biscuits</td>\n",
       "    </tr>\n",
       "    <tr>\n",
       "      <th>1088617</th>\n",
       "      <td>en:meals,en:prepared-vegetables</td>\n",
       "      <td>Meals,Prepared vegetables</td>\n",
       "    </tr>\n",
       "    <tr>\n",
       "      <th>1084090</th>\n",
       "      <td>en:beverages,en:alcoholic-beverages,en:wines</td>\n",
       "      <td>Beverages,Alcoholic beverages,Wines</td>\n",
       "    </tr>\n",
       "    <tr>\n",
       "      <th>733473</th>\n",
       "      <td>en:groceries,en:meats,en:beef,en:dried-products,en:cooking-helpers,en:dried-products-to-be-rehydrated,en:meat-preparations,en:sauces,en:beef-preparations,en:broths,en:dehydrated-broths,en:dehydrated-sauces,en:veal-stock</td>\n",
       "      <td>Groceries,Meats,Beef,Dried products,Cooking helpers,Dried products to be rehydrated,Meat preparations,Sauces,Beef preparations,Broths,Dehydrated broths,Dehydrated sauces,Veal stock</td>\n",
       "    </tr>\n",
       "  </tbody>\n",
       "</table>\n",
       "</div>"
      ],
      "text/plain": [
       "                                                                                                                                                                                                                                                                      categories_tags  \\\n",
       "435910                                                                                                                                                                                      en:beverages,en:dried-products,en:dried-products-to-be-rehydrated,en:dehydrated-beverages   \n",
       "714033                                                                                                                                                                               en:plant-based-foods-and-beverages,en:plant-based-foods,en:groceries,en:condiments,en:seasonings   \n",
       "723221                                                                                                                          en:meats,en:prepared-meats,en:fish-and-meat-and-eggs,en:offals,fr:boudins,en:tripe-dishes,fr:boudins-blancs,en:black-pudding,en:sauteed-black-pudding   \n",
       "384980                                                                                                         en:plant-based-foods-and-beverages,en:plant-based-foods,en:snacks,en:salty-snacks,en:nuts-and-their-products,en:nuts,en:pistachios,en:salted-nuts,en:salted-pistachios   \n",
       "1785565                                                                                                                                                                                                                                       en:groceries,en:broths,en:liquid-broths   \n",
       "810779   en:plant-based-foods-and-beverages,en:beverages,en:plant-based-beverages,en:fruit-based-beverages,en:juices-and-nectars,en:fruit-juices,en:concentrated-fruit-juices,en:grapefruit-juices,en:squeezed-juices,en:concentrated-grapefruit-juices,en:squeezed-grapefruit-juices   \n",
       "22430                                                                                                                                                                                                                     en:snacks,en:sweet-snacks,en:biscuits-and-cakes,en:biscuits   \n",
       "1088617                                                                                                                                                                                                                                               en:meals,en:prepared-vegetables   \n",
       "1084090                                                                                                                                                                                                                                  en:beverages,en:alcoholic-beverages,en:wines   \n",
       "733473                                                    en:groceries,en:meats,en:beef,en:dried-products,en:cooking-helpers,en:dried-products-to-be-rehydrated,en:meat-preparations,en:sauces,en:beef-preparations,en:broths,en:dehydrated-broths,en:dehydrated-sauces,en:veal-stock   \n",
       "\n",
       "                                                                                                                                                                                                                                       categories_en  \n",
       "435910                                                                                                                                                                 Beverages,Dried products,Dried products to be rehydrated,Dehydrated beverages  \n",
       "714033                                                                                                                                                             Plant-based foods and beverages,Plant-based foods,Groceries,Condiments,Seasonings  \n",
       "723221                                                                                                              Meats,Prepared meats,Fish and meat and eggs,Offals,fr:Boudins,Tripe dishes,fr:Boudins blancs,Black pudding,Sautéed black pudding  \n",
       "384980                                                                                                   Plant-based foods and beverages,Plant-based foods,Snacks,Salty snacks,Nuts and their products,Nuts,Pistachios,Salted nuts,Salted pistachios  \n",
       "1785565                                                                                                                                                                                                               Groceries,Broths,Liquid broths  \n",
       "810779   Plant-based foods and beverages,Beverages,Plant-based beverages,Fruit-based beverages,Juices and nectars,Fruit juices,Concentrated fruit juices,Grapefruit juices,Squeezed juices,Concentrated grapefruit juices,Squeezed grapefruit juices  \n",
       "22430                                                                                                                                                                                                Snacks,Sweet snacks,Biscuits and cakes,Biscuits  \n",
       "1088617                                                                                                                                                                                                                    Meals,Prepared vegetables  \n",
       "1084090                                                                                                                                                                                                          Beverages,Alcoholic beverages,Wines  \n",
       "733473                                                          Groceries,Meats,Beef,Dried products,Cooking helpers,Dried products to be rehydrated,Meat preparations,Sauces,Beef preparations,Broths,Dehydrated broths,Dehydrated sauces,Veal stock  "
      ]
     },
     "execution_count": 61,
     "metadata": {},
     "output_type": "execute_result"
    }
   ],
   "source": [
    "openfoodfacts_tags[~openfoodfacts_tags['categories_tags'].isnull()][['categories_tags', 'categories_en']].sample(10)"
   ]
  },
  {
   "cell_type": "markdown",
   "id": "bed81de9",
   "metadata": {
    "hidden": true
   },
   "source": [
    "Les modalités étant plus lisibles et harmonisées dans les colonnes se terminant par _en, supprimons les colonnes _tags."
   ]
  },
  {
   "cell_type": "code",
   "execution_count": 62,
   "id": "60ef743b",
   "metadata": {
    "hidden": true
   },
   "outputs": [
    {
     "name": "stdout",
     "output_type": "stream",
     "text": [
      "Liste des variables à supprimer: \n",
      "\n",
      " ['categories_tags', 'origins_tags', 'labels_tags', 'countries_tags', 'traces_tags', 'additives_tags', 'states_tags']\n"
     ]
    }
   ],
   "source": [
    "liste_col_suppr = openfoodfacts_tags.iloc[:,(openfoodfacts_tags.columns.isin(liste_col_en)) & \n",
    "                                        (openfoodfacts_tags.columns.str.endswith('_tags'))].columns.unique().tolist()\n",
    "print(f\"Liste des variables à supprimer: \\n\\n {liste_col_suppr}\")"
   ]
  },
  {
   "cell_type": "code",
   "execution_count": 63,
   "id": "88af078f",
   "metadata": {
    "hidden": true
   },
   "outputs": [
    {
     "name": "stdout",
     "output_type": "stream",
     "text": [
      "Nombre de lignes: 2053679\n",
      "Nombre de variables: 130\n"
     ]
    }
   ],
   "source": [
    "# Suppression des variables avec suffixe _tags\n",
    "openfoodfacts_en = openfoodfacts_tags.drop(liste_col_suppr, axis = 'columns', inplace = False)\n",
    "\n",
    "print(f\"Nombre de lignes: {openfoodfacts_en.shape[0]}\\nNombre de variables: {openfoodfacts_en.shape[1]}\")"
   ]
  },
  {
   "cell_type": "markdown",
   "id": "6c444b73",
   "metadata": {
    "heading_collapsed": true
   },
   "source": [
    "### url / image"
   ]
  },
  {
   "cell_type": "markdown",
   "id": "451c5ca6",
   "metadata": {
    "hidden": true
   },
   "source": [
    "Ces variables indiquent les urls et les images des produits et n'apportent aucune information. Supprimons les."
   ]
  },
  {
   "cell_type": "code",
   "execution_count": 64,
   "id": "5eecfbc9",
   "metadata": {
    "hidden": true
   },
   "outputs": [
    {
     "name": "stdout",
     "output_type": "stream",
     "text": [
      "Liste des variables url à supprimer: \n",
      "\n",
      " ['url', 'image_url', 'image_small_url', 'image_ingredients_url', 'image_ingredients_small_url', 'image_nutrition_url', 'image_nutrition_small_url']\n"
     ]
    }
   ],
   "source": [
    "liste_col_url = openfoodfacts_en.iloc[:,openfoodfacts_en.columns.str.contains('url|image')].columns.unique().tolist()\n",
    "print(f\"Liste des variables url à supprimer: \\n\\n {liste_col_url}\")"
   ]
  },
  {
   "cell_type": "code",
   "execution_count": 65,
   "id": "14fa1855",
   "metadata": {
    "hidden": true
   },
   "outputs": [
    {
     "name": "stdout",
     "output_type": "stream",
     "text": [
      "Nombre de lignes: 2053679\n",
      "Nombre de variables: 123\n"
     ]
    }
   ],
   "source": [
    "# Suppression des variables contenant les mot url ou image\n",
    "openfoodfacts_en.drop(liste_col_url, axis = 'columns', inplace = True)\n",
    "print(f\"Nombre de lignes: {openfoodfacts_en.shape[0]}\\nNombre de variables: {openfoodfacts_en.shape[1]}\")"
   ]
  },
  {
   "cell_type": "markdown",
   "id": "143130d2",
   "metadata": {
    "heading_collapsed": true
   },
   "source": [
    "### ingredients"
   ]
  },
  {
   "cell_type": "code",
   "execution_count": 66,
   "id": "c60ee4c3",
   "metadata": {
    "hidden": true
   },
   "outputs": [],
   "source": [
    "def check_redundancy(dataframe, keyword):\n",
    "    ''' Fonction qui renseigne sur les principales statistiques des variables contenant le mot saisi en entrée.'''\n",
    "    liste = dataframe.iloc[:,dataframe.columns.str.contains(keyword)].columns.unique().tolist()\n",
    "    describe = describe_variables_light(dataframe[liste])\n",
    "    return describe"
   ]
  },
  {
   "cell_type": "code",
   "execution_count": 67,
   "id": "adc24fc8",
   "metadata": {
    "hidden": true
   },
   "outputs": [],
   "source": [
    "def modalities_no_NaN(dataframe, keyword):\n",
    "    ''' Fonction qui renvoie 5 exemples non nuls des variables contenant le mot saisi en entrée'''\n",
    "    liste_col = check_redundancy(dataframe, keyword)['Variable name'].tolist()\n",
    "    return dataframe[dataframe[liste_col].notnull().all(1)][liste_col].sample(5)"
   ]
  },
  {
   "cell_type": "code",
   "execution_count": 68,
   "id": "541718c6",
   "metadata": {
    "hidden": true
   },
   "outputs": [],
   "source": [
    "def check_redundancy_steps(dataframe, mot_clef):\n",
    "    ''' Fonction qui renvoie 2 dataframes: \n",
    "    tab_desc qui renseigne sur les principales  statistiques des variables contenant le mot saisi en entrée\n",
    "    tab_modalities qui renvoie 5 exemples non nuls des variables contenant le mot saisi en entrée'''\n",
    "    tab_desc = check_redundancy(dataframe, mot_clef)\n",
    "    tab_modalities = modalities_no_NaN(dataframe, mot_clef)\n",
    "    return tab_desc, tab_modalities"
   ]
  },
  {
   "cell_type": "code",
   "execution_count": 69,
   "id": "d3ab6eee",
   "metadata": {
    "hidden": true
   },
   "outputs": [],
   "source": [
    "tab_desc, tab_modalities = check_redundancy_steps(openfoodfacts_en, 'ingredients')"
   ]
  },
  {
   "cell_type": "code",
   "execution_count": 70,
   "id": "63bf683e",
   "metadata": {
    "hidden": true
   },
   "outputs": [
    {
     "data": {
      "text/html": [
       "<div>\n",
       "<style scoped>\n",
       "    .dataframe tbody tr th:only-of-type {\n",
       "        vertical-align: middle;\n",
       "    }\n",
       "\n",
       "    .dataframe tbody tr th {\n",
       "        vertical-align: top;\n",
       "    }\n",
       "\n",
       "    .dataframe thead th {\n",
       "        text-align: right;\n",
       "    }\n",
       "</style>\n",
       "<table border=\"1\" class=\"dataframe\">\n",
       "  <thead>\n",
       "    <tr style=\"text-align: right;\">\n",
       "      <th></th>\n",
       "      <th>Variable name</th>\n",
       "      <th>Variable type</th>\n",
       "      <th>Example</th>\n",
       "      <th>Raws</th>\n",
       "      <th>Distinct</th>\n",
       "      <th>% distinct</th>\n",
       "      <th>Not NaN</th>\n",
       "      <th>% Not NaN</th>\n",
       "      <th>NaN</th>\n",
       "      <th>% NaN</th>\n",
       "    </tr>\n",
       "  </thead>\n",
       "  <tbody>\n",
       "    <tr>\n",
       "      <th>0</th>\n",
       "      <td>ingredients_text</td>\n",
       "      <td>object</td>\n",
       "      <td>Leche semidesnatada, azucar 6.9% leche desnatada en polva, fermentos lacticos (contiene Lactobacidus casei), vitaminas (B6 y D).</td>\n",
       "      <td>2053679</td>\n",
       "      <td>616705</td>\n",
       "      <td>30.03</td>\n",
       "      <td>732671</td>\n",
       "      <td>35.68</td>\n",
       "      <td>1321008</td>\n",
       "      <td>64.32</td>\n",
       "    </tr>\n",
       "    <tr>\n",
       "      <th>1</th>\n",
       "      <td>ingredients_from_palm_oil_n</td>\n",
       "      <td>float64</td>\n",
       "      <td>0.0</td>\n",
       "      <td>2053679</td>\n",
       "      <td>4</td>\n",
       "      <td>0.00</td>\n",
       "      <td>732673</td>\n",
       "      <td>35.68</td>\n",
       "      <td>1321006</td>\n",
       "      <td>64.32</td>\n",
       "    </tr>\n",
       "    <tr>\n",
       "      <th>2</th>\n",
       "      <td>ingredients_from_palm_oil_tags</td>\n",
       "      <td>object</td>\n",
       "      <td>huile-de-palme</td>\n",
       "      <td>2053679</td>\n",
       "      <td>16</td>\n",
       "      <td>0.00</td>\n",
       "      <td>14505</td>\n",
       "      <td>0.71</td>\n",
       "      <td>2039174</td>\n",
       "      <td>99.29</td>\n",
       "    </tr>\n",
       "    <tr>\n",
       "      <th>3</th>\n",
       "      <td>ingredients_that_may_be_from_palm_oil_n</td>\n",
       "      <td>float64</td>\n",
       "      <td>0.0</td>\n",
       "      <td>2053679</td>\n",
       "      <td>7</td>\n",
       "      <td>0.00</td>\n",
       "      <td>732673</td>\n",
       "      <td>35.68</td>\n",
       "      <td>1321006</td>\n",
       "      <td>64.32</td>\n",
       "    </tr>\n",
       "    <tr>\n",
       "      <th>4</th>\n",
       "      <td>ingredients_that_may_be_from_palm_oil_tags</td>\n",
       "      <td>object</td>\n",
       "      <td>e481-stearoyl-2-lactylate-de-sodium,e472e-ester-monoacethyltartrique-de-mono-et-diglycerides-d-acides-gras,e472b-ester-diacetyl-lactique-de-mono-et-diglycerides-d-acides-gras</td>\n",
       "      <td>2053679</td>\n",
       "      <td>350</td>\n",
       "      <td>0.02</td>\n",
       "      <td>43295</td>\n",
       "      <td>2.11</td>\n",
       "      <td>2010384</td>\n",
       "      <td>97.89</td>\n",
       "    </tr>\n",
       "    <tr>\n",
       "      <th>5</th>\n",
       "      <td>fruits-vegetables-nuts-estimate-from-ingredients_100g</td>\n",
       "      <td>float32</td>\n",
       "      <td>0.0</td>\n",
       "      <td>2053679</td>\n",
       "      <td>7644</td>\n",
       "      <td>0.37</td>\n",
       "      <td>731230</td>\n",
       "      <td>35.61</td>\n",
       "      <td>1322449</td>\n",
       "      <td>64.39</td>\n",
       "    </tr>\n",
       "  </tbody>\n",
       "</table>\n",
       "</div>"
      ],
      "text/plain": [
       "                                           Variable name Variable type  \\\n",
       "0                                       ingredients_text        object   \n",
       "1                            ingredients_from_palm_oil_n       float64   \n",
       "2                         ingredients_from_palm_oil_tags        object   \n",
       "3                ingredients_that_may_be_from_palm_oil_n       float64   \n",
       "4             ingredients_that_may_be_from_palm_oil_tags        object   \n",
       "5  fruits-vegetables-nuts-estimate-from-ingredients_100g       float32   \n",
       "\n",
       "                                                                                                                                                                          Example  \\\n",
       "0                                                Leche semidesnatada, azucar 6.9% leche desnatada en polva, fermentos lacticos (contiene Lactobacidus casei), vitaminas (B6 y D).   \n",
       "1                                                                                                                                                                             0.0   \n",
       "2                                                                                                                                                                  huile-de-palme   \n",
       "3                                                                                                                                                                             0.0   \n",
       "4  e481-stearoyl-2-lactylate-de-sodium,e472e-ester-monoacethyltartrique-de-mono-et-diglycerides-d-acides-gras,e472b-ester-diacetyl-lactique-de-mono-et-diglycerides-d-acides-gras   \n",
       "5                                                                                                                                                                             0.0   \n",
       "\n",
       "      Raws Distinct  % distinct Not NaN  % Not NaN      NaN  % NaN  \n",
       "0  2053679   616705       30.03  732671      35.68  1321008  64.32  \n",
       "1  2053679        4        0.00  732673      35.68  1321006  64.32  \n",
       "2  2053679       16        0.00   14505       0.71  2039174  99.29  \n",
       "3  2053679        7        0.00  732673      35.68  1321006  64.32  \n",
       "4  2053679      350        0.02   43295       2.11  2010384  97.89  \n",
       "5  2053679     7644        0.37  731230      35.61  1322449  64.39  "
      ]
     },
     "execution_count": 70,
     "metadata": {},
     "output_type": "execute_result"
    }
   ],
   "source": [
    "tab_desc"
   ]
  },
  {
   "cell_type": "code",
   "execution_count": 71,
   "id": "cbf1b3a6",
   "metadata": {
    "hidden": true
   },
   "outputs": [
    {
     "data": {
      "text/html": [
       "<div>\n",
       "<style scoped>\n",
       "    .dataframe tbody tr th:only-of-type {\n",
       "        vertical-align: middle;\n",
       "    }\n",
       "\n",
       "    .dataframe tbody tr th {\n",
       "        vertical-align: top;\n",
       "    }\n",
       "\n",
       "    .dataframe thead th {\n",
       "        text-align: right;\n",
       "    }\n",
       "</style>\n",
       "<table border=\"1\" class=\"dataframe\">\n",
       "  <thead>\n",
       "    <tr style=\"text-align: right;\">\n",
       "      <th></th>\n",
       "      <th>ingredients_text</th>\n",
       "      <th>ingredients_from_palm_oil_n</th>\n",
       "      <th>ingredients_from_palm_oil_tags</th>\n",
       "      <th>ingredients_that_may_be_from_palm_oil_n</th>\n",
       "      <th>ingredients_that_may_be_from_palm_oil_tags</th>\n",
       "      <th>fruits-vegetables-nuts-estimate-from-ingredients_100g</th>\n",
       "    </tr>\n",
       "  </thead>\n",
       "  <tbody>\n",
       "    <tr>\n",
       "      <th>1321284</th>\n",
       "      <td>sucre, _cacahuètes_, pâte de cacao, lait écrémé en poudre, _lactose_ et _protéines de lait_, beurre de cacao(cocoa), matière grasse de palme, matière grasse du lait, amidon, sirop de glucose, lactose, matière grasse de karité, stabilisant (gomme arabique), émulsifiant (_lécithine de soja_), colorants (e100, e120, e133, e160a, e160e, e171), dextrine, agent d'enrobage (cire de carnauba), huile de noix de coco, sel, arômes. (peut contenir_: noisette_, _amande_).</td>\n",
       "      <td>1.0</td>\n",
       "      <td>huile-de-palme</td>\n",
       "      <td>1.0</td>\n",
       "      <td>e160a-beta-carotene</td>\n",
       "      <td>0.0</td>\n",
       "    </tr>\n",
       "    <tr>\n",
       "      <th>1581322</th>\n",
       "      <td>Sucre, graisse végétales (palme, karité), œufs, sirop de glucose-fructose, farine de blé 11%, chocolat en poudre 6%(sucre, cacao en poudre), stabilisant (glycérol), chocolat noir 3,5% (pâte de cacao, sucre, émulsifiant (lécithine de soja), arôme), margarine (huiles végétales (palme, colza), eau, émulsifiant (E471), correcteur d'acidité (citrate de sodium), acidifiant (acide citrique), colorant (bêta-carotène), cacao maigre en poudre, purée de pomme, dextrose, purée de framboises 1,1 %, arômes (contient alcool), lactosérum en poudre (de lait), purée de framboise concentrée 0,5 % (équivalent framboises 2,1 %), émulsifiants (lécithine de soja, E472b, E475, E476, lécithine de tournesol), gélifiants (pectine, gomme xanthane), sirop de glucose, poudre à lever (diphosphate disodique, carbonates de sodium), jus de framboises concentré 0,2% (équivalent jus de framboise 1,8 %), sel, correcteurs d'acidité (acide citrique, acide malique, citrates de calcium, citrates de sodium), lait écrémé en poudre, jus de baies de sureau concentré, colorants (E120).</td>\n",
       "      <td>1.0</td>\n",
       "      <td>huile-de-palme</td>\n",
       "      <td>3.0</td>\n",
       "      <td>e471-mono-et-diglycerides-d-acides-gras-alimentaires,e160a-beta-carotene,e472b-ester-diacetyl-lactique-de-mono-et-diglycerides-d-acides-gras</td>\n",
       "      <td>1.8</td>\n",
       "    </tr>\n",
       "    <tr>\n",
       "      <th>1582359</th>\n",
       "      <td>Farine de blé 96,4 %, huile de palme, sucre, levure, sel, émulsifiants (E471, E481), agent de traitement de la farine (acide ascorbique).</td>\n",
       "      <td>1.0</td>\n",
       "      <td>huile-de-palme</td>\n",
       "      <td>2.0</td>\n",
       "      <td>e471-mono-et-diglycerides-d-acides-gras-alimentaires,e481-stearoyl-2-lactylate-de-sodium</td>\n",
       "      <td>0.0</td>\n",
       "    </tr>\n",
       "    <tr>\n",
       "      <th>1560366</th>\n",
       "      <td>eau, _lait_ écrémé réhydraté, sucre, huiles végétales (coco, palme, colza en proportion variable), farine de _blé_, sirop de glucose, _lactose_ et protéines de _lait_, cacao maigre, chocolat en poudre (1,9%) (sucre, cacao), _amandes_ (0,8%), émulsifiants (lécithines (_soja_), mono - et diglycérides d'acides gras), pâte de _pistaches_ (0,4%), stabilisants (gomme guar, farine de graines de caroube, E407a), colorants (caramel ordinaire, E141, riboflavines), arômes naturels, sel.</td>\n",
       "      <td>1.0</td>\n",
       "      <td>huile-de-palme</td>\n",
       "      <td>1.0</td>\n",
       "      <td>e471-mono-et-diglycerides-d-acides-gras-alimentaires</td>\n",
       "      <td>3.1</td>\n",
       "    </tr>\n",
       "    <tr>\n",
       "      <th>766571</th>\n",
       "      <td>Farine de blé, sucre, graisse de palme, lait écrémé en poudre, poudres à lever (carbonates d'ammonium et de sodium, diphosphates), sel, poudre de lactosérum, émulsifiant : E472e, arôme, agent de traitement de la farine : disulfite de sodium.</td>\n",
       "      <td>1.0</td>\n",
       "      <td>huile-de-palme</td>\n",
       "      <td>1.0</td>\n",
       "      <td>e472e-ester-monoacethyltartrique-de-mono-et-diglycerides-d-acides-gras</td>\n",
       "      <td>0.0</td>\n",
       "    </tr>\n",
       "  </tbody>\n",
       "</table>\n",
       "</div>"
      ],
      "text/plain": [
       "                                                                                                                                                                                                                                                                                                                                                                                                                                                                                                                                                                                                                                                                                                                                                                                                                                                                                                                                                                                                                                                                                         ingredients_text  \\\n",
       "1321284                                                                                                                                                                                                                                                                                                                                                                                                                                                                                                                                                                                                                   sucre, _cacahuètes_, pâte de cacao, lait écrémé en poudre, _lactose_ et _protéines de lait_, beurre de cacao(cocoa), matière grasse de palme, matière grasse du lait, amidon, sirop de glucose, lactose, matière grasse de karité, stabilisant (gomme arabique), émulsifiant (_lécithine de soja_), colorants (e100, e120, e133, e160a, e160e, e171), dextrine, agent d'enrobage (cire de carnauba), huile de noix de coco, sel, arômes. (peut contenir_: noisette_, _amande_).   \n",
       "1581322  Sucre, graisse végétales (palme, karité), œufs, sirop de glucose-fructose, farine de blé 11%, chocolat en poudre 6%(sucre, cacao en poudre), stabilisant (glycérol), chocolat noir 3,5% (pâte de cacao, sucre, émulsifiant (lécithine de soja), arôme), margarine (huiles végétales (palme, colza), eau, émulsifiant (E471), correcteur d'acidité (citrate de sodium), acidifiant (acide citrique), colorant (bêta-carotène), cacao maigre en poudre, purée de pomme, dextrose, purée de framboises 1,1 %, arômes (contient alcool), lactosérum en poudre (de lait), purée de framboise concentrée 0,5 % (équivalent framboises 2,1 %), émulsifiants (lécithine de soja, E472b, E475, E476, lécithine de tournesol), gélifiants (pectine, gomme xanthane), sirop de glucose, poudre à lever (diphosphate disodique, carbonates de sodium), jus de framboises concentré 0,2% (équivalent jus de framboise 1,8 %), sel, correcteurs d'acidité (acide citrique, acide malique, citrates de calcium, citrates de sodium), lait écrémé en poudre, jus de baies de sureau concentré, colorants (E120).   \n",
       "1582359                                                                                                                                                                                                                                                                                                                                                                                                                                                                                                                                                                                                                                                                                                                                                                                                                                                                                                                                                         Farine de blé 96,4 %, huile de palme, sucre, levure, sel, émulsifiants (E471, E481), agent de traitement de la farine (acide ascorbique).   \n",
       "1560366                                                                                                                                                                                                                                                                                                                                                                                                                                                                                                                                                                                                  eau, _lait_ écrémé réhydraté, sucre, huiles végétales (coco, palme, colza en proportion variable), farine de _blé_, sirop de glucose, _lactose_ et protéines de _lait_, cacao maigre, chocolat en poudre (1,9%) (sucre, cacao), _amandes_ (0,8%), émulsifiants (lécithines (_soja_), mono - et diglycérides d'acides gras), pâte de _pistaches_ (0,4%), stabilisants (gomme guar, farine de graines de caroube, E407a), colorants (caramel ordinaire, E141, riboflavines), arômes naturels, sel.   \n",
       "766571                                                                                                                                                                                                                                                                                                                                                                                                                                                                                                                                                                                                                                                                                                                                                                                                                                                  Farine de blé, sucre, graisse de palme, lait écrémé en poudre, poudres à lever (carbonates d'ammonium et de sodium, diphosphates), sel, poudre de lactosérum, émulsifiant : E472e, arôme, agent de traitement de la farine : disulfite de sodium.   \n",
       "\n",
       "         ingredients_from_palm_oil_n ingredients_from_palm_oil_tags  \\\n",
       "1321284                          1.0                 huile-de-palme   \n",
       "1581322                          1.0                 huile-de-palme   \n",
       "1582359                          1.0                 huile-de-palme   \n",
       "1560366                          1.0                 huile-de-palme   \n",
       "766571                           1.0                 huile-de-palme   \n",
       "\n",
       "         ingredients_that_may_be_from_palm_oil_n  \\\n",
       "1321284                                      1.0   \n",
       "1581322                                      3.0   \n",
       "1582359                                      2.0   \n",
       "1560366                                      1.0   \n",
       "766571                                       1.0   \n",
       "\n",
       "                                                                                                           ingredients_that_may_be_from_palm_oil_tags  \\\n",
       "1321284                                                                                                                           e160a-beta-carotene   \n",
       "1581322  e471-mono-et-diglycerides-d-acides-gras-alimentaires,e160a-beta-carotene,e472b-ester-diacetyl-lactique-de-mono-et-diglycerides-d-acides-gras   \n",
       "1582359                                                      e471-mono-et-diglycerides-d-acides-gras-alimentaires,e481-stearoyl-2-lactylate-de-sodium   \n",
       "1560366                                                                                          e471-mono-et-diglycerides-d-acides-gras-alimentaires   \n",
       "766571                                                                         e472e-ester-monoacethyltartrique-de-mono-et-diglycerides-d-acides-gras   \n",
       "\n",
       "         fruits-vegetables-nuts-estimate-from-ingredients_100g  \n",
       "1321284                                                    0.0  \n",
       "1581322                                                    1.8  \n",
       "1582359                                                    0.0  \n",
       "1560366                                                    3.1  \n",
       "766571                                                     0.0  "
      ]
     },
     "execution_count": 71,
     "metadata": {},
     "output_type": "execute_result"
    }
   ],
   "source": [
    "tab_modalities"
   ]
  },
  {
   "cell_type": "markdown",
   "id": "113d5ecc",
   "metadata": {
    "hidden": true
   },
   "source": [
    "Nous pouvons remarquer que la variable ingredients_text contient un grand nombre de modalités et 64.32% de valeurs manquantes. \n",
    "\n",
    "Nous pouvons également voir que 4 variables comportent la mention palm_oil dont 2 variables qui se terminent par _n indiquent le nombre d'ingrédients contenant de l'huile de palme. \n",
    "\n",
    "Les 2 variables ingredients_from_palm_oil_tags et ingredients_that_may_be_from_palm_oil_tags ont un pourcentage très élevé de valeurs manquantes et semblent redondantes avec les variables numériques, qui si supérieures à 0, indiquent la présence d'huile de palme ou assimilé. Nous décidons de les supprimer."
   ]
  },
  {
   "cell_type": "code",
   "execution_count": 72,
   "id": "a93ae63d",
   "metadata": {
    "hidden": true
   },
   "outputs": [
    {
     "name": "stdout",
     "output_type": "stream",
     "text": [
      "Nombre de lignes: 2053679\n",
      "Nombre de variables: 121\n"
     ]
    }
   ],
   "source": [
    "# Suppression des variables ingredients_from_palm_oil_tags et ingredients_that_may_be_from_palm_oil_tags\n",
    "openfoodfacts_en.drop(['ingredients_from_palm_oil_tags', 'ingredients_that_may_be_from_palm_oil_tags'],\n",
    "                        axis = 'columns',\n",
    "                        inplace = True)\n",
    "print(f\"Nombre de lignes: {openfoodfacts_en.shape[0]}\\nNombre de variables: {openfoodfacts_en.shape[1]}\")"
   ]
  },
  {
   "cell_type": "markdown",
   "id": "4b363e75",
   "metadata": {},
   "source": [
    "## Autres variables <a class=\"anchor\" id=\"misc\"></a>"
   ]
  },
  {
   "cell_type": "markdown",
   "id": "1116fc43",
   "metadata": {},
   "source": [
    "La nomenclature des variables nous donne d'autres informations. Elle se trouve à l'adresse: https://static.openfoodfacts.org/data/data-fields.txt"
   ]
  },
  {
   "cell_type": "markdown",
   "id": "5ef529d3",
   "metadata": {
    "heading_collapsed": true
   },
   "source": [
    "### Variables de localisation <a class=\"anchor\" id=\"localisation\"></a>"
   ]
  },
  {
   "cell_type": "markdown",
   "id": "56ea4630",
   "metadata": {
    "heading_collapsed": true,
    "hidden": true
   },
   "source": [
    "#### places"
   ]
  },
  {
   "cell_type": "code",
   "execution_count": 73,
   "id": "495ed88f",
   "metadata": {
    "hidden": true
   },
   "outputs": [],
   "source": [
    "tab_desc, tab_modalities = check_redundancy_steps(openfoodfacts_en, 'places')"
   ]
  },
  {
   "cell_type": "code",
   "execution_count": 74,
   "id": "6255e057",
   "metadata": {
    "hidden": true
   },
   "outputs": [
    {
     "data": {
      "text/html": [
       "<div>\n",
       "<style scoped>\n",
       "    .dataframe tbody tr th:only-of-type {\n",
       "        vertical-align: middle;\n",
       "    }\n",
       "\n",
       "    .dataframe tbody tr th {\n",
       "        vertical-align: top;\n",
       "    }\n",
       "\n",
       "    .dataframe thead th {\n",
       "        text-align: right;\n",
       "    }\n",
       "</style>\n",
       "<table border=\"1\" class=\"dataframe\">\n",
       "  <thead>\n",
       "    <tr style=\"text-align: right;\">\n",
       "      <th></th>\n",
       "      <th>Variable name</th>\n",
       "      <th>Variable type</th>\n",
       "      <th>Example</th>\n",
       "      <th>Raws</th>\n",
       "      <th>Distinct</th>\n",
       "      <th>% distinct</th>\n",
       "      <th>Not NaN</th>\n",
       "      <th>% Not NaN</th>\n",
       "      <th>NaN</th>\n",
       "      <th>% NaN</th>\n",
       "    </tr>\n",
       "  </thead>\n",
       "  <tbody>\n",
       "    <tr>\n",
       "      <th>0</th>\n",
       "      <td>manufacturing_places_tags</td>\n",
       "      <td>object</td>\n",
       "      <td>benivay-ollon</td>\n",
       "      <td>2053679</td>\n",
       "      <td>25973</td>\n",
       "      <td>1.26</td>\n",
       "      <td>128364</td>\n",
       "      <td>6.25</td>\n",
       "      <td>1925315</td>\n",
       "      <td>93.75</td>\n",
       "    </tr>\n",
       "    <tr>\n",
       "      <th>1</th>\n",
       "      <td>purchase_places</td>\n",
       "      <td>object</td>\n",
       "      <td>France</td>\n",
       "      <td>2053679</td>\n",
       "      <td>11361</td>\n",
       "      <td>0.55</td>\n",
       "      <td>161431</td>\n",
       "      <td>7.86</td>\n",
       "      <td>1892248</td>\n",
       "      <td>92.14</td>\n",
       "    </tr>\n",
       "  </tbody>\n",
       "</table>\n",
       "</div>"
      ],
      "text/plain": [
       "               Variable name Variable type        Example     Raws Distinct  \\\n",
       "0  manufacturing_places_tags        object  benivay-ollon  2053679    25973   \n",
       "1            purchase_places        object         France  2053679    11361   \n",
       "\n",
       "   % distinct Not NaN  % Not NaN      NaN  % NaN  \n",
       "0        1.26  128364       6.25  1925315  93.75  \n",
       "1        0.55  161431       7.86  1892248  92.14  "
      ]
     },
     "execution_count": 74,
     "metadata": {},
     "output_type": "execute_result"
    }
   ],
   "source": [
    "tab_desc"
   ]
  },
  {
   "cell_type": "code",
   "execution_count": 75,
   "id": "6b7dcd93",
   "metadata": {
    "hidden": true
   },
   "outputs": [
    {
     "data": {
      "text/html": [
       "<div>\n",
       "<style scoped>\n",
       "    .dataframe tbody tr th:only-of-type {\n",
       "        vertical-align: middle;\n",
       "    }\n",
       "\n",
       "    .dataframe tbody tr th {\n",
       "        vertical-align: top;\n",
       "    }\n",
       "\n",
       "    .dataframe thead th {\n",
       "        text-align: right;\n",
       "    }\n",
       "</style>\n",
       "<table border=\"1\" class=\"dataframe\">\n",
       "  <thead>\n",
       "    <tr style=\"text-align: right;\">\n",
       "      <th></th>\n",
       "      <th>manufacturing_places_tags</th>\n",
       "      <th>purchase_places</th>\n",
       "    </tr>\n",
       "  </thead>\n",
       "  <tbody>\n",
       "    <tr>\n",
       "      <th>863304</th>\n",
       "      <td>france</td>\n",
       "      <td>France</td>\n",
       "    </tr>\n",
       "    <tr>\n",
       "      <th>1890506</th>\n",
       "      <td>murcia,spanien</td>\n",
       "      <td>Wiesbaden,Deutschland</td>\n",
       "    </tr>\n",
       "    <tr>\n",
       "      <th>782198</th>\n",
       "      <td>fruite-groupe-britvic-389-rue-ingenieur-sansoube-zi-les-afforets-74800-la-roche-sur-foron,haute-savoie,auvergne-rhone-alpes,france</td>\n",
       "      <td>France</td>\n",
       "    </tr>\n",
       "    <tr>\n",
       "      <th>1892202</th>\n",
       "      <td>italia</td>\n",
       "      <td>España</td>\n",
       "    </tr>\n",
       "    <tr>\n",
       "      <th>988629</th>\n",
       "      <td>pays-bas</td>\n",
       "      <td>France</td>\n",
       "    </tr>\n",
       "  </tbody>\n",
       "</table>\n",
       "</div>"
      ],
      "text/plain": [
       "                                                                                                                  manufacturing_places_tags  \\\n",
       "863304                                                                                                                               france   \n",
       "1890506                                                                                                                      murcia,spanien   \n",
       "782198   fruite-groupe-britvic-389-rue-ingenieur-sansoube-zi-les-afforets-74800-la-roche-sur-foron,haute-savoie,auvergne-rhone-alpes,france   \n",
       "1892202                                                                                                                              italia   \n",
       "988629                                                                                                                             pays-bas   \n",
       "\n",
       "               purchase_places  \n",
       "863304                  France  \n",
       "1890506  Wiesbaden,Deutschland  \n",
       "782198                  France  \n",
       "1892202                 España  \n",
       "988629                  France  "
      ]
     },
     "execution_count": 75,
     "metadata": {},
     "output_type": "execute_result"
    }
   ],
   "source": [
    "tab_modalities"
   ]
  },
  {
   "cell_type": "markdown",
   "id": "bb60f878",
   "metadata": {
    "hidden": true
   },
   "source": [
    "Ces variables étant très peu alimentées (plus de 90% de NaN), supprimons les."
   ]
  },
  {
   "cell_type": "code",
   "execution_count": 76,
   "id": "1b5d631f",
   "metadata": {
    "hidden": true
   },
   "outputs": [
    {
     "name": "stdout",
     "output_type": "stream",
     "text": [
      "Nombre de lignes: 2053679\n",
      "Nombre de variables: 119\n"
     ]
    }
   ],
   "source": [
    "# Suppression des variables\n",
    "openfoodfacts_en.drop(tab_modalities.columns, axis = 'columns', inplace = True)\n",
    "print(f\"Nombre de lignes: {openfoodfacts_en.shape[0]}\\nNombre de variables: {openfoodfacts_en.shape[1]}\")"
   ]
  },
  {
   "cell_type": "markdown",
   "id": "7f432f87",
   "metadata": {
    "heading_collapsed": true,
    "hidden": true
   },
   "source": [
    "#### countries_en"
   ]
  },
  {
   "cell_type": "code",
   "execution_count": 77,
   "id": "cacd5a9d",
   "metadata": {
    "hidden": true
   },
   "outputs": [],
   "source": [
    "tab_desc, tab_modalities = check_redundancy_steps(openfoodfacts_en, 'countries_en')"
   ]
  },
  {
   "cell_type": "code",
   "execution_count": 78,
   "id": "47927e25",
   "metadata": {
    "hidden": true
   },
   "outputs": [
    {
     "data": {
      "text/html": [
       "<div>\n",
       "<style scoped>\n",
       "    .dataframe tbody tr th:only-of-type {\n",
       "        vertical-align: middle;\n",
       "    }\n",
       "\n",
       "    .dataframe tbody tr th {\n",
       "        vertical-align: top;\n",
       "    }\n",
       "\n",
       "    .dataframe thead th {\n",
       "        text-align: right;\n",
       "    }\n",
       "</style>\n",
       "<table border=\"1\" class=\"dataframe\">\n",
       "  <thead>\n",
       "    <tr style=\"text-align: right;\">\n",
       "      <th></th>\n",
       "      <th>Variable name</th>\n",
       "      <th>Variable type</th>\n",
       "      <th>Example</th>\n",
       "      <th>Raws</th>\n",
       "      <th>Distinct</th>\n",
       "      <th>% distinct</th>\n",
       "      <th>Not NaN</th>\n",
       "      <th>% Not NaN</th>\n",
       "      <th>NaN</th>\n",
       "      <th>% NaN</th>\n",
       "    </tr>\n",
       "  </thead>\n",
       "  <tbody>\n",
       "    <tr>\n",
       "      <th>0</th>\n",
       "      <td>countries_en</td>\n",
       "      <td>object</td>\n",
       "      <td>France</td>\n",
       "      <td>2053679</td>\n",
       "      <td>4403</td>\n",
       "      <td>0.21</td>\n",
       "      <td>2047488</td>\n",
       "      <td>99.7</td>\n",
       "      <td>6191</td>\n",
       "      <td>0.3</td>\n",
       "    </tr>\n",
       "  </tbody>\n",
       "</table>\n",
       "</div>"
      ],
      "text/plain": [
       "  Variable name Variable type Example     Raws Distinct  % distinct  Not NaN  \\\n",
       "0  countries_en        object  France  2053679     4403        0.21  2047488   \n",
       "\n",
       "   % Not NaN   NaN  % NaN  \n",
       "0       99.7  6191    0.3  "
      ]
     },
     "execution_count": 78,
     "metadata": {},
     "output_type": "execute_result"
    }
   ],
   "source": [
    "tab_desc"
   ]
  },
  {
   "cell_type": "code",
   "execution_count": 79,
   "id": "4f68977f",
   "metadata": {
    "hidden": true
   },
   "outputs": [
    {
     "data": {
      "text/html": [
       "<div>\n",
       "<style scoped>\n",
       "    .dataframe tbody tr th:only-of-type {\n",
       "        vertical-align: middle;\n",
       "    }\n",
       "\n",
       "    .dataframe tbody tr th {\n",
       "        vertical-align: top;\n",
       "    }\n",
       "\n",
       "    .dataframe thead th {\n",
       "        text-align: right;\n",
       "    }\n",
       "</style>\n",
       "<table border=\"1\" class=\"dataframe\">\n",
       "  <thead>\n",
       "    <tr style=\"text-align: right;\">\n",
       "      <th></th>\n",
       "      <th>countries_en</th>\n",
       "    </tr>\n",
       "  </thead>\n",
       "  <tbody>\n",
       "    <tr>\n",
       "      <th>1487680</th>\n",
       "      <td>Senegal</td>\n",
       "    </tr>\n",
       "    <tr>\n",
       "      <th>1881067</th>\n",
       "      <td>France</td>\n",
       "    </tr>\n",
       "    <tr>\n",
       "      <th>1307298</th>\n",
       "      <td>France</td>\n",
       "    </tr>\n",
       "    <tr>\n",
       "      <th>894028</th>\n",
       "      <td>France</td>\n",
       "    </tr>\n",
       "    <tr>\n",
       "      <th>35937</th>\n",
       "      <td>United States</td>\n",
       "    </tr>\n",
       "  </tbody>\n",
       "</table>\n",
       "</div>"
      ],
      "text/plain": [
       "          countries_en\n",
       "1487680        Senegal\n",
       "1881067         France\n",
       "1307298         France\n",
       "894028          France\n",
       "35937    United States"
      ]
     },
     "execution_count": 79,
     "metadata": {},
     "output_type": "execute_result"
    }
   ],
   "source": [
    "tab_modalities"
   ]
  },
  {
   "cell_type": "code",
   "execution_count": 80,
   "id": "c3daaea0",
   "metadata": {
    "hidden": true
   },
   "outputs": [
    {
     "data": {
      "image/png": "[encoded data removed]",
      "text/plain": [
       "<Figure size 576x432 with 1 Axes>"
      ]
     },
     "metadata": {
      "needs_background": "light"
     },
     "output_type": "display_data"
    }
   ],
   "source": [
    "countries_en_count = openfoodfacts_en['countries_en'].value_counts()[0:20]\n",
    "\n",
    "plt.figure(figsize=(8, 6))\n",
    "sns.barplot(y = countries_en_count.index, x = countries_en_count.values, palette = 'muted')\n",
    "plt.title(\"TOP 20 des pays présents dans le dataset\")\n",
    "plt.ylabel(\"\")\n",
    "plt.xlabel(\"Occurences\");"
   ]
  },
  {
   "cell_type": "markdown",
   "id": "24414e0f",
   "metadata": {
    "hidden": true
   },
   "source": [
    "On remarque que la France est en tête du classement suivie des Etats Unis et de l'Espagne. Cette variable ne contient que 0.3% de valeurs manquantes et 4 403 valeurs distinctes: la variable countries_en ne contient pas forcément un seul pays mais peut également contenir une liste de pays. On peut se poser la question de savoir si la France peut être traduite dans une autre langue:"
   ]
  },
  {
   "cell_type": "code",
   "execution_count": 81,
   "id": "7e019218",
   "metadata": {
    "hidden": true
   },
   "outputs": [
    {
     "data": {
      "text/plain": [
       "['Austria,Frankreich,Spanien',\n",
       " 'French Polynesia,United States',\n",
       " 'French Polynesia',\n",
       " 'Mexico,Thailand,United States,Francia',\n",
       " 'Kuwait,Spain,Francia',\n",
       " 'Spain,Francia',\n",
       " 'French Guiana',\n",
       " 'Mexico,Spain,United States,Francia',\n",
       " 'Mexico,Spain,Estados-unidos,Francia',\n",
       " 'Spain,Estados-unidos,Francia',\n",
       " 'Germany,Frankreich',\n",
       " 'Austria,Frankreich',\n",
       " 'Canada,French Polynesia',\n",
       " 'Italy,Spain,Francia,Marruecos,Reino-unido',\n",
       " 'American Samoa,Australia,Austria,Azerbaijan,Democratic Republic of the Congo,French Southern and Antarctic Lands',\n",
       " 'Andorra,Portugal,Spain,Francia',\n",
       " 'Portugal,Deutschland,Frankreich,Niederlande,Spanien',\n",
       " 'Belgica,Francia',\n",
       " 'Frankreich',\n",
       " 'Francja,Niemcy,Polska,Szwajcaria',\n",
       " 'Spain,Eslovenia,Francia',\n",
       " 'Germany,Italy,Francia,Germania,Svizzera',\n",
       " 'Spain,Alemania,Francia',\n",
       " 'Francia-espana',\n",
       " 'Spain,Francia,Suecia,Suiza',\n",
       " 'Germany,Frankreich,Irland',\n",
       " 'Italy,Spain,Alemania,Belgica,Francia,Suiza',\n",
       " 'Germany,Portugal,Frankreich',\n",
       " 'Austria,Germany,Frankreich,Schweiz',\n",
       " 'Belgien,Deutschland,Frankreich',\n",
       " 'Austria,Belgien,Deutschland,Frankreich,Italien,Schweden,Schweiz,Spanien,Vereinigtes-konigreich',\n",
       " 'Germany,Frankreich,Italien,Schweiz',\n",
       " 'Deutschland,Frankreich',\n",
       " 'Belgie,Frankrijk',\n",
       " 'Deutschland,Frankreich,Schweiz',\n",
       " 'Spain,Deutschland,Frankreich',\n",
       " 'Netherlands,Frankrijk',\n",
       " 'Francia',\n",
       " 'Switzerland,Frankreich',\n",
       " 'Germany,Belgien,Frankreich',\n",
       " 'Switzerland,Belgien,Frankreich,Spanien',\n",
       " 'Switzerland,Belgien,Frankreich,Italien,Polen',\n",
       " 'Belgium,Frankrijk',\n",
       " 'Frankrijk',\n",
       " 'Australia,Austria,Italy,Portugal,Réunion,Romania,Spain,Alemania,Argelia,Belgica,Francia,Irlanda,Marruecos,Suiza',\n",
       " 'Austria,Bulgarien,Deutschland,Frankreich',\n",
       " 'French Polynesia,United Kingdom',\n",
       " 'Belgium,Mexico,Francia',\n",
       " 'Spain,Belgica,Francia,Suiza',\n",
       " 'French Guiana,Guadeloupe,Martinique',\n",
       " 'Belgium,French Polynesia',\n",
       " 'Belgium,Francia',\n",
       " 'French Guiana,Martinique',\n",
       " 'French Polynesia,Germany',\n",
       " 'Spain,Francia,Polinesia-francesa',\n",
       " 'French Polynesia,New Zealand',\n",
       " 'Germany,Switzerland,Deutschland,Frankreich',\n",
       " 'Germany,Allemagne,Frankreich',\n",
       " 'Franța',\n",
       " 'Germany,Frankreich,Schweiz',\n",
       " 'Austria,Deutschland,Frankreich',\n",
       " 'Germany,Frankreich,Spanien',\n",
       " 'Frankreich-deutschland',\n",
       " 'Austria,Spain,Alemania,Belgica,Francia,Suiza',\n",
       " 'Germany,Singapore,Frankreich',\n",
       " 'Germany,Luxembourg,Frankreich',\n",
       " 'Italy,Francia',\n",
       " 'Belgien,Deutschland,Frankreich,Schweiz',\n",
       " 'Alemania,Francia,Suiza',\n",
       " 'Switzerland,Frankreich,Italien',\n",
       " 'Francja,Niemcy,Szwajcaria',\n",
       " 'Austria,Spain,Deutschland,Frankreich,Schweiz',\n",
       " 'Belgie,Frankrijk,Nederland',\n",
       " 'Hungary,Deutschland,Frankreich',\n",
       " 'Germany,Allemagne,Frankreich,Italien',\n",
       " 'Spain,Frankreich',\n",
       " 'Germany,Deutschland,Frankreich',\n",
       " 'Spain,Allemagne,Francia',\n",
       " 'Austria,Frankreich,Italien,Slowenien',\n",
       " 'French Guiana,Netherlands',\n",
       " 'Germany,Frankreich,Vereinigte-staaten-von-amerika',\n",
       " 'Francia,Reino-unido',\n",
       " 'Spain,Switzerland,Deutschland,Frankreich',\n",
       " 'Frankreich-spanien',\n",
       " 'Morocco,Spain,Francia',\n",
       " 'Italy,Spain,Francia,Martinica,Suiza',\n",
       " 'Germany,Spain,Francia',\n",
       " 'Spain,United Kingdom,Francia',\n",
       " 'Italy,Francia,Svizzera',\n",
       " 'Deutschland,Frankreich,Slowenien',\n",
       " 'Spain,Belgien,Frankreich',\n",
       " 'Belgium,Spain,Frankreich',\n",
       " 'Spain,Belgica,Francia',\n",
       " 'Belgium,Spain,Francia',\n",
       " 'Spain,Francia-espana',\n",
       " 'Czech Republic,French Polynesia',\n",
       " 'Spain,Francia,Marruecos',\n",
       " 'Andorra,Austria,Germany,India,Italy,Mexico,Portugal,Romania,Senegal,Spain,Alemania,Argelia,Belgica,Costa-de-marfil,Estados-unidos,Francia,Luxemburgo,Marruecos,Paises-bajos,Polonia,Reino-unido,Rusia,Suiza,Tunez',\n",
       " 'Austria,Frankreich,Schweiz',\n",
       " 'Italy,Spain,Alemania,Belgica,Costa-de-marfil,Croacia,Francia,Hungria,Suiza',\n",
       " 'Espa�a,Francia',\n",
       " 'Portugal,Spain,Francia',\n",
       " 'Switzerland,Deutschland,Frankreich',\n",
       " 'Spain,Belgica,Francia,Luxemburgo',\n",
       " 'Spain,Francia,Suiza',\n",
       " 'United Kingdom,Francia,Suiza',\n",
       " 'Austria,Germany,Netherlands,United Kingdom,Frankreich',\n",
       " 'Frankreich,Schweiz',\n",
       " 'Germany,Belgien,Frankreich,Spanien',\n",
       " 'Andorra,Spain,Francia',\n",
       " 'Francja,Polska',\n",
       " 'Italy,Portugal,Spain,Belgica,Francia,Marruecos,Paises-bajos',\n",
       " 'Romania,Deutschland,Frankreich,Schweiz',\n",
       " 'Finland,Germany,Portugal,Belgien,Danemark,Frankreich,Italien,Niederlande,Schweden,Schweiz,Spanien',\n",
       " 'Italy,Portugal,Spain,Estados-unidos,Francia,Marruecos',\n",
       " 'Colombia,Francia',\n",
       " 'Argentina,Spain,Francia',\n",
       " 'Argentina,Francia',\n",
       " 'Chile,French Polynesia',\n",
       " 'Australia,Denmark,French Polynesia,Italy,Réunion',\n",
       " 'Italy,Spain,Francia',\n",
       " 'Algeria,Italy,Morocco,Poland,Spain,Francia,Marruecos',\n",
       " 'Italy,Mexico,Spain,Belgica,Francia,Marruecos,Suiza',\n",
       " 'Austria,Deutschland,Frankreich,Italien',\n",
       " 'French Polynesia,Italy,United States',\n",
       " 'French Polynesia,Italy',\n",
       " 'French Guiana,Italy',\n",
       " 'Germany,Frankreich,Italien',\n",
       " 'Italy,Francia,Spagna',\n",
       " 'Francia-italia-spagna-en-spain',\n",
       " 'Spain,Frankreich,Vereinigte-staaten-von-amerika',\n",
       " 'Romania,Spain,Tunisia,Francia',\n",
       " 'Francia-spain',\n",
       " 'Morocco,Portugal,Spain,Francia',\n",
       " 'Espanya,Franca',\n",
       " 'Belgium,Switzerland,Autriche,Deutschland,Frankreich',\n",
       " 'Austria,Belgien,Deutschland,Frankreich,Vereinigtes-konigreich',\n",
       " 'Australia,French Polynesia',\n",
       " 'Frankrijk,Nederland',\n",
       " 'Iran,Frankreich']"
      ]
     },
     "execution_count": 81,
     "metadata": {},
     "output_type": "execute_result"
    }
   ],
   "source": [
    "openfoodfacts_en[(~openfoodfacts_en['countries_en'].str.contains(\n",
    "    'France', na = False)) & (openfoodfacts_en['countries_en'].str.contains(\n",
    "    'Fr', na = False))]['countries_en'].unique().tolist()"
   ]
  },
  {
   "cell_type": "markdown",
   "id": "63d28378",
   "metadata": {
    "hidden": true
   },
   "source": [
    "On remarque que les pays peuvent apparaitre dans plusieurs langues. Quelques exemples pour la France:\n",
    "- Frankreich\n",
    "- French\n",
    "- Francia\n",
    "- Francja\n",
    "- Frankrijk\n",
    "- Franța\n",
    "- Franca\n",
    "\n",
    "On apprend sur le site https://www.economie.gouv.fr/dgccrf/Publications/Vie-pratique/Fiches-pratiques/Etiquetage-des-denrees-alimentaires que les étiquettes doivent être traduites au moins en français pour les produits vendus en France. Gardons cela en tête pour la suite du nettoyage."
   ]
  },
  {
   "cell_type": "markdown",
   "id": "52413d79",
   "metadata": {
    "heading_collapsed": true
   },
   "source": [
    "### Variables sur le packaging <a class=\"anchor\" id=\"packaging\"></a>"
   ]
  },
  {
   "cell_type": "markdown",
   "id": "269c6dd0",
   "metadata": {
    "hidden": true
   },
   "source": [
    "Ces variables ne seront a priori pas utilisées par la suite, supprimons les mais regardons d'abord quelques exemples."
   ]
  },
  {
   "cell_type": "code",
   "execution_count": 82,
   "id": "bd83b5b5",
   "metadata": {
    "hidden": true
   },
   "outputs": [],
   "source": [
    "tab_desc, tab_modalities = check_redundancy_steps(openfoodfacts_en, 'packaging')"
   ]
  },
  {
   "cell_type": "code",
   "execution_count": 83,
   "id": "6c10d0e7",
   "metadata": {
    "hidden": true
   },
   "outputs": [
    {
     "data": {
      "text/html": [
       "<div>\n",
       "<style scoped>\n",
       "    .dataframe tbody tr th:only-of-type {\n",
       "        vertical-align: middle;\n",
       "    }\n",
       "\n",
       "    .dataframe tbody tr th {\n",
       "        vertical-align: top;\n",
       "    }\n",
       "\n",
       "    .dataframe thead th {\n",
       "        text-align: right;\n",
       "    }\n",
       "</style>\n",
       "<table border=\"1\" class=\"dataframe\">\n",
       "  <thead>\n",
       "    <tr style=\"text-align: right;\">\n",
       "      <th></th>\n",
       "      <th>Variable name</th>\n",
       "      <th>Variable type</th>\n",
       "      <th>Example</th>\n",
       "      <th>Raws</th>\n",
       "      <th>Distinct</th>\n",
       "      <th>% distinct</th>\n",
       "      <th>Not NaN</th>\n",
       "      <th>% Not NaN</th>\n",
       "      <th>NaN</th>\n",
       "      <th>% NaN</th>\n",
       "    </tr>\n",
       "  </thead>\n",
       "  <tbody>\n",
       "    <tr>\n",
       "      <th>0</th>\n",
       "      <td>packaging_tags</td>\n",
       "      <td>object</td>\n",
       "      <td>barquette,plastique</td>\n",
       "      <td>2053679</td>\n",
       "      <td>46485</td>\n",
       "      <td>2.26</td>\n",
       "      <td>315895</td>\n",
       "      <td>15.38</td>\n",
       "      <td>1737784</td>\n",
       "      <td>84.62</td>\n",
       "    </tr>\n",
       "    <tr>\n",
       "      <th>1</th>\n",
       "      <td>packaging_text</td>\n",
       "      <td>object</td>\n",
       "      <td>1 pot en verre à recycler</td>\n",
       "      <td>2053679</td>\n",
       "      <td>4306</td>\n",
       "      <td>0.21</td>\n",
       "      <td>8240</td>\n",
       "      <td>0.40</td>\n",
       "      <td>2045439</td>\n",
       "      <td>99.60</td>\n",
       "    </tr>\n",
       "    <tr>\n",
       "      <th>2</th>\n",
       "      <td>first_packaging_code_geo</td>\n",
       "      <td>object</td>\n",
       "      <td>47.833333,-0.333333</td>\n",
       "      <td>2053679</td>\n",
       "      <td>3768</td>\n",
       "      <td>0.18</td>\n",
       "      <td>73908</td>\n",
       "      <td>3.60</td>\n",
       "      <td>1979771</td>\n",
       "      <td>96.40</td>\n",
       "    </tr>\n",
       "  </tbody>\n",
       "</table>\n",
       "</div>"
      ],
      "text/plain": [
       "              Variable name Variable type                    Example     Raws  \\\n",
       "0            packaging_tags        object        barquette,plastique  2053679   \n",
       "1            packaging_text        object  1 pot en verre à recycler  2053679   \n",
       "2  first_packaging_code_geo        object        47.833333,-0.333333  2053679   \n",
       "\n",
       "  Distinct  % distinct Not NaN  % Not NaN      NaN  % NaN  \n",
       "0    46485        2.26  315895      15.38  1737784  84.62  \n",
       "1     4306        0.21    8240       0.40  2045439  99.60  \n",
       "2     3768        0.18   73908       3.60  1979771  96.40  "
      ]
     },
     "execution_count": 83,
     "metadata": {},
     "output_type": "execute_result"
    }
   ],
   "source": [
    "tab_desc"
   ]
  },
  {
   "cell_type": "code",
   "execution_count": 84,
   "id": "ffe380c4",
   "metadata": {
    "hidden": true,
    "scrolled": false
   },
   "outputs": [
    {
     "data": {
      "text/html": [
       "<div>\n",
       "<style scoped>\n",
       "    .dataframe tbody tr th:only-of-type {\n",
       "        vertical-align: middle;\n",
       "    }\n",
       "\n",
       "    .dataframe tbody tr th {\n",
       "        vertical-align: top;\n",
       "    }\n",
       "\n",
       "    .dataframe thead th {\n",
       "        text-align: right;\n",
       "    }\n",
       "</style>\n",
       "<table border=\"1\" class=\"dataframe\">\n",
       "  <thead>\n",
       "    <tr style=\"text-align: right;\">\n",
       "      <th></th>\n",
       "      <th>packaging_tags</th>\n",
       "      <th>packaging_text</th>\n",
       "      <th>first_packaging_code_geo</th>\n",
       "    </tr>\n",
       "  </thead>\n",
       "  <tbody>\n",
       "    <tr>\n",
       "      <th>854107</th>\n",
       "      <td>plastique,carton,frais,fr-etui-en-carton</td>\n",
       "      <td>1 étui carton à recycler 1 barquette plastique à jeter 1 film plastique à jeter</td>\n",
       "      <td>48.6,7.6</td>\n",
       "    </tr>\n",
       "    <tr>\n",
       "      <th>1104522</th>\n",
       "      <td>carton,boite,cellulose,fr-boite-en-carton</td>\n",
       "      <td>1 étiquette papier à recycler. 1 boîte carton (cellulose) à recycler ou à composter (attestée par le label OK COMPOST et climatiquement neutre attestée par le label ClimatePartner).</td>\n",
       "      <td>46,5.166667</td>\n",
       "    </tr>\n",
       "    <tr>\n",
       "      <th>880410</th>\n",
       "      <td>fr-barquette,fr-film-en-plastique,frais,sous-vide</td>\n",
       "      <td>1 barquette plastique à jeter  1 film plastique à jeter</td>\n",
       "      <td>46.783333,-0.833333</td>\n",
       "    </tr>\n",
       "    <tr>\n",
       "      <th>826584</th>\n",
       "      <td>bouteille-en-verre,bouchon-en-liege,metal</td>\n",
       "      <td>1 bouchon en liège à jeter ou recycler, 1 bouteille en verre à recycler, 1 muselet en métal à recycler, 1 plaque en métal à recycler</td>\n",
       "      <td>49.05,-1.033333</td>\n",
       "    </tr>\n",
       "    <tr>\n",
       "      <th>931871</th>\n",
       "      <td>boite,carton,cellulose,fr-etui-en-carton</td>\n",
       "      <td>1 étiquette papier à recycler. 1 boîte carton (cellulose) à recycler ou à composter (attestée par le label OK COMPOST et climatiquement neutre attestée par le label ClimatePartner).</td>\n",
       "      <td>45.616667,5.916667</td>\n",
       "    </tr>\n",
       "  </tbody>\n",
       "</table>\n",
       "</div>"
      ],
      "text/plain": [
       "                                            packaging_tags  \\\n",
       "854107            plastique,carton,frais,fr-etui-en-carton   \n",
       "1104522          carton,boite,cellulose,fr-boite-en-carton   \n",
       "880410   fr-barquette,fr-film-en-plastique,frais,sous-vide   \n",
       "826584           bouteille-en-verre,bouchon-en-liege,metal   \n",
       "931871            boite,carton,cellulose,fr-etui-en-carton   \n",
       "\n",
       "                                                                                                                                                                                packaging_text  \\\n",
       "854107                                                                                                         1 étui carton à recycler 1 barquette plastique à jeter 1 film plastique à jeter   \n",
       "1104522  1 étiquette papier à recycler. 1 boîte carton (cellulose) à recycler ou à composter (attestée par le label OK COMPOST et climatiquement neutre attestée par le label ClimatePartner).   \n",
       "880410                                                                                                                                 1 barquette plastique à jeter  1 film plastique à jeter   \n",
       "826584                                                    1 bouchon en liège à jeter ou recycler, 1 bouteille en verre à recycler, 1 muselet en métal à recycler, 1 plaque en métal à recycler   \n",
       "931871   1 étiquette papier à recycler. 1 boîte carton (cellulose) à recycler ou à composter (attestée par le label OK COMPOST et climatiquement neutre attestée par le label ClimatePartner).   \n",
       "\n",
       "        first_packaging_code_geo  \n",
       "854107                  48.6,7.6  \n",
       "1104522              46,5.166667  \n",
       "880410       46.783333,-0.833333  \n",
       "826584           49.05,-1.033333  \n",
       "931871        45.616667,5.916667  "
      ]
     },
     "execution_count": 84,
     "metadata": {},
     "output_type": "execute_result"
    }
   ],
   "source": [
    "tab_modalities"
   ]
  },
  {
   "cell_type": "markdown",
   "id": "bf076566",
   "metadata": {
    "hidden": true
   },
   "source": [
    "Ces variables étant assez peu alimentées et non pertinentes pour notre idée d'application, supprimons les."
   ]
  },
  {
   "cell_type": "code",
   "execution_count": 85,
   "id": "a7c7ccbe",
   "metadata": {
    "hidden": true
   },
   "outputs": [
    {
     "name": "stdout",
     "output_type": "stream",
     "text": [
      "Nombre de lignes: 2053679\n",
      "Nombre de variables: 116\n"
     ]
    }
   ],
   "source": [
    "# Suppression des variables contenant le mot packaging\n",
    "openfoodfacts_en.drop(tab_modalities.columns, axis = 'columns', inplace = True)\n",
    "print(f\"Nombre de lignes: {openfoodfacts_en.shape[0]}\\nNombre de variables: {openfoodfacts_en.shape[1]}\")"
   ]
  },
  {
   "cell_type": "markdown",
   "id": "bd49bfb9",
   "metadata": {
    "heading_collapsed": true
   },
   "source": [
    "### Variables sur la marque <a class=\"anchor\" id=\"brand\"></a>"
   ]
  },
  {
   "cell_type": "code",
   "execution_count": 86,
   "id": "26985b9b",
   "metadata": {
    "hidden": true
   },
   "outputs": [],
   "source": [
    "tab_desc, tab_modalities = check_redundancy_steps(openfoodfacts_en, 'brand')"
   ]
  },
  {
   "cell_type": "code",
   "execution_count": 87,
   "id": "fbb9fb5c",
   "metadata": {
    "hidden": true
   },
   "outputs": [
    {
     "data": {
      "text/html": [
       "<div>\n",
       "<style scoped>\n",
       "    .dataframe tbody tr th:only-of-type {\n",
       "        vertical-align: middle;\n",
       "    }\n",
       "\n",
       "    .dataframe tbody tr th {\n",
       "        vertical-align: top;\n",
       "    }\n",
       "\n",
       "    .dataframe thead th {\n",
       "        text-align: right;\n",
       "    }\n",
       "</style>\n",
       "<table border=\"1\" class=\"dataframe\">\n",
       "  <thead>\n",
       "    <tr style=\"text-align: right;\">\n",
       "      <th></th>\n",
       "      <th>Variable name</th>\n",
       "      <th>Variable type</th>\n",
       "      <th>Example</th>\n",
       "      <th>Raws</th>\n",
       "      <th>Distinct</th>\n",
       "      <th>% distinct</th>\n",
       "      <th>Not NaN</th>\n",
       "      <th>% Not NaN</th>\n",
       "      <th>NaN</th>\n",
       "      <th>% NaN</th>\n",
       "    </tr>\n",
       "  </thead>\n",
       "  <tbody>\n",
       "    <tr>\n",
       "      <th>0</th>\n",
       "      <td>brands_tags</td>\n",
       "      <td>object</td>\n",
       "      <td>endives</td>\n",
       "      <td>2053679</td>\n",
       "      <td>141427</td>\n",
       "      <td>6.89</td>\n",
       "      <td>1050528</td>\n",
       "      <td>51.15</td>\n",
       "      <td>1003151</td>\n",
       "      <td>48.85</td>\n",
       "    </tr>\n",
       "    <tr>\n",
       "      <th>1</th>\n",
       "      <td>brand_owner</td>\n",
       "      <td>object</td>\n",
       "      <td>LAGG'S</td>\n",
       "      <td>2053679</td>\n",
       "      <td>25576</td>\n",
       "      <td>1.25</td>\n",
       "      <td>290020</td>\n",
       "      <td>14.12</td>\n",
       "      <td>1763659</td>\n",
       "      <td>85.88</td>\n",
       "    </tr>\n",
       "  </tbody>\n",
       "</table>\n",
       "</div>"
      ],
      "text/plain": [
       "  Variable name Variable type  Example     Raws Distinct  % distinct  Not NaN  \\\n",
       "0   brands_tags        object  endives  2053679   141427        6.89  1050528   \n",
       "1   brand_owner        object   LAGG'S  2053679    25576        1.25   290020   \n",
       "\n",
       "   % Not NaN      NaN  % NaN  \n",
       "0      51.15  1003151  48.85  \n",
       "1      14.12  1763659  85.88  "
      ]
     },
     "execution_count": 87,
     "metadata": {},
     "output_type": "execute_result"
    }
   ],
   "source": [
    "tab_desc"
   ]
  },
  {
   "cell_type": "code",
   "execution_count": 88,
   "id": "5fa50145",
   "metadata": {
    "hidden": true
   },
   "outputs": [
    {
     "data": {
      "text/html": [
       "<div>\n",
       "<style scoped>\n",
       "    .dataframe tbody tr th:only-of-type {\n",
       "        vertical-align: middle;\n",
       "    }\n",
       "\n",
       "    .dataframe tbody tr th {\n",
       "        vertical-align: top;\n",
       "    }\n",
       "\n",
       "    .dataframe thead th {\n",
       "        text-align: right;\n",
       "    }\n",
       "</style>\n",
       "<table border=\"1\" class=\"dataframe\">\n",
       "  <thead>\n",
       "    <tr style=\"text-align: right;\">\n",
       "      <th></th>\n",
       "      <th>brands_tags</th>\n",
       "      <th>brand_owner</th>\n",
       "    </tr>\n",
       "  </thead>\n",
       "  <tbody>\n",
       "    <tr>\n",
       "      <th>196890</th>\n",
       "      <td>c-f-burger-creamery-co</td>\n",
       "      <td>C. F. Burger Creamery Co.</td>\n",
       "    </tr>\n",
       "    <tr>\n",
       "      <th>1608579</th>\n",
       "      <td>crs-brands-ind</td>\n",
       "      <td>VITI VINICOLA CERESER LTDA</td>\n",
       "    </tr>\n",
       "    <tr>\n",
       "      <th>74770</th>\n",
       "      <td>land-o-lakes</td>\n",
       "      <td>Land O'Lakes, Inc.</td>\n",
       "    </tr>\n",
       "    <tr>\n",
       "      <th>169773</th>\n",
       "      <td>dubble-bubble</td>\n",
       "      <td>DUBBLE BUBBLE</td>\n",
       "    </tr>\n",
       "    <tr>\n",
       "      <th>115551</th>\n",
       "      <td>kikkoman</td>\n",
       "      <td>Kikkoman Sales USA, Inc.</td>\n",
       "    </tr>\n",
       "  </tbody>\n",
       "</table>\n",
       "</div>"
      ],
      "text/plain": [
       "                    brands_tags                 brand_owner\n",
       "196890   c-f-burger-creamery-co   C. F. Burger Creamery Co.\n",
       "1608579          crs-brands-ind  VITI VINICOLA CERESER LTDA\n",
       "74770              land-o-lakes          Land O'Lakes, Inc.\n",
       "169773            dubble-bubble               DUBBLE BUBBLE\n",
       "115551                 kikkoman    Kikkoman Sales USA, Inc."
      ]
     },
     "execution_count": 88,
     "metadata": {},
     "output_type": "execute_result"
    }
   ],
   "source": [
    "tab_modalities"
   ]
  },
  {
   "cell_type": "markdown",
   "id": "efb6aa25",
   "metadata": {
    "hidden": true
   },
   "source": [
    "La variable brands_tags comporte bien moins de valeurs manquantes que brand_owner même si elle a plus de valeurs distinctes. Nous décidons de conserver brands_tags."
   ]
  },
  {
   "cell_type": "code",
   "execution_count": 89,
   "id": "0e411129",
   "metadata": {
    "hidden": true
   },
   "outputs": [
    {
     "name": "stdout",
     "output_type": "stream",
     "text": [
      "Nombre de lignes: 2053679\n",
      "Nombre de variables: 115\n"
     ]
    }
   ],
   "source": [
    "# Suppression de la variable brand_owner\n",
    "openfoodfacts_en.drop('brand_owner', axis = 'columns', inplace = True)\n",
    "print(f\"Nombre de lignes: {openfoodfacts_en.shape[0]}\\nNombre de variables: {openfoodfacts_en.shape[1]}\")"
   ]
  },
  {
   "cell_type": "markdown",
   "id": "c18fdab2",
   "metadata": {
    "heading_collapsed": true
   },
   "source": [
    "### Variables sur le nom des produits <a class=\"anchor\" id=\"name\"></a>"
   ]
  },
  {
   "cell_type": "code",
   "execution_count": 90,
   "id": "fdc220c5",
   "metadata": {
    "hidden": true
   },
   "outputs": [],
   "source": [
    "tab_desc, tab_modalities = check_redundancy_steps(openfoodfacts_en, 'name')"
   ]
  },
  {
   "cell_type": "code",
   "execution_count": 91,
   "id": "c9ae69da",
   "metadata": {
    "hidden": true
   },
   "outputs": [
    {
     "data": {
      "text/html": [
       "<div>\n",
       "<style scoped>\n",
       "    .dataframe tbody tr th:only-of-type {\n",
       "        vertical-align: middle;\n",
       "    }\n",
       "\n",
       "    .dataframe tbody tr th {\n",
       "        vertical-align: top;\n",
       "    }\n",
       "\n",
       "    .dataframe thead th {\n",
       "        text-align: right;\n",
       "    }\n",
       "</style>\n",
       "<table border=\"1\" class=\"dataframe\">\n",
       "  <thead>\n",
       "    <tr style=\"text-align: right;\">\n",
       "      <th></th>\n",
       "      <th>Variable name</th>\n",
       "      <th>Variable type</th>\n",
       "      <th>Example</th>\n",
       "      <th>Raws</th>\n",
       "      <th>Distinct</th>\n",
       "      <th>% distinct</th>\n",
       "      <th>Not NaN</th>\n",
       "      <th>% Not NaN</th>\n",
       "      <th>NaN</th>\n",
       "      <th>% NaN</th>\n",
       "    </tr>\n",
       "  </thead>\n",
       "  <tbody>\n",
       "    <tr>\n",
       "      <th>0</th>\n",
       "      <td>product_name</td>\n",
       "      <td>object</td>\n",
       "      <td>jeunes pousses</td>\n",
       "      <td>2053679</td>\n",
       "      <td>1276058</td>\n",
       "      <td>62.14</td>\n",
       "      <td>1970360</td>\n",
       "      <td>95.94</td>\n",
       "      <td>83319</td>\n",
       "      <td>4.06</td>\n",
       "    </tr>\n",
       "    <tr>\n",
       "      <th>1</th>\n",
       "      <td>abbreviated_product_name</td>\n",
       "      <td>object</td>\n",
       "      <td>Amora Moutarde Strong 6x2.5Kg 1x</td>\n",
       "      <td>2053679</td>\n",
       "      <td>7073</td>\n",
       "      <td>0.34</td>\n",
       "      <td>7197</td>\n",
       "      <td>0.35</td>\n",
       "      <td>2046482</td>\n",
       "      <td>99.65</td>\n",
       "    </tr>\n",
       "    <tr>\n",
       "      <th>2</th>\n",
       "      <td>generic_name</td>\n",
       "      <td>object</td>\n",
       "      <td>Blanquette de Volaille et son Riz</td>\n",
       "      <td>2053679</td>\n",
       "      <td>89427</td>\n",
       "      <td>4.35</td>\n",
       "      <td>123512</td>\n",
       "      <td>6.01</td>\n",
       "      <td>1930167</td>\n",
       "      <td>93.99</td>\n",
       "    </tr>\n",
       "  </tbody>\n",
       "</table>\n",
       "</div>"
      ],
      "text/plain": [
       "              Variable name Variable type                            Example  \\\n",
       "0              product_name        object                     jeunes pousses   \n",
       "1  abbreviated_product_name        object   Amora Moutarde Strong 6x2.5Kg 1x   \n",
       "2              generic_name        object  Blanquette de Volaille et son Riz   \n",
       "\n",
       "      Raws Distinct  % distinct  Not NaN  % Not NaN      NaN  % NaN  \n",
       "0  2053679  1276058       62.14  1970360      95.94    83319   4.06  \n",
       "1  2053679     7073        0.34     7197       0.35  2046482  99.65  \n",
       "2  2053679    89427        4.35   123512       6.01  1930167  93.99  "
      ]
     },
     "execution_count": 91,
     "metadata": {},
     "output_type": "execute_result"
    }
   ],
   "source": [
    "tab_desc"
   ]
  },
  {
   "cell_type": "code",
   "execution_count": 92,
   "id": "63e22d10",
   "metadata": {
    "hidden": true
   },
   "outputs": [
    {
     "data": {
      "text/html": [
       "<div>\n",
       "<style scoped>\n",
       "    .dataframe tbody tr th:only-of-type {\n",
       "        vertical-align: middle;\n",
       "    }\n",
       "\n",
       "    .dataframe tbody tr th {\n",
       "        vertical-align: top;\n",
       "    }\n",
       "\n",
       "    .dataframe thead th {\n",
       "        text-align: right;\n",
       "    }\n",
       "</style>\n",
       "<table border=\"1\" class=\"dataframe\">\n",
       "  <thead>\n",
       "    <tr style=\"text-align: right;\">\n",
       "      <th></th>\n",
       "      <th>product_name</th>\n",
       "      <th>abbreviated_product_name</th>\n",
       "      <th>generic_name</th>\n",
       "    </tr>\n",
       "  </thead>\n",
       "  <tbody>\n",
       "    <tr>\n",
       "      <th>737005</th>\n",
       "      <td>Purée Carottes Choux-Fleurs 2x200g</td>\n",
       "      <td>Lv2x200 pur car chou</td>\n",
       "      <td>Purée de légumes adaptée à bébé.</td>\n",
       "    </tr>\n",
       "    <tr>\n",
       "      <th>1958585</th>\n",
       "      <td>Timotei Après-Shampooing Femme Hydratant</td>\n",
       "      <td>Tim ash 300 hydratant</td>\n",
       "      <td>Après Shampoing Femme</td>\n",
       "    </tr>\n",
       "    <tr>\n",
       "      <th>737169</th>\n",
       "      <td>BLEDINA LES RECOLTES BIO Patates Douces 2x130g Dès 4/6 Mois</td>\n",
       "      <td>BIO LG 2X130 PAT DCE</td>\n",
       "      <td>Purée adaptée à bébé.</td>\n",
       "    </tr>\n",
       "    <tr>\n",
       "      <th>889837</th>\n",
       "      <td>Dessert lacté au chocolat</td>\n",
       "      <td>Des ptit yop chocolat 180gx6 offre decouverte.</td>\n",
       "      <td>Dessert lacté au chocolat</td>\n",
       "    </tr>\n",
       "    <tr>\n",
       "      <th>746078</th>\n",
       "      <td>Grimbergen 25 cl Grimbergen Double-Ambrèe 6.5 DEGRE ALCOOL</td>\n",
       "      <td>25 cl Grimbergen Double-Ambrèe</td>\n",
       "      <td>Bière d'abbaye</td>\n",
       "    </tr>\n",
       "  </tbody>\n",
       "</table>\n",
       "</div>"
      ],
      "text/plain": [
       "                                                        product_name  \\\n",
       "737005                            Purée Carottes Choux-Fleurs 2x200g   \n",
       "1958585                     Timotei Après-Shampooing Femme Hydratant   \n",
       "737169   BLEDINA LES RECOLTES BIO Patates Douces 2x130g Dès 4/6 Mois   \n",
       "889837                                     Dessert lacté au chocolat   \n",
       "746078    Grimbergen 25 cl Grimbergen Double-Ambrèe 6.5 DEGRE ALCOOL   \n",
       "\n",
       "                               abbreviated_product_name  \\\n",
       "737005                             Lv2x200 pur car chou   \n",
       "1958585                           Tim ash 300 hydratant   \n",
       "737169                             BIO LG 2X130 PAT DCE   \n",
       "889837   Des ptit yop chocolat 180gx6 offre decouverte.   \n",
       "746078                   25 cl Grimbergen Double-Ambrèe   \n",
       "\n",
       "                             generic_name  \n",
       "737005   Purée de légumes adaptée à bébé.  \n",
       "1958585             Après Shampoing Femme  \n",
       "737169              Purée adaptée à bébé.  \n",
       "889837          Dessert lacté au chocolat  \n",
       "746078                     Bière d'abbaye  "
      ]
     },
     "execution_count": 92,
     "metadata": {},
     "output_type": "execute_result"
    }
   ],
   "source": [
    "tab_modalities"
   ]
  },
  {
   "cell_type": "markdown",
   "id": "cc5834b5",
   "metadata": {
    "hidden": true
   },
   "source": [
    "Ces trois variables nous apportent la même information. abbreviated_product_name et generic_name ayant un fort pourcentage de valeurs manquantes, nous décidons de supprimer ces 2 variables."
   ]
  },
  {
   "cell_type": "code",
   "execution_count": 93,
   "id": "14236b36",
   "metadata": {
    "hidden": true
   },
   "outputs": [
    {
     "name": "stdout",
     "output_type": "stream",
     "text": [
      "Nombre de lignes: 2053679\n",
      "Nombre de variables: 113\n"
     ]
    }
   ],
   "source": [
    "# Suppression des variables abbreviated_product_name et generic_name\n",
    "openfoodfacts_en.drop(['abbreviated_product_name', 'generic_name'], axis = 'columns', inplace = True)\n",
    "print(f\"Nombre de lignes: {openfoodfacts_en.shape[0]}\\nNombre de variables: {openfoodfacts_en.shape[1]}\")"
   ]
  },
  {
   "cell_type": "markdown",
   "id": "96574bd3",
   "metadata": {
    "heading_collapsed": true
   },
   "source": [
    "### Variables sur les additifs <a class=\"anchor\" id=\"additives\"></a>"
   ]
  },
  {
   "cell_type": "code",
   "execution_count": 94,
   "id": "7cd7ad03",
   "metadata": {
    "hidden": true
   },
   "outputs": [],
   "source": [
    "tab_desc, tab_modalities = check_redundancy_steps(openfoodfacts_en, 'additives')"
   ]
  },
  {
   "cell_type": "code",
   "execution_count": 95,
   "id": "d62d2a20",
   "metadata": {
    "hidden": true
   },
   "outputs": [
    {
     "data": {
      "text/html": [
       "<div>\n",
       "<style scoped>\n",
       "    .dataframe tbody tr th:only-of-type {\n",
       "        vertical-align: middle;\n",
       "    }\n",
       "\n",
       "    .dataframe tbody tr th {\n",
       "        vertical-align: top;\n",
       "    }\n",
       "\n",
       "    .dataframe thead th {\n",
       "        text-align: right;\n",
       "    }\n",
       "</style>\n",
       "<table border=\"1\" class=\"dataframe\">\n",
       "  <thead>\n",
       "    <tr style=\"text-align: right;\">\n",
       "      <th></th>\n",
       "      <th>Variable name</th>\n",
       "      <th>Variable type</th>\n",
       "      <th>Example</th>\n",
       "      <th>Raws</th>\n",
       "      <th>Distinct</th>\n",
       "      <th>% distinct</th>\n",
       "      <th>Not NaN</th>\n",
       "      <th>% Not NaN</th>\n",
       "      <th>NaN</th>\n",
       "      <th>% NaN</th>\n",
       "    </tr>\n",
       "  </thead>\n",
       "  <tbody>\n",
       "    <tr>\n",
       "      <th>0</th>\n",
       "      <td>additives_n</td>\n",
       "      <td>float64</td>\n",
       "      <td>0.0</td>\n",
       "      <td>2053679</td>\n",
       "      <td>40</td>\n",
       "      <td>0.0</td>\n",
       "      <td>732673</td>\n",
       "      <td>35.68</td>\n",
       "      <td>1321006</td>\n",
       "      <td>64.32</td>\n",
       "    </tr>\n",
       "    <tr>\n",
       "      <th>1</th>\n",
       "      <td>additives_en</td>\n",
       "      <td>object</td>\n",
       "      <td>E296 - Malic acid,E330 - Citric acid,E552 - Calcium silicate,E950 - Acesulfame k,E955 - Sucralose</td>\n",
       "      <td>2053679</td>\n",
       "      <td>100577</td>\n",
       "      <td>4.9</td>\n",
       "      <td>423384</td>\n",
       "      <td>20.62</td>\n",
       "      <td>1630295</td>\n",
       "      <td>79.38</td>\n",
       "    </tr>\n",
       "  </tbody>\n",
       "</table>\n",
       "</div>"
      ],
      "text/plain": [
       "  Variable name Variable type  \\\n",
       "0   additives_n       float64   \n",
       "1  additives_en        object   \n",
       "\n",
       "                                                                                             Example  \\\n",
       "0                                                                                                0.0   \n",
       "1  E296 - Malic acid,E330 - Citric acid,E552 - Calcium silicate,E950 - Acesulfame k,E955 - Sucralose   \n",
       "\n",
       "      Raws Distinct  % distinct Not NaN  % Not NaN      NaN  % NaN  \n",
       "0  2053679       40         0.0  732673      35.68  1321006  64.32  \n",
       "1  2053679   100577         4.9  423384      20.62  1630295  79.38  "
      ]
     },
     "execution_count": 95,
     "metadata": {},
     "output_type": "execute_result"
    }
   ],
   "source": [
    "tab_desc"
   ]
  },
  {
   "cell_type": "code",
   "execution_count": 96,
   "id": "c0f72470",
   "metadata": {
    "hidden": true
   },
   "outputs": [
    {
     "data": {
      "text/html": [
       "<div>\n",
       "<style scoped>\n",
       "    .dataframe tbody tr th:only-of-type {\n",
       "        vertical-align: middle;\n",
       "    }\n",
       "\n",
       "    .dataframe tbody tr th {\n",
       "        vertical-align: top;\n",
       "    }\n",
       "\n",
       "    .dataframe thead th {\n",
       "        text-align: right;\n",
       "    }\n",
       "</style>\n",
       "<table border=\"1\" class=\"dataframe\">\n",
       "  <thead>\n",
       "    <tr style=\"text-align: right;\">\n",
       "      <th></th>\n",
       "      <th>additives_n</th>\n",
       "      <th>additives_en</th>\n",
       "    </tr>\n",
       "  </thead>\n",
       "  <tbody>\n",
       "    <tr>\n",
       "      <th>1525722</th>\n",
       "      <td>7.0</td>\n",
       "      <td>E101 - Riboflavin,E120 - Cochineal,E202 - Potassium sorbate,E211 - Sodium benzoate,E330 - Citric acid,E412 - Guar gum,E415 - Xanthan gum</td>\n",
       "    </tr>\n",
       "    <tr>\n",
       "      <th>1020115</th>\n",
       "      <td>4.0</td>\n",
       "      <td>E330 - Citric acid,E336 - Potassium tartrates,E336i - Monopotassium tartrate,E414 - Acacia gum,E500 - Sodium carbonates</td>\n",
       "    </tr>\n",
       "    <tr>\n",
       "      <th>1742417</th>\n",
       "      <td>5.0</td>\n",
       "      <td>E14XX - Modified Starch,E330 - Citric acid,E471 - Mono- and diglycerides of fatty acids,E901 - White and yellow beeswax,E903 - Carnauba wax</td>\n",
       "    </tr>\n",
       "    <tr>\n",
       "      <th>37641</th>\n",
       "      <td>1.0</td>\n",
       "      <td>E924a - Potassium bromate</td>\n",
       "    </tr>\n",
       "    <tr>\n",
       "      <th>411074</th>\n",
       "      <td>4.0</td>\n",
       "      <td>E330 - Citric acid,E331 - Sodium citrates,E410 - Locust bean gum,E440 - Pectins</td>\n",
       "    </tr>\n",
       "  </tbody>\n",
       "</table>\n",
       "</div>"
      ],
      "text/plain": [
       "         additives_n  \\\n",
       "1525722          7.0   \n",
       "1020115          4.0   \n",
       "1742417          5.0   \n",
       "37641            1.0   \n",
       "411074           4.0   \n",
       "\n",
       "                                                                                                                                        additives_en  \n",
       "1525722     E101 - Riboflavin,E120 - Cochineal,E202 - Potassium sorbate,E211 - Sodium benzoate,E330 - Citric acid,E412 - Guar gum,E415 - Xanthan gum  \n",
       "1020115                      E330 - Citric acid,E336 - Potassium tartrates,E336i - Monopotassium tartrate,E414 - Acacia gum,E500 - Sodium carbonates  \n",
       "1742417  E14XX - Modified Starch,E330 - Citric acid,E471 - Mono- and diglycerides of fatty acids,E901 - White and yellow beeswax,E903 - Carnauba wax  \n",
       "37641                                                                                                                      E924a - Potassium bromate  \n",
       "411074                                                               E330 - Citric acid,E331 - Sodium citrates,E410 - Locust bean gum,E440 - Pectins  "
      ]
     },
     "execution_count": 96,
     "metadata": {},
     "output_type": "execute_result"
    }
   ],
   "source": [
    "tab_modalities"
   ]
  },
  {
   "cell_type": "markdown",
   "id": "c4030ed3",
   "metadata": {
    "hidden": true
   },
   "source": [
    "Le pourcentage de valeurs manquantes étant \"acceptable\", nous décidons de conserver ces variables pour le moment."
   ]
  },
  {
   "cell_type": "markdown",
   "id": "a490d7dd",
   "metadata": {
    "heading_collapsed": true
   },
   "source": [
    "### Variables sur les dates <a class=\"anchor\" id=\"dates\"></a>"
   ]
  },
  {
   "cell_type": "code",
   "execution_count": 97,
   "id": "31287250",
   "metadata": {
    "hidden": true
   },
   "outputs": [
    {
     "name": "stdout",
     "output_type": "stream",
     "text": [
      "Liste des variables dont le titre se termine par _t ou _datetime: \n"
     ]
    },
    {
     "data": {
      "text/plain": [
       "['created_t', 'created_datetime', 'last_modified_t', 'last_modified_datetime']"
      ]
     },
     "execution_count": 97,
     "metadata": {},
     "output_type": "execute_result"
    }
   ],
   "source": [
    "# Colonnes dont le titre se termine par \"_t\" ou \"_datetime\"\n",
    "print(\"Liste des variables dont le titre se termine par _t ou _datetime: \")\n",
    "liste_col_date = openfoodfacts_en.iloc[:,(openfoodfacts_en.columns.str.endswith('_datetime')) |\n",
    "                   (openfoodfacts_en.columns.str.endswith('_t'))].columns.tolist()\n",
    "liste_col_date"
   ]
  },
  {
   "cell_type": "code",
   "execution_count": 98,
   "id": "6cd8c667",
   "metadata": {
    "hidden": true
   },
   "outputs": [],
   "source": [
    "# Passage au bon format\n",
    "from datetime import datetime\n",
    "import time\n",
    "\n",
    "for column in liste_col_date:\n",
    "    if column.endswith('_t'):\n",
    "        openfoodfacts_en[column] = pd.to_datetime(openfoodfacts_en[column], unit='s')\n",
    "    else:\n",
    "        openfoodfacts_en[column] = pd.to_datetime(openfoodfacts_en[column], format=\"%Y-%m-%d %H:%M:%S.%f\", utc=True)"
   ]
  },
  {
   "cell_type": "code",
   "execution_count": 99,
   "id": "142ade71",
   "metadata": {
    "hidden": true
   },
   "outputs": [
    {
     "data": {
      "text/html": [
       "<div>\n",
       "<style scoped>\n",
       "    .dataframe tbody tr th:only-of-type {\n",
       "        vertical-align: middle;\n",
       "    }\n",
       "\n",
       "    .dataframe tbody tr th {\n",
       "        vertical-align: top;\n",
       "    }\n",
       "\n",
       "    .dataframe thead th {\n",
       "        text-align: right;\n",
       "    }\n",
       "</style>\n",
       "<table border=\"1\" class=\"dataframe\">\n",
       "  <thead>\n",
       "    <tr style=\"text-align: right;\">\n",
       "      <th></th>\n",
       "      <th>created_t</th>\n",
       "      <th>created_datetime</th>\n",
       "      <th>last_modified_t</th>\n",
       "      <th>last_modified_datetime</th>\n",
       "    </tr>\n",
       "  </thead>\n",
       "  <tbody>\n",
       "    <tr>\n",
       "      <th>0</th>\n",
       "      <td>2021-06-16 14:53:28</td>\n",
       "      <td>2021-06-16 14:53:28+00:00</td>\n",
       "      <td>2021-06-16 14:53:29</td>\n",
       "      <td>2021-06-16 14:53:29+00:00</td>\n",
       "    </tr>\n",
       "    <tr>\n",
       "      <th>1</th>\n",
       "      <td>2021-09-01 08:11:51</td>\n",
       "      <td>2021-09-01 08:11:51+00:00</td>\n",
       "      <td>2021-09-01 08:14:24</td>\n",
       "      <td>2021-09-01 08:14:24+00:00</td>\n",
       "    </tr>\n",
       "    <tr>\n",
       "      <th>2</th>\n",
       "      <td>2018-06-15 10:38:00</td>\n",
       "      <td>2018-06-15 10:38:00+00:00</td>\n",
       "      <td>2019-06-25 11:55:18</td>\n",
       "      <td>2019-06-25 11:55:18+00:00</td>\n",
       "    </tr>\n",
       "    <tr>\n",
       "      <th>3</th>\n",
       "      <td>2018-10-13 21:06:14</td>\n",
       "      <td>2018-10-13 21:06:14+00:00</td>\n",
       "      <td>2018-10-13 21:06:57</td>\n",
       "      <td>2018-10-13 21:06:57+00:00</td>\n",
       "    </tr>\n",
       "    <tr>\n",
       "      <th>4</th>\n",
       "      <td>2019-11-19 15:02:16</td>\n",
       "      <td>2019-11-19 15:02:16+00:00</td>\n",
       "      <td>2021-06-22 19:39:25</td>\n",
       "      <td>2021-06-22 19:39:25+00:00</td>\n",
       "    </tr>\n",
       "  </tbody>\n",
       "</table>\n",
       "</div>"
      ],
      "text/plain": [
       "            created_t          created_datetime     last_modified_t  \\\n",
       "0 2021-06-16 14:53:28 2021-06-16 14:53:28+00:00 2021-06-16 14:53:29   \n",
       "1 2021-09-01 08:11:51 2021-09-01 08:11:51+00:00 2021-09-01 08:14:24   \n",
       "2 2018-06-15 10:38:00 2018-06-15 10:38:00+00:00 2019-06-25 11:55:18   \n",
       "3 2018-10-13 21:06:14 2018-10-13 21:06:14+00:00 2018-10-13 21:06:57   \n",
       "4 2019-11-19 15:02:16 2019-11-19 15:02:16+00:00 2021-06-22 19:39:25   \n",
       "\n",
       "     last_modified_datetime  \n",
       "0 2021-06-16 14:53:29+00:00  \n",
       "1 2021-09-01 08:14:24+00:00  \n",
       "2 2019-06-25 11:55:18+00:00  \n",
       "3 2018-10-13 21:06:57+00:00  \n",
       "4 2021-06-22 19:39:25+00:00  "
      ]
     },
     "execution_count": 99,
     "metadata": {},
     "output_type": "execute_result"
    }
   ],
   "source": [
    "openfoodfacts_en[liste_col_date].head()"
   ]
  },
  {
   "cell_type": "markdown",
   "id": "60c28df4",
   "metadata": {
    "hidden": true
   },
   "source": [
    "On remarque de la redondance d'information, on supprime les variables qui se terminent par _datetime."
   ]
  },
  {
   "cell_type": "code",
   "execution_count": 100,
   "id": "357de87f",
   "metadata": {
    "hidden": true
   },
   "outputs": [],
   "source": [
    "# Suppression des variables redondantes\n",
    "openfoodfacts_en.drop(['created_datetime', 'last_modified_datetime'], axis=1, inplace = True)"
   ]
  },
  {
   "cell_type": "code",
   "execution_count": 101,
   "id": "cfe83dd1",
   "metadata": {
    "hidden": true
   },
   "outputs": [],
   "source": [
    "# On renomme les variables de date\n",
    "openfoodfacts_en.rename(columns={'created_t': 'creation_date', \n",
    "                              'last_modified_t': 'last_modified_date'}, inplace = True)"
   ]
  },
  {
   "cell_type": "code",
   "execution_count": 102,
   "id": "7c9e5382",
   "metadata": {
    "hidden": true
   },
   "outputs": [],
   "source": [
    "# On créé des variables \"Année\"\n",
    "#openfoodfacts_en['creation_year'] = pd.to_datetime(openfoodfacts_en['creation_date'], format='%d:%m:%Y').dt.year\n",
    "#openfoodfacts_en['last_modified_year'] = pd.to_datetime(openfoodfacts_en['last_modified_date'], format='%d:%m:%Y').dt.year"
   ]
  },
  {
   "cell_type": "code",
   "execution_count": 103,
   "id": "85d40441",
   "metadata": {
    "hidden": true
   },
   "outputs": [],
   "source": [
    "# On décale les colonnes \"Année\" après les colonnes de date:\n",
    "#colonne_a_decaler = openfoodfacts_en.pop('creation_year') \n",
    "#openfoodfacts_en.insert(openfoodfacts_en.columns.get_loc(\"creation_date\")+1, 'creation_year', colonne_a_decaler) \n",
    "\n",
    "#colonne_a_decaler = openfoodfacts_en.pop('last_modified_year') \n",
    "#openfoodfacts_en.insert(openfoodfacts_en.columns.get_loc(\"last_modified_date\")+1, 'last_modified_year', colonne_a_decaler) "
   ]
  },
  {
   "cell_type": "code",
   "execution_count": 104,
   "id": "59213ccf",
   "metadata": {
    "hidden": true
   },
   "outputs": [],
   "source": [
    "#openfoodfacts_en.dtypes[0:10]"
   ]
  },
  {
   "cell_type": "markdown",
   "id": "acf47b87",
   "metadata": {
    "heading_collapsed": true
   },
   "source": [
    "### Variables sur les portions <a class=\"anchor\" id=\"serving\"></a>"
   ]
  },
  {
   "cell_type": "markdown",
   "id": "102a6af0",
   "metadata": {
    "hidden": true
   },
   "source": [
    "Les variables qui commencent par serving_ correspondent au nombre de nutriments (en g, ou kj pour l'énergie) pour une part du produit. Elles doivent être de type numérique."
   ]
  },
  {
   "cell_type": "code",
   "execution_count": 105,
   "id": "66842489",
   "metadata": {
    "hidden": true
   },
   "outputs": [],
   "source": [
    "tab_desc, tab_modalities = check_redundancy_steps(openfoodfacts_en, 'serving')"
   ]
  },
  {
   "cell_type": "code",
   "execution_count": 106,
   "id": "7400397c",
   "metadata": {
    "hidden": true
   },
   "outputs": [
    {
     "data": {
      "text/html": [
       "<div>\n",
       "<style scoped>\n",
       "    .dataframe tbody tr th:only-of-type {\n",
       "        vertical-align: middle;\n",
       "    }\n",
       "\n",
       "    .dataframe tbody tr th {\n",
       "        vertical-align: top;\n",
       "    }\n",
       "\n",
       "    .dataframe thead th {\n",
       "        text-align: right;\n",
       "    }\n",
       "</style>\n",
       "<table border=\"1\" class=\"dataframe\">\n",
       "  <thead>\n",
       "    <tr style=\"text-align: right;\">\n",
       "      <th></th>\n",
       "      <th>Variable name</th>\n",
       "      <th>Variable type</th>\n",
       "      <th>Example</th>\n",
       "      <th>Raws</th>\n",
       "      <th>Distinct</th>\n",
       "      <th>% distinct</th>\n",
       "      <th>Not NaN</th>\n",
       "      <th>% Not NaN</th>\n",
       "      <th>NaN</th>\n",
       "      <th>% NaN</th>\n",
       "    </tr>\n",
       "  </thead>\n",
       "  <tbody>\n",
       "    <tr>\n",
       "      <th>0</th>\n",
       "      <td>serving_size</td>\n",
       "      <td>object</td>\n",
       "      <td>serving</td>\n",
       "      <td>2053679</td>\n",
       "      <td>47101</td>\n",
       "      <td>2.29</td>\n",
       "      <td>509794</td>\n",
       "      <td>24.82</td>\n",
       "      <td>1543885</td>\n",
       "      <td>75.18</td>\n",
       "    </tr>\n",
       "    <tr>\n",
       "      <th>1</th>\n",
       "      <td>serving_quantity</td>\n",
       "      <td>float64</td>\n",
       "      <td>28.0</td>\n",
       "      <td>2053679</td>\n",
       "      <td>2456</td>\n",
       "      <td>0.12</td>\n",
       "      <td>505560</td>\n",
       "      <td>24.62</td>\n",
       "      <td>1548119</td>\n",
       "      <td>75.38</td>\n",
       "    </tr>\n",
       "  </tbody>\n",
       "</table>\n",
       "</div>"
      ],
      "text/plain": [
       "      Variable name Variable type  Example     Raws Distinct  % distinct  \\\n",
       "0      serving_size        object  serving  2053679    47101        2.29   \n",
       "1  serving_quantity       float64     28.0  2053679     2456        0.12   \n",
       "\n",
       "  Not NaN  % Not NaN      NaN  % NaN  \n",
       "0  509794      24.82  1543885  75.18  \n",
       "1  505560      24.62  1548119  75.38  "
      ]
     },
     "execution_count": 106,
     "metadata": {},
     "output_type": "execute_result"
    }
   ],
   "source": [
    "tab_desc"
   ]
  },
  {
   "cell_type": "code",
   "execution_count": 107,
   "id": "a15126cf",
   "metadata": {
    "hidden": true,
    "scrolled": true
   },
   "outputs": [
    {
     "data": {
      "text/html": [
       "<div>\n",
       "<style scoped>\n",
       "    .dataframe tbody tr th:only-of-type {\n",
       "        vertical-align: middle;\n",
       "    }\n",
       "\n",
       "    .dataframe tbody tr th {\n",
       "        vertical-align: top;\n",
       "    }\n",
       "\n",
       "    .dataframe thead th {\n",
       "        text-align: right;\n",
       "    }\n",
       "</style>\n",
       "<table border=\"1\" class=\"dataframe\">\n",
       "  <thead>\n",
       "    <tr style=\"text-align: right;\">\n",
       "      <th></th>\n",
       "      <th>serving_size</th>\n",
       "      <th>serving_quantity</th>\n",
       "    </tr>\n",
       "  </thead>\n",
       "  <tbody>\n",
       "    <tr>\n",
       "      <th>112217</th>\n",
       "      <td>2 tsp (5 g)</td>\n",
       "      <td>5.0</td>\n",
       "    </tr>\n",
       "    <tr>\n",
       "      <th>1517889</th>\n",
       "      <td>20g</td>\n",
       "      <td>20.0</td>\n",
       "    </tr>\n",
       "    <tr>\n",
       "      <th>112249</th>\n",
       "      <td>1/4 cup (28 g)</td>\n",
       "      <td>28.0</td>\n",
       "    </tr>\n",
       "    <tr>\n",
       "      <th>50399</th>\n",
       "      <td>3 ONZ (84 g)</td>\n",
       "      <td>84.0</td>\n",
       "    </tr>\n",
       "    <tr>\n",
       "      <th>833918</th>\n",
       "      <td>47,5 g</td>\n",
       "      <td>47.5</td>\n",
       "    </tr>\n",
       "  </tbody>\n",
       "</table>\n",
       "</div>"
      ],
      "text/plain": [
       "           serving_size  serving_quantity\n",
       "112217      2 tsp (5 g)               5.0\n",
       "1517889             20g              20.0\n",
       "112249   1/4 cup (28 g)              28.0\n",
       "50399      3 ONZ (84 g)              84.0\n",
       "833918           47,5 g              47.5"
      ]
     },
     "execution_count": 107,
     "metadata": {},
     "output_type": "execute_result"
    }
   ],
   "source": [
    "tab_modalities"
   ]
  },
  {
   "cell_type": "markdown",
   "id": "77b7357a",
   "metadata": {
    "hidden": true
   },
   "source": [
    "Ces 2 colonnes semblent être redondantes. Le % de NaN étant assez similaire et la variable serving_quantity déjà au format numérique, supprimons la variable serving_size."
   ]
  },
  {
   "cell_type": "code",
   "execution_count": 108,
   "id": "887352c2",
   "metadata": {
    "hidden": true
   },
   "outputs": [
    {
     "name": "stdout",
     "output_type": "stream",
     "text": [
      "Nombre de lignes: 2053679\n",
      "Nombre de variables: 110\n"
     ]
    }
   ],
   "source": [
    "# Suppression de la variable serving_size\n",
    "openfoodfacts_en.drop('serving_size', axis = 'columns', inplace = True)\n",
    "\n",
    "print(f\"Nombre de lignes: {openfoodfacts_en.shape[0]}\\nNombre de variables: {openfoodfacts_en.shape[1]}\")"
   ]
  },
  {
   "cell_type": "markdown",
   "id": "3ab54e43",
   "metadata": {
    "heading_collapsed": true
   },
   "source": [
    "### Variables sur les labels <a class=\"anchor\" id=\"labels\"></a>"
   ]
  },
  {
   "cell_type": "code",
   "execution_count": 109,
   "id": "928119ab",
   "metadata": {
    "hidden": true
   },
   "outputs": [],
   "source": [
    "tab_desc, tab_modalities = check_redundancy_steps(openfoodfacts_en, 'labels')"
   ]
  },
  {
   "cell_type": "code",
   "execution_count": 110,
   "id": "1487e538",
   "metadata": {
    "hidden": true
   },
   "outputs": [
    {
     "data": {
      "text/html": [
       "<div>\n",
       "<style scoped>\n",
       "    .dataframe tbody tr th:only-of-type {\n",
       "        vertical-align: middle;\n",
       "    }\n",
       "\n",
       "    .dataframe tbody tr th {\n",
       "        vertical-align: top;\n",
       "    }\n",
       "\n",
       "    .dataframe thead th {\n",
       "        text-align: right;\n",
       "    }\n",
       "</style>\n",
       "<table border=\"1\" class=\"dataframe\">\n",
       "  <thead>\n",
       "    <tr style=\"text-align: right;\">\n",
       "      <th></th>\n",
       "      <th>Variable name</th>\n",
       "      <th>Variable type</th>\n",
       "      <th>Example</th>\n",
       "      <th>Raws</th>\n",
       "      <th>Distinct</th>\n",
       "      <th>% distinct</th>\n",
       "      <th>Not NaN</th>\n",
       "      <th>% Not NaN</th>\n",
       "      <th>NaN</th>\n",
       "      <th>% NaN</th>\n",
       "    </tr>\n",
       "  </thead>\n",
       "  <tbody>\n",
       "    <tr>\n",
       "      <th>0</th>\n",
       "      <td>labels_en</td>\n",
       "      <td>object</td>\n",
       "      <td>fr:delois-france</td>\n",
       "      <td>2053679</td>\n",
       "      <td>60362</td>\n",
       "      <td>2.94</td>\n",
       "      <td>438458</td>\n",
       "      <td>21.35</td>\n",
       "      <td>1615221</td>\n",
       "      <td>78.65</td>\n",
       "    </tr>\n",
       "  </tbody>\n",
       "</table>\n",
       "</div>"
      ],
      "text/plain": [
       "  Variable name Variable type           Example     Raws Distinct  % distinct  \\\n",
       "0     labels_en        object  fr:delois-france  2053679    60362        2.94   \n",
       "\n",
       "  Not NaN  % Not NaN      NaN  % NaN  \n",
       "0  438458      21.35  1615221  78.65  "
      ]
     },
     "execution_count": 110,
     "metadata": {},
     "output_type": "execute_result"
    }
   ],
   "source": [
    "tab_desc"
   ]
  },
  {
   "cell_type": "code",
   "execution_count": 111,
   "id": "a71c657a",
   "metadata": {
    "hidden": true
   },
   "outputs": [
    {
     "data": {
      "text/html": [
       "<div>\n",
       "<style scoped>\n",
       "    .dataframe tbody tr th:only-of-type {\n",
       "        vertical-align: middle;\n",
       "    }\n",
       "\n",
       "    .dataframe tbody tr th {\n",
       "        vertical-align: top;\n",
       "    }\n",
       "\n",
       "    .dataframe thead th {\n",
       "        text-align: right;\n",
       "    }\n",
       "</style>\n",
       "<table border=\"1\" class=\"dataframe\">\n",
       "  <thead>\n",
       "    <tr style=\"text-align: right;\">\n",
       "      <th></th>\n",
       "      <th>labels_en</th>\n",
       "    </tr>\n",
       "  </thead>\n",
       "  <tbody>\n",
       "    <tr>\n",
       "      <th>1153191</th>\n",
       "      <td>Organic,EU Organic,AB Agriculture Biologique</td>\n",
       "    </tr>\n",
       "    <tr>\n",
       "      <th>1124144</th>\n",
       "      <td>Made in France</td>\n",
       "    </tr>\n",
       "    <tr>\n",
       "      <th>733429</th>\n",
       "      <td>Green Dot</td>\n",
       "    </tr>\n",
       "    <tr>\n",
       "      <th>28562</th>\n",
       "      <td>French meat,French poultry,No palm oil,No preservatives</td>\n",
       "    </tr>\n",
       "    <tr>\n",
       "      <th>600629</th>\n",
       "      <td>Organic</td>\n",
       "    </tr>\n",
       "  </tbody>\n",
       "</table>\n",
       "</div>"
      ],
      "text/plain": [
       "                                                       labels_en\n",
       "1153191             Organic,EU Organic,AB Agriculture Biologique\n",
       "1124144                                           Made in France\n",
       "733429                                                 Green Dot\n",
       "28562    French meat,French poultry,No palm oil,No preservatives\n",
       "600629                                                   Organic"
      ]
     },
     "execution_count": 111,
     "metadata": {},
     "output_type": "execute_result"
    }
   ],
   "source": [
    "tab_modalities"
   ]
  },
  {
   "cell_type": "code",
   "execution_count": 112,
   "id": "a253e98e",
   "metadata": {
    "hidden": true
   },
   "outputs": [
    {
     "data": {
      "image/png": "[encoded data removed]",
      "text/plain": [
       "<Figure size 576x432 with 1 Axes>"
      ]
     },
     "metadata": {
      "needs_background": "light"
     },
     "output_type": "display_data"
    }
   ],
   "source": [
    "labels_en_count = openfoodfacts_en['labels_en'].value_counts()[0:20]\n",
    "\n",
    "plt.figure(figsize=(8, 6))\n",
    "sns.barplot(y = labels_en_count.index, x = labels_en_count.values, palette = 'muted')\n",
    "plt.title(\"TOP 20 des labels les plus utilisées\")\n",
    "plt.ylabel(\"\")\n",
    "plt.xlabel(\"Occurences\");"
   ]
  },
  {
   "cell_type": "markdown",
   "id": "948de19e",
   "metadata": {
    "hidden": true
   },
   "source": [
    "Gardons cette variable qui permet notamment de savoir si le produit provient de l'agriculture biologique par exemple."
   ]
  },
  {
   "cell_type": "markdown",
   "id": "297eaf44",
   "metadata": {},
   "source": [
    "### Variables sur les scores <a class=\"anchor\" id=\"scores\"></a>"
   ]
  },
  {
   "cell_type": "markdown",
   "id": "1609044c",
   "metadata": {
    "heading_collapsed": true
   },
   "source": [
    "#### Nutriscore"
   ]
  },
  {
   "cell_type": "markdown",
   "id": "99e643bf",
   "metadata": {
    "hidden": true
   },
   "source": [
    "Le nutriscore est attribué sur la base d’un score prenant en compte pour 100 gr ou 100 mL de produit, la teneur :\n",
    "\n",
    "- en nutriments et aliments à favoriser (fibres, protéines, fruits, légumes, légumineuses, fruits à coques, huile de colza, de noix et d’olive),\n",
    "- et en nutriments à limiter (énergie, acides gras saturés, sucres, sel)\n",
    "\n",
    "Après calcul, le score obtenu par un produit permet de lui attribuer une lettre et une couleur."
   ]
  },
  {
   "cell_type": "code",
   "execution_count": 113,
   "id": "ad84582f",
   "metadata": {
    "hidden": true
   },
   "outputs": [],
   "source": [
    "tab_desc, tab_modalities = check_redundancy_steps(openfoodfacts_en, 'nutriscore')"
   ]
  },
  {
   "cell_type": "code",
   "execution_count": 114,
   "id": "284349c8",
   "metadata": {
    "hidden": true
   },
   "outputs": [
    {
     "data": {
      "text/html": [
       "<div>\n",
       "<style scoped>\n",
       "    .dataframe tbody tr th:only-of-type {\n",
       "        vertical-align: middle;\n",
       "    }\n",
       "\n",
       "    .dataframe tbody tr th {\n",
       "        vertical-align: top;\n",
       "    }\n",
       "\n",
       "    .dataframe thead th {\n",
       "        text-align: right;\n",
       "    }\n",
       "</style>\n",
       "<table border=\"1\" class=\"dataframe\">\n",
       "  <thead>\n",
       "    <tr style=\"text-align: right;\">\n",
       "      <th></th>\n",
       "      <th>Variable name</th>\n",
       "      <th>Variable type</th>\n",
       "      <th>Example</th>\n",
       "      <th>Raws</th>\n",
       "      <th>Distinct</th>\n",
       "      <th>% distinct</th>\n",
       "      <th>Not NaN</th>\n",
       "      <th>% Not NaN</th>\n",
       "      <th>NaN</th>\n",
       "      <th>% NaN</th>\n",
       "    </tr>\n",
       "  </thead>\n",
       "  <tbody>\n",
       "    <tr>\n",
       "      <th>0</th>\n",
       "      <td>nutriscore_score</td>\n",
       "      <td>float64</td>\n",
       "      <td>18.0</td>\n",
       "      <td>2053679</td>\n",
       "      <td>56</td>\n",
       "      <td>0.0</td>\n",
       "      <td>730959</td>\n",
       "      <td>35.59</td>\n",
       "      <td>1322720</td>\n",
       "      <td>64.41</td>\n",
       "    </tr>\n",
       "    <tr>\n",
       "      <th>1</th>\n",
       "      <td>nutriscore_grade</td>\n",
       "      <td>object</td>\n",
       "      <td>d</td>\n",
       "      <td>2053679</td>\n",
       "      <td>5</td>\n",
       "      <td>0.0</td>\n",
       "      <td>730959</td>\n",
       "      <td>35.59</td>\n",
       "      <td>1322720</td>\n",
       "      <td>64.41</td>\n",
       "    </tr>\n",
       "  </tbody>\n",
       "</table>\n",
       "</div>"
      ],
      "text/plain": [
       "      Variable name Variable type Example     Raws Distinct  % distinct  \\\n",
       "0  nutriscore_score       float64    18.0  2053679       56         0.0   \n",
       "1  nutriscore_grade        object       d  2053679        5         0.0   \n",
       "\n",
       "  Not NaN  % Not NaN      NaN  % NaN  \n",
       "0  730959      35.59  1322720  64.41  \n",
       "1  730959      35.59  1322720  64.41  "
      ]
     },
     "execution_count": 114,
     "metadata": {},
     "output_type": "execute_result"
    }
   ],
   "source": [
    "tab_desc"
   ]
  },
  {
   "cell_type": "code",
   "execution_count": 115,
   "id": "424b519b",
   "metadata": {
    "hidden": true
   },
   "outputs": [
    {
     "data": {
      "text/html": [
       "<div>\n",
       "<style scoped>\n",
       "    .dataframe tbody tr th:only-of-type {\n",
       "        vertical-align: middle;\n",
       "    }\n",
       "\n",
       "    .dataframe tbody tr th {\n",
       "        vertical-align: top;\n",
       "    }\n",
       "\n",
       "    .dataframe thead th {\n",
       "        text-align: right;\n",
       "    }\n",
       "</style>\n",
       "<table border=\"1\" class=\"dataframe\">\n",
       "  <thead>\n",
       "    <tr style=\"text-align: right;\">\n",
       "      <th></th>\n",
       "      <th>nutriscore_score</th>\n",
       "      <th>nutriscore_grade</th>\n",
       "    </tr>\n",
       "  </thead>\n",
       "  <tbody>\n",
       "    <tr>\n",
       "      <th>817973</th>\n",
       "      <td>22.0</td>\n",
       "      <td>e</td>\n",
       "    </tr>\n",
       "    <tr>\n",
       "      <th>471137</th>\n",
       "      <td>19.0</td>\n",
       "      <td>e</td>\n",
       "    </tr>\n",
       "    <tr>\n",
       "      <th>1820309</th>\n",
       "      <td>16.0</td>\n",
       "      <td>d</td>\n",
       "    </tr>\n",
       "    <tr>\n",
       "      <th>1228234</th>\n",
       "      <td>-6.0</td>\n",
       "      <td>a</td>\n",
       "    </tr>\n",
       "    <tr>\n",
       "      <th>1653324</th>\n",
       "      <td>11.0</td>\n",
       "      <td>d</td>\n",
       "    </tr>\n",
       "  </tbody>\n",
       "</table>\n",
       "</div>"
      ],
      "text/plain": [
       "         nutriscore_score nutriscore_grade\n",
       "817973               22.0                e\n",
       "471137               19.0                e\n",
       "1820309              16.0                d\n",
       "1228234              -6.0                a\n",
       "1653324              11.0                d"
      ]
     },
     "execution_count": 115,
     "metadata": {},
     "output_type": "execute_result"
    }
   ],
   "source": [
    "tab_modalities"
   ]
  },
  {
   "cell_type": "markdown",
   "id": "6243bd50",
   "metadata": {
    "hidden": true
   },
   "source": [
    "Il parait plus pertinent de conserver le nutriscore_grade qui figure sur les produits. Le nutriscore_score permet juste d'associer le produit à une lettre en fonction de son score."
   ]
  },
  {
   "cell_type": "code",
   "execution_count": 116,
   "id": "3d13eaf4",
   "metadata": {
    "hidden": true
   },
   "outputs": [
    {
     "name": "stdout",
     "output_type": "stream",
     "text": [
      "Nombre de lignes: 2053679\n",
      "Nombre de variables: 109\n"
     ]
    }
   ],
   "source": [
    "# Suppression de la variable nutriscore_score\n",
    "openfoodfacts_en.drop('nutriscore_score', axis='columns', inplace = True)\n",
    "print(f\"Nombre de lignes: {openfoodfacts_en.shape[0]}\\nNombre de variables: {openfoodfacts_en.shape[1]}\")"
   ]
  },
  {
   "cell_type": "code",
   "execution_count": 117,
   "id": "1820ff1c",
   "metadata": {
    "hidden": true
   },
   "outputs": [
    {
     "data": {
      "image/png": "[encoded data removed]",
      "text/plain": [
       "<Figure size 576x432 with 1 Axes>"
      ]
     },
     "metadata": {
      "needs_background": "light"
     },
     "output_type": "display_data"
    }
   ],
   "source": [
    "nutriscore_count = openfoodfacts_en['nutriscore_grade'].value_counts()\n",
    "\n",
    "plt.figure(figsize=(8, 6))\n",
    "sns.barplot(x = nutriscore_count.index, y = nutriscore_count.values, palette = 'muted')\n",
    "plt.title(\"Répartition des nutriscores dans le dataset\")\n",
    "plt.ylabel(\"Occurences\")\n",
    "plt.xlabel(\"\");"
   ]
  },
  {
   "cell_type": "markdown",
   "id": "87f6d01f",
   "metadata": {
    "hidden": true
   },
   "source": [
    "Les produits les plus mal notés semblent être ceux qui sont le plus représentés."
   ]
  },
  {
   "cell_type": "markdown",
   "id": "90342b25",
   "metadata": {
    "heading_collapsed": true
   },
   "source": [
    "#### Groupe Nova"
   ]
  },
  {
   "cell_type": "markdown",
   "id": "4bb6cea7",
   "metadata": {
    "hidden": true
   },
   "source": [
    "Les groupes Nova correspondent à une classification en 4 groupes selon le degré de transformation des aliments.\n",
    "- Groupe 1 - Aliments non transformés ou transformés minimalement\n",
    "- Groupe 2 - Ingrédients culinaires transformés\n",
    "- Groupe 3 - Aliments transformés\n",
    "- Groupe 4 - Produits alimentaires et boissons ultra-transformés\n",
    "\n",
    "De nouvelles recherches de chercheurs de l'Inserm, de l'Inra et de l'Université Paris 13 (EREN) suggèrent une corrélation entre la consommation d'aliments ultra-transformés et un risque accru de développer un cancer."
   ]
  },
  {
   "cell_type": "code",
   "execution_count": 118,
   "id": "9c933c7f",
   "metadata": {
    "hidden": true
   },
   "outputs": [],
   "source": [
    "tab_desc, tab_modalities = check_redundancy_steps(openfoodfacts_en, 'nova_group')"
   ]
  },
  {
   "cell_type": "code",
   "execution_count": 119,
   "id": "0a17e920",
   "metadata": {
    "hidden": true
   },
   "outputs": [
    {
     "data": {
      "text/html": [
       "<div>\n",
       "<style scoped>\n",
       "    .dataframe tbody tr th:only-of-type {\n",
       "        vertical-align: middle;\n",
       "    }\n",
       "\n",
       "    .dataframe tbody tr th {\n",
       "        vertical-align: top;\n",
       "    }\n",
       "\n",
       "    .dataframe thead th {\n",
       "        text-align: right;\n",
       "    }\n",
       "</style>\n",
       "<table border=\"1\" class=\"dataframe\">\n",
       "  <thead>\n",
       "    <tr style=\"text-align: right;\">\n",
       "      <th></th>\n",
       "      <th>Variable name</th>\n",
       "      <th>Variable type</th>\n",
       "      <th>Example</th>\n",
       "      <th>Raws</th>\n",
       "      <th>Distinct</th>\n",
       "      <th>% distinct</th>\n",
       "      <th>Not NaN</th>\n",
       "      <th>% Not NaN</th>\n",
       "      <th>NaN</th>\n",
       "      <th>% NaN</th>\n",
       "    </tr>\n",
       "  </thead>\n",
       "  <tbody>\n",
       "    <tr>\n",
       "      <th>0</th>\n",
       "      <td>nova_group</td>\n",
       "      <td>float64</td>\n",
       "      <td>4.0</td>\n",
       "      <td>2053679</td>\n",
       "      <td>4</td>\n",
       "      <td>0.0</td>\n",
       "      <td>640096</td>\n",
       "      <td>31.17</td>\n",
       "      <td>1413583</td>\n",
       "      <td>68.83</td>\n",
       "    </tr>\n",
       "  </tbody>\n",
       "</table>\n",
       "</div>"
      ],
      "text/plain": [
       "  Variable name Variable type  Example     Raws Distinct  % distinct Not NaN  \\\n",
       "0    nova_group       float64      4.0  2053679        4         0.0  640096   \n",
       "\n",
       "   % Not NaN      NaN  % NaN  \n",
       "0      31.17  1413583  68.83  "
      ]
     },
     "execution_count": 119,
     "metadata": {},
     "output_type": "execute_result"
    }
   ],
   "source": [
    "tab_desc"
   ]
  },
  {
   "cell_type": "code",
   "execution_count": 120,
   "id": "bd18ccb0",
   "metadata": {
    "hidden": true
   },
   "outputs": [],
   "source": [
    "# Transformons cette variable en int\n",
    "col = np.array(openfoodfacts_en['nova_group'], np.int8) # conversion en numpy array\n",
    "\n",
    "openfoodfacts_en['nova_group'] = col # remplacement de nova group par le numpy array"
   ]
  },
  {
   "cell_type": "code",
   "execution_count": 121,
   "id": "e51e5d3e",
   "metadata": {
    "hidden": true
   },
   "outputs": [],
   "source": [
    "# On remplace les 0 par NaN\n",
    "openfoodfacts_en.loc[openfoodfacts_en['nova_group'] == 0, 'nova_group'] = np.nan"
   ]
  },
  {
   "cell_type": "code",
   "execution_count": 122,
   "id": "a422dc13",
   "metadata": {
    "hidden": true
   },
   "outputs": [],
   "source": [
    "# On rajoute Group devant le numéro\n",
    "openfoodfacts_en['nova_group'] = [f'Group {i}' for i in openfoodfacts_en['nova_group']]"
   ]
  },
  {
   "cell_type": "code",
   "execution_count": 123,
   "id": "5d78cf4a",
   "metadata": {
    "hidden": true
   },
   "outputs": [],
   "source": [
    "# On enlève le .0 qui apparait après le nombre\n",
    "openfoodfacts_en['nova_group'] = [str(i).replace('.0', '') for i in openfoodfacts_en['nova_group']]"
   ]
  },
  {
   "cell_type": "code",
   "execution_count": 124,
   "id": "f03f51a1",
   "metadata": {
    "hidden": true
   },
   "outputs": [],
   "source": [
    "# On transforme Group nan en np.nan\n",
    "openfoodfacts_en.loc[openfoodfacts_en['nova_group'] == 'Group nan', 'nova_group'] = np.nan"
   ]
  },
  {
   "cell_type": "code",
   "execution_count": 125,
   "id": "11a56e27",
   "metadata": {
    "hidden": true
   },
   "outputs": [],
   "source": [
    "# Fréquence de nova group dans le dataset\n",
    "nova_percent = openfoodfacts_en[openfoodfacts_en['nova_group'] != 'nan'][\n",
    "    'nova_group'].value_counts(normalize=True) * 100"
   ]
  },
  {
   "cell_type": "code",
   "execution_count": 126,
   "id": "653ceaee",
   "metadata": {
    "hidden": true
   },
   "outputs": [],
   "source": [
    "data = nova_percent.values\n",
    "labels = nova_percent.index"
   ]
  },
  {
   "cell_type": "code",
   "execution_count": 127,
   "id": "924edfa6",
   "metadata": {
    "hidden": true
   },
   "outputs": [
    {
     "data": {
      "image/png": "[encoded data removed]",
      "text/plain": [
       "<Figure size 576x432 with 1 Axes>"
      ]
     },
     "metadata": {},
     "output_type": "display_data"
    }
   ],
   "source": [
    "colors = sns.color_palette('pastel')[0:4]\n",
    "\n",
    "plt.figure(figsize=(8, 6))\n",
    "plt.title(\"Répartition des groupes Nova dans le dataset\")\n",
    "plt.pie(data, labels = labels, colors = colors, autopct='%.0f%%');"
   ]
  },
  {
   "cell_type": "markdown",
   "id": "19799b6c",
   "metadata": {
    "hidden": true
   },
   "source": [
    "De la même manière que le nutriscore, les produits les plus transformés sont les plus représentés dans le dataset."
   ]
  },
  {
   "cell_type": "markdown",
   "id": "ce400a10",
   "metadata": {
    "heading_collapsed": true
   },
   "source": [
    "#### Ecoscore"
   ]
  },
  {
   "cell_type": "markdown",
   "id": "26fc48a4",
   "metadata": {
    "hidden": true
   },
   "source": [
    "L'Eco-Score est un score écologique (écoscore) de A à E qui permet de comparer facilement l'impact des produits alimentaires sur l'environnement. Pour chaque catégorie de produits, un score de référence est établi grâce aux données de la base environnementale Agribalyse conçue par l’ADEME et l’INRAE. Ces données correspondent à l’analyse de cycle de vie (ACV) des produits."
   ]
  },
  {
   "cell_type": "code",
   "execution_count": 128,
   "id": "e14af0e8",
   "metadata": {
    "hidden": true
   },
   "outputs": [],
   "source": [
    "tab_desc, tab_modalities = check_redundancy_steps(openfoodfacts_en, 'ecoscore')"
   ]
  },
  {
   "cell_type": "code",
   "execution_count": 129,
   "id": "e6498b3a",
   "metadata": {
    "hidden": true
   },
   "outputs": [
    {
     "data": {
      "text/html": [
       "<div>\n",
       "<style scoped>\n",
       "    .dataframe tbody tr th:only-of-type {\n",
       "        vertical-align: middle;\n",
       "    }\n",
       "\n",
       "    .dataframe tbody tr th {\n",
       "        vertical-align: top;\n",
       "    }\n",
       "\n",
       "    .dataframe thead th {\n",
       "        text-align: right;\n",
       "    }\n",
       "</style>\n",
       "<table border=\"1\" class=\"dataframe\">\n",
       "  <thead>\n",
       "    <tr style=\"text-align: right;\">\n",
       "      <th></th>\n",
       "      <th>Variable name</th>\n",
       "      <th>Variable type</th>\n",
       "      <th>Example</th>\n",
       "      <th>Raws</th>\n",
       "      <th>Distinct</th>\n",
       "      <th>% distinct</th>\n",
       "      <th>Not NaN</th>\n",
       "      <th>% Not NaN</th>\n",
       "      <th>NaN</th>\n",
       "      <th>% NaN</th>\n",
       "    </tr>\n",
       "  </thead>\n",
       "  <tbody>\n",
       "    <tr>\n",
       "      <th>0</th>\n",
       "      <td>ecoscore_score_fr</td>\n",
       "      <td>float64</td>\n",
       "      <td>34.0</td>\n",
       "      <td>2053679</td>\n",
       "      <td>9</td>\n",
       "      <td>0.0</td>\n",
       "      <td>10</td>\n",
       "      <td>0.0</td>\n",
       "      <td>2053669</td>\n",
       "      <td>100.0</td>\n",
       "    </tr>\n",
       "    <tr>\n",
       "      <th>1</th>\n",
       "      <td>ecoscore_grade_fr</td>\n",
       "      <td>object</td>\n",
       "      <td>d</td>\n",
       "      <td>2053679</td>\n",
       "      <td>5</td>\n",
       "      <td>0.0</td>\n",
       "      <td>10</td>\n",
       "      <td>0.0</td>\n",
       "      <td>2053669</td>\n",
       "      <td>100.0</td>\n",
       "    </tr>\n",
       "  </tbody>\n",
       "</table>\n",
       "</div>"
      ],
      "text/plain": [
       "       Variable name Variable type Example     Raws Distinct  % distinct  \\\n",
       "0  ecoscore_score_fr       float64    34.0  2053679        9         0.0   \n",
       "1  ecoscore_grade_fr        object       d  2053679        5         0.0   \n",
       "\n",
       "  Not NaN  % Not NaN      NaN  % NaN  \n",
       "0      10        0.0  2053669  100.0  \n",
       "1      10        0.0  2053669  100.0  "
      ]
     },
     "execution_count": 129,
     "metadata": {},
     "output_type": "execute_result"
    }
   ],
   "source": [
    "tab_desc"
   ]
  },
  {
   "cell_type": "markdown",
   "id": "3add7c98",
   "metadata": {
    "hidden": true
   },
   "source": [
    "On retrouve seulement 10 valeurs renseignées pour les variables ecoscore. Nous les supprimons."
   ]
  },
  {
   "cell_type": "code",
   "execution_count": 130,
   "id": "db050285",
   "metadata": {
    "hidden": true
   },
   "outputs": [
    {
     "name": "stdout",
     "output_type": "stream",
     "text": [
      "Nombre de lignes: 2053679\n",
      "Nombre de variables: 107\n"
     ]
    }
   ],
   "source": [
    "# Suppression des variables\n",
    "openfoodfacts_en.drop(['ecoscore_score_fr', 'ecoscore_grade_fr'], axis='columns', inplace = True)\n",
    "print(f\"Nombre de lignes: {openfoodfacts_en.shape[0]}\\nNombre de variables: {openfoodfacts_en.shape[1]}\")"
   ]
  },
  {
   "cell_type": "markdown",
   "id": "2185f521",
   "metadata": {},
   "source": [
    "### Variables sur les catégories de produits <a class=\"anchor\" id=\"categ\"></a>"
   ]
  },
  {
   "cell_type": "markdown",
   "id": "72cd9dd6",
   "metadata": {},
   "source": [
    "#### Categories"
   ]
  },
  {
   "cell_type": "code",
   "execution_count": 131,
   "id": "0c064846",
   "metadata": {},
   "outputs": [],
   "source": [
    "tab_desc, tab_modalities = check_redundancy_steps(openfoodfacts_en, 'categ')"
   ]
  },
  {
   "cell_type": "code",
   "execution_count": 132,
   "id": "b26f71e8",
   "metadata": {},
   "outputs": [
    {
     "data": {
      "text/html": [
       "<div>\n",
       "<style scoped>\n",
       "    .dataframe tbody tr th:only-of-type {\n",
       "        vertical-align: middle;\n",
       "    }\n",
       "\n",
       "    .dataframe tbody tr th {\n",
       "        vertical-align: top;\n",
       "    }\n",
       "\n",
       "    .dataframe thead th {\n",
       "        text-align: right;\n",
       "    }\n",
       "</style>\n",
       "<table border=\"1\" class=\"dataframe\">\n",
       "  <thead>\n",
       "    <tr style=\"text-align: right;\">\n",
       "      <th></th>\n",
       "      <th>Variable name</th>\n",
       "      <th>Variable type</th>\n",
       "      <th>Example</th>\n",
       "      <th>Raws</th>\n",
       "      <th>Distinct</th>\n",
       "      <th>% distinct</th>\n",
       "      <th>Not NaN</th>\n",
       "      <th>% Not NaN</th>\n",
       "      <th>NaN</th>\n",
       "      <th>% NaN</th>\n",
       "    </tr>\n",
       "  </thead>\n",
       "  <tbody>\n",
       "    <tr>\n",
       "      <th>0</th>\n",
       "      <td>categories_en</td>\n",
       "      <td>object</td>\n",
       "      <td>Groceries,Condiments,Sauces,Mustards</td>\n",
       "      <td>2053679</td>\n",
       "      <td>72800</td>\n",
       "      <td>3.54</td>\n",
       "      <td>945141</td>\n",
       "      <td>46.02</td>\n",
       "      <td>1108538</td>\n",
       "      <td>53.98</td>\n",
       "    </tr>\n",
       "    <tr>\n",
       "      <th>1</th>\n",
       "      <td>main_category</td>\n",
       "      <td>object</td>\n",
       "      <td>en:mustards</td>\n",
       "      <td>2053679</td>\n",
       "      <td>32887</td>\n",
       "      <td>1.60</td>\n",
       "      <td>945141</td>\n",
       "      <td>46.02</td>\n",
       "      <td>1108538</td>\n",
       "      <td>53.98</td>\n",
       "    </tr>\n",
       "    <tr>\n",
       "      <th>2</th>\n",
       "      <td>main_category_en</td>\n",
       "      <td>object</td>\n",
       "      <td>Mustards</td>\n",
       "      <td>2053679</td>\n",
       "      <td>32885</td>\n",
       "      <td>1.60</td>\n",
       "      <td>945141</td>\n",
       "      <td>46.02</td>\n",
       "      <td>1108538</td>\n",
       "      <td>53.98</td>\n",
       "    </tr>\n",
       "  </tbody>\n",
       "</table>\n",
       "</div>"
      ],
      "text/plain": [
       "      Variable name Variable type                               Example  \\\n",
       "0     categories_en        object  Groceries,Condiments,Sauces,Mustards   \n",
       "1     main_category        object                           en:mustards   \n",
       "2  main_category_en        object                              Mustards   \n",
       "\n",
       "      Raws Distinct  % distinct Not NaN  % Not NaN      NaN  % NaN  \n",
       "0  2053679    72800        3.54  945141      46.02  1108538  53.98  \n",
       "1  2053679    32887        1.60  945141      46.02  1108538  53.98  \n",
       "2  2053679    32885        1.60  945141      46.02  1108538  53.98  "
      ]
     },
     "execution_count": 132,
     "metadata": {},
     "output_type": "execute_result"
    }
   ],
   "source": [
    "tab_desc"
   ]
  },
  {
   "cell_type": "code",
   "execution_count": 133,
   "id": "231300cc",
   "metadata": {},
   "outputs": [
    {
     "data": {
      "text/html": [
       "<div>\n",
       "<style scoped>\n",
       "    .dataframe tbody tr th:only-of-type {\n",
       "        vertical-align: middle;\n",
       "    }\n",
       "\n",
       "    .dataframe tbody tr th {\n",
       "        vertical-align: top;\n",
       "    }\n",
       "\n",
       "    .dataframe thead th {\n",
       "        text-align: right;\n",
       "    }\n",
       "</style>\n",
       "<table border=\"1\" class=\"dataframe\">\n",
       "  <thead>\n",
       "    <tr style=\"text-align: right;\">\n",
       "      <th></th>\n",
       "      <th>categories_en</th>\n",
       "      <th>main_category</th>\n",
       "      <th>main_category_en</th>\n",
       "    </tr>\n",
       "  </thead>\n",
       "  <tbody>\n",
       "    <tr>\n",
       "      <th>625092</th>\n",
       "      <td>Meats,Prepared meats,Hams,Pork ham with parsley and jelly,fr:Jambon persillé de Bourgogne</td>\n",
       "      <td>fr:jambon-persille-de-bourgogne</td>\n",
       "      <td>fr:Jambon persillé de Bourgogne</td>\n",
       "    </tr>\n",
       "    <tr>\n",
       "      <th>1251486</th>\n",
       "      <td>Dairies,Fermented foods,Fermented milk products,Cheeses,Cow cheeses,Provolone</td>\n",
       "      <td>en:provolone</td>\n",
       "      <td>Provolone</td>\n",
       "    </tr>\n",
       "    <tr>\n",
       "      <th>1013032</th>\n",
       "      <td>Plant-based foods and beverages,Plant-based foods,Nuts and their products,Nuts,Cashew nuts</td>\n",
       "      <td>en:cashew-nuts</td>\n",
       "      <td>Cashew nuts</td>\n",
       "    </tr>\n",
       "    <tr>\n",
       "      <th>954518</th>\n",
       "      <td>Snacks,Sweet snacks,Biscuits and cakes,Pastries,King cakes</td>\n",
       "      <td>en:king-cakes</td>\n",
       "      <td>King cakes</td>\n",
       "    </tr>\n",
       "    <tr>\n",
       "      <th>835357</th>\n",
       "      <td>Snacks,Sweet snacks,Cocoa and its products,Chocolates,Dark chocolates</td>\n",
       "      <td>en:dark-chocolates</td>\n",
       "      <td>Dark chocolates</td>\n",
       "    </tr>\n",
       "  </tbody>\n",
       "</table>\n",
       "</div>"
      ],
      "text/plain": [
       "                                                                                      categories_en  \\\n",
       "625092    Meats,Prepared meats,Hams,Pork ham with parsley and jelly,fr:Jambon persillé de Bourgogne   \n",
       "1251486               Dairies,Fermented foods,Fermented milk products,Cheeses,Cow cheeses,Provolone   \n",
       "1013032  Plant-based foods and beverages,Plant-based foods,Nuts and their products,Nuts,Cashew nuts   \n",
       "954518                                   Snacks,Sweet snacks,Biscuits and cakes,Pastries,King cakes   \n",
       "835357                        Snacks,Sweet snacks,Cocoa and its products,Chocolates,Dark chocolates   \n",
       "\n",
       "                           main_category                 main_category_en  \n",
       "625092   fr:jambon-persille-de-bourgogne  fr:Jambon persillé de Bourgogne  \n",
       "1251486                     en:provolone                        Provolone  \n",
       "1013032                   en:cashew-nuts                      Cashew nuts  \n",
       "954518                     en:king-cakes                       King cakes  \n",
       "835357                en:dark-chocolates                  Dark chocolates  "
      ]
     },
     "execution_count": 133,
     "metadata": {},
     "output_type": "execute_result"
    }
   ],
   "source": [
    "tab_modalities"
   ]
  },
  {
   "cell_type": "markdown",
   "id": "f59f6691",
   "metadata": {},
   "source": [
    "Ces 3 variables nous apportent la même information avec plus ou moins de détail. On note que les variables main_category sont égales au dernier élément de la liste categories_en. Le pourcentage de valeurs manquantes étant le même, notre critère de sélection sera porté sur le pourcentage de valeurs distinctes. Parmi les 2 variables avec le taux de valeurs distinctes le plus bas, nous décidons de conserver main_category_en."
   ]
  },
  {
   "cell_type": "code",
   "execution_count": 134,
   "id": "05a4b6a4",
   "metadata": {},
   "outputs": [
    {
     "name": "stdout",
     "output_type": "stream",
     "text": [
      "Nombre de lignes: 2053679\n",
      "Nombre de variables: 105\n"
     ]
    }
   ],
   "source": [
    "# Suppression des variables categories_en et main_category\n",
    "openfoodfacts_en.drop(['categories_en', 'main_category'], axis='columns', inplace = True)\n",
    "print(f\"Nombre de lignes: {openfoodfacts_en.shape[0]}\\nNombre de variables: {openfoodfacts_en.shape[1]}\")"
   ]
  },
  {
   "cell_type": "markdown",
   "id": "be6fb838",
   "metadata": {},
   "source": [
    "Regardons plus en détail les différentes modalités de la variable categories_en."
   ]
  },
  {
   "cell_type": "code",
   "execution_count": 135,
   "id": "5db98af5",
   "metadata": {},
   "outputs": [
    {
     "data": {
      "image/png": "[encoded data removed]",
      "text/plain": [
       "<Figure size 576x432 with 1 Axes>"
      ]
     },
     "metadata": {
      "needs_background": "light"
     },
     "output_type": "display_data"
    }
   ],
   "source": [
    "main_category_en_count = openfoodfacts_en['main_category_en'].value_counts()[0:20]\n",
    "\n",
    "plt.figure(figsize=(8, 6))\n",
    "sns.barplot(y = main_category_en_count.index, x = main_category_en_count.values, palette = 'muted')\n",
    "plt.title(\"TOP 20 des catégories principales les plus utilisées\")\n",
    "plt.ylabel(\"\")\n",
    "plt.xlabel(\"Occurences\");"
   ]
  },
  {
   "cell_type": "markdown",
   "id": "05dac897",
   "metadata": {},
   "source": [
    "Cette variable pourrait être utilisée pour permettre de proposer un produit équivalent, mieux noté."
   ]
  },
  {
   "cell_type": "markdown",
   "id": "25b46413",
   "metadata": {},
   "source": [
    "#### Groupes pnns"
   ]
  },
  {
   "cell_type": "markdown",
   "id": "58631156",
   "metadata": {},
   "source": [
    "Le Programme national nutrition santé a été créé en 2001, et son site grand public a été lancé à la rentrée 2004, par l'Agence française de sécurité sanitaire des aliments et poursuivi par l'Agence nationale de santé publique. \n",
    "\n",
    "Ce programme a pour objectif général l’amélioration de l’état de santé de l’ensemble de la population en agissant sur l’un de ses déterminants majeurs : la nutrition. Ce programme agit à plusieurs niveaux: industrie, consommateurs, recherche afin d'atteindre ses objectifs (par exemple : diminution de la consommation de sel)."
   ]
  },
  {
   "cell_type": "code",
   "execution_count": 136,
   "id": "b0591e79",
   "metadata": {},
   "outputs": [],
   "source": [
    "tab_desc, tab_modalities = check_redundancy_steps(openfoodfacts_en, 'pnns')"
   ]
  },
  {
   "cell_type": "code",
   "execution_count": 137,
   "id": "2ee1da24",
   "metadata": {},
   "outputs": [
    {
     "data": {
      "text/html": [
       "<div>\n",
       "<style scoped>\n",
       "    .dataframe tbody tr th:only-of-type {\n",
       "        vertical-align: middle;\n",
       "    }\n",
       "\n",
       "    .dataframe tbody tr th {\n",
       "        vertical-align: top;\n",
       "    }\n",
       "\n",
       "    .dataframe thead th {\n",
       "        text-align: right;\n",
       "    }\n",
       "</style>\n",
       "<table border=\"1\" class=\"dataframe\">\n",
       "  <thead>\n",
       "    <tr style=\"text-align: right;\">\n",
       "      <th></th>\n",
       "      <th>Variable name</th>\n",
       "      <th>Variable type</th>\n",
       "      <th>Example</th>\n",
       "      <th>Raws</th>\n",
       "      <th>Distinct</th>\n",
       "      <th>% distinct</th>\n",
       "      <th>Not NaN</th>\n",
       "      <th>% Not NaN</th>\n",
       "      <th>NaN</th>\n",
       "      <th>% NaN</th>\n",
       "    </tr>\n",
       "  </thead>\n",
       "  <tbody>\n",
       "    <tr>\n",
       "      <th>0</th>\n",
       "      <td>pnns_groups_1</td>\n",
       "      <td>object</td>\n",
       "      <td>unknown</td>\n",
       "      <td>2053679</td>\n",
       "      <td>12</td>\n",
       "      <td>0.0</td>\n",
       "      <td>2053552</td>\n",
       "      <td>99.99</td>\n",
       "      <td>127</td>\n",
       "      <td>0.01</td>\n",
       "    </tr>\n",
       "    <tr>\n",
       "      <th>1</th>\n",
       "      <td>pnns_groups_2</td>\n",
       "      <td>object</td>\n",
       "      <td>unknown</td>\n",
       "      <td>2053679</td>\n",
       "      <td>42</td>\n",
       "      <td>0.0</td>\n",
       "      <td>2053554</td>\n",
       "      <td>99.99</td>\n",
       "      <td>125</td>\n",
       "      <td>0.01</td>\n",
       "    </tr>\n",
       "  </tbody>\n",
       "</table>\n",
       "</div>"
      ],
      "text/plain": [
       "   Variable name Variable type  Example     Raws Distinct  % distinct  \\\n",
       "0  pnns_groups_1        object  unknown  2053679       12         0.0   \n",
       "1  pnns_groups_2        object  unknown  2053679       42         0.0   \n",
       "\n",
       "   Not NaN  % Not NaN  NaN  % NaN  \n",
       "0  2053552      99.99  127   0.01  \n",
       "1  2053554      99.99  125   0.01  "
      ]
     },
     "execution_count": 137,
     "metadata": {},
     "output_type": "execute_result"
    }
   ],
   "source": [
    "tab_desc"
   ]
  },
  {
   "cell_type": "code",
   "execution_count": 138,
   "id": "d2fa74f0",
   "metadata": {},
   "outputs": [
    {
     "data": {
      "text/html": [
       "<div>\n",
       "<style scoped>\n",
       "    .dataframe tbody tr th:only-of-type {\n",
       "        vertical-align: middle;\n",
       "    }\n",
       "\n",
       "    .dataframe tbody tr th {\n",
       "        vertical-align: top;\n",
       "    }\n",
       "\n",
       "    .dataframe thead th {\n",
       "        text-align: right;\n",
       "    }\n",
       "</style>\n",
       "<table border=\"1\" class=\"dataframe\">\n",
       "  <thead>\n",
       "    <tr style=\"text-align: right;\">\n",
       "      <th></th>\n",
       "      <th>pnns_groups_1</th>\n",
       "      <th>pnns_groups_2</th>\n",
       "    </tr>\n",
       "  </thead>\n",
       "  <tbody>\n",
       "    <tr>\n",
       "      <th>444360</th>\n",
       "      <td>Sugary snacks</td>\n",
       "      <td>Sweets</td>\n",
       "    </tr>\n",
       "    <tr>\n",
       "      <th>1805014</th>\n",
       "      <td>unknown</td>\n",
       "      <td>unknown</td>\n",
       "    </tr>\n",
       "    <tr>\n",
       "      <th>1267225</th>\n",
       "      <td>unknown</td>\n",
       "      <td>unknown</td>\n",
       "    </tr>\n",
       "    <tr>\n",
       "      <th>2049965</th>\n",
       "      <td>unknown</td>\n",
       "      <td>unknown</td>\n",
       "    </tr>\n",
       "    <tr>\n",
       "      <th>853695</th>\n",
       "      <td>unknown</td>\n",
       "      <td>unknown</td>\n",
       "    </tr>\n",
       "  </tbody>\n",
       "</table>\n",
       "</div>"
      ],
      "text/plain": [
       "         pnns_groups_1 pnns_groups_2\n",
       "444360   Sugary snacks        Sweets\n",
       "1805014        unknown       unknown\n",
       "1267225        unknown       unknown\n",
       "2049965        unknown       unknown\n",
       "853695         unknown       unknown"
      ]
     },
     "execution_count": 138,
     "metadata": {},
     "output_type": "execute_result"
    }
   ],
   "source": [
    "tab_modalities"
   ]
  },
  {
   "cell_type": "markdown",
   "id": "57dcf0d9",
   "metadata": {},
   "source": [
    "Les variables pnns_groups n'ont que 0.01 % de NaN, mais il semble y avoir la mention \"unknown\" qui correspond en réalité à une valeur non renseignée. Regardons les différentes modalités de ces variables."
   ]
  },
  {
   "cell_type": "code",
   "execution_count": 139,
   "id": "8bedff4d",
   "metadata": {},
   "outputs": [
    {
     "data": {
      "text/html": [
       "<div>\n",
       "<style scoped>\n",
       "    .dataframe tbody tr th:only-of-type {\n",
       "        vertical-align: middle;\n",
       "    }\n",
       "\n",
       "    .dataframe tbody tr th {\n",
       "        vertical-align: top;\n",
       "    }\n",
       "\n",
       "    .dataframe thead th {\n",
       "        text-align: right;\n",
       "    }\n",
       "</style>\n",
       "<table border=\"1\" class=\"dataframe\">\n",
       "  <thead>\n",
       "    <tr style=\"text-align: right;\">\n",
       "      <th></th>\n",
       "      <th>pnns_groups_1</th>\n",
       "      <th>pnns_groups_2</th>\n",
       "    </tr>\n",
       "  </thead>\n",
       "  <tbody>\n",
       "    <tr>\n",
       "      <th>0</th>\n",
       "      <td>unknown</td>\n",
       "      <td>unknown</td>\n",
       "    </tr>\n",
       "    <tr>\n",
       "      <th>1</th>\n",
       "      <td>unknown</td>\n",
       "      <td>unknown</td>\n",
       "    </tr>\n",
       "    <tr>\n",
       "      <th>2</th>\n",
       "      <td>unknown</td>\n",
       "      <td>unknown</td>\n",
       "    </tr>\n",
       "    <tr>\n",
       "      <th>3</th>\n",
       "      <td>unknown</td>\n",
       "      <td>unknown</td>\n",
       "    </tr>\n",
       "    <tr>\n",
       "      <th>4</th>\n",
       "      <td>unknown</td>\n",
       "      <td>unknown</td>\n",
       "    </tr>\n",
       "    <tr>\n",
       "      <th>...</th>\n",
       "      <td>...</td>\n",
       "      <td>...</td>\n",
       "    </tr>\n",
       "    <tr>\n",
       "      <th>2053674</th>\n",
       "      <td>unknown</td>\n",
       "      <td>unknown</td>\n",
       "    </tr>\n",
       "    <tr>\n",
       "      <th>2053675</th>\n",
       "      <td>unknown</td>\n",
       "      <td>unknown</td>\n",
       "    </tr>\n",
       "    <tr>\n",
       "      <th>2053676</th>\n",
       "      <td>unknown</td>\n",
       "      <td>unknown</td>\n",
       "    </tr>\n",
       "    <tr>\n",
       "      <th>2053677</th>\n",
       "      <td>unknown</td>\n",
       "      <td>unknown</td>\n",
       "    </tr>\n",
       "    <tr>\n",
       "      <th>2053678</th>\n",
       "      <td>unknown</td>\n",
       "      <td>unknown</td>\n",
       "    </tr>\n",
       "  </tbody>\n",
       "</table>\n",
       "<p>2053679 rows × 2 columns</p>\n",
       "</div>"
      ],
      "text/plain": [
       "        pnns_groups_1 pnns_groups_2\n",
       "0             unknown       unknown\n",
       "1             unknown       unknown\n",
       "2             unknown       unknown\n",
       "3             unknown       unknown\n",
       "4             unknown       unknown\n",
       "...               ...           ...\n",
       "2053674       unknown       unknown\n",
       "2053675       unknown       unknown\n",
       "2053676       unknown       unknown\n",
       "2053677       unknown       unknown\n",
       "2053678       unknown       unknown\n",
       "\n",
       "[2053679 rows x 2 columns]"
      ]
     },
     "execution_count": 139,
     "metadata": {},
     "output_type": "execute_result"
    }
   ],
   "source": [
    "# Vérification des mentions unknown\n",
    "openfoodfacts_en[openfoodfacts_en[['pnns_groups_1', 'pnns_groups_2']]== \"unknown\"][\n",
    "    ['pnns_groups_1', 'pnns_groups_2']]"
   ]
  },
  {
   "cell_type": "markdown",
   "id": "93e322c7",
   "metadata": {},
   "source": [
    "Il semblerait que quand l'un des groupes pnns soit unknown, l'autre le soit aussi. Regardons si l'on peut obtenir plus d'information en rajoutant la colonne main_category_en."
   ]
  },
  {
   "cell_type": "code",
   "execution_count": 140,
   "id": "f2a1ed2f",
   "metadata": {},
   "outputs": [
    {
     "data": {
      "text/html": [
       "<div>\n",
       "<style scoped>\n",
       "    .dataframe tbody tr th:only-of-type {\n",
       "        vertical-align: middle;\n",
       "    }\n",
       "\n",
       "    .dataframe tbody tr th {\n",
       "        vertical-align: top;\n",
       "    }\n",
       "\n",
       "    .dataframe thead th {\n",
       "        text-align: right;\n",
       "    }\n",
       "</style>\n",
       "<table border=\"1\" class=\"dataframe\">\n",
       "  <thead>\n",
       "    <tr style=\"text-align: right;\">\n",
       "      <th></th>\n",
       "      <th>pnns_groups_1</th>\n",
       "      <th>pnns_groups_2</th>\n",
       "      <th>main_category_en</th>\n",
       "    </tr>\n",
       "  </thead>\n",
       "  <tbody>\n",
       "    <tr>\n",
       "      <th>7</th>\n",
       "      <td>Fat and sauces</td>\n",
       "      <td>Dressings and sauces</td>\n",
       "      <td>Mustards</td>\n",
       "    </tr>\n",
       "    <tr>\n",
       "      <th>16</th>\n",
       "      <td>unknown</td>\n",
       "      <td>unknown</td>\n",
       "      <td>Almond paste</td>\n",
       "    </tr>\n",
       "    <tr>\n",
       "      <th>17</th>\n",
       "      <td>Composite foods</td>\n",
       "      <td>One-dish meals</td>\n",
       "      <td>Seasoned shredded carrots</td>\n",
       "    </tr>\n",
       "    <tr>\n",
       "      <th>26</th>\n",
       "      <td>Sugary snacks</td>\n",
       "      <td>Biscuits and cakes</td>\n",
       "      <td>Coconut pies</td>\n",
       "    </tr>\n",
       "    <tr>\n",
       "      <th>36</th>\n",
       "      <td>Fruits and vegetables</td>\n",
       "      <td>Fruits</td>\n",
       "      <td>Pear compotes</td>\n",
       "    </tr>\n",
       "    <tr>\n",
       "      <th>...</th>\n",
       "      <td>...</td>\n",
       "      <td>...</td>\n",
       "      <td>...</td>\n",
       "    </tr>\n",
       "    <tr>\n",
       "      <th>2053667</th>\n",
       "      <td>unknown</td>\n",
       "      <td>unknown</td>\n",
       "      <td>Sweet Fritters</td>\n",
       "    </tr>\n",
       "    <tr>\n",
       "      <th>2053670</th>\n",
       "      <td>Sugary snacks</td>\n",
       "      <td>Biscuits and cakes</td>\n",
       "      <td>de:tiefkühl-kuchen</td>\n",
       "    </tr>\n",
       "    <tr>\n",
       "      <th>2053671</th>\n",
       "      <td>Fish Meat Eggs</td>\n",
       "      <td>Meat</td>\n",
       "      <td>Ground beef steaks</td>\n",
       "    </tr>\n",
       "    <tr>\n",
       "      <th>2053672</th>\n",
       "      <td>Sugary snacks</td>\n",
       "      <td>Sweets</td>\n",
       "      <td>Marrons glacés</td>\n",
       "    </tr>\n",
       "    <tr>\n",
       "      <th>2053678</th>\n",
       "      <td>unknown</td>\n",
       "      <td>unknown</td>\n",
       "      <td>Toothpaste</td>\n",
       "    </tr>\n",
       "  </tbody>\n",
       "</table>\n",
       "<p>945138 rows × 3 columns</p>\n",
       "</div>"
      ],
      "text/plain": [
       "                 pnns_groups_1         pnns_groups_2  \\\n",
       "7               Fat and sauces  Dressings and sauces   \n",
       "16                     unknown               unknown   \n",
       "17             Composite foods        One-dish meals   \n",
       "26               Sugary snacks    Biscuits and cakes   \n",
       "36       Fruits and vegetables                Fruits   \n",
       "...                        ...                   ...   \n",
       "2053667                unknown               unknown   \n",
       "2053670          Sugary snacks    Biscuits and cakes   \n",
       "2053671         Fish Meat Eggs                  Meat   \n",
       "2053672          Sugary snacks                Sweets   \n",
       "2053678                unknown               unknown   \n",
       "\n",
       "                  main_category_en  \n",
       "7                         Mustards  \n",
       "16                    Almond paste  \n",
       "17       Seasoned shredded carrots  \n",
       "26                    Coconut pies  \n",
       "36                   Pear compotes  \n",
       "...                            ...  \n",
       "2053667             Sweet Fritters  \n",
       "2053670         de:tiefkühl-kuchen  \n",
       "2053671         Ground beef steaks  \n",
       "2053672             Marrons glacés  \n",
       "2053678                 Toothpaste  \n",
       "\n",
       "[945138 rows x 3 columns]"
      ]
     },
     "execution_count": 140,
     "metadata": {},
     "output_type": "execute_result"
    }
   ],
   "source": [
    "openfoodfacts_en[openfoodfacts_en[['pnns_groups_1', 'pnns_groups_2', 'main_category_en']].notnull().all(1)][\n",
    "    ['pnns_groups_1', 'pnns_groups_2', 'main_category_en']]"
   ]
  },
  {
   "cell_type": "markdown",
   "id": "39c788cb",
   "metadata": {},
   "source": [
    "Nous allons remplacer la mention unknown des pnns_groups_1 et pnns_groups_2 par np.nan afin de connaitre le nombre réel de valeurs manquantes."
   ]
  },
  {
   "cell_type": "code",
   "execution_count": 141,
   "id": "7baf5adc",
   "metadata": {},
   "outputs": [],
   "source": [
    "openfoodfacts_en.loc[openfoodfacts_en['pnns_groups_1'] == 'unknown', 'pnns_groups_1'] = np.nan\n",
    "openfoodfacts_en.loc[openfoodfacts_en['pnns_groups_2'] == 'unknown', 'pnns_groups_2'] = np.nan"
   ]
  },
  {
   "cell_type": "code",
   "execution_count": 142,
   "id": "38a7ece1",
   "metadata": {},
   "outputs": [
    {
     "data": {
      "text/html": [
       "<div>\n",
       "<style scoped>\n",
       "    .dataframe tbody tr th:only-of-type {\n",
       "        vertical-align: middle;\n",
       "    }\n",
       "\n",
       "    .dataframe tbody tr th {\n",
       "        vertical-align: top;\n",
       "    }\n",
       "\n",
       "    .dataframe thead th {\n",
       "        text-align: right;\n",
       "    }\n",
       "</style>\n",
       "<table border=\"1\" class=\"dataframe\">\n",
       "  <thead>\n",
       "    <tr style=\"text-align: right;\">\n",
       "      <th></th>\n",
       "      <th>Variable name</th>\n",
       "      <th>Variable type</th>\n",
       "      <th>Example</th>\n",
       "      <th>Raws</th>\n",
       "      <th>Distinct</th>\n",
       "      <th>% distinct</th>\n",
       "      <th>Not NaN</th>\n",
       "      <th>% Not NaN</th>\n",
       "      <th>NaN</th>\n",
       "      <th>% NaN</th>\n",
       "    </tr>\n",
       "  </thead>\n",
       "  <tbody>\n",
       "    <tr>\n",
       "      <th>0</th>\n",
       "      <td>pnns_groups_1</td>\n",
       "      <td>object</td>\n",
       "      <td>Fat and sauces</td>\n",
       "      <td>2053679</td>\n",
       "      <td>11</td>\n",
       "      <td>0.0</td>\n",
       "      <td>770473</td>\n",
       "      <td>37.52</td>\n",
       "      <td>1283206</td>\n",
       "      <td>62.48</td>\n",
       "    </tr>\n",
       "    <tr>\n",
       "      <th>1</th>\n",
       "      <td>pnns_groups_2</td>\n",
       "      <td>object</td>\n",
       "      <td>Dressings and sauces</td>\n",
       "      <td>2053679</td>\n",
       "      <td>41</td>\n",
       "      <td>0.0</td>\n",
       "      <td>770475</td>\n",
       "      <td>37.52</td>\n",
       "      <td>1283204</td>\n",
       "      <td>62.48</td>\n",
       "    </tr>\n",
       "  </tbody>\n",
       "</table>\n",
       "</div>"
      ],
      "text/plain": [
       "   Variable name Variable type               Example     Raws Distinct  \\\n",
       "0  pnns_groups_1        object        Fat and sauces  2053679       11   \n",
       "1  pnns_groups_2        object  Dressings and sauces  2053679       41   \n",
       "\n",
       "   % distinct Not NaN  % Not NaN      NaN  % NaN  \n",
       "0         0.0  770473      37.52  1283206  62.48  \n",
       "1         0.0  770475      37.52  1283204  62.48  "
      ]
     },
     "execution_count": 142,
     "metadata": {},
     "output_type": "execute_result"
    }
   ],
   "source": [
    "describe_variables_light(openfoodfacts_en[['pnns_groups_1', 'pnns_groups_2']])"
   ]
  },
  {
   "cell_type": "markdown",
   "id": "fc6a05ff",
   "metadata": {},
   "source": [
    "Les variables pnns contiennent en réalité 62.48% de NaN et sont donc moins bien remplies que la variable main_category_en. Regardons maintenant les categories lorsque les pnns ne sont pas renseignés."
   ]
  },
  {
   "cell_type": "code",
   "execution_count": 143,
   "id": "3ae5c684",
   "metadata": {
    "scrolled": false
   },
   "outputs": [
    {
     "data": {
      "text/html": [
       "<div>\n",
       "<style scoped>\n",
       "    .dataframe tbody tr th:only-of-type {\n",
       "        vertical-align: middle;\n",
       "    }\n",
       "\n",
       "    .dataframe tbody tr th {\n",
       "        vertical-align: top;\n",
       "    }\n",
       "\n",
       "    .dataframe thead th {\n",
       "        text-align: right;\n",
       "    }\n",
       "</style>\n",
       "<table border=\"1\" class=\"dataframe\">\n",
       "  <thead>\n",
       "    <tr style=\"text-align: right;\">\n",
       "      <th></th>\n",
       "      <th>pnns_groups_1</th>\n",
       "      <th>pnns_groups_2</th>\n",
       "      <th>main_category_en</th>\n",
       "      <th>countries_en</th>\n",
       "    </tr>\n",
       "  </thead>\n",
       "  <tbody>\n",
       "    <tr>\n",
       "      <th>16</th>\n",
       "      <td>NaN</td>\n",
       "      <td>NaN</td>\n",
       "      <td>Almond paste</td>\n",
       "      <td>France</td>\n",
       "    </tr>\n",
       "    <tr>\n",
       "      <th>169</th>\n",
       "      <td>NaN</td>\n",
       "      <td>NaN</td>\n",
       "      <td>Dietary supplements</td>\n",
       "      <td>France</td>\n",
       "    </tr>\n",
       "    <tr>\n",
       "      <th>176</th>\n",
       "      <td>NaN</td>\n",
       "      <td>NaN</td>\n",
       "      <td>fr:filet-de-boeuf</td>\n",
       "      <td>France</td>\n",
       "    </tr>\n",
       "    <tr>\n",
       "      <th>327</th>\n",
       "      <td>NaN</td>\n",
       "      <td>NaN</td>\n",
       "      <td>Food decorations</td>\n",
       "      <td>France</td>\n",
       "    </tr>\n",
       "    <tr>\n",
       "      <th>353</th>\n",
       "      <td>NaN</td>\n",
       "      <td>NaN</td>\n",
       "      <td>fr:gateaux-aux-noix</td>\n",
       "      <td>France</td>\n",
       "    </tr>\n",
       "    <tr>\n",
       "      <th>...</th>\n",
       "      <td>...</td>\n",
       "      <td>...</td>\n",
       "      <td>...</td>\n",
       "      <td>...</td>\n",
       "    </tr>\n",
       "    <tr>\n",
       "      <th>2053608</th>\n",
       "      <td>NaN</td>\n",
       "      <td>NaN</td>\n",
       "      <td>hu:extrudált-kukorica</td>\n",
       "      <td>Hungary</td>\n",
       "    </tr>\n",
       "    <tr>\n",
       "      <th>2053616</th>\n",
       "      <td>NaN</td>\n",
       "      <td>NaN</td>\n",
       "      <td>Meat analogues</td>\n",
       "      <td>Germany</td>\n",
       "    </tr>\n",
       "    <tr>\n",
       "      <th>2053658</th>\n",
       "      <td>NaN</td>\n",
       "      <td>NaN</td>\n",
       "      <td>Chocolate mousses</td>\n",
       "      <td>France</td>\n",
       "    </tr>\n",
       "    <tr>\n",
       "      <th>2053667</th>\n",
       "      <td>NaN</td>\n",
       "      <td>NaN</td>\n",
       "      <td>Sweet Fritters</td>\n",
       "      <td>France</td>\n",
       "    </tr>\n",
       "    <tr>\n",
       "      <th>2053678</th>\n",
       "      <td>NaN</td>\n",
       "      <td>NaN</td>\n",
       "      <td>Toothpaste</td>\n",
       "      <td>France</td>\n",
       "    </tr>\n",
       "  </tbody>\n",
       "</table>\n",
       "<p>174666 rows × 4 columns</p>\n",
       "</div>"
      ],
      "text/plain": [
       "        pnns_groups_1 pnns_groups_2       main_category_en countries_en\n",
       "16                NaN           NaN           Almond paste       France\n",
       "169               NaN           NaN    Dietary supplements       France\n",
       "176               NaN           NaN      fr:filet-de-boeuf       France\n",
       "327               NaN           NaN       Food decorations       France\n",
       "353               NaN           NaN    fr:gateaux-aux-noix       France\n",
       "...               ...           ...                    ...          ...\n",
       "2053608           NaN           NaN  hu:extrudált-kukorica      Hungary\n",
       "2053616           NaN           NaN         Meat analogues      Germany\n",
       "2053658           NaN           NaN      Chocolate mousses       France\n",
       "2053667           NaN           NaN         Sweet Fritters       France\n",
       "2053678           NaN           NaN             Toothpaste       France\n",
       "\n",
       "[174666 rows x 4 columns]"
      ]
     },
     "execution_count": 143,
     "metadata": {},
     "output_type": "execute_result"
    }
   ],
   "source": [
    "openfoodfacts_en[(openfoodfacts_en[['pnns_groups_1', 'pnns_groups_2']].isna().all(1)) & \n",
    "                 ((openfoodfacts_en['main_category_en'].notnull()))][\n",
    "    ['pnns_groups_1', 'pnns_groups_2', 'main_category_en', 'countries_en']]"
   ]
  },
  {
   "cell_type": "markdown",
   "id": "0c51222c",
   "metadata": {},
   "source": [
    "<div class=\"alert alert-block alert-info\">\n",
    "    <p> Supprimer les NaN pour les product names avant et vérifier que le merge ne rajoute pas de lignes </p>\n",
    "</div>"
   ]
  },
  {
   "cell_type": "markdown",
   "id": "4e20be52",
   "metadata": {},
   "source": [
    "Nous allons créer une table qui associe chaque main_category_en dans les groupes pnns. Elle nous servira pour la suite à compléter ces derniers en fonction de la catégorie du produit."
   ]
  },
  {
   "cell_type": "code",
   "execution_count": 154,
   "id": "eb7a0c9b",
   "metadata": {},
   "outputs": [],
   "source": [
    "# Création d'une table qui affecte chaque catégorie à un pnns groupe 1 et 2\n",
    "table_categ = openfoodfacts_en.groupby(['main_category_en','pnns_groups_1', 'pnns_groups_2'])[\n",
    "    'code'].count().reset_index()"
   ]
  },
  {
   "cell_type": "code",
   "execution_count": 167,
   "id": "a48d35e6",
   "metadata": {},
   "outputs": [
    {
     "name": "stdout",
     "output_type": "stream",
     "text": [
      "Nombre de lignes: 2053679\n",
      "Nombre de variables: 105\n"
     ]
    }
   ],
   "source": [
    "print(f\"Nombre de lignes: {openfoodfacts_en.shape[0]}\\nNombre de variables: {openfoodfacts_en.shape[1]}\")"
   ]
  },
  {
   "cell_type": "code",
   "execution_count": 172,
   "id": "797119cb",
   "metadata": {},
   "outputs": [],
   "source": [
    "# Merge de cette table avec openfoodfacts_en sur la clef main_category_en\n",
    "test = pd.merge(openfoodfacts_en, table_categ[['main_category_en', 'pnns_groups_1', 'pnns_groups_2']], \n",
    "                                                            how = 'right', on = 'main_category_en')[\n",
    "    ['product_name', 'main_category_en','pnns_groups_1_y', 'pnns_groups_2_y']]"
   ]
  },
  {
   "cell_type": "code",
   "execution_count": 173,
   "id": "49d99ab1",
   "metadata": {},
   "outputs": [
    {
     "data": {
      "text/html": [
       "<div>\n",
       "<style scoped>\n",
       "    .dataframe tbody tr th:only-of-type {\n",
       "        vertical-align: middle;\n",
       "    }\n",
       "\n",
       "    .dataframe tbody tr th {\n",
       "        vertical-align: top;\n",
       "    }\n",
       "\n",
       "    .dataframe thead th {\n",
       "        text-align: right;\n",
       "    }\n",
       "</style>\n",
       "<table border=\"1\" class=\"dataframe\">\n",
       "  <thead>\n",
       "    <tr style=\"text-align: right;\">\n",
       "      <th></th>\n",
       "      <th>product_name</th>\n",
       "      <th>main_category_en</th>\n",
       "      <th>pnns_groups_1_y</th>\n",
       "      <th>pnns_groups_2_y</th>\n",
       "    </tr>\n",
       "  </thead>\n",
       "  <tbody>\n",
       "    <tr>\n",
       "      <th>0</th>\n",
       "      <td>M&amp;S rocket lolloes</td>\n",
       "      <td>1</td>\n",
       "      <td>Cereals and potatoes</td>\n",
       "      <td>Potatoes</td>\n",
       "    </tr>\n",
       "    <tr>\n",
       "      <th>1</th>\n",
       "      <td>three berry blend</td>\n",
       "      <td>1</td>\n",
       "      <td>Cereals and potatoes</td>\n",
       "      <td>Potatoes</td>\n",
       "    </tr>\n",
       "    <tr>\n",
       "      <th>2</th>\n",
       "      <td>le smash burger</td>\n",
       "      <td>1</td>\n",
       "      <td>Cereals and potatoes</td>\n",
       "      <td>Potatoes</td>\n",
       "    </tr>\n",
       "    <tr>\n",
       "      <th>3</th>\n",
       "      <td>Pomme de terre</td>\n",
       "      <td>1</td>\n",
       "      <td>Cereals and potatoes</td>\n",
       "      <td>Potatoes</td>\n",
       "    </tr>\n",
       "    <tr>\n",
       "      <th>4</th>\n",
       "      <td>chewable vitamin C</td>\n",
       "      <td>1</td>\n",
       "      <td>Cereals and potatoes</td>\n",
       "      <td>Potatoes</td>\n",
       "    </tr>\n",
       "    <tr>\n",
       "      <th>5</th>\n",
       "      <td>NaN</td>\n",
       "      <td>1</td>\n",
       "      <td>Cereals and potatoes</td>\n",
       "      <td>Potatoes</td>\n",
       "    </tr>\n",
       "    <tr>\n",
       "      <th>6</th>\n",
       "      <td>pan carre</td>\n",
       "      <td>1</td>\n",
       "      <td>Cereals and potatoes</td>\n",
       "      <td>Potatoes</td>\n",
       "    </tr>\n",
       "    <tr>\n",
       "      <th>7</th>\n",
       "      <td>Seven Up</td>\n",
       "      <td>1</td>\n",
       "      <td>Cereals and potatoes</td>\n",
       "      <td>Potatoes</td>\n",
       "    </tr>\n",
       "    <tr>\n",
       "      <th>8</th>\n",
       "      <td>1% Lowfat milk</td>\n",
       "      <td>1-milk</td>\n",
       "      <td>Milk and dairy products</td>\n",
       "      <td>Milk and yogurt</td>\n",
       "    </tr>\n",
       "    <tr>\n",
       "      <th>9</th>\n",
       "      <td>Tesco choc buttons</td>\n",
       "      <td>1-packet</td>\n",
       "      <td>Sugary snacks</td>\n",
       "      <td>Chocolate products</td>\n",
       "    </tr>\n",
       "    <tr>\n",
       "      <th>10</th>\n",
       "      <td>Chocolate chip muffins</td>\n",
       "      <td>1-serving</td>\n",
       "      <td>Sugary snacks</td>\n",
       "      <td>Biscuits and cakes</td>\n",
       "    </tr>\n",
       "    <tr>\n",
       "      <th>11</th>\n",
       "      <td>Capo y</td>\n",
       "      <td>10% red wine</td>\n",
       "      <td>Alcoholic beverages</td>\n",
       "      <td>Alcoholic beverages</td>\n",
       "    </tr>\n",
       "    <tr>\n",
       "      <th>12</th>\n",
       "      <td>علك</td>\n",
       "      <td>10% red wine</td>\n",
       "      <td>Alcoholic beverages</td>\n",
       "      <td>Alcoholic beverages</td>\n",
       "    </tr>\n",
       "    <tr>\n",
       "      <th>13</th>\n",
       "      <td>HOT CREAM</td>\n",
       "      <td>10% red wine</td>\n",
       "      <td>Alcoholic beverages</td>\n",
       "      <td>Alcoholic beverages</td>\n",
       "    </tr>\n",
       "    <tr>\n",
       "      <th>14</th>\n",
       "      <td>L’incroyable gwa-ka-mole</td>\n",
       "      <td>10% red wine</td>\n",
       "      <td>Alcoholic beverages</td>\n",
       "      <td>Alcoholic beverages</td>\n",
       "    </tr>\n",
       "  </tbody>\n",
       "</table>\n",
       "</div>"
      ],
      "text/plain": [
       "                product_name main_category_en          pnns_groups_1_y  \\\n",
       "0         M&S rocket lolloes                1     Cereals and potatoes   \n",
       "1          three berry blend                1     Cereals and potatoes   \n",
       "2            le smash burger                1     Cereals and potatoes   \n",
       "3             Pomme de terre                1     Cereals and potatoes   \n",
       "4         chewable vitamin C                1     Cereals and potatoes   \n",
       "5                        NaN                1     Cereals and potatoes   \n",
       "6                  pan carre                1     Cereals and potatoes   \n",
       "7                   Seven Up                1     Cereals and potatoes   \n",
       "8             1% Lowfat milk           1-milk  Milk and dairy products   \n",
       "9         Tesco choc buttons         1-packet            Sugary snacks   \n",
       "10    Chocolate chip muffins        1-serving            Sugary snacks   \n",
       "11                    Capo y     10% red wine      Alcoholic beverages   \n",
       "12                       علك     10% red wine      Alcoholic beverages   \n",
       "13                 HOT CREAM     10% red wine      Alcoholic beverages   \n",
       "14  L’incroyable gwa-ka-mole     10% red wine      Alcoholic beverages   \n",
       "\n",
       "        pnns_groups_2_y  \n",
       "0              Potatoes  \n",
       "1              Potatoes  \n",
       "2              Potatoes  \n",
       "3              Potatoes  \n",
       "4              Potatoes  \n",
       "5              Potatoes  \n",
       "6              Potatoes  \n",
       "7              Potatoes  \n",
       "8       Milk and yogurt  \n",
       "9    Chocolate products  \n",
       "10   Biscuits and cakes  \n",
       "11  Alcoholic beverages  \n",
       "12  Alcoholic beverages  \n",
       "13  Alcoholic beverages  \n",
       "14  Alcoholic beverages  "
      ]
     },
     "execution_count": 173,
     "metadata": {},
     "output_type": "execute_result"
    }
   ],
   "source": [
    "test.head(15)"
   ]
  },
  {
   "cell_type": "code",
   "execution_count": 174,
   "id": "faeb6367",
   "metadata": {},
   "outputs": [
    {
     "data": {
      "text/plain": [
       "2444916"
      ]
     },
     "execution_count": 174,
     "metadata": {},
     "output_type": "execute_result"
    }
   ],
   "source": [
    "test.shape[0]"
   ]
  },
  {
   "cell_type": "code",
   "execution_count": null,
   "id": "1b8f2388",
   "metadata": {},
   "outputs": [],
   "source": []
  },
  {
   "cell_type": "code",
   "execution_count": null,
   "id": "f226851f",
   "metadata": {},
   "outputs": [],
   "source": []
  },
  {
   "cell_type": "code",
   "execution_count": null,
   "id": "c26ec398",
   "metadata": {},
   "outputs": [],
   "source": []
  },
  {
   "cell_type": "code",
   "execution_count": null,
   "id": "c9fed78d",
   "metadata": {},
   "outputs": [],
   "source": [
    "np.where(openfoodfacts['pnns_groups_1'].isnull(), \n",
    "                                        openfoodfacts['energy-kj_100g'], \n",
    "                                        openfoodfacts['energy_100g'])"
   ]
  },
  {
   "cell_type": "code",
   "execution_count": null,
   "id": "07f4ad9e",
   "metadata": {},
   "outputs": [],
   "source": []
  },
  {
   "cell_type": "code",
   "execution_count": null,
   "id": "e4280687",
   "metadata": {},
   "outputs": [],
   "source": []
  },
  {
   "cell_type": "code",
   "execution_count": null,
   "id": "dbdd8e96",
   "metadata": {},
   "outputs": [],
   "source": []
  },
  {
   "cell_type": "code",
   "execution_count": null,
   "id": "6e27798d",
   "metadata": {},
   "outputs": [],
   "source": []
  },
  {
   "cell_type": "code",
   "execution_count": null,
   "id": "1fcdfdb2",
   "metadata": {},
   "outputs": [],
   "source": [
    "openfoodfacts_en['pnns_groups_1'].unique().tolist()"
   ]
  },
  {
   "cell_type": "code",
   "execution_count": null,
   "id": "41d55ccd",
   "metadata": {},
   "outputs": [],
   "source": []
  },
  {
   "cell_type": "code",
   "execution_count": null,
   "id": "05873a26",
   "metadata": {},
   "outputs": [],
   "source": []
  },
  {
   "cell_type": "code",
   "execution_count": null,
   "id": "857505df",
   "metadata": {},
   "outputs": [],
   "source": []
  },
  {
   "cell_type": "code",
   "execution_count": null,
   "id": "84509438",
   "metadata": {},
   "outputs": [],
   "source": []
  },
  {
   "cell_type": "code",
   "execution_count": null,
   "id": "f94293e6",
   "metadata": {},
   "outputs": [],
   "source": []
  },
  {
   "cell_type": "markdown",
   "id": "ac63dfbb",
   "metadata": {},
   "source": [
    "## Sélection de variables pertinentes en lien avec le choix d'application <a class=\"anchor\" id=\"selec_var\"></a>"
   ]
  },
  {
   "cell_type": "markdown",
   "id": "a074e0b9",
   "metadata": {},
   "source": [
    "<div class=\"alert alert-block alert-warning\">\n",
    "    <p> Suppression de variables pour libérer de la RAM </p>\n",
    "</div>"
   ]
  },
  {
   "cell_type": "markdown",
   "id": "57fa29f4",
   "metadata": {},
   "source": [
    "L'agence \"Santé publique France\" a lancé un appel à projets pour trouver des idées innovantes d’applications en lien avec l'alimentation. Je souhaite y contribuer en proposant **une nouvelle signalétique permettant aux femmes enceintes de s'assurer que le produit ne contient pas d'aliment proscrit pendant la grossesse et de proposer une alternative avec le meilleur nutriscore si le produit sélectionné ne convient pas**.\n",
    "\n",
    "Je me suis basée sur le guide nutrition de la grossesse dont les données proviennent de l'Agence française de sécurité sanitaire des aliments (AFSSA) disponibles en téléchargement sur le site de Santé Publique France à cette adresse: https://www.santepubliquefrance.fr/determinants-de-sante/nutrition-et-activite-physique/documents/brochure/le-guide-nutrition-de-la-grossesse\n",
    "\n",
    "On y retrouve les vitamines et oligoéléments essentiels pendant la grossesse tels que: \n",
    "- les **folates** (vitamine B9) pour le développement du système nerveux de l'embryon \n",
    "- le **calcium** (construction du squelette de l'enfant)\n",
    "- la **viatmine D** qui permet à l'organisme à mieux absorber le calcium des aliments\n",
    "- le **fer**\n",
    "- l'**iode** (fonctionnement de la glande thyroïde + développement cerveau de l'enfant)\n",
    "\n",
    "\n",
    "Certains aliments sont à proscrire pendant la grossesse ou à manger en petite quantité. Parmis eux: \n",
    "- le **soja**\n",
    "- **certains poissons**: anguille, barbeau, brème, carpe, silure, lotte, bar, bonite, empereur, grenadier, flétan, brochet, dorade, raie, sabre, thon, espadon, marlin, siki, requin, lamproie\n",
    "- les boissons contenant de la **caféine**\n",
    "- le foie et les **produits à base de foie**\n",
    "- les **fromages à pâte molle à croûte fleurie** (type camembert, brie) et à **croûte lavée** (type munster, pont- l’évêque), surtout s’ils sont au lait cru ; les **fromages râpés industriels**\n",
    "- certains produits de charcuterie, notamment **rillettes, pâtés, foie gras, produits en gelée**\n",
    "- la **viande crue** ou peu cuite, le **poisson cru** (sushi, sashimi, tarama), les **poissons fumés** (saumon, truite),et les **crustacés décortiqués vendus cuits**\n",
    "- les produits enrichis en **phytostérols**\n",
    "- l'**alcool**\n",
    "\n",
    "Nous allons donc filtrer le dataset sur les variables qui nous apportent de l'information sur les éléments ci-dessus. Notre application aura pour cible les femmes enceintes qui achètent en France. Il est en effet obligatoire de traduire les étiquettes dans la langue où le produit est vendu ce qui facilitera l'analyse. Cette application pourrait être adaptée à différents pays ultérieurement."
   ]
  },
  {
   "cell_type": "code",
   "execution_count": null,
   "id": "d65f3fb1",
   "metadata": {},
   "outputs": [],
   "source": [
    "# Copie du dataset\n",
    "openfoodfacts_light = openfoodfacts_en.copy()"
   ]
  },
  {
   "cell_type": "markdown",
   "id": "9e7e4354",
   "metadata": {},
   "source": [
    "### Informations sur les produits  <a class=\"anchor\" id=\"vitamines\"></a>"
   ]
  },
  {
   "cell_type": "code",
   "execution_count": null,
   "id": "02090278",
   "metadata": {},
   "outputs": [],
   "source": [
    "liste_var_categ = ['code', 'last_modified_date', 'product_name', 'categories_en', 'labels_en', \n",
    "                   'countries_en', 'ingredients_text', 'allergens', 'nutriscore_grade', \n",
    "                  'nova_group', 'pnns_groups_1', 'pnns_groups_2', 'main_category_en']"
   ]
  },
  {
   "cell_type": "code",
   "execution_count": null,
   "id": "14c568ca",
   "metadata": {},
   "outputs": [],
   "source": [
    "openfoodfacts_light.iloc[:, openfoodfacts_light.columns.isin(liste_var_categ)]"
   ]
  },
  {
   "cell_type": "code",
   "execution_count": null,
   "id": "828458c5",
   "metadata": {},
   "outputs": [],
   "source": [
    "openfoodfacts_light.iloc[:, ~openfoodfacts_light.columns.str.endswith('_100g')]"
   ]
  },
  {
   "cell_type": "code",
   "execution_count": null,
   "id": "3d843896",
   "metadata": {},
   "outputs": [],
   "source": []
  },
  {
   "cell_type": "code",
   "execution_count": null,
   "id": "62ee804b",
   "metadata": {},
   "outputs": [],
   "source": []
  },
  {
   "cell_type": "code",
   "execution_count": null,
   "id": "620e5d4f",
   "metadata": {},
   "outputs": [],
   "source": []
  },
  {
   "cell_type": "code",
   "execution_count": null,
   "id": "e9e99bc0",
   "metadata": {},
   "outputs": [],
   "source": []
  },
  {
   "cell_type": "markdown",
   "id": "f483a4e7",
   "metadata": {},
   "source": [
    "### Vitamines et oligoéléments essentiels  <a class=\"anchor\" id=\"vitamines\"></a>"
   ]
  },
  {
   "cell_type": "markdown",
   "id": "753ddf4b",
   "metadata": {},
   "source": [
    "Les nutriments sont des variables distinctes dans le dataset. Nous allons filtrer ce dernier sur les nutriments essentiels traduits en anglais."
   ]
  },
  {
   "cell_type": "code",
   "execution_count": null,
   "id": "6da403ef",
   "metadata": {},
   "outputs": [],
   "source": [
    "# Liste des nutriments essentiels\n",
    "liste_nutriments_essentiels = openfoodfacts_en.iloc[:,openfoodfacts_en.columns.str.contains(\n",
    "    'folates|vitamin-b9|calcium|vitamin-d|iron|iodine|alcohol')].columns.tolist()"
   ]
  },
  {
   "cell_type": "code",
   "execution_count": null,
   "id": "0ed660b8",
   "metadata": {},
   "outputs": [],
   "source": []
  },
  {
   "cell_type": "code",
   "execution_count": null,
   "id": "f2a9c537",
   "metadata": {},
   "outputs": [],
   "source": []
  },
  {
   "cell_type": "code",
   "execution_count": null,
   "id": "1a013535",
   "metadata": {},
   "outputs": [],
   "source": []
  },
  {
   "cell_type": "code",
   "execution_count": null,
   "id": "caa4220f",
   "metadata": {},
   "outputs": [],
   "source": []
  },
  {
   "cell_type": "code",
   "execution_count": null,
   "id": "17116534",
   "metadata": {},
   "outputs": [],
   "source": []
  },
  {
   "cell_type": "markdown",
   "id": "f4fcc480",
   "metadata": {},
   "source": [
    "### Aliments à proscrire  <a class=\"anchor\" id=\"proscrire\"></a>"
   ]
  },
  {
   "cell_type": "code",
   "execution_count": null,
   "id": "7d16e250",
   "metadata": {
    "scrolled": true
   },
   "outputs": [],
   "source": [
    "openfoodfacts_en.columns.tolist()"
   ]
  },
  {
   "cell_type": "markdown",
   "id": "54798fd9",
   "metadata": {},
   "source": [
    "Les aliments à proscrire sont des modalités de la variable"
   ]
  },
  {
   "cell_type": "code",
   "execution_count": null,
   "id": "2ab30fa7",
   "metadata": {},
   "outputs": [],
   "source": [
    "# Liste des aliments à proscrire"
   ]
  },
  {
   "cell_type": "code",
   "execution_count": null,
   "id": "86f9367b",
   "metadata": {},
   "outputs": [],
   "source": [
    "openfoodfacts_en[openfoodfacts_en['ingredients_text'].str.contains(\n",
    "    'soja|caféine|foie|phytostérols', na = False)][['product_name', 'ingredients_text', 'countries_en']]"
   ]
  },
  {
   "cell_type": "code",
   "execution_count": null,
   "id": "54c80d11",
   "metadata": {},
   "outputs": [],
   "source": []
  },
  {
   "cell_type": "code",
   "execution_count": null,
   "id": "48d81bdb",
   "metadata": {},
   "outputs": [],
   "source": [
    "liste_var_categ = ['code','last_modified_date','last_modified_year','product_name', \n",
    "                   'brands_tags','categories_en','labels_en','countries_en','ingredients_text','allergens',\n",
    "                   'traces_en','serving_quantity','additives_n','additives_en','nova_group','pnns_groups_1',\n",
    "                   'pnns_groups_2','brand_owner','ecoscore_score_fr','ecoscore_grade_fr','main_category',\n",
    "                   'main_category_en','energy-kcal_100g','energy_100g','energy-from-fat_100g','fat_100g']\n",
    "\n",
    "liste_a_eviter =  ['caffeine_100g', 'taurine_100g', 'salt_100g', 'sodium_100g', 'alcohol_100g', 'sugars_100g']\n",
    "\n",
    ", \n",
    "        \n",
    "\n",
    "liste_nutriscore = ['nutrition-score-fr_100g', 'nutrition-score-uk_100g', 'nutriscore_score', \n",
    "                    'nutriscore_grade']"
   ]
  },
  {
   "cell_type": "code",
   "execution_count": null,
   "id": "b232a5e4",
   "metadata": {
    "scrolled": false
   },
   "outputs": [],
   "source": [
    "describe_variables_light(openfoodfacts_en)"
   ]
  },
  {
   "cell_type": "markdown",
   "id": "ad8eca41",
   "metadata": {},
   "source": [
    "[Retour à la table des matières](#0)"
   ]
  },
  {
   "cell_type": "markdown",
   "id": "6a10af4e",
   "metadata": {},
   "source": [
    "<div class=\"alert alert-block alert-info\">\n",
    "    <p> Si on filtre sur le nom des ingrédients en français, peut être qu'il n'y a pas besoin de filtrer sur le pays </p>\n",
    "</div>"
   ]
  },
  {
   "cell_type": "code",
   "execution_count": null,
   "id": "39a40529",
   "metadata": {},
   "outputs": [],
   "source": []
  }
 ],
 "metadata": {
  "kernelspec": {
   "display_name": "projet3",
   "language": "python",
   "name": "projet3"
  },
  "language_info": {
   "codemirror_mode": {
    "name": "ipython",
    "version": 3
   },
   "file_extension": ".py",
   "mimetype": "text/x-python",
   "name": "python",
   "nbconvert_exporter": "python",
   "pygments_lexer": "ipython3",
   "version": "3.8.12"
  },
  "varInspector": {
   "cols": {
    "lenName": 16,
    "lenType": 16,
    "lenVar": 40
   },
   "kernels_config": {
    "python": {
     "delete_cmd_postfix": "",
     "delete_cmd_prefix": "del ",
     "library": "var_list.py",
     "varRefreshCmd": "print(var_dic_list())"
    },
    "r": {
     "delete_cmd_postfix": ") ",
     "delete_cmd_prefix": "rm(",
     "library": "var_list.r",
     "varRefreshCmd": "cat(var_dic_list()) "
    }
   },
   "oldHeight": 455.583666,
   "position": {
    "height": "477.217px",
    "left": "948px",
    "right": "20px",
    "top": "1px",
    "width": "566.733px"
   },
   "types_to_exclude": [
    "module",
    "function",
    "builtin_function_or_method",
    "instance",
    "_Feature"
   ],
   "varInspector_section_display": "block",
   "window_display": false
  }
 },
 "nbformat": 4,
 "nbformat_minor": 5
}
