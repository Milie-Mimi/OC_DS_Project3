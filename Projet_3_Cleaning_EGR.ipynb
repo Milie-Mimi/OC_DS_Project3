{
 "cells": [
  {
   "cell_type": "markdown",
   "id": "b6e89a93",
   "metadata": {},
   "source": [
    "# Projet 3: Concevez une application au service de la santé publique"
   ]
  },
  {
   "cell_type": "markdown",
   "id": "1fb79666",
   "metadata": {},
   "source": [
    "<div class=\"alert alert-block alert-info\">\n",
    "    <p> L'agence \"Santé publique France\" a lancé un appel à projets pour trouver des idées innovantes d’applications en lien avec l'alimentation. Vous souhaitez y participer et proposer une idée d’application. </p>\n",
    "</div>"
   ]
  },
  {
   "cell_type": "markdown",
   "id": "17cc33f7",
   "metadata": {},
   "source": [
    "<div class=\"alert alert-block alert-info\">\n",
    "    <p> Idée d'application: proposer des repas complets par jour (petit déjeuner, déjeuner et diner) répondant aux apports journaliers recommandés (AJR) avec le meilleur nutriscore et suggestion de produits similaires. </p>\n",
    "</div>"
   ]
  },
  {
   "cell_type": "markdown",
   "id": "7bb6110a",
   "metadata": {
    "heading_collapsed": true
   },
   "source": [
    "## Table des matières: <a class=\"anchor\" id=\"0\"></a>\n",
    "\n",
    "1. [Import des librairies et configurations générales](#library)\n",
    "2. [Visualisation et chargement du dataset](#dataset)\n",
    "3. [Mots qui apparaissent le plus souvent dans le nom des variables](#words)\n",
    "    1. [_100g](#100g)\n",
    "    2. [_tags](#tags)\n",
    "    3. [_en](#en)\n",
    "    4. [_url](#url)\n",
    "    5. [_ingredients](#ingredients)\n",
    "    6. [_image](#image)\n",
    "    7. [_packaging](#packaging)\n",
    "    8. [_name](#name)\n",
    "    9. [_places](#places)\n",
    "    10. [_additives](#additives)\n",
    "    11. [Autres variables](#misc)\n",
    "4. [Doublons](#doublons)\n",
    "5. [Sélection de variables pertinentes](#selec_var)\n",
    "6. [Gestion des valeurs manquantes](#nan)    "
   ]
  },
  {
   "cell_type": "markdown",
   "id": "87582c69",
   "metadata": {
    "heading_collapsed": true
   },
   "source": [
    "## Import des librairies et configurations générales <a class=\"anchor\" id=\"library\"></a>"
   ]
  },
  {
   "cell_type": "code",
   "execution_count": 1,
   "id": "e552d84a",
   "metadata": {
    "hidden": true
   },
   "outputs": [],
   "source": [
    "import numpy as np # pour l'algèbre linéaire\n",
    "import pandas as pd # pour l'analyse de données\n",
    "import collections # pour compter l'occurence de mots\n",
    "from collections import Counter\n",
    "\n",
    "import seaborn as sns # datavisualisation\n",
    "import matplotlib.pyplot as plt # datavisualisation\n",
    "from matplotlib.gridspec import GridSpec # visualisation sous forme de grille\n",
    "from wordcloud import WordCloud # nuage de mots"
   ]
  },
  {
   "cell_type": "code",
   "execution_count": 2,
   "id": "20c5ecd5",
   "metadata": {
    "hidden": true
   },
   "outputs": [],
   "source": [
    "# Configuration générale des graphiques\n",
    "parameters = {'axes.labelsize': 13, 'axes.titlesize': 16, 'axes.titleweight': 'bold'}\n",
    "plt.rcParams.update(parameters)"
   ]
  },
  {
   "cell_type": "code",
   "execution_count": 95,
   "id": "b48ea3ae",
   "metadata": {
    "hidden": true
   },
   "outputs": [],
   "source": [
    "#plt.rcParams.keys()"
   ]
  },
  {
   "cell_type": "code",
   "execution_count": 4,
   "id": "34d54cf4",
   "metadata": {
    "hidden": true
   },
   "outputs": [],
   "source": [
    "# Modification de l'affichage des lignes et colonnes pour plus de lisibilité\n",
    "pd.set_option('display.max_rows', 500)\n",
    "pd.set_option('display.max_columns', 100)"
   ]
  },
  {
   "cell_type": "markdown",
   "id": "7f2da54a",
   "metadata": {
    "heading_collapsed": true
   },
   "source": [
    "## Visualisation et chargement du dataset <a class=\"anchor\" id=\"dataset\"></a>"
   ]
  },
  {
   "cell_type": "code",
   "execution_count": 5,
   "id": "abc251d8",
   "metadata": {
    "hidden": true
   },
   "outputs": [],
   "source": [
    "#openfoodfacts = pd.read_csv('data\\en.openfoodfacts.org.products.csv', sep = '\\t')"
   ]
  },
  {
   "cell_type": "markdown",
   "id": "80f2f837",
   "metadata": {
    "hidden": true
   },
   "source": [
    "Lorsque l'on tente de charger directement le dataset, on obtient une erreur indiquant l'index des colonnes posant problème (type mixte). Afin de récupérer le nom des variables pour leur affecter un dtypes avant import, nous allons charger uniquement les 5 premières lignes et récupérer les colonnes (0,8,13,19,20,21,22,23,27,28,29,31,32,38,40,41,42,52,55,64,66):"
   ]
  },
  {
   "cell_type": "code",
   "execution_count": 6,
   "id": "a178e050",
   "metadata": {
    "hidden": true
   },
   "outputs": [],
   "source": [
    "#openfoodfacts = pd.read_csv('data\\en.openfoodfacts.org.products.csv', sep = '\\t', nrows = 5)\n",
    "#openfoodfacts"
   ]
  },
  {
   "cell_type": "code",
   "execution_count": 7,
   "id": "76756c6d",
   "metadata": {
    "hidden": true
   },
   "outputs": [],
   "source": [
    "#liste_colonnes_pour_dtypes = [0,8,13,19,20,21,22,23,27,28,29,31,32,38,40,41,42,52,55,64,66]\n",
    "#print(openfoodfacts.iloc[:,liste_colonnes_pour_dtypes].columns.tolist())"
   ]
  },
  {
   "cell_type": "code",
   "execution_count": 8,
   "id": "43fcd1f2",
   "metadata": {
    "hidden": true
   },
   "outputs": [],
   "source": [
    "# Certaines colonnes ont des modalités de type différent, forçons le type en object\n",
    "dtypes = {\n",
    "    'code':object, \n",
    "    'abbreviated_product_name':object, \n",
    "    'packaging_text':object, \n",
    "    'origins':object,\n",
    "    'origins_tags':object, \n",
    "    'origins_en':object, \n",
    "    'manufacturing_places':object,\n",
    "    'manufacturing_places_tags':object, \n",
    "    'emb_codes':object, \n",
    "    'emb_codes_tags':object,\n",
    "    'first_packaging_code_geo':object, \n",
    "    'cities_tags':object,\n",
    "    'purchase_places':object,\n",
    "    'allergens':object,\n",
    "    'traces':object,\n",
    "    'traces_tags':object, \n",
    "    'traces_en':object, \n",
    "    'ingredients_from_palm_oil_tags':object, \n",
    "    'ingredients_that_may_be_from_palm_oil_tags':object, \n",
    "    'brand_owner':object, \n",
    "    'ecoscore_grade_fr':object\n",
    "}"
   ]
  },
  {
   "cell_type": "code",
   "execution_count": 9,
   "id": "4ec3c244",
   "metadata": {
    "hidden": true
   },
   "outputs": [],
   "source": [
    "# Chargement du dataset avec les bons dtypes\n",
    "openfoodfacts = pd.read_csv('data\\en.openfoodfacts.org.products.csv', sep = '\\t', dtype=dtypes)"
   ]
  },
  {
   "cell_type": "markdown",
   "id": "04a0bdd4",
   "metadata": {
    "hidden": true
   },
   "source": [
    "Nous allons créer une fonction qui permettra de savoir si lors d'un import futur, les variables correspondent à celles chargées à l'origine. Si ce n'est pas le cas, il faudra analyser les nouvelles variables afin de définir si elles apportent une information supplémentaire et peut être adapter le script."
   ]
  },
  {
   "cell_type": "code",
   "execution_count": 10,
   "id": "f2e218f8",
   "metadata": {
    "hidden": true
   },
   "outputs": [],
   "source": [
    "#print(openfoodfacts.columns.tolist())"
   ]
  },
  {
   "cell_type": "code",
   "execution_count": 11,
   "id": "6d8f83b3",
   "metadata": {
    "hidden": true
   },
   "outputs": [],
   "source": [
    "def controle_des_colonnes(dataset):\n",
    "    '''Fonction qui permet de vérifier que toutes les colonnes ont bien été importées parmi la liste des variables \n",
    "    importées lors de la phase de cleaning'''\n",
    "    \n",
    "    liste_colonnes = ['code', 'url', 'creator', 'created_t', 'created_datetime', 'last_modified_t', \n",
    "                      'last_modified_datetime', 'product_name', 'abbreviated_product_name', 'generic_name', 'quantity', \n",
    "                      'packaging', 'packaging_tags', 'packaging_text', 'brands', 'brands_tags', 'categories', \n",
    "                      'categories_tags', 'categories_en', 'origins', 'origins_tags', 'origins_en', 'manufacturing_places', \n",
    "                      'manufacturing_places_tags', 'labels', 'labels_tags', 'labels_en', 'emb_codes', 'emb_codes_tags', \n",
    "                      'first_packaging_code_geo', 'cities', 'cities_tags', 'purchase_places', 'stores', 'countries', \n",
    "                      'countries_tags', 'countries_en', 'ingredients_text', 'allergens', 'allergens_en', 'traces', \n",
    "                      'traces_tags', 'traces_en', 'serving_size', 'serving_quantity', 'no_nutriments', 'additives_n', \n",
    "                      'additives', 'additives_tags', 'additives_en', 'ingredients_from_palm_oil_n', \n",
    "                      'ingredients_from_palm_oil', 'ingredients_from_palm_oil_tags', 'ingredients_that_may_be_from_palm_oil_n', \n",
    "                      'ingredients_that_may_be_from_palm_oil', 'ingredients_that_may_be_from_palm_oil_tags', \n",
    "                      'nutriscore_score', 'nutriscore_grade', 'nova_group', 'pnns_groups_1', 'pnns_groups_2', \n",
    "                      'states', 'states_tags', 'states_en', 'brand_owner', 'ecoscore_score_fr', 'ecoscore_grade_fr', \n",
    "                      'main_category', 'main_category_en', 'image_url', 'image_small_url', 'image_ingredients_url', \n",
    "                      'image_ingredients_small_url', 'image_nutrition_url', 'image_nutrition_small_url', 'energy-kj_100g', \n",
    "                      'energy-kcal_100g', 'energy_100g', 'energy-from-fat_100g', 'fat_100g', 'saturated-fat_100g', \n",
    "                      '-butyric-acid_100g', '-caproic-acid_100g', '-caprylic-acid_100g', '-capric-acid_100g', \n",
    "                      '-lauric-acid_100g', '-myristic-acid_100g', '-palmitic-acid_100g', '-stearic-acid_100g', \n",
    "                      '-arachidic-acid_100g', '-behenic-acid_100g', '-lignoceric-acid_100g', '-cerotic-acid_100g', \n",
    "                      '-montanic-acid_100g', '-melissic-acid_100g', 'monounsaturated-fat_100g', 'polyunsaturated-fat_100g', \n",
    "                      'omega-3-fat_100g', '-alpha-linolenic-acid_100g', '-eicosapentaenoic-acid_100g', \n",
    "                      '-docosahexaenoic-acid_100g', 'omega-6-fat_100g', '-linoleic-acid_100g', '-arachidonic-acid_100g', \n",
    "                      '-gamma-linolenic-acid_100g', '-dihomo-gamma-linolenic-acid_100g', 'omega-9-fat_100g', \n",
    "                      '-oleic-acid_100g', '-elaidic-acid_100g', '-gondoic-acid_100g', '-mead-acid_100g', \n",
    "                      '-erucic-acid_100g', '-nervonic-acid_100g', 'trans-fat_100g', 'cholesterol_100g', \n",
    "                      'carbohydrates_100g', 'sugars_100g', '-sucrose_100g', '-glucose_100g', '-fructose_100g', \n",
    "                      '-lactose_100g', '-maltose_100g', '-maltodextrins_100g', 'starch_100g', 'polyols_100g', \n",
    "                      'fiber_100g', 'soluble-fiber_100g', 'insoluble-fiber_100g', 'proteins_100g', 'casein_100g', \n",
    "                      'serum-proteins_100g', 'nucleotides_100g', 'salt_100g', 'sodium_100g', 'alcohol_100g', \n",
    "                      'vitamin-a_100g', 'beta-carotene_100g', 'vitamin-d_100g', 'vitamin-e_100g', 'vitamin-k_100g', \n",
    "                      'vitamin-c_100g', 'vitamin-b1_100g', 'vitamin-b2_100g', 'vitamin-pp_100g', 'vitamin-b6_100g', \n",
    "                      'vitamin-b9_100g', 'folates_100g', 'vitamin-b12_100g', 'biotin_100g', 'pantothenic-acid_100g', \n",
    "                      'silica_100g', 'bicarbonate_100g', 'potassium_100g', 'chloride_100g', 'calcium_100g', \n",
    "                      'phosphorus_100g', 'iron_100g', 'magnesium_100g', 'zinc_100g', 'copper_100g', 'manganese_100g', \n",
    "                      'fluoride_100g', 'selenium_100g', 'chromium_100g', 'molybdenum_100g', 'iodine_100g', 'caffeine_100g', \n",
    "                      'taurine_100g', 'ph_100g', 'fruits-vegetables-nuts_100g', 'fruits-vegetables-nuts-dried_100g', \n",
    "                      'fruits-vegetables-nuts-estimate_100g', 'fruits-vegetables-nuts-estimate-from-ingredients_100g', \n",
    "                      'collagen-meat-protein-ratio_100g', 'cocoa_100g', 'chlorophyl_100g', 'carbon-footprint_100g', \n",
    "                      'carbon-footprint-from-meat-or-fish_100g', 'nutrition-score-fr_100g', 'nutrition-score-uk_100g', \n",
    "                      'glycemic-index_100g', 'water-hardness_100g', 'choline_100g', 'phylloquinone_100g', 'beta-glucan_100g', \n",
    "                      'inositol_100g', 'carnitine_100g']\n",
    "    \n",
    "    \n",
    "    if dataset.columns.tolist() == liste_colonnes:\n",
    "        print('Toutes les variables ont bien été chargées')\n",
    "    \n",
    "    else:\n",
    "        print('Variable(s) non présente(s) dans le dataset:')\n",
    "        print(set(liste_colonnes) - set(dataset.columns.tolist()))\n",
    "        \n",
    "        print('Variable(s) supplémentaires dans le dataset:')\n",
    "        print(set(dataset.columns.tolist()) - set(liste_colonnes))"
   ]
  },
  {
   "cell_type": "code",
   "execution_count": 12,
   "id": "2460b801",
   "metadata": {
    "hidden": true
   },
   "outputs": [
    {
     "name": "stdout",
     "output_type": "stream",
     "text": [
      "Toutes les variables ont bien été chargées\n"
     ]
    }
   ],
   "source": [
    "controle_des_colonnes(openfoodfacts)"
   ]
  },
  {
   "cell_type": "code",
   "execution_count": 13,
   "id": "c234f96f",
   "metadata": {
    "hidden": true
   },
   "outputs": [
    {
     "data": {
      "text/html": [
       "<div>\n",
       "<style scoped>\n",
       "    .dataframe tbody tr th:only-of-type {\n",
       "        vertical-align: middle;\n",
       "    }\n",
       "\n",
       "    .dataframe tbody tr th {\n",
       "        vertical-align: top;\n",
       "    }\n",
       "\n",
       "    .dataframe thead th {\n",
       "        text-align: right;\n",
       "    }\n",
       "</style>\n",
       "<table border=\"1\" class=\"dataframe\">\n",
       "  <thead>\n",
       "    <tr style=\"text-align: right;\">\n",
       "      <th></th>\n",
       "      <th>code</th>\n",
       "      <th>url</th>\n",
       "      <th>creator</th>\n",
       "      <th>created_t</th>\n",
       "      <th>created_datetime</th>\n",
       "      <th>last_modified_t</th>\n",
       "      <th>last_modified_datetime</th>\n",
       "      <th>product_name</th>\n",
       "      <th>abbreviated_product_name</th>\n",
       "      <th>generic_name</th>\n",
       "      <th>quantity</th>\n",
       "      <th>packaging</th>\n",
       "      <th>packaging_tags</th>\n",
       "      <th>packaging_text</th>\n",
       "      <th>brands</th>\n",
       "      <th>brands_tags</th>\n",
       "      <th>categories</th>\n",
       "      <th>categories_tags</th>\n",
       "      <th>categories_en</th>\n",
       "      <th>origins</th>\n",
       "      <th>origins_tags</th>\n",
       "      <th>origins_en</th>\n",
       "      <th>manufacturing_places</th>\n",
       "      <th>manufacturing_places_tags</th>\n",
       "      <th>labels</th>\n",
       "      <th>labels_tags</th>\n",
       "      <th>labels_en</th>\n",
       "      <th>emb_codes</th>\n",
       "      <th>emb_codes_tags</th>\n",
       "      <th>first_packaging_code_geo</th>\n",
       "      <th>cities</th>\n",
       "      <th>cities_tags</th>\n",
       "      <th>purchase_places</th>\n",
       "      <th>stores</th>\n",
       "      <th>countries</th>\n",
       "      <th>countries_tags</th>\n",
       "      <th>countries_en</th>\n",
       "      <th>ingredients_text</th>\n",
       "      <th>allergens</th>\n",
       "      <th>allergens_en</th>\n",
       "      <th>traces</th>\n",
       "      <th>traces_tags</th>\n",
       "      <th>traces_en</th>\n",
       "      <th>serving_size</th>\n",
       "      <th>serving_quantity</th>\n",
       "      <th>no_nutriments</th>\n",
       "      <th>additives_n</th>\n",
       "      <th>additives</th>\n",
       "      <th>additives_tags</th>\n",
       "      <th>additives_en</th>\n",
       "      <th>...</th>\n",
       "      <th>vitamin-d_100g</th>\n",
       "      <th>vitamin-e_100g</th>\n",
       "      <th>vitamin-k_100g</th>\n",
       "      <th>vitamin-c_100g</th>\n",
       "      <th>vitamin-b1_100g</th>\n",
       "      <th>vitamin-b2_100g</th>\n",
       "      <th>vitamin-pp_100g</th>\n",
       "      <th>vitamin-b6_100g</th>\n",
       "      <th>vitamin-b9_100g</th>\n",
       "      <th>folates_100g</th>\n",
       "      <th>vitamin-b12_100g</th>\n",
       "      <th>biotin_100g</th>\n",
       "      <th>pantothenic-acid_100g</th>\n",
       "      <th>silica_100g</th>\n",
       "      <th>bicarbonate_100g</th>\n",
       "      <th>potassium_100g</th>\n",
       "      <th>chloride_100g</th>\n",
       "      <th>calcium_100g</th>\n",
       "      <th>phosphorus_100g</th>\n",
       "      <th>iron_100g</th>\n",
       "      <th>magnesium_100g</th>\n",
       "      <th>zinc_100g</th>\n",
       "      <th>copper_100g</th>\n",
       "      <th>manganese_100g</th>\n",
       "      <th>fluoride_100g</th>\n",
       "      <th>selenium_100g</th>\n",
       "      <th>chromium_100g</th>\n",
       "      <th>molybdenum_100g</th>\n",
       "      <th>iodine_100g</th>\n",
       "      <th>caffeine_100g</th>\n",
       "      <th>taurine_100g</th>\n",
       "      <th>ph_100g</th>\n",
       "      <th>fruits-vegetables-nuts_100g</th>\n",
       "      <th>fruits-vegetables-nuts-dried_100g</th>\n",
       "      <th>fruits-vegetables-nuts-estimate_100g</th>\n",
       "      <th>fruits-vegetables-nuts-estimate-from-ingredients_100g</th>\n",
       "      <th>collagen-meat-protein-ratio_100g</th>\n",
       "      <th>cocoa_100g</th>\n",
       "      <th>chlorophyl_100g</th>\n",
       "      <th>carbon-footprint_100g</th>\n",
       "      <th>carbon-footprint-from-meat-or-fish_100g</th>\n",
       "      <th>nutrition-score-fr_100g</th>\n",
       "      <th>nutrition-score-uk_100g</th>\n",
       "      <th>glycemic-index_100g</th>\n",
       "      <th>water-hardness_100g</th>\n",
       "      <th>choline_100g</th>\n",
       "      <th>phylloquinone_100g</th>\n",
       "      <th>beta-glucan_100g</th>\n",
       "      <th>inositol_100g</th>\n",
       "      <th>carnitine_100g</th>\n",
       "    </tr>\n",
       "  </thead>\n",
       "  <tbody>\n",
       "    <tr>\n",
       "      <th>0</th>\n",
       "      <td>00000000000000225</td>\n",
       "      <td>http://world-en.openfoodfacts.org/product/0000...</td>\n",
       "      <td>nutrinet-sante</td>\n",
       "      <td>1623855208</td>\n",
       "      <td>2021-06-16T14:53:28Z</td>\n",
       "      <td>1623855209</td>\n",
       "      <td>2021-06-16T14:53:29Z</td>\n",
       "      <td>jeunes pousses</td>\n",
       "      <td>NaN</td>\n",
       "      <td>NaN</td>\n",
       "      <td>NaN</td>\n",
       "      <td>NaN</td>\n",
       "      <td>NaN</td>\n",
       "      <td>NaN</td>\n",
       "      <td>endives</td>\n",
       "      <td>endives</td>\n",
       "      <td>NaN</td>\n",
       "      <td>NaN</td>\n",
       "      <td>NaN</td>\n",
       "      <td>NaN</td>\n",
       "      <td>NaN</td>\n",
       "      <td>NaN</td>\n",
       "      <td>NaN</td>\n",
       "      <td>NaN</td>\n",
       "      <td>NaN</td>\n",
       "      <td>NaN</td>\n",
       "      <td>NaN</td>\n",
       "      <td>NaN</td>\n",
       "      <td>NaN</td>\n",
       "      <td>NaN</td>\n",
       "      <td>NaN</td>\n",
       "      <td>NaN</td>\n",
       "      <td>NaN</td>\n",
       "      <td>NaN</td>\n",
       "      <td>en:france</td>\n",
       "      <td>en:france</td>\n",
       "      <td>France</td>\n",
       "      <td>NaN</td>\n",
       "      <td>NaN</td>\n",
       "      <td>NaN</td>\n",
       "      <td>NaN</td>\n",
       "      <td>NaN</td>\n",
       "      <td>NaN</td>\n",
       "      <td>NaN</td>\n",
       "      <td>NaN</td>\n",
       "      <td>NaN</td>\n",
       "      <td>NaN</td>\n",
       "      <td>NaN</td>\n",
       "      <td>NaN</td>\n",
       "      <td>NaN</td>\n",
       "      <td>...</td>\n",
       "      <td>NaN</td>\n",
       "      <td>NaN</td>\n",
       "      <td>NaN</td>\n",
       "      <td>NaN</td>\n",
       "      <td>NaN</td>\n",
       "      <td>NaN</td>\n",
       "      <td>NaN</td>\n",
       "      <td>NaN</td>\n",
       "      <td>NaN</td>\n",
       "      <td>NaN</td>\n",
       "      <td>NaN</td>\n",
       "      <td>NaN</td>\n",
       "      <td>NaN</td>\n",
       "      <td>NaN</td>\n",
       "      <td>NaN</td>\n",
       "      <td>NaN</td>\n",
       "      <td>NaN</td>\n",
       "      <td>NaN</td>\n",
       "      <td>NaN</td>\n",
       "      <td>NaN</td>\n",
       "      <td>NaN</td>\n",
       "      <td>NaN</td>\n",
       "      <td>NaN</td>\n",
       "      <td>NaN</td>\n",
       "      <td>NaN</td>\n",
       "      <td>NaN</td>\n",
       "      <td>NaN</td>\n",
       "      <td>NaN</td>\n",
       "      <td>NaN</td>\n",
       "      <td>NaN</td>\n",
       "      <td>NaN</td>\n",
       "      <td>NaN</td>\n",
       "      <td>NaN</td>\n",
       "      <td>NaN</td>\n",
       "      <td>NaN</td>\n",
       "      <td>NaN</td>\n",
       "      <td>NaN</td>\n",
       "      <td>NaN</td>\n",
       "      <td>NaN</td>\n",
       "      <td>NaN</td>\n",
       "      <td>NaN</td>\n",
       "      <td>NaN</td>\n",
       "      <td>NaN</td>\n",
       "      <td>NaN</td>\n",
       "      <td>NaN</td>\n",
       "      <td>NaN</td>\n",
       "      <td>NaN</td>\n",
       "      <td>NaN</td>\n",
       "      <td>NaN</td>\n",
       "      <td>NaN</td>\n",
       "    </tr>\n",
       "    <tr>\n",
       "      <th>1</th>\n",
       "      <td>00000000000003429145</td>\n",
       "      <td>http://world-en.openfoodfacts.org/product/0000...</td>\n",
       "      <td>kiliweb</td>\n",
       "      <td>1630483911</td>\n",
       "      <td>2021-09-01T08:11:51Z</td>\n",
       "      <td>1630484064</td>\n",
       "      <td>2021-09-01T08:14:24Z</td>\n",
       "      <td>L.casei</td>\n",
       "      <td>NaN</td>\n",
       "      <td>NaN</td>\n",
       "      <td>NaN</td>\n",
       "      <td>NaN</td>\n",
       "      <td>NaN</td>\n",
       "      <td>NaN</td>\n",
       "      <td>NaN</td>\n",
       "      <td>NaN</td>\n",
       "      <td>NaN</td>\n",
       "      <td>NaN</td>\n",
       "      <td>NaN</td>\n",
       "      <td>Spain</td>\n",
       "      <td>en:spain</td>\n",
       "      <td>Spain</td>\n",
       "      <td>NaN</td>\n",
       "      <td>NaN</td>\n",
       "      <td>NaN</td>\n",
       "      <td>NaN</td>\n",
       "      <td>NaN</td>\n",
       "      <td>NaN</td>\n",
       "      <td>NaN</td>\n",
       "      <td>NaN</td>\n",
       "      <td>NaN</td>\n",
       "      <td>NaN</td>\n",
       "      <td>NaN</td>\n",
       "      <td>NaN</td>\n",
       "      <td>Spain</td>\n",
       "      <td>en:spain</td>\n",
       "      <td>Spain</td>\n",
       "      <td>Leche semidesnatada, azucar 6.9% leche desnata...</td>\n",
       "      <td>NaN</td>\n",
       "      <td>NaN</td>\n",
       "      <td>NaN</td>\n",
       "      <td>NaN</td>\n",
       "      <td>NaN</td>\n",
       "      <td>NaN</td>\n",
       "      <td>NaN</td>\n",
       "      <td>NaN</td>\n",
       "      <td>0.0</td>\n",
       "      <td>NaN</td>\n",
       "      <td>NaN</td>\n",
       "      <td>NaN</td>\n",
       "      <td>...</td>\n",
       "      <td>NaN</td>\n",
       "      <td>NaN</td>\n",
       "      <td>NaN</td>\n",
       "      <td>NaN</td>\n",
       "      <td>NaN</td>\n",
       "      <td>NaN</td>\n",
       "      <td>NaN</td>\n",
       "      <td>NaN</td>\n",
       "      <td>NaN</td>\n",
       "      <td>NaN</td>\n",
       "      <td>NaN</td>\n",
       "      <td>NaN</td>\n",
       "      <td>NaN</td>\n",
       "      <td>NaN</td>\n",
       "      <td>NaN</td>\n",
       "      <td>NaN</td>\n",
       "      <td>NaN</td>\n",
       "      <td>NaN</td>\n",
       "      <td>NaN</td>\n",
       "      <td>NaN</td>\n",
       "      <td>NaN</td>\n",
       "      <td>NaN</td>\n",
       "      <td>NaN</td>\n",
       "      <td>NaN</td>\n",
       "      <td>NaN</td>\n",
       "      <td>NaN</td>\n",
       "      <td>NaN</td>\n",
       "      <td>NaN</td>\n",
       "      <td>NaN</td>\n",
       "      <td>NaN</td>\n",
       "      <td>NaN</td>\n",
       "      <td>NaN</td>\n",
       "      <td>NaN</td>\n",
       "      <td>NaN</td>\n",
       "      <td>NaN</td>\n",
       "      <td>0.0</td>\n",
       "      <td>NaN</td>\n",
       "      <td>NaN</td>\n",
       "      <td>NaN</td>\n",
       "      <td>NaN</td>\n",
       "      <td>NaN</td>\n",
       "      <td>NaN</td>\n",
       "      <td>NaN</td>\n",
       "      <td>NaN</td>\n",
       "      <td>NaN</td>\n",
       "      <td>NaN</td>\n",
       "      <td>NaN</td>\n",
       "      <td>NaN</td>\n",
       "      <td>NaN</td>\n",
       "      <td>NaN</td>\n",
       "    </tr>\n",
       "    <tr>\n",
       "      <th>2</th>\n",
       "      <td>0000000000017</td>\n",
       "      <td>http://world-en.openfoodfacts.org/product/0000...</td>\n",
       "      <td>kiliweb</td>\n",
       "      <td>1529059080</td>\n",
       "      <td>2018-06-15T10:38:00Z</td>\n",
       "      <td>1561463718</td>\n",
       "      <td>2019-06-25T11:55:18Z</td>\n",
       "      <td>Vitória crackers</td>\n",
       "      <td>NaN</td>\n",
       "      <td>NaN</td>\n",
       "      <td>NaN</td>\n",
       "      <td>NaN</td>\n",
       "      <td>NaN</td>\n",
       "      <td>NaN</td>\n",
       "      <td>NaN</td>\n",
       "      <td>NaN</td>\n",
       "      <td>NaN</td>\n",
       "      <td>NaN</td>\n",
       "      <td>NaN</td>\n",
       "      <td>NaN</td>\n",
       "      <td>NaN</td>\n",
       "      <td>NaN</td>\n",
       "      <td>NaN</td>\n",
       "      <td>NaN</td>\n",
       "      <td>NaN</td>\n",
       "      <td>NaN</td>\n",
       "      <td>NaN</td>\n",
       "      <td>NaN</td>\n",
       "      <td>NaN</td>\n",
       "      <td>NaN</td>\n",
       "      <td>NaN</td>\n",
       "      <td>NaN</td>\n",
       "      <td>NaN</td>\n",
       "      <td>NaN</td>\n",
       "      <td>France</td>\n",
       "      <td>en:france</td>\n",
       "      <td>France</td>\n",
       "      <td>NaN</td>\n",
       "      <td>NaN</td>\n",
       "      <td>NaN</td>\n",
       "      <td>NaN</td>\n",
       "      <td>NaN</td>\n",
       "      <td>NaN</td>\n",
       "      <td>NaN</td>\n",
       "      <td>NaN</td>\n",
       "      <td>NaN</td>\n",
       "      <td>NaN</td>\n",
       "      <td>NaN</td>\n",
       "      <td>NaN</td>\n",
       "      <td>NaN</td>\n",
       "      <td>...</td>\n",
       "      <td>NaN</td>\n",
       "      <td>NaN</td>\n",
       "      <td>NaN</td>\n",
       "      <td>NaN</td>\n",
       "      <td>NaN</td>\n",
       "      <td>NaN</td>\n",
       "      <td>NaN</td>\n",
       "      <td>NaN</td>\n",
       "      <td>NaN</td>\n",
       "      <td>NaN</td>\n",
       "      <td>NaN</td>\n",
       "      <td>NaN</td>\n",
       "      <td>NaN</td>\n",
       "      <td>NaN</td>\n",
       "      <td>NaN</td>\n",
       "      <td>NaN</td>\n",
       "      <td>NaN</td>\n",
       "      <td>NaN</td>\n",
       "      <td>NaN</td>\n",
       "      <td>NaN</td>\n",
       "      <td>NaN</td>\n",
       "      <td>NaN</td>\n",
       "      <td>NaN</td>\n",
       "      <td>NaN</td>\n",
       "      <td>NaN</td>\n",
       "      <td>NaN</td>\n",
       "      <td>NaN</td>\n",
       "      <td>NaN</td>\n",
       "      <td>NaN</td>\n",
       "      <td>NaN</td>\n",
       "      <td>NaN</td>\n",
       "      <td>NaN</td>\n",
       "      <td>NaN</td>\n",
       "      <td>NaN</td>\n",
       "      <td>NaN</td>\n",
       "      <td>NaN</td>\n",
       "      <td>NaN</td>\n",
       "      <td>NaN</td>\n",
       "      <td>NaN</td>\n",
       "      <td>NaN</td>\n",
       "      <td>NaN</td>\n",
       "      <td>NaN</td>\n",
       "      <td>NaN</td>\n",
       "      <td>NaN</td>\n",
       "      <td>NaN</td>\n",
       "      <td>NaN</td>\n",
       "      <td>NaN</td>\n",
       "      <td>NaN</td>\n",
       "      <td>NaN</td>\n",
       "      <td>NaN</td>\n",
       "    </tr>\n",
       "    <tr>\n",
       "      <th>3</th>\n",
       "      <td>0000000000031</td>\n",
       "      <td>http://world-en.openfoodfacts.org/product/0000...</td>\n",
       "      <td>isagoofy</td>\n",
       "      <td>1539464774</td>\n",
       "      <td>2018-10-13T21:06:14Z</td>\n",
       "      <td>1539464817</td>\n",
       "      <td>2018-10-13T21:06:57Z</td>\n",
       "      <td>Cacao</td>\n",
       "      <td>NaN</td>\n",
       "      <td>NaN</td>\n",
       "      <td>130 g</td>\n",
       "      <td>NaN</td>\n",
       "      <td>NaN</td>\n",
       "      <td>NaN</td>\n",
       "      <td>NaN</td>\n",
       "      <td>NaN</td>\n",
       "      <td>NaN</td>\n",
       "      <td>NaN</td>\n",
       "      <td>NaN</td>\n",
       "      <td>NaN</td>\n",
       "      <td>NaN</td>\n",
       "      <td>NaN</td>\n",
       "      <td>NaN</td>\n",
       "      <td>NaN</td>\n",
       "      <td>NaN</td>\n",
       "      <td>NaN</td>\n",
       "      <td>NaN</td>\n",
       "      <td>NaN</td>\n",
       "      <td>NaN</td>\n",
       "      <td>NaN</td>\n",
       "      <td>NaN</td>\n",
       "      <td>NaN</td>\n",
       "      <td>NaN</td>\n",
       "      <td>NaN</td>\n",
       "      <td>France</td>\n",
       "      <td>en:france</td>\n",
       "      <td>France</td>\n",
       "      <td>NaN</td>\n",
       "      <td>NaN</td>\n",
       "      <td>NaN</td>\n",
       "      <td>NaN</td>\n",
       "      <td>NaN</td>\n",
       "      <td>NaN</td>\n",
       "      <td>NaN</td>\n",
       "      <td>NaN</td>\n",
       "      <td>NaN</td>\n",
       "      <td>NaN</td>\n",
       "      <td>NaN</td>\n",
       "      <td>NaN</td>\n",
       "      <td>NaN</td>\n",
       "      <td>...</td>\n",
       "      <td>NaN</td>\n",
       "      <td>NaN</td>\n",
       "      <td>NaN</td>\n",
       "      <td>NaN</td>\n",
       "      <td>NaN</td>\n",
       "      <td>NaN</td>\n",
       "      <td>NaN</td>\n",
       "      <td>NaN</td>\n",
       "      <td>NaN</td>\n",
       "      <td>NaN</td>\n",
       "      <td>NaN</td>\n",
       "      <td>NaN</td>\n",
       "      <td>NaN</td>\n",
       "      <td>NaN</td>\n",
       "      <td>NaN</td>\n",
       "      <td>NaN</td>\n",
       "      <td>NaN</td>\n",
       "      <td>NaN</td>\n",
       "      <td>NaN</td>\n",
       "      <td>NaN</td>\n",
       "      <td>NaN</td>\n",
       "      <td>NaN</td>\n",
       "      <td>NaN</td>\n",
       "      <td>NaN</td>\n",
       "      <td>NaN</td>\n",
       "      <td>NaN</td>\n",
       "      <td>NaN</td>\n",
       "      <td>NaN</td>\n",
       "      <td>NaN</td>\n",
       "      <td>NaN</td>\n",
       "      <td>NaN</td>\n",
       "      <td>NaN</td>\n",
       "      <td>NaN</td>\n",
       "      <td>NaN</td>\n",
       "      <td>NaN</td>\n",
       "      <td>NaN</td>\n",
       "      <td>NaN</td>\n",
       "      <td>NaN</td>\n",
       "      <td>NaN</td>\n",
       "      <td>NaN</td>\n",
       "      <td>NaN</td>\n",
       "      <td>NaN</td>\n",
       "      <td>NaN</td>\n",
       "      <td>NaN</td>\n",
       "      <td>NaN</td>\n",
       "      <td>NaN</td>\n",
       "      <td>NaN</td>\n",
       "      <td>NaN</td>\n",
       "      <td>NaN</td>\n",
       "      <td>NaN</td>\n",
       "    </tr>\n",
       "    <tr>\n",
       "      <th>4</th>\n",
       "      <td>000000000003327986</td>\n",
       "      <td>http://world-en.openfoodfacts.org/product/0000...</td>\n",
       "      <td>kiliweb</td>\n",
       "      <td>1574175736</td>\n",
       "      <td>2019-11-19T15:02:16Z</td>\n",
       "      <td>1624390765</td>\n",
       "      <td>2021-06-22T19:39:25Z</td>\n",
       "      <td>Filetes de pollo empanado</td>\n",
       "      <td>NaN</td>\n",
       "      <td>NaN</td>\n",
       "      <td>NaN</td>\n",
       "      <td>NaN</td>\n",
       "      <td>NaN</td>\n",
       "      <td>NaN</td>\n",
       "      <td>NaN</td>\n",
       "      <td>NaN</td>\n",
       "      <td>NaN</td>\n",
       "      <td>NaN</td>\n",
       "      <td>NaN</td>\n",
       "      <td>NaN</td>\n",
       "      <td>NaN</td>\n",
       "      <td>NaN</td>\n",
       "      <td>NaN</td>\n",
       "      <td>NaN</td>\n",
       "      <td>NaN</td>\n",
       "      <td>NaN</td>\n",
       "      <td>NaN</td>\n",
       "      <td>NaN</td>\n",
       "      <td>NaN</td>\n",
       "      <td>NaN</td>\n",
       "      <td>NaN</td>\n",
       "      <td>NaN</td>\n",
       "      <td>NaN</td>\n",
       "      <td>NaN</td>\n",
       "      <td>Espagne</td>\n",
       "      <td>en:spain</td>\n",
       "      <td>Spain</td>\n",
       "      <td>NaN</td>\n",
       "      <td>NaN</td>\n",
       "      <td>NaN</td>\n",
       "      <td>NaN</td>\n",
       "      <td>NaN</td>\n",
       "      <td>NaN</td>\n",
       "      <td>NaN</td>\n",
       "      <td>NaN</td>\n",
       "      <td>NaN</td>\n",
       "      <td>NaN</td>\n",
       "      <td>NaN</td>\n",
       "      <td>NaN</td>\n",
       "      <td>NaN</td>\n",
       "      <td>...</td>\n",
       "      <td>NaN</td>\n",
       "      <td>NaN</td>\n",
       "      <td>NaN</td>\n",
       "      <td>NaN</td>\n",
       "      <td>NaN</td>\n",
       "      <td>NaN</td>\n",
       "      <td>NaN</td>\n",
       "      <td>NaN</td>\n",
       "      <td>NaN</td>\n",
       "      <td>NaN</td>\n",
       "      <td>NaN</td>\n",
       "      <td>NaN</td>\n",
       "      <td>NaN</td>\n",
       "      <td>NaN</td>\n",
       "      <td>NaN</td>\n",
       "      <td>NaN</td>\n",
       "      <td>NaN</td>\n",
       "      <td>NaN</td>\n",
       "      <td>NaN</td>\n",
       "      <td>NaN</td>\n",
       "      <td>NaN</td>\n",
       "      <td>NaN</td>\n",
       "      <td>NaN</td>\n",
       "      <td>NaN</td>\n",
       "      <td>NaN</td>\n",
       "      <td>NaN</td>\n",
       "      <td>NaN</td>\n",
       "      <td>NaN</td>\n",
       "      <td>NaN</td>\n",
       "      <td>NaN</td>\n",
       "      <td>NaN</td>\n",
       "      <td>NaN</td>\n",
       "      <td>NaN</td>\n",
       "      <td>NaN</td>\n",
       "      <td>NaN</td>\n",
       "      <td>NaN</td>\n",
       "      <td>NaN</td>\n",
       "      <td>NaN</td>\n",
       "      <td>NaN</td>\n",
       "      <td>NaN</td>\n",
       "      <td>NaN</td>\n",
       "      <td>NaN</td>\n",
       "      <td>NaN</td>\n",
       "      <td>NaN</td>\n",
       "      <td>NaN</td>\n",
       "      <td>NaN</td>\n",
       "      <td>NaN</td>\n",
       "      <td>NaN</td>\n",
       "      <td>NaN</td>\n",
       "      <td>NaN</td>\n",
       "    </tr>\n",
       "  </tbody>\n",
       "</table>\n",
       "<p>5 rows × 187 columns</p>\n",
       "</div>"
      ],
      "text/plain": [
       "                   code                                                url  \\\n",
       "0     00000000000000225  http://world-en.openfoodfacts.org/product/0000...   \n",
       "1  00000000000003429145  http://world-en.openfoodfacts.org/product/0000...   \n",
       "2         0000000000017  http://world-en.openfoodfacts.org/product/0000...   \n",
       "3         0000000000031  http://world-en.openfoodfacts.org/product/0000...   \n",
       "4    000000000003327986  http://world-en.openfoodfacts.org/product/0000...   \n",
       "\n",
       "          creator   created_t      created_datetime  last_modified_t  \\\n",
       "0  nutrinet-sante  1623855208  2021-06-16T14:53:28Z       1623855209   \n",
       "1         kiliweb  1630483911  2021-09-01T08:11:51Z       1630484064   \n",
       "2         kiliweb  1529059080  2018-06-15T10:38:00Z       1561463718   \n",
       "3        isagoofy  1539464774  2018-10-13T21:06:14Z       1539464817   \n",
       "4         kiliweb  1574175736  2019-11-19T15:02:16Z       1624390765   \n",
       "\n",
       "  last_modified_datetime               product_name abbreviated_product_name  \\\n",
       "0   2021-06-16T14:53:29Z             jeunes pousses                      NaN   \n",
       "1   2021-09-01T08:14:24Z                    L.casei                      NaN   \n",
       "2   2019-06-25T11:55:18Z           Vitória crackers                      NaN   \n",
       "3   2018-10-13T21:06:57Z                      Cacao                      NaN   \n",
       "4   2021-06-22T19:39:25Z  Filetes de pollo empanado                      NaN   \n",
       "\n",
       "  generic_name quantity packaging packaging_tags packaging_text   brands  \\\n",
       "0          NaN      NaN       NaN            NaN            NaN  endives   \n",
       "1          NaN      NaN       NaN            NaN            NaN      NaN   \n",
       "2          NaN      NaN       NaN            NaN            NaN      NaN   \n",
       "3          NaN    130 g       NaN            NaN            NaN      NaN   \n",
       "4          NaN      NaN       NaN            NaN            NaN      NaN   \n",
       "\n",
       "  brands_tags categories categories_tags categories_en origins origins_tags  \\\n",
       "0     endives        NaN             NaN           NaN     NaN          NaN   \n",
       "1         NaN        NaN             NaN           NaN   Spain     en:spain   \n",
       "2         NaN        NaN             NaN           NaN     NaN          NaN   \n",
       "3         NaN        NaN             NaN           NaN     NaN          NaN   \n",
       "4         NaN        NaN             NaN           NaN     NaN          NaN   \n",
       "\n",
       "  origins_en manufacturing_places manufacturing_places_tags labels  \\\n",
       "0        NaN                  NaN                       NaN    NaN   \n",
       "1      Spain                  NaN                       NaN    NaN   \n",
       "2        NaN                  NaN                       NaN    NaN   \n",
       "3        NaN                  NaN                       NaN    NaN   \n",
       "4        NaN                  NaN                       NaN    NaN   \n",
       "\n",
       "  labels_tags labels_en emb_codes emb_codes_tags first_packaging_code_geo  \\\n",
       "0         NaN       NaN       NaN            NaN                      NaN   \n",
       "1         NaN       NaN       NaN            NaN                      NaN   \n",
       "2         NaN       NaN       NaN            NaN                      NaN   \n",
       "3         NaN       NaN       NaN            NaN                      NaN   \n",
       "4         NaN       NaN       NaN            NaN                      NaN   \n",
       "\n",
       "   cities cities_tags purchase_places stores  countries countries_tags  \\\n",
       "0     NaN         NaN             NaN    NaN  en:france      en:france   \n",
       "1     NaN         NaN             NaN    NaN      Spain       en:spain   \n",
       "2     NaN         NaN             NaN    NaN     France      en:france   \n",
       "3     NaN         NaN             NaN    NaN     France      en:france   \n",
       "4     NaN         NaN             NaN    NaN    Espagne       en:spain   \n",
       "\n",
       "  countries_en                                   ingredients_text allergens  \\\n",
       "0       France                                                NaN       NaN   \n",
       "1        Spain  Leche semidesnatada, azucar 6.9% leche desnata...       NaN   \n",
       "2       France                                                NaN       NaN   \n",
       "3       France                                                NaN       NaN   \n",
       "4        Spain                                                NaN       NaN   \n",
       "\n",
       "   allergens_en traces traces_tags traces_en serving_size  serving_quantity  \\\n",
       "0           NaN    NaN         NaN       NaN          NaN               NaN   \n",
       "1           NaN    NaN         NaN       NaN          NaN               NaN   \n",
       "2           NaN    NaN         NaN       NaN          NaN               NaN   \n",
       "3           NaN    NaN         NaN       NaN          NaN               NaN   \n",
       "4           NaN    NaN         NaN       NaN          NaN               NaN   \n",
       "\n",
       "   no_nutriments  additives_n  additives additives_tags additives_en  ...  \\\n",
       "0            NaN          NaN        NaN            NaN          NaN  ...   \n",
       "1            NaN          0.0        NaN            NaN          NaN  ...   \n",
       "2            NaN          NaN        NaN            NaN          NaN  ...   \n",
       "3            NaN          NaN        NaN            NaN          NaN  ...   \n",
       "4            NaN          NaN        NaN            NaN          NaN  ...   \n",
       "\n",
       "   vitamin-d_100g  vitamin-e_100g vitamin-k_100g  vitamin-c_100g  \\\n",
       "0             NaN             NaN            NaN             NaN   \n",
       "1             NaN             NaN            NaN             NaN   \n",
       "2             NaN             NaN            NaN             NaN   \n",
       "3             NaN             NaN            NaN             NaN   \n",
       "4             NaN             NaN            NaN             NaN   \n",
       "\n",
       "   vitamin-b1_100g vitamin-b2_100g  vitamin-pp_100g vitamin-b6_100g  \\\n",
       "0              NaN             NaN              NaN             NaN   \n",
       "1              NaN             NaN              NaN             NaN   \n",
       "2              NaN             NaN              NaN             NaN   \n",
       "3              NaN             NaN              NaN             NaN   \n",
       "4              NaN             NaN              NaN             NaN   \n",
       "\n",
       "   vitamin-b9_100g folates_100g vitamin-b12_100g biotin_100g  \\\n",
       "0              NaN          NaN              NaN         NaN   \n",
       "1              NaN          NaN              NaN         NaN   \n",
       "2              NaN          NaN              NaN         NaN   \n",
       "3              NaN          NaN              NaN         NaN   \n",
       "4              NaN          NaN              NaN         NaN   \n",
       "\n",
       "  pantothenic-acid_100g silica_100g bicarbonate_100g  potassium_100g  \\\n",
       "0                   NaN         NaN              NaN             NaN   \n",
       "1                   NaN         NaN              NaN             NaN   \n",
       "2                   NaN         NaN              NaN             NaN   \n",
       "3                   NaN         NaN              NaN             NaN   \n",
       "4                   NaN         NaN              NaN             NaN   \n",
       "\n",
       "  chloride_100g calcium_100g phosphorus_100g iron_100g magnesium_100g  \\\n",
       "0           NaN          NaN             NaN       NaN            NaN   \n",
       "1           NaN          NaN             NaN       NaN            NaN   \n",
       "2           NaN          NaN             NaN       NaN            NaN   \n",
       "3           NaN          NaN             NaN       NaN            NaN   \n",
       "4           NaN          NaN             NaN       NaN            NaN   \n",
       "\n",
       "  zinc_100g copper_100g manganese_100g fluoride_100g  selenium_100g  \\\n",
       "0       NaN         NaN            NaN           NaN            NaN   \n",
       "1       NaN         NaN            NaN           NaN            NaN   \n",
       "2       NaN         NaN            NaN           NaN            NaN   \n",
       "3       NaN         NaN            NaN           NaN            NaN   \n",
       "4       NaN         NaN            NaN           NaN            NaN   \n",
       "\n",
       "   chromium_100g  molybdenum_100g  iodine_100g  caffeine_100g  taurine_100g  \\\n",
       "0            NaN              NaN          NaN            NaN           NaN   \n",
       "1            NaN              NaN          NaN            NaN           NaN   \n",
       "2            NaN              NaN          NaN            NaN           NaN   \n",
       "3            NaN              NaN          NaN            NaN           NaN   \n",
       "4            NaN              NaN          NaN            NaN           NaN   \n",
       "\n",
       "   ph_100g  fruits-vegetables-nuts_100g  fruits-vegetables-nuts-dried_100g  \\\n",
       "0      NaN                          NaN                                NaN   \n",
       "1      NaN                          NaN                                NaN   \n",
       "2      NaN                          NaN                                NaN   \n",
       "3      NaN                          NaN                                NaN   \n",
       "4      NaN                          NaN                                NaN   \n",
       "\n",
       "   fruits-vegetables-nuts-estimate_100g  \\\n",
       "0                                   NaN   \n",
       "1                                   NaN   \n",
       "2                                   NaN   \n",
       "3                                   NaN   \n",
       "4                                   NaN   \n",
       "\n",
       "   fruits-vegetables-nuts-estimate-from-ingredients_100g  \\\n",
       "0                                                NaN       \n",
       "1                                                0.0       \n",
       "2                                                NaN       \n",
       "3                                                NaN       \n",
       "4                                                NaN       \n",
       "\n",
       "   collagen-meat-protein-ratio_100g  cocoa_100g  chlorophyl_100g  \\\n",
       "0                               NaN         NaN              NaN   \n",
       "1                               NaN         NaN              NaN   \n",
       "2                               NaN         NaN              NaN   \n",
       "3                               NaN         NaN              NaN   \n",
       "4                               NaN         NaN              NaN   \n",
       "\n",
       "   carbon-footprint_100g  carbon-footprint-from-meat-or-fish_100g  \\\n",
       "0                    NaN                                      NaN   \n",
       "1                    NaN                                      NaN   \n",
       "2                    NaN                                      NaN   \n",
       "3                    NaN                                      NaN   \n",
       "4                    NaN                                      NaN   \n",
       "\n",
       "   nutrition-score-fr_100g  nutrition-score-uk_100g  glycemic-index_100g  \\\n",
       "0                      NaN                      NaN                  NaN   \n",
       "1                      NaN                      NaN                  NaN   \n",
       "2                      NaN                      NaN                  NaN   \n",
       "3                      NaN                      NaN                  NaN   \n",
       "4                      NaN                      NaN                  NaN   \n",
       "\n",
       "   water-hardness_100g  choline_100g  phylloquinone_100g  beta-glucan_100g  \\\n",
       "0                  NaN           NaN                 NaN               NaN   \n",
       "1                  NaN           NaN                 NaN               NaN   \n",
       "2                  NaN           NaN                 NaN               NaN   \n",
       "3                  NaN           NaN                 NaN               NaN   \n",
       "4                  NaN           NaN                 NaN               NaN   \n",
       "\n",
       "   inositol_100g  carnitine_100g  \n",
       "0            NaN             NaN  \n",
       "1            NaN             NaN  \n",
       "2            NaN             NaN  \n",
       "3            NaN             NaN  \n",
       "4            NaN             NaN  \n",
       "\n",
       "[5 rows x 187 columns]"
      ]
     },
     "execution_count": 13,
     "metadata": {},
     "output_type": "execute_result"
    }
   ],
   "source": [
    "openfoodfacts.head()"
   ]
  },
  {
   "cell_type": "markdown",
   "id": "bbe08a68",
   "metadata": {
    "hidden": true
   },
   "source": [
    "Regardons à présent le nombre de lignes et colonnes du dataset."
   ]
  },
  {
   "cell_type": "code",
   "execution_count": 14,
   "id": "1bbad8f4",
   "metadata": {
    "hidden": true
   },
   "outputs": [
    {
     "name": "stdout",
     "output_type": "stream",
     "text": [
      "Nombre de lignes: 2053679\n",
      "Nombre de variables: 187\n"
     ]
    }
   ],
   "source": [
    "print(f\"Nombre de lignes: {openfoodfacts.shape[0]}\\nNombre de variables: {openfoodfacts.shape[1]}\")"
   ]
  },
  {
   "cell_type": "markdown",
   "id": "293f17f4",
   "metadata": {
    "hidden": true
   },
   "source": [
    "Supprimons les variables composées à 100% de valeurs manquantes qui n'apportent aucune information et viennent alourdir le dataset."
   ]
  },
  {
   "cell_type": "code",
   "execution_count": 15,
   "id": "94827e92",
   "metadata": {
    "hidden": true
   },
   "outputs": [
    {
     "name": "stdout",
     "output_type": "stream",
     "text": [
      "Nombre de lignes: 2053679\n",
      "Nombre de variables: 148\n"
     ]
    }
   ],
   "source": [
    "# Suppression les colonnes avec 100% de données manquantes\n",
    "openfoodfacts.dropna(how='all', axis = 'columns', inplace = True)\n",
    "print(f\"Nombre de lignes: {openfoodfacts.shape[0]}\\nNombre de variables: {openfoodfacts.shape[1]}\")"
   ]
  },
  {
   "cell_type": "markdown",
   "id": "a1390aac",
   "metadata": {},
   "source": [
    "## Mots qui apparaissent le plus souvent dans le nom des variables <a class=\"anchor\" id=\"words\"></a>"
   ]
  },
  {
   "cell_type": "markdown",
   "id": "dcebc69e",
   "metadata": {},
   "source": [
    "Dans un premier temps et afin de prendre connaissance avec les variables du jeu de données, récupérons les mots contenus dans le titre des variables qui reviennent le plus souvent.\n",
    "Cette étape nous permettra de repérer une potentielle redondance entre les variables."
   ]
  },
  {
   "cell_type": "code",
   "execution_count": 16,
   "id": "1c0a9d75",
   "metadata": {},
   "outputs": [],
   "source": [
    "# Récupération des mots contenus dans les titres des colonnes (séparateur =  \"_\")\n",
    "liste_mots_colonnes = [i.split('_') for i in openfoodfacts.columns] \n",
    "\n",
    "# Applatissement de la liste de listes\n",
    "liste_mots_colonnes_flat = []\n",
    "\n",
    "for item in liste_mots_colonnes:\n",
    "    liste_mots_colonnes_flat += item"
   ]
  },
  {
   "cell_type": "code",
   "execution_count": 17,
   "id": "6d6dd2b6",
   "metadata": {},
   "outputs": [
    {
     "name": "stdout",
     "output_type": "stream",
     "text": [
      "[('100g', 79), ('tags', 14), ('en', 8), ('url', 7), ('ingredients', 7), ('image', 6), ('packaging', 4), ('from', 4), ('palm', 4), ('oil', 4), ('name', 3), ('categories', 3), ('origins', 3), ('places', 3), ('labels', 3), ('countries', 3), ('traces', 3), ('additives', 3), ('n', 3), ('states', 3)]\n"
     ]
    }
   ],
   "source": [
    "# J'affiche les 20 mots qui reviennent le plus dans les titres de colonnes\n",
    "print(collections.Counter(liste_mots_colonnes_flat).most_common(20))\n",
    "\n",
    "# J'enregistre tous les mots et le nombre associé dans une variable\n",
    "most_common_columns_words = collections.Counter(liste_mots_colonnes_flat).most_common(len(liste_mots_colonnes_flat))"
   ]
  },
  {
   "cell_type": "code",
   "execution_count": 18,
   "id": "257754b4",
   "metadata": {},
   "outputs": [],
   "source": [
    "# Passage sous dataframe afin de pouvoir visualiser les données sous forme de graphique (nb occurences >= 6)\n",
    "most_common_columns_words = pd.DataFrame(most_common_columns_words, \n",
    "                                 columns = ['Mots', 'Nombre d\\'occurences']).sort_values(by = 'Nombre d\\'occurences', \n",
    "                                                                                         ascending=False)\n",
    "\n",
    "most_common_columns_words = most_common_columns_words[most_common_columns_words[\"Nombre d\\'occurences\"] >= 6]"
   ]
  },
  {
   "cell_type": "code",
   "execution_count": 19,
   "id": "36d5c45d",
   "metadata": {},
   "outputs": [],
   "source": [
    "def etiquette_h(ax):\n",
    "    \"\"\"Ajoute les étiquettes en haut de chaque barre sur un barplot horizontal.\n",
    "    Arguments:\n",
    "    ax (matplotlib.axes.Axes): objet matplotlib ocontenant les axes du plot à annoter.\"\"\"\n",
    "    \n",
    "    for p in ax.patches:\n",
    "        etiquette = '{:,.0f}'.format(p.get_width())\n",
    "        width, height = p.get_width(),p.get_height()\n",
    "        x = p.get_x() + width + 0.02\n",
    "        y = p.get_y() + height / 2\n",
    "        ax.annotate(etiquette,(x,y))"
   ]
  },
  {
   "cell_type": "code",
   "execution_count": 100,
   "id": "272abfb9",
   "metadata": {
    "scrolled": false
   },
   "outputs": [
    {
     "data": {
      "image/png": "[encoded data removed]",
      "text/plain": [
       "<Figure size 576x288 with 1 Axes>"
      ]
     },
     "metadata": {
      "needs_background": "light"
     },
     "output_type": "display_data"
    }
   ],
   "source": [
    "# Visualisation sous forme de barplot\n",
    "plt.figure(figsize=(8, 4))\n",
    "ax = sns.barplot(y = 'Mots', x = 'Nombre d\\'occurences', data = most_common_columns_words, palette = 'muted')\n",
    "plt.title(\"Mots les plus utilisés dans le nom des variables \\n (>= 6 occurences)\")\n",
    "plt.ylabel(\"\")\n",
    "plt.xlabel(\"% NaN\")\n",
    "etiquette_h(ax);"
   ]
  },
  {
   "cell_type": "code",
   "execution_count": 21,
   "id": "3566505b",
   "metadata": {},
   "outputs": [
    {
     "data": {
      "image/png": "[encoded data removed]",
      "text/plain": [
       "<Figure size 1080x576 with 1 Axes>"
      ]
     },
     "metadata": {
      "needs_background": "light"
     },
     "output_type": "display_data"
    }
   ],
   "source": [
    "# Création d'un nuage de mots\n",
    "\n",
    "# Conversion de la liste en dictionnaire valeurs / occurences\n",
    "word_cloud_dict = Counter(liste_mots_colonnes_flat)\n",
    "wordcloud = WordCloud(width = 800, height = 400).generate_from_frequencies(word_cloud_dict)\n",
    "\n",
    "plt.figure(figsize=(15,8))\n",
    "plt.imshow(wordcloud)\n",
    "plt.axis(\"off\");"
   ]
  },
  {
   "cell_type": "markdown",
   "id": "17142602",
   "metadata": {
    "heading_collapsed": true
   },
   "source": [
    "### 100g <a class=\"anchor\" id=\"100g\"></a>"
   ]
  },
  {
   "cell_type": "markdown",
   "id": "680b1819",
   "metadata": {
    "hidden": true
   },
   "source": [
    "Les variables qui se terminent par _100g correspondent à la quantité de nutriments (en g ou kj pour l'énergie) pour 100g ou 100 ml de produit. Logiquement ces variables devraient être de type float."
   ]
  },
  {
   "cell_type": "code",
   "execution_count": 22,
   "id": "6d8418f3",
   "metadata": {
    "hidden": true
   },
   "outputs": [
    {
     "name": "stdout",
     "output_type": "stream",
     "text": [
      "['energy-kj_100g', 'energy-kcal_100g', 'energy_100g', 'energy-from-fat_100g', 'fat_100g', 'saturated-fat_100g', 'monounsaturated-fat_100g', 'polyunsaturated-fat_100g', 'omega-3-fat_100g', 'omega-6-fat_100g', 'omega-9-fat_100g', 'trans-fat_100g', 'cholesterol_100g', 'carbohydrates_100g', 'sugars_100g', 'starch_100g', 'polyols_100g', 'fiber_100g', 'soluble-fiber_100g', 'insoluble-fiber_100g', 'proteins_100g', 'casein_100g', 'serum-proteins_100g', 'nucleotides_100g', 'salt_100g', 'sodium_100g', 'alcohol_100g', 'vitamin-a_100g', 'beta-carotene_100g', 'vitamin-d_100g', 'vitamin-e_100g', 'vitamin-k_100g', 'vitamin-c_100g', 'vitamin-b1_100g', 'vitamin-b2_100g', 'vitamin-pp_100g', 'vitamin-b6_100g', 'vitamin-b9_100g', 'folates_100g', 'vitamin-b12_100g', 'biotin_100g', 'pantothenic-acid_100g', 'silica_100g', 'bicarbonate_100g', 'potassium_100g', 'chloride_100g', 'calcium_100g', 'phosphorus_100g', 'iron_100g', 'magnesium_100g', 'zinc_100g', 'copper_100g', 'manganese_100g', 'fluoride_100g', 'selenium_100g', 'chromium_100g', 'molybdenum_100g', 'iodine_100g', 'caffeine_100g', 'taurine_100g', 'ph_100g', 'fruits-vegetables-nuts_100g', 'fruits-vegetables-nuts-dried_100g', 'fruits-vegetables-nuts-estimate_100g', 'fruits-vegetables-nuts-estimate-from-ingredients_100g', 'collagen-meat-protein-ratio_100g', 'cocoa_100g', 'chlorophyl_100g', 'carbon-footprint_100g', 'carbon-footprint-from-meat-or-fish_100g', 'nutrition-score-fr_100g', 'nutrition-score-uk_100g', 'glycemic-index_100g', 'water-hardness_100g', 'choline_100g', 'phylloquinone_100g', 'beta-glucan_100g', 'inositol_100g', 'carnitine_100g']\n"
     ]
    }
   ],
   "source": [
    "# Liste des colonnes qui se terminent par _100g\n",
    "print(openfoodfacts.iloc[:,openfoodfacts.columns.str.endswith('_100g')].columns.tolist())"
   ]
  },
  {
   "cell_type": "code",
   "execution_count": 23,
   "id": "5cdfdc61",
   "metadata": {
    "hidden": true
   },
   "outputs": [
    {
     "data": {
      "text/plain": [
       "Series([], dtype: object)"
      ]
     },
     "execution_count": 23,
     "metadata": {},
     "output_type": "execute_result"
    }
   ],
   "source": [
    "# Dtypes des variables qui se terminent par _100g et qui ne sont pas de type float\n",
    "openfoodfacts.iloc[:,openfoodfacts.columns.str.endswith('_100g')].select_dtypes(exclude = ['float64']).dtypes"
   ]
  },
  {
   "cell_type": "markdown",
   "id": "8e79b001",
   "metadata": {
    "hidden": true
   },
   "source": [
    "Toutes ces variables sont bien au format float. En regardant la liste des colonnes, on peut se demander si les variables energy-kj_100g et energy_100g apportent la même information."
   ]
  },
  {
   "cell_type": "code",
   "execution_count": 28,
   "id": "6346aa44",
   "metadata": {
    "hidden": true
   },
   "outputs": [
    {
     "data": {
      "text/html": [
       "<div>\n",
       "<style scoped>\n",
       "    .dataframe tbody tr th:only-of-type {\n",
       "        vertical-align: middle;\n",
       "    }\n",
       "\n",
       "    .dataframe tbody tr th {\n",
       "        vertical-align: top;\n",
       "    }\n",
       "\n",
       "    .dataframe thead th {\n",
       "        text-align: right;\n",
       "    }\n",
       "</style>\n",
       "<table border=\"1\" class=\"dataframe\">\n",
       "  <thead>\n",
       "    <tr style=\"text-align: right;\">\n",
       "      <th></th>\n",
       "      <th>energy-kj_100g</th>\n",
       "      <th>energy-kcal_100g</th>\n",
       "      <th>energy_100g</th>\n",
       "    </tr>\n",
       "  </thead>\n",
       "  <tbody>\n",
       "    <tr>\n",
       "      <th>4</th>\n",
       "      <td>685.8</td>\n",
       "      <td>163.9</td>\n",
       "      <td>685.8</td>\n",
       "    </tr>\n",
       "    <tr>\n",
       "      <th>417</th>\n",
       "      <td>2318.0</td>\n",
       "      <td>561.0</td>\n",
       "      <td>2318.0</td>\n",
       "    </tr>\n",
       "    <tr>\n",
       "      <th>419</th>\n",
       "      <td>1104.0</td>\n",
       "      <td>268.0</td>\n",
       "      <td>1104.0</td>\n",
       "    </tr>\n",
       "    <tr>\n",
       "      <th>790</th>\n",
       "      <td>442.0</td>\n",
       "      <td>1852.0</td>\n",
       "      <td>442.0</td>\n",
       "    </tr>\n",
       "    <tr>\n",
       "      <th>863</th>\n",
       "      <td>1926.0</td>\n",
       "      <td>460.0</td>\n",
       "      <td>1926.0</td>\n",
       "    </tr>\n",
       "  </tbody>\n",
       "</table>\n",
       "</div>"
      ],
      "text/plain": [
       "     energy-kj_100g  energy-kcal_100g  energy_100g\n",
       "4             685.8             163.9        685.8\n",
       "417          2318.0             561.0       2318.0\n",
       "419          1104.0             268.0       1104.0\n",
       "790           442.0            1852.0        442.0\n",
       "863          1926.0             460.0       1926.0"
      ]
     },
     "execution_count": 28,
     "metadata": {},
     "output_type": "execute_result"
    }
   ],
   "source": [
    "openfoodfacts[openfoodfacts[['energy-kj_100g', 'energy-kcal_100g', 'energy_100g']].notnull().all(1)][\n",
    "    ['energy-kj_100g', 'energy-kcal_100g', 'energy_100g']].head()"
   ]
  },
  {
   "cell_type": "markdown",
   "id": "ee47f025",
   "metadata": {
    "hidden": true
   },
   "source": [
    "Les colonnes energy-kj_100g et energy_100g semblent être redondantes. Regardons la proportion de NaN."
   ]
  },
  {
   "cell_type": "code",
   "execution_count": 29,
   "id": "96fe2e19",
   "metadata": {
    "hidden": true
   },
   "outputs": [
    {
     "name": "stdout",
     "output_type": "stream",
     "text": [
      "% de NaN de la variable energy-kj_100g: 92.7%\n",
      "% de NaN de la variable energy_100g: 20.66%\n"
     ]
    }
   ],
   "source": [
    "print(f\"% de NaN de la variable energy-kj_100g: {round(openfoodfacts['energy-kj_100g'].isna().mean(),4)*100}%\")\n",
    "print(f\"% de NaN de la variable energy_100g: {round(openfoodfacts['energy_100g'].isna().mean(),4)*100}%\")"
   ]
  },
  {
   "cell_type": "markdown",
   "id": "ce76f4b5",
   "metadata": {
    "hidden": true
   },
   "source": [
    "La variables energy_100g comporte bien moins de valeurs manquantes que energy-kj_100g. Nous allons remplir les NaN de energy_100g avec les éventuelles  valeurs renseignées de energy-kj_100g puis supprimer la colonne energy-kj_100g."
   ]
  },
  {
   "cell_type": "code",
   "execution_count": 31,
   "id": "22fabf15",
   "metadata": {
    "hidden": true
   },
   "outputs": [],
   "source": [
    "# Pour les NaN de energy_100g, je complète avec energy-kj_100g sinon je laisse tel quel\n",
    "openfoodfacts['energy_100g'] = np.where(openfoodfacts['energy_100g'].isnull(), \n",
    "                                        openfoodfacts['energy-kj_100g'], \n",
    "                                        openfoodfacts['energy_100g'])"
   ]
  },
  {
   "cell_type": "code",
   "execution_count": 32,
   "id": "ef75297c",
   "metadata": {
    "hidden": true
   },
   "outputs": [
    {
     "name": "stdout",
     "output_type": "stream",
     "text": [
      "% de NaN de la variable energy_100g: 20.66%\n"
     ]
    }
   ],
   "source": [
    "print(f\"% de NaN de la variable energy_100g: {round(openfoodfacts['energy_100g'].isna().mean(),4)*100}%\")"
   ]
  },
  {
   "cell_type": "markdown",
   "id": "96b1fdef",
   "metadata": {
    "hidden": true
   },
   "source": [
    "La variable energy-kj_100g ne semble pas avoir diminué le taux de NaN de energy_100g, nous pouvons la supprimer."
   ]
  },
  {
   "cell_type": "code",
   "execution_count": 33,
   "id": "b27a980d",
   "metadata": {
    "hidden": true
   },
   "outputs": [
    {
     "name": "stderr",
     "output_type": "stream",
     "text": [
      "<ipython-input-33-112d0e192dab>:1: FutureWarning: In a future version of pandas all arguments of DataFrame.drop except for the argument 'labels' will be keyword-only\n",
      "  openfoodfacts = openfoodfacts.drop('energy-kj_100g', 'columns')\n"
     ]
    },
    {
     "data": {
      "text/plain": [
       "(2053679, 147)"
      ]
     },
     "execution_count": 33,
     "metadata": {},
     "output_type": "execute_result"
    }
   ],
   "source": [
    "openfoodfacts = openfoodfacts.drop('energy-kj_100g', 'columns')\n",
    "openfoodfacts.shape"
   ]
  },
  {
   "cell_type": "markdown",
   "id": "e37afa73",
   "metadata": {},
   "source": [
    "### tags <a class=\"anchor\" id=\"tags\"></a>"
   ]
  },
  {
   "cell_type": "markdown",
   "id": "4ce94521",
   "metadata": {},
   "source": [
    "Les variables qui se terminent par _tags sont des variables qualitatives (packaging, marques, catégories etc). Elles doivent être de type \"object\"."
   ]
  },
  {
   "cell_type": "code",
   "execution_count": 35,
   "id": "09af990f",
   "metadata": {},
   "outputs": [
    {
     "data": {
      "text/plain": [
       "Series([], dtype: object)"
      ]
     },
     "execution_count": 35,
     "metadata": {},
     "output_type": "execute_result"
    }
   ],
   "source": [
    "openfoodfacts.iloc[:,openfoodfacts.columns.str.endswith('_tags')].select_dtypes(exclude = ['object']).dtypes"
   ]
  },
  {
   "cell_type": "markdown",
   "id": "915bd544",
   "metadata": {},
   "source": [
    "Toutes ces variables ont bien le dtype objet. A partir du préfixe des variables se terminant par _tags, tentons de récupérer les variables associées afin de s'assurer qu'elles ne sont pas redondantes. "
   ]
  },
  {
   "cell_type": "code",
   "execution_count": 78,
   "id": "926910b8",
   "metadata": {},
   "outputs": [
    {
     "name": "stdout",
     "output_type": "stream",
     "text": [
      "Préfixes des colonnes se terminant par _tags: ['packaging', 'brands', 'categories', 'origins', 'manufacturing_places', 'labels', 'emb_codes', 'cities', 'countries', 'traces', 'additives', 'ingredients_from_palm_oil', 'ingredients_that_may_be_from_palm_oil', 'states']\n"
     ]
    }
   ],
   "source": [
    "# Pour chaque colonne se terminant par _tags, je scinde son nom en plusieurs mots à partir du délimiteur _\n",
    "# Je choisis l'indice [0] correspondant au premier élément \n",
    "liste_col_tags_prefixe = [i.replace('_tags', '') for i in openfoodfacts.iloc[\n",
    "    :,openfoodfacts.columns.str.endswith('_tags')].columns.unique().tolist()]\n",
    "\n",
    "print(f'Préfixes des colonnes se terminant par _tags: {liste_col_tags_prefixe}')"
   ]
  },
  {
   "cell_type": "code",
   "execution_count": 79,
   "id": "33c2f652",
   "metadata": {},
   "outputs": [],
   "source": [
    "# Selection des colonnes qui se terminent par _tags\n",
    "liste_col_ends_tags = openfoodfacts.iloc[:,(openfoodfacts.columns.str.endswith(\n",
    "    '_tags'))].columns.unique().tolist()"
   ]
  },
  {
   "cell_type": "code",
   "execution_count": 80,
   "id": "809fec63",
   "metadata": {},
   "outputs": [],
   "source": [
    "# Fusion des 2 listes + tri par ordre alphabétique\n",
    "liste_col_tags = liste_col_tags_prefixe + liste_col_ends_tags\n",
    "liste_col_tags.sort()"
   ]
  },
  {
   "cell_type": "code",
   "execution_count": 81,
   "id": "93fec3ce",
   "metadata": {},
   "outputs": [
    {
     "name": "stdout",
     "output_type": "stream",
     "text": [
      "Colonnes + colonnes associées _tags:\n",
      "\n",
      " ['additives', 'additives_tags', 'brands', 'brands_tags', 'categories', 'categories_tags', 'cities', 'cities_tags', 'countries', 'countries_tags', 'emb_codes', 'emb_codes_tags', 'ingredients_from_palm_oil', 'ingredients_from_palm_oil_tags', 'ingredients_that_may_be_from_palm_oil', 'ingredients_that_may_be_from_palm_oil_tags', 'labels', 'labels_tags', 'manufacturing_places', 'manufacturing_places_tags', 'origins', 'origins_tags', 'packaging', 'packaging_tags', 'states', 'states_tags', 'traces', 'traces_tags']\n"
     ]
    }
   ],
   "source": [
    "print(f'Colonnes + colonnes associées _tags:\\n\\n {liste_col_tags}')"
   ]
  },
  {
   "cell_type": "markdown",
   "id": "128358c0",
   "metadata": {},
   "source": [
    "Automatisation des étapes précédentes."
   ]
  },
  {
   "cell_type": "code",
   "execution_count": 74,
   "id": "272d958a",
   "metadata": {},
   "outputs": [],
   "source": [
    "def liste_col_endswith(dataframe, keyword):\n",
    "    ''' Fonction qui permet de récupérer le préfixe des colonnes se terminant par un mot clef et qui retourne une liste\n",
    "    de ces variables et des variables associées qui contiennent le préfixe. L'objectif est de s'assurer que ces variables\n",
    "    n'apportent pas la même information.'''\n",
    "    \n",
    "    liste_col_keyword_prefixe = [i.replace(f'_{keyword}', '') for i in dataframe.iloc[\n",
    "    :,dataframe.columns.str.endswith(keyword)].columns.unique().tolist()]\n",
    "    \n",
    "    liste_col_ends_keyword = dataframe.iloc[:,(dataframe.columns.str.endswith(\n",
    "    keyword))].columns.unique().tolist()\n",
    "    \n",
    "    liste_col_keyword = liste_col_keyword_prefixe + liste_col_ends_keyword\n",
    "    liste_col_keyword.sort()\n",
    "    \n",
    "    return liste_col_keyword"
   ]
  },
  {
   "cell_type": "code",
   "execution_count": 75,
   "id": "8e428f50",
   "metadata": {},
   "outputs": [],
   "source": [
    "liste_col_tags = liste_col_endswith(openfoodfacts, 'tags')"
   ]
  },
  {
   "cell_type": "code",
   "execution_count": 59,
   "id": "03d2a2dc",
   "metadata": {},
   "outputs": [],
   "source": [
    "def describe_variables(data):\n",
    "    ''' fonction qui prend un dataframe en entrée, et retourne un récapitulatif qui contient le nom des variables, \n",
    "    leur type, un exemple de modalité, le nombre total de lignes, le nombre et pourcentage de valeurs distinctes, \n",
    "    le nombre et pourcentage de valeurs non manquantes et de valeurs manquantes (NaN) et les principales statistiques \n",
    "    pour les variables numériques (moyenne, médiane, distribution, variance, écart type, minimum, quartiles et \n",
    "    maximum)'''\n",
    "\n",
    "    # Choix du nom des variables à afficher\n",
    "    df = pd.DataFrame(columns = ['Variable name', 'Variable type', 'Example', 'Raws', 'Distinct', '% distinct', \n",
    "                                 'Not NaN', '% Not NaN', 'NaN', '% NaN', 'Mean', 'Median', 'Skew', 'Kurtosis', \n",
    "                                 'Variance', 'Std', 'Min','25%','75%','Max'])\n",
    "    \n",
    "    # Pour chaque colonne du dataframe\n",
    "    for column in data.columns:\n",
    "        \n",
    "        # Définition des variables\n",
    "        var_type = data[column].dtypes # type de la variable (object, float, int...)\n",
    "        example = data[data[column].notna()][column].iloc[0] # premier élément notNA\n",
    "        #example = [data[data[column].notna()][column].iloc[0] if data[column].isna().sum() != len(data[column]) else 0]\n",
    "        nb_raw = len(data[column]) # nombre total de lignes\n",
    "        count = len(data[column])- data[column].isna().sum() # nombre de valeurs non manquantes\n",
    "        percent_count = round(data[column].notnull().mean(),4)*100 # % de valeurs non manquantes\n",
    "        distinct = data[column].nunique() # nombre de modalités que peut prendre la variable\n",
    "        percent_distinct = round(data[column].nunique()/len(data[column]),4)*100 # % de valeurs distinctes\n",
    "        missing = data[column].isna().sum() # nombre de valeurs manquantes\n",
    "        percent_missing = round(data[column].isna().mean(),4)*100 # % de valeurs manquantes\n",
    "        \n",
    "        \n",
    "        \n",
    "        # Pour les variables de type 'int' ou 'float': on remplit toutes les colonnes\n",
    "        if var_type == 'int' or var_type == 'float': \n",
    "            df = df.append(pd.DataFrame([[column, var_type, example, nb_raw, distinct, percent_distinct, count,\n",
    "                                          percent_count,missing, percent_missing,\n",
    "                                          round(data[column].mean(),2),round(data[column].median(),2),\n",
    "                                          round(data[column].skew(),2),round(data[column].kurtosis(),2),\n",
    "                                          round(data[column].var(),2),round(data[column].std(),2),\n",
    "                                          round(data[column].min(),2),round(data[column].quantile(0.25),2),\n",
    "                                          round(data[column].quantile(0.75),2),data[column].max()]], \n",
    "                                        columns = ['Variable name', 'Variable type', 'Example', 'Raws', 'Distinct', \n",
    "                                                   '% distinct', 'Not NaN', '% Not NaN', 'NaN', '% NaN', 'Mean', \n",
    "                                                   'Median', 'Skew', 'Kurtosis', 'Variance', 'Std', 'Min','25%',\n",
    "                                                   '75%', 'Max']))\n",
    "            \n",
    "        \n",
    "        \n",
    "        # Pour les variables d'un autre type: on ne remplit que les variables de compte    \n",
    "        else:            \n",
    "            df = df.append(pd.DataFrame([[column, var_type, example, nb_raw, distinct, percent_distinct, count,\n",
    "                                          percent_count,missing, percent_missing,\n",
    "                                          '','','','','','','','','','']], \n",
    "                                        columns = ['Variable name', 'Variable type', 'Example', 'Raws', 'Distinct', \n",
    "                                                   '% distinct', 'Not NaN', '% Not NaN', 'NaN', '% NaN', 'Mean', \n",
    "                                                   'Median', 'Skew', 'Kurtosis', 'Variance', 'Std', 'Min', '25%', \n",
    "                                                   '75%', 'Max']))\n",
    "            \n",
    "    return df.reset_index(drop = True)"
   ]
  },
  {
   "cell_type": "code",
   "execution_count": 88,
   "id": "5e28a400",
   "metadata": {
    "scrolled": true
   },
   "outputs": [
    {
     "data": {
      "text/html": [
       "<div>\n",
       "<style scoped>\n",
       "    .dataframe tbody tr th:only-of-type {\n",
       "        vertical-align: middle;\n",
       "    }\n",
       "\n",
       "    .dataframe tbody tr th {\n",
       "        vertical-align: top;\n",
       "    }\n",
       "\n",
       "    .dataframe thead th {\n",
       "        text-align: right;\n",
       "    }\n",
       "</style>\n",
       "<table border=\"1\" class=\"dataframe\">\n",
       "  <thead>\n",
       "    <tr style=\"text-align: right;\">\n",
       "      <th></th>\n",
       "      <th>Variable name</th>\n",
       "      <th>Variable type</th>\n",
       "      <th>Example</th>\n",
       "      <th>Raws</th>\n",
       "      <th>Distinct</th>\n",
       "      <th>% distinct</th>\n",
       "      <th>Not NaN</th>\n",
       "      <th>% Not NaN</th>\n",
       "      <th>NaN</th>\n",
       "      <th>% NaN</th>\n",
       "      <th>Mean</th>\n",
       "      <th>Median</th>\n",
       "      <th>Skew</th>\n",
       "      <th>Kurtosis</th>\n",
       "      <th>Variance</th>\n",
       "      <th>Std</th>\n",
       "      <th>Min</th>\n",
       "      <th>25%</th>\n",
       "      <th>75%</th>\n",
       "      <th>Max</th>\n",
       "    </tr>\n",
       "  </thead>\n",
       "  <tbody>\n",
       "    <tr>\n",
       "      <th>0</th>\n",
       "      <td>packaging</td>\n",
       "      <td>object</td>\n",
       "      <td>barquette,plastique</td>\n",
       "      <td>2053679</td>\n",
       "      <td>57066</td>\n",
       "      <td>2.78</td>\n",
       "      <td>315935</td>\n",
       "      <td>15.38</td>\n",
       "      <td>1737744</td>\n",
       "      <td>84.62</td>\n",
       "      <td></td>\n",
       "      <td></td>\n",
       "      <td></td>\n",
       "      <td></td>\n",
       "      <td></td>\n",
       "      <td></td>\n",
       "      <td></td>\n",
       "      <td></td>\n",
       "      <td></td>\n",
       "      <td></td>\n",
       "    </tr>\n",
       "    <tr>\n",
       "      <th>1</th>\n",
       "      <td>packaging_tags</td>\n",
       "      <td>object</td>\n",
       "      <td>barquette,plastique</td>\n",
       "      <td>2053679</td>\n",
       "      <td>46485</td>\n",
       "      <td>2.26</td>\n",
       "      <td>315895</td>\n",
       "      <td>15.38</td>\n",
       "      <td>1737784</td>\n",
       "      <td>84.62</td>\n",
       "      <td></td>\n",
       "      <td></td>\n",
       "      <td></td>\n",
       "      <td></td>\n",
       "      <td></td>\n",
       "      <td></td>\n",
       "      <td></td>\n",
       "      <td></td>\n",
       "      <td></td>\n",
       "      <td></td>\n",
       "    </tr>\n",
       "    <tr>\n",
       "      <th>2</th>\n",
       "      <td>brands</td>\n",
       "      <td>object</td>\n",
       "      <td>endives</td>\n",
       "      <td>2053679</td>\n",
       "      <td>183520</td>\n",
       "      <td>8.94</td>\n",
       "      <td>1050597</td>\n",
       "      <td>51.16</td>\n",
       "      <td>1003082</td>\n",
       "      <td>48.84</td>\n",
       "      <td></td>\n",
       "      <td></td>\n",
       "      <td></td>\n",
       "      <td></td>\n",
       "      <td></td>\n",
       "      <td></td>\n",
       "      <td></td>\n",
       "      <td></td>\n",
       "      <td></td>\n",
       "      <td></td>\n",
       "    </tr>\n",
       "    <tr>\n",
       "      <th>3</th>\n",
       "      <td>brands_tags</td>\n",
       "      <td>object</td>\n",
       "      <td>endives</td>\n",
       "      <td>2053679</td>\n",
       "      <td>141427</td>\n",
       "      <td>6.89</td>\n",
       "      <td>1050528</td>\n",
       "      <td>51.15</td>\n",
       "      <td>1003151</td>\n",
       "      <td>48.85</td>\n",
       "      <td></td>\n",
       "      <td></td>\n",
       "      <td></td>\n",
       "      <td></td>\n",
       "      <td></td>\n",
       "      <td></td>\n",
       "      <td></td>\n",
       "      <td></td>\n",
       "      <td></td>\n",
       "      <td></td>\n",
       "    </tr>\n",
       "    <tr>\n",
       "      <th>4</th>\n",
       "      <td>categories</td>\n",
       "      <td>object</td>\n",
       "      <td>Epicerie, Condiments, Sauces, Moutardes</td>\n",
       "      <td>2053679</td>\n",
       "      <td>117610</td>\n",
       "      <td>5.73</td>\n",
       "      <td>945149</td>\n",
       "      <td>46.02</td>\n",
       "      <td>1108530</td>\n",
       "      <td>53.98</td>\n",
       "      <td></td>\n",
       "      <td></td>\n",
       "      <td></td>\n",
       "      <td></td>\n",
       "      <td></td>\n",
       "      <td></td>\n",
       "      <td></td>\n",
       "      <td></td>\n",
       "      <td></td>\n",
       "      <td></td>\n",
       "    </tr>\n",
       "    <tr>\n",
       "      <th>5</th>\n",
       "      <td>categories_tags</td>\n",
       "      <td>object</td>\n",
       "      <td>en:groceries,en:condiments,en:sauces,en:mustards</td>\n",
       "      <td>2053679</td>\n",
       "      <td>72803</td>\n",
       "      <td>3.55</td>\n",
       "      <td>945141</td>\n",
       "      <td>46.02</td>\n",
       "      <td>1108538</td>\n",
       "      <td>53.98</td>\n",
       "      <td></td>\n",
       "      <td></td>\n",
       "      <td></td>\n",
       "      <td></td>\n",
       "      <td></td>\n",
       "      <td></td>\n",
       "      <td></td>\n",
       "      <td></td>\n",
       "      <td></td>\n",
       "      <td></td>\n",
       "    </tr>\n",
       "    <tr>\n",
       "      <th>6</th>\n",
       "      <td>origins</td>\n",
       "      <td>object</td>\n",
       "      <td>Spain</td>\n",
       "      <td>2053679</td>\n",
       "      <td>14023</td>\n",
       "      <td>0.68</td>\n",
       "      <td>88290</td>\n",
       "      <td>4.30</td>\n",
       "      <td>1965389</td>\n",
       "      <td>95.70</td>\n",
       "      <td></td>\n",
       "      <td></td>\n",
       "      <td></td>\n",
       "      <td></td>\n",
       "      <td></td>\n",
       "      <td></td>\n",
       "      <td></td>\n",
       "      <td></td>\n",
       "      <td></td>\n",
       "      <td></td>\n",
       "    </tr>\n",
       "    <tr>\n",
       "      <th>7</th>\n",
       "      <td>origins_tags</td>\n",
       "      <td>object</td>\n",
       "      <td>en:spain</td>\n",
       "      <td>2053679</td>\n",
       "      <td>11428</td>\n",
       "      <td>0.56</td>\n",
       "      <td>88160</td>\n",
       "      <td>4.29</td>\n",
       "      <td>1965519</td>\n",
       "      <td>95.71</td>\n",
       "      <td></td>\n",
       "      <td></td>\n",
       "      <td></td>\n",
       "      <td></td>\n",
       "      <td></td>\n",
       "      <td></td>\n",
       "      <td></td>\n",
       "      <td></td>\n",
       "      <td></td>\n",
       "      <td></td>\n",
       "    </tr>\n",
       "    <tr>\n",
       "      <th>8</th>\n",
       "      <td>manufacturing_places</td>\n",
       "      <td>object</td>\n",
       "      <td>bénivay-ollon</td>\n",
       "      <td>2053679</td>\n",
       "      <td>28901</td>\n",
       "      <td>1.41</td>\n",
       "      <td>128424</td>\n",
       "      <td>6.25</td>\n",
       "      <td>1925255</td>\n",
       "      <td>93.75</td>\n",
       "      <td></td>\n",
       "      <td></td>\n",
       "      <td></td>\n",
       "      <td></td>\n",
       "      <td></td>\n",
       "      <td></td>\n",
       "      <td></td>\n",
       "      <td></td>\n",
       "      <td></td>\n",
       "      <td></td>\n",
       "    </tr>\n",
       "    <tr>\n",
       "      <th>9</th>\n",
       "      <td>manufacturing_places_tags</td>\n",
       "      <td>object</td>\n",
       "      <td>benivay-ollon</td>\n",
       "      <td>2053679</td>\n",
       "      <td>25973</td>\n",
       "      <td>1.26</td>\n",
       "      <td>128364</td>\n",
       "      <td>6.25</td>\n",
       "      <td>1925315</td>\n",
       "      <td>93.75</td>\n",
       "      <td></td>\n",
       "      <td></td>\n",
       "      <td></td>\n",
       "      <td></td>\n",
       "      <td></td>\n",
       "      <td></td>\n",
       "      <td></td>\n",
       "      <td></td>\n",
       "      <td></td>\n",
       "      <td></td>\n",
       "    </tr>\n",
       "    <tr>\n",
       "      <th>10</th>\n",
       "      <td>labels</td>\n",
       "      <td>object</td>\n",
       "      <td>Delois france</td>\n",
       "      <td>2053679</td>\n",
       "      <td>81006</td>\n",
       "      <td>3.94</td>\n",
       "      <td>438478</td>\n",
       "      <td>21.35</td>\n",
       "      <td>1615201</td>\n",
       "      <td>78.65</td>\n",
       "      <td></td>\n",
       "      <td></td>\n",
       "      <td></td>\n",
       "      <td></td>\n",
       "      <td></td>\n",
       "      <td></td>\n",
       "      <td></td>\n",
       "      <td></td>\n",
       "      <td></td>\n",
       "      <td></td>\n",
       "    </tr>\n",
       "    <tr>\n",
       "      <th>11</th>\n",
       "      <td>labels_tags</td>\n",
       "      <td>object</td>\n",
       "      <td>fr:delois-france</td>\n",
       "      <td>2053679</td>\n",
       "      <td>60380</td>\n",
       "      <td>2.94</td>\n",
       "      <td>438458</td>\n",
       "      <td>21.35</td>\n",
       "      <td>1615221</td>\n",
       "      <td>78.65</td>\n",
       "      <td></td>\n",
       "      <td></td>\n",
       "      <td></td>\n",
       "      <td></td>\n",
       "      <td></td>\n",
       "      <td></td>\n",
       "      <td></td>\n",
       "      <td></td>\n",
       "      <td></td>\n",
       "      <td></td>\n",
       "    </tr>\n",
       "    <tr>\n",
       "      <th>12</th>\n",
       "      <td>emb_codes</td>\n",
       "      <td>object</td>\n",
       "      <td>FR 72.264.002 EC</td>\n",
       "      <td>2053679</td>\n",
       "      <td>34208</td>\n",
       "      <td>1.67</td>\n",
       "      <td>123665</td>\n",
       "      <td>6.02</td>\n",
       "      <td>1930014</td>\n",
       "      <td>93.98</td>\n",
       "      <td></td>\n",
       "      <td></td>\n",
       "      <td></td>\n",
       "      <td></td>\n",
       "      <td></td>\n",
       "      <td></td>\n",
       "      <td></td>\n",
       "      <td></td>\n",
       "      <td></td>\n",
       "      <td></td>\n",
       "    </tr>\n",
       "    <tr>\n",
       "      <th>13</th>\n",
       "      <td>emb_codes_tags</td>\n",
       "      <td>object</td>\n",
       "      <td>fr-72-264-002-ec</td>\n",
       "      <td>2053679</td>\n",
       "      <td>29641</td>\n",
       "      <td>1.44</td>\n",
       "      <td>123618</td>\n",
       "      <td>6.02</td>\n",
       "      <td>1930061</td>\n",
       "      <td>93.98</td>\n",
       "      <td></td>\n",
       "      <td></td>\n",
       "      <td></td>\n",
       "      <td></td>\n",
       "      <td></td>\n",
       "      <td></td>\n",
       "      <td></td>\n",
       "      <td></td>\n",
       "      <td></td>\n",
       "      <td></td>\n",
       "    </tr>\n",
       "    <tr>\n",
       "      <th>14</th>\n",
       "      <td>cities_tags</td>\n",
       "      <td>object</td>\n",
       "      <td>sable-sur-sarthe-sarthe-france</td>\n",
       "      <td>2053679</td>\n",
       "      <td>7129</td>\n",
       "      <td>0.35</td>\n",
       "      <td>79644</td>\n",
       "      <td>3.88</td>\n",
       "      <td>1974035</td>\n",
       "      <td>96.12</td>\n",
       "      <td></td>\n",
       "      <td></td>\n",
       "      <td></td>\n",
       "      <td></td>\n",
       "      <td></td>\n",
       "      <td></td>\n",
       "      <td></td>\n",
       "      <td></td>\n",
       "      <td></td>\n",
       "      <td></td>\n",
       "    </tr>\n",
       "    <tr>\n",
       "      <th>15</th>\n",
       "      <td>countries</td>\n",
       "      <td>object</td>\n",
       "      <td>en:france</td>\n",
       "      <td>2053679</td>\n",
       "      <td>11126</td>\n",
       "      <td>0.54</td>\n",
       "      <td>2047493</td>\n",
       "      <td>99.70</td>\n",
       "      <td>6186</td>\n",
       "      <td>0.30</td>\n",
       "      <td></td>\n",
       "      <td></td>\n",
       "      <td></td>\n",
       "      <td></td>\n",
       "      <td></td>\n",
       "      <td></td>\n",
       "      <td></td>\n",
       "      <td></td>\n",
       "      <td></td>\n",
       "      <td></td>\n",
       "    </tr>\n",
       "    <tr>\n",
       "      <th>16</th>\n",
       "      <td>countries_tags</td>\n",
       "      <td>object</td>\n",
       "      <td>en:france</td>\n",
       "      <td>2053679</td>\n",
       "      <td>4403</td>\n",
       "      <td>0.21</td>\n",
       "      <td>2047488</td>\n",
       "      <td>99.70</td>\n",
       "      <td>6191</td>\n",
       "      <td>0.30</td>\n",
       "      <td></td>\n",
       "      <td></td>\n",
       "      <td></td>\n",
       "      <td></td>\n",
       "      <td></td>\n",
       "      <td></td>\n",
       "      <td></td>\n",
       "      <td></td>\n",
       "      <td></td>\n",
       "      <td></td>\n",
       "    </tr>\n",
       "    <tr>\n",
       "      <th>17</th>\n",
       "      <td>traces</td>\n",
       "      <td>object</td>\n",
       "      <td>en:eggs,en:milk</td>\n",
       "      <td>2053679</td>\n",
       "      <td>12777</td>\n",
       "      <td>0.62</td>\n",
       "      <td>104812</td>\n",
       "      <td>5.10</td>\n",
       "      <td>1948867</td>\n",
       "      <td>94.90</td>\n",
       "      <td></td>\n",
       "      <td></td>\n",
       "      <td></td>\n",
       "      <td></td>\n",
       "      <td></td>\n",
       "      <td></td>\n",
       "      <td></td>\n",
       "      <td></td>\n",
       "      <td></td>\n",
       "      <td></td>\n",
       "    </tr>\n",
       "    <tr>\n",
       "      <th>18</th>\n",
       "      <td>traces_tags</td>\n",
       "      <td>object</td>\n",
       "      <td>en:eggs,en:milk</td>\n",
       "      <td>2053679</td>\n",
       "      <td>12766</td>\n",
       "      <td>0.62</td>\n",
       "      <td>129529</td>\n",
       "      <td>6.31</td>\n",
       "      <td>1924150</td>\n",
       "      <td>93.69</td>\n",
       "      <td></td>\n",
       "      <td></td>\n",
       "      <td></td>\n",
       "      <td></td>\n",
       "      <td></td>\n",
       "      <td></td>\n",
       "      <td></td>\n",
       "      <td></td>\n",
       "      <td></td>\n",
       "      <td></td>\n",
       "    </tr>\n",
       "    <tr>\n",
       "      <th>19</th>\n",
       "      <td>additives_tags</td>\n",
       "      <td>object</td>\n",
       "      <td>en:e296,en:e330,en:e552,en:e950,en:e955</td>\n",
       "      <td>2053679</td>\n",
       "      <td>100577</td>\n",
       "      <td>4.90</td>\n",
       "      <td>423384</td>\n",
       "      <td>20.62</td>\n",
       "      <td>1630295</td>\n",
       "      <td>79.38</td>\n",
       "      <td></td>\n",
       "      <td></td>\n",
       "      <td></td>\n",
       "      <td></td>\n",
       "      <td></td>\n",
       "      <td></td>\n",
       "      <td></td>\n",
       "      <td></td>\n",
       "      <td></td>\n",
       "      <td></td>\n",
       "    </tr>\n",
       "    <tr>\n",
       "      <th>20</th>\n",
       "      <td>ingredients_from_palm_oil_tags</td>\n",
       "      <td>object</td>\n",
       "      <td>huile-de-palme</td>\n",
       "      <td>2053679</td>\n",
       "      <td>16</td>\n",
       "      <td>0.00</td>\n",
       "      <td>14505</td>\n",
       "      <td>0.71</td>\n",
       "      <td>2039174</td>\n",
       "      <td>99.29</td>\n",
       "      <td></td>\n",
       "      <td></td>\n",
       "      <td></td>\n",
       "      <td></td>\n",
       "      <td></td>\n",
       "      <td></td>\n",
       "      <td></td>\n",
       "      <td></td>\n",
       "      <td></td>\n",
       "      <td></td>\n",
       "    </tr>\n",
       "    <tr>\n",
       "      <th>21</th>\n",
       "      <td>ingredients_that_may_be_from_palm_oil_tags</td>\n",
       "      <td>object</td>\n",
       "      <td>e481-stearoyl-2-lactylate-de-sodium,e472e-este...</td>\n",
       "      <td>2053679</td>\n",
       "      <td>350</td>\n",
       "      <td>0.02</td>\n",
       "      <td>43295</td>\n",
       "      <td>2.11</td>\n",
       "      <td>2010384</td>\n",
       "      <td>97.89</td>\n",
       "      <td></td>\n",
       "      <td></td>\n",
       "      <td></td>\n",
       "      <td></td>\n",
       "      <td></td>\n",
       "      <td></td>\n",
       "      <td></td>\n",
       "      <td></td>\n",
       "      <td></td>\n",
       "      <td></td>\n",
       "    </tr>\n",
       "    <tr>\n",
       "      <th>22</th>\n",
       "      <td>states</td>\n",
       "      <td>object</td>\n",
       "      <td>en:to-be-completed, en:nutrition-facts-to-be-c...</td>\n",
       "      <td>2053679</td>\n",
       "      <td>6210</td>\n",
       "      <td>0.30</td>\n",
       "      <td>2053679</td>\n",
       "      <td>100.00</td>\n",
       "      <td>0</td>\n",
       "      <td>0.00</td>\n",
       "      <td></td>\n",
       "      <td></td>\n",
       "      <td></td>\n",
       "      <td></td>\n",
       "      <td></td>\n",
       "      <td></td>\n",
       "      <td></td>\n",
       "      <td></td>\n",
       "      <td></td>\n",
       "      <td></td>\n",
       "    </tr>\n",
       "    <tr>\n",
       "      <th>23</th>\n",
       "      <td>states_tags</td>\n",
       "      <td>object</td>\n",
       "      <td>en:to-be-completed,en:nutrition-facts-to-be-co...</td>\n",
       "      <td>2053679</td>\n",
       "      <td>6210</td>\n",
       "      <td>0.30</td>\n",
       "      <td>2053679</td>\n",
       "      <td>100.00</td>\n",
       "      <td>0</td>\n",
       "      <td>0.00</td>\n",
       "      <td></td>\n",
       "      <td></td>\n",
       "      <td></td>\n",
       "      <td></td>\n",
       "      <td></td>\n",
       "      <td></td>\n",
       "      <td></td>\n",
       "      <td></td>\n",
       "      <td></td>\n",
       "      <td></td>\n",
       "    </tr>\n",
       "  </tbody>\n",
       "</table>\n",
       "</div>"
      ],
      "text/plain": [
       "                                 Variable name Variable type  \\\n",
       "0                                    packaging        object   \n",
       "1                               packaging_tags        object   \n",
       "2                                       brands        object   \n",
       "3                                  brands_tags        object   \n",
       "4                                   categories        object   \n",
       "5                              categories_tags        object   \n",
       "6                                      origins        object   \n",
       "7                                 origins_tags        object   \n",
       "8                         manufacturing_places        object   \n",
       "9                    manufacturing_places_tags        object   \n",
       "10                                      labels        object   \n",
       "11                                 labels_tags        object   \n",
       "12                                   emb_codes        object   \n",
       "13                              emb_codes_tags        object   \n",
       "14                                 cities_tags        object   \n",
       "15                                   countries        object   \n",
       "16                              countries_tags        object   \n",
       "17                                      traces        object   \n",
       "18                                 traces_tags        object   \n",
       "19                              additives_tags        object   \n",
       "20              ingredients_from_palm_oil_tags        object   \n",
       "21  ingredients_that_may_be_from_palm_oil_tags        object   \n",
       "22                                      states        object   \n",
       "23                                 states_tags        object   \n",
       "\n",
       "                                              Example     Raws Distinct  \\\n",
       "0                                 barquette,plastique  2053679    57066   \n",
       "1                                 barquette,plastique  2053679    46485   \n",
       "2                                             endives  2053679   183520   \n",
       "3                                             endives  2053679   141427   \n",
       "4             Epicerie, Condiments, Sauces, Moutardes  2053679   117610   \n",
       "5    en:groceries,en:condiments,en:sauces,en:mustards  2053679    72803   \n",
       "6                                               Spain  2053679    14023   \n",
       "7                                            en:spain  2053679    11428   \n",
       "8                                       bénivay-ollon  2053679    28901   \n",
       "9                                       benivay-ollon  2053679    25973   \n",
       "10                                      Delois france  2053679    81006   \n",
       "11                                   fr:delois-france  2053679    60380   \n",
       "12                                   FR 72.264.002 EC  2053679    34208   \n",
       "13                                   fr-72-264-002-ec  2053679    29641   \n",
       "14                     sable-sur-sarthe-sarthe-france  2053679     7129   \n",
       "15                                          en:france  2053679    11126   \n",
       "16                                          en:france  2053679     4403   \n",
       "17                                    en:eggs,en:milk  2053679    12777   \n",
       "18                                    en:eggs,en:milk  2053679    12766   \n",
       "19            en:e296,en:e330,en:e552,en:e950,en:e955  2053679   100577   \n",
       "20                                     huile-de-palme  2053679       16   \n",
       "21  e481-stearoyl-2-lactylate-de-sodium,e472e-este...  2053679      350   \n",
       "22  en:to-be-completed, en:nutrition-facts-to-be-c...  2053679     6210   \n",
       "23  en:to-be-completed,en:nutrition-facts-to-be-co...  2053679     6210   \n",
       "\n",
       "    % distinct  Not NaN  % Not NaN      NaN  % NaN Mean Median Skew Kurtosis  \\\n",
       "0         2.78   315935      15.38  1737744  84.62                             \n",
       "1         2.26   315895      15.38  1737784  84.62                             \n",
       "2         8.94  1050597      51.16  1003082  48.84                             \n",
       "3         6.89  1050528      51.15  1003151  48.85                             \n",
       "4         5.73   945149      46.02  1108530  53.98                             \n",
       "5         3.55   945141      46.02  1108538  53.98                             \n",
       "6         0.68    88290       4.30  1965389  95.70                             \n",
       "7         0.56    88160       4.29  1965519  95.71                             \n",
       "8         1.41   128424       6.25  1925255  93.75                             \n",
       "9         1.26   128364       6.25  1925315  93.75                             \n",
       "10        3.94   438478      21.35  1615201  78.65                             \n",
       "11        2.94   438458      21.35  1615221  78.65                             \n",
       "12        1.67   123665       6.02  1930014  93.98                             \n",
       "13        1.44   123618       6.02  1930061  93.98                             \n",
       "14        0.35    79644       3.88  1974035  96.12                             \n",
       "15        0.54  2047493      99.70     6186   0.30                             \n",
       "16        0.21  2047488      99.70     6191   0.30                             \n",
       "17        0.62   104812       5.10  1948867  94.90                             \n",
       "18        0.62   129529       6.31  1924150  93.69                             \n",
       "19        4.90   423384      20.62  1630295  79.38                             \n",
       "20        0.00    14505       0.71  2039174  99.29                             \n",
       "21        0.02    43295       2.11  2010384  97.89                             \n",
       "22        0.30  2053679     100.00        0   0.00                             \n",
       "23        0.30  2053679     100.00        0   0.00                             \n",
       "\n",
       "   Variance Std Min 25% 75% Max  \n",
       "0                                \n",
       "1                                \n",
       "2                                \n",
       "3                                \n",
       "4                                \n",
       "5                                \n",
       "6                                \n",
       "7                                \n",
       "8                                \n",
       "9                                \n",
       "10                               \n",
       "11                               \n",
       "12                               \n",
       "13                               \n",
       "14                               \n",
       "15                               \n",
       "16                               \n",
       "17                               \n",
       "18                               \n",
       "19                               \n",
       "20                               \n",
       "21                               \n",
       "22                               \n",
       "23                               "
      ]
     },
     "execution_count": 88,
     "metadata": {},
     "output_type": "execute_result"
    }
   ],
   "source": [
    "describe_variables(openfoodfacts.iloc[:,openfoodfacts.columns.isin(liste_col_tags)])"
   ]
  },
  {
   "cell_type": "code",
   "execution_count": 103,
   "id": "c88168b0",
   "metadata": {},
   "outputs": [
    {
     "data": {
      "image/png": "[encoded data removed]",
      "text/plain": [
       "<Figure size 1080x504 with 2 Axes>"
      ]
     },
     "metadata": {
      "needs_background": "light"
     },
     "output_type": "display_data"
    }
   ],
   "source": [
    "# Initialisation de la grille avec 1 ligne et 2 colonnes\n",
    "fig = plt.figure(figsize=(15,7), constrained_layout=True)\n",
    "gs = GridSpec(nrows=1, ncols=2, figure=fig)\n",
    "\n",
    "# Premier graphique\n",
    "ax1 = fig.add_subplot(gs[0,0]) # emplacement dans la grille\n",
    "ax1 = sns.barplot(y = 'Variable name', x = '% NaN', data = describe_variables(openfoodfacts.iloc[\n",
    "    :,openfoodfacts.columns.isin(liste_col_tags)]), palette = 'muted')\n",
    "plt.title(\"% NaN\")\n",
    "plt.ylabel(\"\")\n",
    "plt.xlabel(\"% NaN\")\n",
    "etiquette_h(ax1)\n",
    "        \n",
    "\n",
    "# Deuxième graphique\n",
    "ax1 = fig.add_subplot(gs[0,1]) # emplacement dans la grille\n",
    "ax2 = sns.barplot(y = 'Variable name', x = '% NaN', data = describe_variables(openfoodfacts.iloc[\n",
    "    :,openfoodfacts.columns.isin(liste_col_tags)]), palette = 'muted')\n",
    "plt.title(\"% valeurs distinctes\")\n",
    "plt.ylabel(\"\")\n",
    "plt.xlabel(\"% distinct\")\n",
    "etiquette_h(ax2);"
   ]
  },
  {
   "cell_type": "markdown",
   "id": "401c2696",
   "metadata": {},
   "source": [
    "Nous remarquons que les variables se terminant par _tags comportent le même % de NaN que la variable associée mais le % de valeurs distinctes est quant à lui inférieur. Il semble être plus intéressant de conserver les variables se terminant par _tags et de supprimer les variables associées afin d'éviter la redondance d'information. De plus le site openfoodfacts nous indique que les variables _tags sont normalisées. Regardons quelques exemples avant de supprimer toutes les variables associées à celles se terminant par _tags."
   ]
  },
  {
   "cell_type": "code",
   "execution_count": null,
   "id": "b6075bc8",
   "metadata": {},
   "outputs": [],
   "source": [
    "openfoodfacts[~openfoodfacts['labels'].isnull()][['labels', 'labels_tags']].sample(10)"
   ]
  },
  {
   "cell_type": "code",
   "execution_count": null,
   "id": "80cde3fd",
   "metadata": {},
   "outputs": [],
   "source": [
    "openfoodfacts[~openfoodfacts['categories'].isnull()][['categories', 'categories_tags']].sample(10)"
   ]
  },
  {
   "cell_type": "markdown",
   "id": "9e248742",
   "metadata": {},
   "source": [
    "Les variables semblent bien redondantes entre elles. Nous décidons de supprimer les variables sans le suffixe _tags."
   ]
  },
  {
   "cell_type": "code",
   "execution_count": null,
   "id": "56fc8092",
   "metadata": {},
   "outputs": [],
   "source": [
    "liste_col_suppr = openfoodfacts.iloc[:, (\n",
    "    openfoodfacts.columns.str.startswith(tuple(liste_col_tags))\n",
    ") & (~openfoodfacts.columns.str.endswith('_tags')) & (\n",
    "    ~openfoodfacts.columns.str.endswith('_en')\n",
    ") & (~openfoodfacts.columns.str.endswith('_n')) & (\n",
    "    ~openfoodfacts.columns.str.endswith('_geo')\n",
    ") & (~openfoodfacts.columns.str.endswith('_text')) & (\n",
    "    ~openfoodfacts.columns.str.endswith('_url'))].columns.unique().tolist()"
   ]
  },
  {
   "cell_type": "code",
   "execution_count": null,
   "id": "8c727f9e",
   "metadata": {},
   "outputs": [],
   "source": [
    "print(f\"Liste des variables à supprimer: \\n\\n {liste_col_suppr}\")"
   ]
  },
  {
   "cell_type": "code",
   "execution_count": null,
   "id": "c09602cc",
   "metadata": {},
   "outputs": [],
   "source": [
    "# Suppression des variables sans suffixe _tags\n",
    "openfoodfacts_tags = openfoodfacts.drop(liste_col_suppr, axis = 'columns', inplace = False)\n",
    "\n",
    "print(f\"Nombre de lignes: {openfoodfacts_tags.shape[0]}\\nNombre de variables: {openfoodfacts_tags.shape[1]}\")"
   ]
  },
  {
   "cell_type": "markdown",
   "id": "6f346f92",
   "metadata": {},
   "source": [
    "### en <a class=\"anchor\" id=\"en\"></a>"
   ]
  },
  {
   "cell_type": "markdown",
   "id": "8c0a9218",
   "metadata": {},
   "source": [
    "La documentation nous indique que ces variables sont la traduction des variables _tags dans la langue indiquée."
   ]
  },
  {
   "cell_type": "code",
   "execution_count": null,
   "id": "7b2f8699",
   "metadata": {},
   "outputs": [],
   "source": [
    "# Pour chaque colonne se terminant par _en, je scinde son nom en plusieurs mots à partir du délimiteur _\n",
    "# Je choisis l'indice [0] correspondant au premier élément \n",
    "liste_col_en = [i.split('_')[0] for i in openfoodfacts_tags.iloc[\n",
    "    :,openfoodfacts_tags.columns.str.endswith('_en')].columns.unique().tolist()]\n",
    "\n",
    "print(f'Préfixes des colonnes se terminant par _en: {liste_col_en}')"
   ]
  },
  {
   "cell_type": "code",
   "execution_count": null,
   "id": "88b32c57",
   "metadata": {},
   "outputs": [],
   "source": [
    "# Selection des colonnes qui commencent par un des mots de la liste liste_col_tags,\n",
    "# ne se terminent par _en, _text , _n , _geo ou _url\n",
    "liste_col_en = openfoodfacts_tags.iloc[:, (\n",
    "    openfoodfacts_tags.columns.str.startswith(tuple(liste_col_en))\n",
    ")].columns.unique().tolist()\n",
    "\n",
    "print(f'Colonnes + colonnes associées _en:\\n\\n {liste_col_en}')"
   ]
  },
  {
   "cell_type": "code",
   "execution_count": null,
   "id": "38e3c304",
   "metadata": {},
   "outputs": [],
   "source": [
    "describe_variables(openfoodfacts_tags[liste_col_en])"
   ]
  },
  {
   "cell_type": "markdown",
   "id": "cc0933dd",
   "metadata": {},
   "source": [
    "On remarque que les colonnes se terminant par _tags et _en sont redondantes entre elles. Le nombre de valeurs manquantes et de valeurs distinctes étant identique, on pourrait supprimer les colonnes _tags et ne garder que celles traduites en anglais pour avoir une base plus harmonisée. Vérifions d'abord sur quelques variables avant de les supprimer."
   ]
  },
  {
   "cell_type": "code",
   "execution_count": null,
   "id": "1c7ed77b",
   "metadata": {},
   "outputs": [],
   "source": [
    "openfoodfacts_tags[~openfoodfacts_tags['origins_tags'].isnull()][['origins_tags', 'origins_en']].sample(10)"
   ]
  },
  {
   "cell_type": "code",
   "execution_count": null,
   "id": "849134c4",
   "metadata": {},
   "outputs": [],
   "source": [
    "openfoodfacts_tags[~openfoodfacts_tags['traces_tags'].isnull()][['traces_tags', 'traces_en']].sample(10)"
   ]
  },
  {
   "cell_type": "markdown",
   "id": "a7ad9288",
   "metadata": {},
   "source": [
    "Les modalités étant plus lisibles et harmonisées dans les colonnes se terminant par _en, supprimons les colonnes _tags."
   ]
  },
  {
   "cell_type": "code",
   "execution_count": null,
   "id": "b7819c51",
   "metadata": {},
   "outputs": [],
   "source": [
    "liste_col_suppr = openfoodfacts_tags.iloc[:, (openfoodfacts_tags.columns.str.startswith(tuple(liste_col_en)))&\n",
    "                       (openfoodfacts_tags.columns.str.endswith('_tags'))].columns.unique().tolist()\n",
    "\n",
    "print(f'Colonnes _tags à supprimer:\\n\\n {liste_col_suppr}')"
   ]
  },
  {
   "cell_type": "code",
   "execution_count": null,
   "id": "8736282d",
   "metadata": {},
   "outputs": [],
   "source": [
    "# Suppression des variables avec suffixe _tags\n",
    "openfoodfacts_tags.drop(liste_col_suppr, axis = 'columns', inplace = True)\n",
    "\n",
    "print(f\"Nombre de lignes: {openfoodfacts_tags.shape[0]}\\nNombre de variables: {openfoodfacts_tags.shape[1]}\")"
   ]
  },
  {
   "cell_type": "markdown",
   "id": "6c444b73",
   "metadata": {
    "heading_collapsed": true
   },
   "source": [
    "### url <a class=\"anchor\" id=\"url\"></a>"
   ]
  },
  {
   "cell_type": "markdown",
   "id": "451c5ca6",
   "metadata": {
    "hidden": true
   },
   "source": [
    "Ces variables indiquent les urls des images et des produits et n'apportent aucune information. Supprimons les."
   ]
  },
  {
   "cell_type": "code",
   "execution_count": null,
   "id": "5eecfbc9",
   "metadata": {
    "hidden": true
   },
   "outputs": [],
   "source": [
    "liste_col_url = openfoodfacts_tags.iloc[:,\n",
    "                                     openfoodfacts_tags.columns.str.contains(\n",
    "                                         'url')].columns.unique().tolist()\n",
    "\n",
    "print(f\"Liste des variables url à supprimer: \\n\\n {liste_col_url}\")"
   ]
  },
  {
   "cell_type": "code",
   "execution_count": null,
   "id": "14fa1855",
   "metadata": {
    "hidden": true
   },
   "outputs": [],
   "source": [
    "# Suppression des variables contenant le mot url\n",
    "openfoodfacts_tags.drop(liste_col_url, axis = 'columns', inplace = True)\n",
    "\n",
    "print(f\"Nombre de lignes: {openfoodfacts_tags.shape[0]}\\nNombre de variables: {openfoodfacts_tags.shape[1]}\")"
   ]
  },
  {
   "cell_type": "markdown",
   "id": "143130d2",
   "metadata": {
    "heading_collapsed": true
   },
   "source": [
    "### ingredients <a class=\"anchor\" id=\"ingredients\"></a>"
   ]
  },
  {
   "cell_type": "code",
   "execution_count": null,
   "id": "bc9943a2",
   "metadata": {
    "hidden": true
   },
   "outputs": [],
   "source": [
    "# Liste des variables contenant le mot ingredients\n",
    "liste_col_ingredients = openfoodfacts_tags.iloc[:,\n",
    "                                     openfoodfacts_tags.columns.str.contains(\n",
    "                                         'ingredients')].columns.unique().tolist()"
   ]
  },
  {
   "cell_type": "code",
   "execution_count": null,
   "id": "eea0763f",
   "metadata": {
    "hidden": true
   },
   "outputs": [],
   "source": [
    "# Exemples des variables contenant le mot ingredients sans NaN\n",
    "openfoodfacts_tags[openfoodfacts_tags[liste_col_ingredients].notnull().all(1)][liste_col_ingredients].sample(5)"
   ]
  },
  {
   "cell_type": "code",
   "execution_count": null,
   "id": "a45bb93e",
   "metadata": {
    "hidden": true
   },
   "outputs": [],
   "source": [
    "describe_variables(openfoodfacts_tags[liste_col_ingredients])"
   ]
  },
  {
   "cell_type": "markdown",
   "id": "113d5ecc",
   "metadata": {
    "hidden": true
   },
   "source": [
    "Nous pouvons remarquer que la variable ingredients_text contient un grand nombre de modalités et 63.75% de valeurs manquantes. \n",
    "\n",
    "Nous pouvons également voir que 4 variables comportent la mention palm_oil dont 2 variables qui se terminent par _n indiquent le nombre d'ingrédients contenant de l'huile de palme. \n",
    "\n",
    "Les 2 variables ingredients_from_palm_oil_tags et ingredients_that_may_be_from_palm_oil_tags ont un pourcentage très élevé de valeurs manquantes et semblent redondantes avec les variables numériques, qui si supérieures à 0, indiquent la présence d'huile de palme ou assimilé. \n",
    "\n",
    "Nous allons supprimer ces 2 variables et ne conserver qu'une variable numérique sur les deux (ingredients_from_palm_oil_n)."
   ]
  },
  {
   "cell_type": "code",
   "execution_count": null,
   "id": "a93ae63d",
   "metadata": {
    "hidden": true
   },
   "outputs": [],
   "source": [
    "# Suppression des variables ingredients_from_palm_oil_tags et ingredients_that_may_be_from_palm_oil_tags\n",
    "openfoodfacts_tags.drop(['ingredients_from_palm_oil_tags', 'ingredients_that_may_be_from_palm_oil_tags'],\n",
    "                        axis = 'columns',\n",
    "                        inplace = True)\n",
    "\n",
    "print(f\"Nombre de lignes: {openfoodfacts_tags.shape[0]}\\nNombre de variables: {openfoodfacts_tags.shape[1]}\")"
   ]
  },
  {
   "cell_type": "code",
   "execution_count": null,
   "id": "f8ffe5f0",
   "metadata": {
    "hidden": true
   },
   "outputs": [],
   "source": [
    "# Suppression de la variable ingredients_that_may_be_from_palm_oil_n\n",
    "openfoodfacts_tags.drop('ingredients_that_may_be_from_palm_oil_n',\n",
    "                        axis = 'columns',\n",
    "                        inplace = True)\n",
    "\n",
    "print(f\"Nombre de lignes: {openfoodfacts_tags.shape[0]}\\nNombre de variables: {openfoodfacts_tags.shape[1]}\")"
   ]
  },
  {
   "cell_type": "markdown",
   "id": "3956f164",
   "metadata": {
    "heading_collapsed": true
   },
   "source": [
    "### image <a class=\"anchor\" id=\"image\"></a>"
   ]
  },
  {
   "cell_type": "code",
   "execution_count": null,
   "id": "d72a7017",
   "metadata": {
    "hidden": true
   },
   "outputs": [],
   "source": [
    "liste_col_image = openfoodfacts_tags.iloc[:,\n",
    "                                     openfoodfacts_tags.columns.str.contains(\n",
    "                                         'image')].columns.unique().tolist()\n",
    "\n",
    "liste_col_image"
   ]
  },
  {
   "cell_type": "markdown",
   "id": "6b69ee94",
   "metadata": {
    "hidden": true
   },
   "source": [
    "Les variables contenant le mot image ont été supprimées par les traitements précédents."
   ]
  },
  {
   "cell_type": "markdown",
   "id": "52413d79",
   "metadata": {
    "heading_collapsed": true
   },
   "source": [
    "### packaging <a class=\"anchor\" id=\"packaging\"></a>"
   ]
  },
  {
   "cell_type": "code",
   "execution_count": null,
   "id": "ef707fdf",
   "metadata": {
    "hidden": true
   },
   "outputs": [],
   "source": [
    "# Variables contenant le mot packaging\n",
    "liste_col_packaging = openfoodfacts_tags.iloc[:,\n",
    "                                     openfoodfacts_tags.columns.str.contains(\n",
    "                                         'packaging')].columns.unique().tolist()\n",
    "\n",
    "liste_col_packaging"
   ]
  },
  {
   "cell_type": "code",
   "execution_count": null,
   "id": "982dc736",
   "metadata": {
    "hidden": true
   },
   "outputs": [],
   "source": [
    "# Description de ces variables\n",
    "describe_variables(openfoodfacts_tags[liste_col_packaging])"
   ]
  },
  {
   "cell_type": "code",
   "execution_count": null,
   "id": "cefa283b",
   "metadata": {
    "hidden": true,
    "scrolled": true
   },
   "outputs": [],
   "source": [
    "# Visualisation des modalités de ces 3 variables hors valeurs manquantes\n",
    "openfoodfacts_tags[openfoodfacts_tags[liste_col_packaging].notnull().all(1)][liste_col_packaging].sample(5)"
   ]
  },
  {
   "cell_type": "markdown",
   "id": "416c7ddd",
   "metadata": {
    "hidden": true
   },
   "source": [
    "Les variables packaging_tags et packaging_text semblent être redondantes. La variable packaging_text contenant près de 99% de valeurs manquantes nous décidons de la supprimer.\n",
    "\n",
    "La variable first_packaging_code_geo nous donne quant à elle des informations de geolocalisation (latitude / longitude). Nous pourrions créer deux nouvelles variables mais cette information ne nous semble par pertinente pour l'analyse. Nous la supprimons donc."
   ]
  },
  {
   "cell_type": "code",
   "execution_count": null,
   "id": "a7c7ccbe",
   "metadata": {
    "hidden": true
   },
   "outputs": [],
   "source": [
    "# Suppression des variables packaging_text et first_packaging_code_geo\n",
    "openfoodfacts_tags.drop(['packaging_text', 'first_packaging_code_geo'], axis = 'columns', inplace = True)\n",
    "\n",
    "print(f\"Nombre de lignes: {openfoodfacts_tags.shape[0]}\\nNombre de variables: {openfoodfacts_tags.shape[1]}\")"
   ]
  },
  {
   "cell_type": "markdown",
   "id": "c18fdab2",
   "metadata": {
    "heading_collapsed": true
   },
   "source": [
    "### name <a class=\"anchor\" id=\"name\"></a>"
   ]
  },
  {
   "cell_type": "code",
   "execution_count": null,
   "id": "ad809c18",
   "metadata": {
    "hidden": true
   },
   "outputs": [],
   "source": [
    "# Variables contenant le mot name\n",
    "liste_col_name = openfoodfacts_tags.iloc[:,\n",
    "                                     openfoodfacts_tags.columns.str.contains(\n",
    "                                         'name')].columns.unique().tolist()\n",
    "\n",
    "liste_col_name"
   ]
  },
  {
   "cell_type": "code",
   "execution_count": null,
   "id": "e5ceb606",
   "metadata": {
    "hidden": true,
    "scrolled": true
   },
   "outputs": [],
   "source": [
    "# Description de ces variables\n",
    "describe_variables(openfoodfacts_tags[liste_col_name])"
   ]
  },
  {
   "cell_type": "code",
   "execution_count": null,
   "id": "4ca20255",
   "metadata": {
    "hidden": true
   },
   "outputs": [],
   "source": [
    "# Visualisation des modalités de ces 3 variables hors valeurs manquantes\n",
    "openfoodfacts_tags[openfoodfacts_tags[liste_col_name].notnull().all(1)][liste_col_name].sample(5)"
   ]
  },
  {
   "cell_type": "markdown",
   "id": "cc5834b5",
   "metadata": {
    "hidden": true
   },
   "source": [
    "Ces trois variables nous apportent la même information. abbreviated_product_name et generic_name ayant un fort pourcentage de valeurs manquantes, nous décidons de supprimer ces 2 variables."
   ]
  },
  {
   "cell_type": "code",
   "execution_count": null,
   "id": "14236b36",
   "metadata": {
    "hidden": true
   },
   "outputs": [],
   "source": [
    "# Suppression des variables abbreviated_product_name et generic_name\n",
    "openfoodfacts_tags.drop(['abbreviated_product_name', 'generic_name'], axis = 'columns', inplace = True)\n",
    "\n",
    "print(f\"Nombre de lignes: {openfoodfacts_tags.shape[0]}\\nNombre de variables: {openfoodfacts_tags.shape[1]}\")"
   ]
  },
  {
   "cell_type": "markdown",
   "id": "9df05a8c",
   "metadata": {
    "heading_collapsed": true
   },
   "source": [
    "### places <a class=\"anchor\" id=\"places\"></a>"
   ]
  },
  {
   "cell_type": "code",
   "execution_count": null,
   "id": "56927feb",
   "metadata": {
    "hidden": true
   },
   "outputs": [],
   "source": [
    "# Variables contenant le mot places\n",
    "liste_col_places = openfoodfacts_tags.iloc[:,\n",
    "                                     openfoodfacts_tags.columns.str.contains(\n",
    "                                         'places')].columns.unique().tolist()\n",
    "\n",
    "liste_col_places"
   ]
  },
  {
   "cell_type": "code",
   "execution_count": null,
   "id": "8bd37dc8",
   "metadata": {
    "hidden": true
   },
   "outputs": [],
   "source": [
    "# Description de ces variables\n",
    "describe_variables(openfoodfacts_tags[liste_col_places])"
   ]
  },
  {
   "cell_type": "code",
   "execution_count": null,
   "id": "513fca97",
   "metadata": {
    "hidden": true,
    "scrolled": false
   },
   "outputs": [],
   "source": [
    "# Visualisation des modalités de ces 2 variables hors valeurs manquantes\n",
    "openfoodfacts_tags[openfoodfacts_tags[liste_col_places].notnull().all(1)][liste_col_places].sample(5)"
   ]
  },
  {
   "cell_type": "markdown",
   "id": "84978a8f",
   "metadata": {
    "hidden": true
   },
   "source": [
    "Ces variables étant très peu alimentées (plus de 90% de NaN), supprimons les."
   ]
  },
  {
   "cell_type": "code",
   "execution_count": null,
   "id": "3f468046",
   "metadata": {
    "hidden": true
   },
   "outputs": [],
   "source": [
    "# Suppression des variables\n",
    "openfoodfacts_tags.drop(liste_col_places, axis = 'columns', inplace = True)\n",
    "\n",
    "print(f\"Nombre de lignes: {openfoodfacts_tags.shape[0]}\\nNombre de variables: {openfoodfacts_tags.shape[1]}\")"
   ]
  },
  {
   "cell_type": "markdown",
   "id": "96574bd3",
   "metadata": {
    "heading_collapsed": true
   },
   "source": [
    "### additives <a class=\"anchor\" id=\"additives\"></a>"
   ]
  },
  {
   "cell_type": "code",
   "execution_count": null,
   "id": "3bf9e3e0",
   "metadata": {
    "hidden": true
   },
   "outputs": [],
   "source": [
    "# Variables contenant le mot additives\n",
    "liste_col_additives = openfoodfacts_tags.iloc[:,\n",
    "                                     openfoodfacts_tags.columns.str.contains(\n",
    "                                         'additives')].columns.unique().tolist()\n",
    "\n",
    "liste_col_additives"
   ]
  },
  {
   "cell_type": "code",
   "execution_count": null,
   "id": "5a8d9a89",
   "metadata": {
    "hidden": true,
    "scrolled": true
   },
   "outputs": [],
   "source": [
    "# Description de ces variables\n",
    "describe_variables(openfoodfacts_tags[liste_col_additives])"
   ]
  },
  {
   "cell_type": "markdown",
   "id": "c4030ed3",
   "metadata": {
    "hidden": true
   },
   "source": [
    "Le pourcentage de valeurs manquantes étant \"acceptable\", nous décidons de conserver ces variables pour le moment."
   ]
  },
  {
   "cell_type": "markdown",
   "id": "157dba92",
   "metadata": {},
   "source": [
    "### Autres variables  <a class=\"anchor\" id=\"misc\"></a>"
   ]
  },
  {
   "cell_type": "markdown",
   "id": "10fb2b37",
   "metadata": {},
   "source": [
    "La nomenclature des variables nous donne d'autres informations. Elle se trouve à l'adresse: https://static.openfoodfacts.org/data/data-fields.txt"
   ]
  },
  {
   "cell_type": "markdown",
   "id": "a490d7dd",
   "metadata": {
    "heading_collapsed": true
   },
   "source": [
    "#### Dates"
   ]
  },
  {
   "cell_type": "code",
   "execution_count": null,
   "id": "31287250",
   "metadata": {
    "hidden": true
   },
   "outputs": [],
   "source": [
    "# Colonnes dont le titre se termine par \"_t\" ou \"_datetime\"\n",
    "print(\"Liste des variables dont le titre se termine par _t ou _datetime: \")\n",
    "liste_col_date = openfoodfacts_tags.iloc[:,(openfoodfacts_tags.columns.str.endswith('_datetime')) |\n",
    "                   (openfoodfacts_tags.columns.str.endswith('_t'))].columns.tolist()\n",
    "liste_col_date"
   ]
  },
  {
   "cell_type": "code",
   "execution_count": null,
   "id": "6cd8c667",
   "metadata": {
    "hidden": true
   },
   "outputs": [],
   "source": [
    "# Passage au bon format\n",
    "from datetime import datetime\n",
    "import time\n",
    "\n",
    "for column in liste_col_date:\n",
    "    if column.endswith('_t'):\n",
    "        openfoodfacts_tags[column] = pd.to_datetime(openfoodfacts_tags[column], unit='s')\n",
    "    else:\n",
    "        openfoodfacts_tags[column] = pd.to_datetime(openfoodfacts_tags[column], format=\"%Y-%m-%d %H:%M:%S.%f\", utc=True)"
   ]
  },
  {
   "cell_type": "code",
   "execution_count": null,
   "id": "142ade71",
   "metadata": {
    "hidden": true
   },
   "outputs": [],
   "source": [
    "openfoodfacts_tags[liste_col_date].head()"
   ]
  },
  {
   "cell_type": "markdown",
   "id": "60c28df4",
   "metadata": {
    "hidden": true
   },
   "source": [
    "On remarque de la redondance d'information, on supprime les variables qui se terminent par _datetime puis nous créons des variables Année pour l'analyse future."
   ]
  },
  {
   "cell_type": "code",
   "execution_count": null,
   "id": "357de87f",
   "metadata": {
    "hidden": true
   },
   "outputs": [],
   "source": [
    "# Suppression des variables redondantes\n",
    "openfoodfacts_tags.drop(['created_datetime', 'last_modified_datetime'], axis=1, inplace = True)"
   ]
  },
  {
   "cell_type": "code",
   "execution_count": null,
   "id": "cfe83dd1",
   "metadata": {
    "hidden": true
   },
   "outputs": [],
   "source": [
    "# On renomme les variables de date\n",
    "openfoodfacts_tags.rename(columns={'created_t': 'creation_date', \n",
    "                              'last_modified_t': 'last_modified_date'}, inplace = True)"
   ]
  },
  {
   "cell_type": "code",
   "execution_count": null,
   "id": "7c9e5382",
   "metadata": {
    "hidden": true
   },
   "outputs": [],
   "source": [
    "# On créé des variables \"Année\"\n",
    "openfoodfacts_tags['creation_year'] = pd.to_datetime(openfoodfacts_tags['creation_date'], format='%d:%m:%Y').dt.year\n",
    "openfoodfacts_tags['last_modified_year'] = pd.to_datetime(openfoodfacts_tags['last_modified_date'], format='%d:%m:%Y').dt.year"
   ]
  },
  {
   "cell_type": "code",
   "execution_count": null,
   "id": "85d40441",
   "metadata": {
    "hidden": true
   },
   "outputs": [],
   "source": [
    "# On décale les colonnes \"Année\" après les colonnes de date:\n",
    "colonne_a_decaler = openfoodfacts_tags.pop('creation_year') \n",
    "openfoodfacts_tags.insert(openfoodfacts_tags.columns.get_loc(\"creation_date\")+1, 'creation_year', colonne_a_decaler) \n",
    "\n",
    "colonne_a_decaler = openfoodfacts_tags.pop('last_modified_year') \n",
    "openfoodfacts_tags.insert(openfoodfacts_tags.columns.get_loc(\"last_modified_date\")+1, 'last_modified_year', colonne_a_decaler) "
   ]
  },
  {
   "cell_type": "code",
   "execution_count": null,
   "id": "59213ccf",
   "metadata": {
    "hidden": true
   },
   "outputs": [],
   "source": [
    "openfoodfacts_tags.dtypes[0:10]"
   ]
  },
  {
   "cell_type": "markdown",
   "id": "acf47b87",
   "metadata": {},
   "source": [
    "#### serving_ "
   ]
  },
  {
   "cell_type": "markdown",
   "id": "102a6af0",
   "metadata": {},
   "source": [
    "Les variables qui commencent par _serving correspondent au nombre de nutriments (en g, ou kj pour l'énergie) pour une part du produit. Elles doivent être de type numérique."
   ]
  },
  {
   "cell_type": "code",
   "execution_count": null,
   "id": "8a38867d",
   "metadata": {},
   "outputs": [],
   "source": [
    "liste_col_serving = openfoodfacts_tags.iloc[:,\n",
    "                                            openfoodfacts_tags.columns.str.\n",
    "                                            startswith('serving_'\n",
    "                                                       )].columns.unique(\n",
    "                                                       ).tolist()\n",
    "\n",
    "print(f\"Liste des variables commençant par serving: \\n\\n {liste_col_serving}\")"
   ]
  },
  {
   "cell_type": "code",
   "execution_count": null,
   "id": "cd6a9296",
   "metadata": {},
   "outputs": [],
   "source": [
    "# Exemples de variables contenant serving_ sans données manquantes\n",
    "openfoodfacts_tags[openfoodfacts_tags[liste_col_serving].notnull().all(1)][liste_col_serving].sample(5)"
   ]
  },
  {
   "cell_type": "markdown",
   "id": "77b7357a",
   "metadata": {},
   "source": [
    "Ces 2 colonnes semblent être redondantes, vérifions le % de NaN"
   ]
  },
  {
   "cell_type": "code",
   "execution_count": null,
   "id": "1d1958d6",
   "metadata": {},
   "outputs": [],
   "source": [
    "describe_variables(openfoodfacts_tags[liste_col_serving])"
   ]
  },
  {
   "cell_type": "markdown",
   "id": "ff47aaea",
   "metadata": {},
   "source": [
    "Le % de NaN étant assez similaire et la variable serving_quantity déjà au format numérique, supprimons la variable serving_size."
   ]
  },
  {
   "cell_type": "code",
   "execution_count": null,
   "id": "887352c2",
   "metadata": {},
   "outputs": [],
   "source": [
    "# Suppression de la variable serving_size\n",
    "openfoodfacts_tags.drop('serving_size', axis = 'columns', inplace = True)\n",
    "\n",
    "print(f\"Nombre de lignes: {openfoodfacts_tags.shape[0]}\\nNombre de variables: {openfoodfacts_tags.shape[1]}\")"
   ]
  },
  {
   "cell_type": "markdown",
   "id": "a074e0b9",
   "metadata": {},
   "source": [
    "<div class=\"alert alert-block alert-warning\">\n",
    "    <p> Suppression de variables pour libérer de la RAM </p>\n",
    "</div>"
   ]
  },
  {
   "cell_type": "code",
   "execution_count": null,
   "id": "b3fbcf0e",
   "metadata": {},
   "outputs": [],
   "source": [
    "del(openfoodfacts)\n",
    "del(colonne_a_decaler)\n",
    "del(word_cloud_dict)\n",
    "del(liste_mots_colonnes)\n",
    "del(liste_mots_colonnes_flat)"
   ]
  },
  {
   "cell_type": "markdown",
   "id": "b7a45086",
   "metadata": {},
   "source": [
    "## Doublons <a class=\"anchor\" id=\"doublons\"></a>"
   ]
  },
  {
   "cell_type": "markdown",
   "id": "4c598d43",
   "metadata": {},
   "source": [
    "Il est important de vérifier que le dataset ne contienne pas de doublons. La variable \"code\" semble représenter la clé primaire de notre table. Vérifions dans un premier temps si cette variable contient plusieurs fois le même code. Ensuite nous vérifierons si un même produit existe plusieurs fois dans la base et adopterons une stratégie pour son traitement.  "
   ]
  },
  {
   "cell_type": "markdown",
   "id": "41fa4f47",
   "metadata": {},
   "source": [
    "### Variable Code <a class=\"anchor\" id=\"doublons_code\"></a>"
   ]
  },
  {
   "cell_type": "code",
   "execution_count": null,
   "id": "1a0bc037",
   "metadata": {},
   "outputs": [],
   "source": [
    "# Nombre de doublons sur la colonne code\n",
    "print(f\"Codes en doublons: {openfoodfacts.duplicated('code').sum()}\")"
   ]
  },
  {
   "cell_type": "code",
   "execution_count": null,
   "id": "4e8c9628",
   "metadata": {},
   "outputs": [],
   "source": [
    "# Liste des codes dupliqués\n",
    "liste_duplicated_codes = openfoodfacts_tags[openfoodfacts_tags['code'].duplicated()]['code'].tolist()"
   ]
  },
  {
   "cell_type": "code",
   "execution_count": null,
   "id": "736b2da4",
   "metadata": {
    "scrolled": true
   },
   "outputs": [],
   "source": [
    "# Affichage de toutes les lignes dupliquées du dataset\n",
    "duplicated_code_raws = openfoodfacts_tags[openfoodfacts_tags['code'].isin(liste_duplicated_codes)]\n",
    "duplicated_code_raws"
   ]
  },
  {
   "cell_type": "code",
   "execution_count": null,
   "id": "477c6843",
   "metadata": {
    "scrolled": true
   },
   "outputs": [],
   "source": [
    "# Supprimons les lignes dupliquées qui ont le plus grand nombre de NaN par lignes\n",
    "openfoodfacts_tags['null_count'] = openfoodfacts_tags.isnull().sum(1)\n",
    "\n",
    "openfoodfacts_not_duplicated = openfoodfacts_tags.sort_values('null_count')\\\n",
    "       .drop_duplicates(subset = \"code\")\\\n",
    "       .sort_index()"
   ]
  },
  {
   "cell_type": "code",
   "execution_count": null,
   "id": "0cf89b17",
   "metadata": {},
   "outputs": [],
   "source": [
    "# Suppression de la variable null_count\n",
    "openfoodfacts_not_duplicated.drop('null_count', axis='columns', inplace = True)"
   ]
  },
  {
   "cell_type": "code",
   "execution_count": null,
   "id": "36f9bb85",
   "metadata": {},
   "outputs": [],
   "source": [
    "print(f\"Nombre de lignes: {openfoodfacts_not_duplicated.shape[0]}\\nNombre de variables: {openfoodfacts_not_duplicated.shape[1]}\")"
   ]
  },
  {
   "cell_type": "code",
   "execution_count": null,
   "id": "0845c1ae",
   "metadata": {},
   "outputs": [],
   "source": [
    "openfoodfacts_tags.shape[0] - openfoodfacts_not_duplicated.shape[0]"
   ]
  },
  {
   "cell_type": "code",
   "execution_count": null,
   "id": "1d12d36e",
   "metadata": {},
   "outputs": [],
   "source": [
    "del(openfoodfacts_tags)"
   ]
  },
  {
   "cell_type": "markdown",
   "id": "df0c0700",
   "metadata": {},
   "source": [
    "### Variable Product Name <a class=\"anchor\" id=\"doublons_product\"></a>"
   ]
  },
  {
   "cell_type": "markdown",
   "id": "549445f0",
   "metadata": {},
   "source": [
    "Dans un premier temps, afin d'éviter d'avoir des produits différents à cause de la casse, modifions toutes les modalités des colonnes de type object en minuscules."
   ]
  },
  {
   "cell_type": "code",
   "execution_count": null,
   "id": "0ade359d",
   "metadata": {},
   "outputs": [],
   "source": [
    "liste_col_object = openfoodfacts_not_duplicated.select_dtypes(include=['object']).columns.tolist()\n",
    "\n",
    "for col in liste_col_object:\n",
    "    openfoodfacts_not_duplicated[col] = openfoodfacts_not_duplicated[col].str.lower()\n",
    "    \n",
    "openfoodfacts_not_duplicated.head(2)"
   ]
  },
  {
   "cell_type": "code",
   "execution_count": null,
   "id": "5a236e2f",
   "metadata": {},
   "outputs": [],
   "source": [
    "# Nombre de doublons sur la colonne product_name\n",
    "n_duplicated_product = len(openfoodfacts_not_duplicated[\n",
    "    'product_name']) -len(openfoodfacts_not_duplicated.drop_duplicates(\n",
    "    subset = ['product_name']))\n",
    "\n",
    "print(f'Produits en doublons: {n_duplicated_product}')"
   ]
  },
  {
   "cell_type": "markdown",
   "id": "f8960e38",
   "metadata": {},
   "source": [
    "Plus de 857 000 produits ont le même nom dans le dataset. Regardons quelques lignes afin de mieux comprendre."
   ]
  },
  {
   "cell_type": "code",
   "execution_count": null,
   "id": "92e59c95",
   "metadata": {},
   "outputs": [],
   "source": [
    "# Liste des product_name dupliqués\n",
    "liste_duplicated_products = openfoodfacts_not_duplicated[openfoodfacts_not_duplicated[\n",
    "    'product_name'].duplicated()]['product_name'].tolist()"
   ]
  },
  {
   "cell_type": "code",
   "execution_count": null,
   "id": "67d4cb4f",
   "metadata": {
    "scrolled": true
   },
   "outputs": [],
   "source": [
    "# Affichage des lignes dupliquées du dataset\n",
    "openfoodfacts_not_duplicated[openfoodfacts_not_duplicated['product_name'].isin(\n",
    "    liste_duplicated_products)].sort_values(by = 'product_name', ascending=True)"
   ]
  },
  {
   "cell_type": "code",
   "execution_count": null,
   "id": "9beb6acd",
   "metadata": {},
   "outputs": [],
   "source": [
    "# Visualisation sous forme de countplot\n",
    "plt.figure(figsize=(10,6))\n",
    "ax = sns.countplot(y = 'product_name', data = openfoodfacts_not_duplicated,\n",
    "                   order = openfoodfacts_not_duplicated['product_name'].value_counts().index[0:10],\n",
    "                   palette = 'muted')\n",
    "plt.title('TOP 10 des product_name les plus utilisées', fontweight='bold', fontsize = 15)\n",
    "plt.xlabel(\"Nombre d'occurence\", fontsize = 8)\n",
    "\n",
    "total = len(openfoodfacts_not_duplicated['product_name'])\n",
    "for p in ax.patches:\n",
    "    etiquette ='{:,.0f}'.format(p.get_width())\n",
    "    width, height =p.get_width(),p.get_height()\n",
    "    x=p.get_x()+width+0.02\n",
    "    y=p.get_y()+height/2\n",
    "    ax.annotate(etiquette,(x,y))"
   ]
  },
  {
   "cell_type": "markdown",
   "id": "deedd033",
   "metadata": {},
   "source": [
    "Regardons plus en détail le product_name 'aceite de oliva virgen extra' et définissons une stratégie pour assainir la base."
   ]
  },
  {
   "cell_type": "code",
   "execution_count": null,
   "id": "3fb97a3f",
   "metadata": {
    "scrolled": false
   },
   "outputs": [],
   "source": [
    "test_duplicated_huile_olive = openfoodfacts_not_duplicated[openfoodfacts_not_duplicated['product_name'] \\\n",
    "                                                           == 'aceite de oliva virgen extra']\n",
    "test_duplicated_huile_olive.head()"
   ]
  },
  {
   "cell_type": "code",
   "execution_count": null,
   "id": "f06b7657",
   "metadata": {
    "scrolled": false
   },
   "outputs": [],
   "source": [
    "# Suppression des lignes avec 100% de données manquantes sur les colonnes de nutriments\n",
    "liste_col_nutriments = openfoodfacts_not_duplicated.iloc[:,\n",
    "                                                         openfoodfacts_not_duplicated.columns.str.endswith(\n",
    "                                                             '_100g')].columns.tolist()\n",
    "\n",
    "index_with_nan = test_duplicated_huile_olive.index[test_duplicated_huile_olive[liste_col_nutriments] \\\n",
    "                                                   .isnull().all(axis = 1)]\n",
    "\n",
    "test_duplicated_huile_olive = test_duplicated_huile_olive.drop(index_with_nan,'index', inplace = False)\n",
    "test_duplicated_huile_olive.head(5)"
   ]
  },
  {
   "cell_type": "code",
   "execution_count": null,
   "id": "78b95854",
   "metadata": {
    "scrolled": true
   },
   "outputs": [],
   "source": [
    "# Apperçu des variables hors nutriments\n",
    "test_duplicated_huile_olive.iloc[:, ~test_duplicated_huile_olive.columns.isin(liste_col_nutriments)]"
   ]
  },
  {
   "cell_type": "markdown",
   "id": "510bc1f5",
   "metadata": {},
   "source": [
    "La stratégie pourrait être par exemple de supprimer les lignes qui ont:\n",
    "- le même nom de produit et de marque hors NaN\n",
    "- le plus grand nombre de NaN par ligne"
   ]
  },
  {
   "cell_type": "code",
   "execution_count": null,
   "id": "a6775aef",
   "metadata": {},
   "outputs": [],
   "source": [
    "# Nombre de doublons sur la colonne product_name et brands_tags (hors NaN)\n",
    "n_duplicated_product_brand = len(test_duplicated_huile_olive[['product_name', \n",
    "                                                              'brands_tags']])-len(\n",
    "    test_duplicated_huile_olive.drop_duplicates(subset = ['product_name', \n",
    "                                                          'brands_tags']))\n",
    "\n",
    "print(f'Nombre de produits avec la même marque (hors NaN): {n_duplicated_product_brand}')"
   ]
  },
  {
   "cell_type": "code",
   "execution_count": null,
   "id": "a357bcea",
   "metadata": {},
   "outputs": [],
   "source": [
    "# Mask de dataframe avec product et brands non nuls\n",
    "test_duplicated_huile_olive = test_duplicated_huile_olive[test_duplicated_huile_olive[['product_name', \n",
    "                                                                     'brands_tags']].notnull().all(1)]\n",
    "\n",
    "# Création colonne qui compte le nombre de NaN par ligne\n",
    "#test_duplicated_huile_olive['NaN_count'] = test_duplicated_huile_olive.isnull().sum(1)\n",
    "test_duplicated_huile_olive.loc[:, 'NaN_count'] = test_duplicated_huile_olive.isnull().sum(1)\n",
    "\n",
    "\n",
    "# Suppression des lignes dupliquées quand le produit et la marque sont renseignés en fonction du \n",
    "# nombre de NaN par ligne\n",
    "test_duplicated_huile_olive = test_duplicated_huile_olive[\n",
    "    test_duplicated_huile_olive[['product_name', \n",
    "                                 'brands_tags']].notnull().all(1)].sort_values(\n",
    "    'NaN_count').drop_duplicates(subset = ['product_name', 'brands_tags']).sort_index()\n",
    "\n",
    "# Suppression variable NaN_count\n",
    "test_duplicated_huile_olive.drop('NaN_count', axis='columns', inplace = True)"
   ]
  },
  {
   "cell_type": "code",
   "execution_count": null,
   "id": "e09c5536",
   "metadata": {},
   "outputs": [],
   "source": [
    "# On ajoute la liste des index retraités et ceux où le produit ou la marque sont nuls\n",
    "index_not_duplicated = test_duplicated_huile_olive.index\n",
    "index_NaN = test_duplicated_huile_olive[test_duplicated_huile_olive[['product_name', \n",
    "                                                                     'brands_tags']].isnull().any(1)].index\n",
    "\n",
    "index_to_keep = index_not_duplicated.union(index_NaN)"
   ]
  },
  {
   "cell_type": "code",
   "execution_count": null,
   "id": "c446c16f",
   "metadata": {},
   "outputs": [],
   "source": [
    "test_duplicated_huile_olive = test_duplicated_huile_olive.loc[index_not_duplicated, :]\n",
    "test_duplicated_huile_olive.head(5)"
   ]
  },
  {
   "cell_type": "code",
   "execution_count": null,
   "id": "cfa2a41e",
   "metadata": {
    "scrolled": true
   },
   "outputs": [],
   "source": [
    "test_duplicated_huile_olive['product_name'].groupby(test_duplicated_huile_olive[\n",
    "    'brands_tags']).count().reset_index(name = 'Count').sort_values(\n",
    "    by = 'Count', ascending = False)"
   ]
  },
  {
   "cell_type": "markdown",
   "id": "82a5e106",
   "metadata": {},
   "source": [
    "On obtient bien un produit par marque. Appliquons cette stratégie aux autres produits."
   ]
  },
  {
   "cell_type": "code",
   "execution_count": null,
   "id": "02bfff8a",
   "metadata": {},
   "outputs": [],
   "source": [
    "def del_duplicated(df):\n",
    "    ''' fonction qui prend un dataframe en entrée, supprime les lignes dupliquées sur le product_name et\n",
    "    les brands_tags en gardant celles qui ont le moins de données manquantes par ligne'''\n",
    "        \n",
    "    # Suppression des lignes avec 100% de données manquantes sur les colonnes de nutriments\n",
    "    liste_col_nutriments = df.iloc[:,df.columns.str.endswith('_100g')].columns.tolist()\n",
    "        \n",
    "    index_with_nan = df.index[df[liste_col_nutriments].isnull().all(axis = 1)]\n",
    "        \n",
    "    df = df.drop(index_with_nan,'index', inplace = False)\n",
    "\n",
    "    \n",
    "    # Sélection des variables hors NaN\n",
    "    df_hors_NaN = df[df[['product_name', 'brands_tags']].notnull().all(1)]\n",
    "    \n",
    "    # Création colonne qui compte le nombre de NaN par ligne\n",
    "    #df_hors_NaN['NaN_count'] = df_hors_NaN.isnull().sum(1)\n",
    "    df_hors_NaN.loc[:, 'NaN_count'] = df_hors_NaN.isnull().sum(1)\n",
    "    \n",
    "    # Suppression des lignes dupliquées quand le produit et la marque sont renseignés en fonction du \n",
    "    # nombre de NaN par ligne\n",
    "    df_hors_NaN = df_hors_NaN[df_hors_NaN[['product_name', 'brands_tags']].notnull().all(1)].sort_values(\n",
    "        'NaN_count').drop_duplicates(subset = ['product_name', 'brands_tags']).sort_index()\n",
    "            \n",
    "    # Suppression variable NaN_count\n",
    "    df_hors_NaN.drop('NaN_count', axis='columns', inplace = True)\n",
    "    \n",
    "    # On ajoute la liste des index retraités et ceux où le produit ou la marque sont nuls\n",
    "    index_not_duplicated = df_hors_NaN.index\n",
    "    index_NaN = df[df[['product_name', 'brands_tags']].isnull().any(1)].index\n",
    "    index_to_keep = index_not_duplicated.union(index_NaN)\n",
    "    \n",
    "    df = df.loc[index_to_keep, :]\n",
    "    \n",
    "    return df"
   ]
  },
  {
   "cell_type": "code",
   "execution_count": null,
   "id": "5fd4a425",
   "metadata": {},
   "outputs": [],
   "source": [
    "# Nombre de doublons sur la colonne product_name et brands_tags (hors NaN)\n",
    "n_duplicated_product_brand = len(openfoodfacts_not_duplicated[['product_name', \n",
    "                                                              'brands_tags']])-len(\n",
    "    openfoodfacts_not_duplicated.drop_duplicates(subset = ['product_name', \n",
    "                                                          'brands_tags']))\n",
    "\n",
    "print(f'Nombre de produits avec la même marque (hors NaN): {n_duplicated_product_brand}')"
   ]
  },
  {
   "cell_type": "code",
   "execution_count": null,
   "id": "54df6148",
   "metadata": {
    "scrolled": true
   },
   "outputs": [],
   "source": [
    "openfoodfacts_not_duplicated = del_duplicated(openfoodfacts_not_duplicated)"
   ]
  },
  {
   "cell_type": "code",
   "execution_count": null,
   "id": "efa0ff5f",
   "metadata": {},
   "outputs": [],
   "source": [
    "brands_per_product = pd.DataFrame(data = openfoodfacts_not_duplicated[['product_name', \n",
    "                              'brands_tags']].groupby(['product_name', 'brands_tags'])['brands_tags'].count())\n",
    "\n",
    "brands_per_product.rename(columns={'brands_tags': 'Nombre de marques par produit'}, inplace=True)\n",
    "brands_per_product = brands_per_product.sort_values(by='Nombre de marques par produit', ascending=False)\n",
    "\n",
    "brands_per_product"
   ]
  },
  {
   "cell_type": "markdown",
   "id": "fce43781",
   "metadata": {},
   "source": [
    "Les doublons marque / produits ont bien été supprimés."
   ]
  },
  {
   "cell_type": "code",
   "execution_count": null,
   "id": "c10cdd2d",
   "metadata": {},
   "outputs": [],
   "source": [
    "print(f\"Nombre de lignes: {openfoodfacts_not_duplicated.shape[0]}\\nNombre de variables: {openfoodfacts_not_duplicated.shape[1]}\")"
   ]
  },
  {
   "cell_type": "code",
   "execution_count": null,
   "id": "893ce739",
   "metadata": {},
   "outputs": [],
   "source": [
    "# Nombre de NaN sur les produits ou la marque\n",
    "len(openfoodfacts_not_duplicated[openfoodfacts_not_duplicated[['product_name', 'brands_tags']].isnull().any(1)].index)"
   ]
  },
  {
   "cell_type": "code",
   "execution_count": null,
   "id": "edabdce1",
   "metadata": {},
   "outputs": [],
   "source": [
    "len(openfoodfacts_not_duplicated[~openfoodfacts_not_duplicated[['product_name', 'brands_tags']].isnull().any(1)].index)"
   ]
  },
  {
   "cell_type": "code",
   "execution_count": null,
   "id": "564d08d8",
   "metadata": {},
   "outputs": [],
   "source": [
    "750743+778587"
   ]
  },
  {
   "cell_type": "code",
   "execution_count": null,
   "id": "b71ee9e6",
   "metadata": {},
   "outputs": [],
   "source": [
    "1996414-1529330"
   ]
  },
  {
   "cell_type": "code",
   "execution_count": null,
   "id": "388c9a46",
   "metadata": {},
   "outputs": [],
   "source": [
    "1996414-273827"
   ]
  },
  {
   "cell_type": "markdown",
   "id": "5d6e0f0b",
   "metadata": {},
   "source": [
    "<div class=\"alert alert-block alert-info\">\n",
    "    <p> Vérifier si la suppression des doublons est cohérente: cf nb </p>\n",
    "</div>"
   ]
  },
  {
   "cell_type": "markdown",
   "id": "d78a9739",
   "metadata": {
    "heading_collapsed": true
   },
   "source": [
    "## Sélection de variables pertinentes <a class=\"anchor\" id=\"selec_var\"></a>"
   ]
  },
  {
   "cell_type": "markdown",
   "id": "8c3af016",
   "metadata": {
    "hidden": true
   },
   "source": [
    "Regardons tout d'abord le taux de remplissage de chaque variable et tentons de sélectionner un seuil de taux de remplissage minimum ou de définir quelles variables ne doivent pas contenir de valeurs manquantes."
   ]
  },
  {
   "cell_type": "code",
   "execution_count": null,
   "id": "ff419189",
   "metadata": {
    "hidden": true,
    "scrolled": true
   },
   "outputs": [],
   "source": [
    "plt.figure(figsize = (20, 40))\n",
    "\n",
    "ax = sns.barplot(y = 'Variable name', x='% Not NaN', data = describe_variables(openfoodfacts_tags).sort_values(\n",
    "    by = '% Not NaN', ascending = False))\n",
    "plt.title('Taux de remplissage des variables', fontweight = 'bold', fontsize = 15)\n",
    "plt.ylabel(\"\", fontsize = 12)\n",
    "plt.xlabel(\"Taux de remplissage\", fontsize = 12)\n",
    "\n",
    "for item in ax.get_xticklabels(): # rotation axe des abscisses\n",
    "    item.set_rotation(0)\n",
    "\n",
    "total = len(describe_variables(openfoodfacts_tags)['Variable name'])\n",
    "for p in ax.patches:\n",
    "    etiquette ='{:,.0f}'.format(p.get_width())\n",
    "    width, height =p.get_width(),p.get_height()\n",
    "    x=p.get_x()+width+0.02\n",
    "    y=p.get_y()+height/2\n",
    "    ax.annotate(etiquette,(x,y))\n",
    "\n",
    "plt.show()"
   ]
  },
  {
   "cell_type": "code",
   "execution_count": null,
   "id": "64ccd238",
   "metadata": {
    "hidden": true
   },
   "outputs": [],
   "source": [
    "# % NaN du dataset et % de données remplies\n",
    "print('Taux de NaN du dataset:')\n",
    "print(round((openfoodfacts_tags.isna().sum().sum()) / \n",
    "            (openfoodfacts_tags.shape[0]*openfoodfacts_tags.shape[1])*100,2))\n",
    "\n",
    "print('Taux de remplissage du dataset')\n",
    "print(round(100 - (openfoodfacts_tags.isna().sum().sum()) / \n",
    "                  (openfoodfacts_tags.shape[0]*openfoodfacts_tags.shape[1])*100),2)"
   ]
  },
  {
   "cell_type": "code",
   "execution_count": null,
   "id": "ff416b83",
   "metadata": {
    "hidden": true
   },
   "outputs": [],
   "source": [
    "# Fonction permettant de supprimer les variables en fonction d'un taux de remplissage par colonne\n",
    "\n",
    "def suppress_nan(dataframe, tx_remplissage_col = 50) :\n",
    "    '''Suppression des variables dont le taux de remplissage est inférieur au taux de remplissage\n",
    "    demandé (50% par défaut)'''\n",
    "    \n",
    "    liste_col_pallier_NaN = [c for c in dataframe.columns if \n",
    "                             (dataframe[c].notnull().sum().sum()/\n",
    "                              (dataframe[c].size)) * 100 >= tx_remplissage_col]\n",
    "    \n",
    "    dataframe = dataframe.iloc[:,dataframe.columns.isin(liste_col_pallier_NaN)]\n",
    "    return dataframe"
   ]
  },
  {
   "cell_type": "code",
   "execution_count": null,
   "id": "f3b1f295",
   "metadata": {
    "hidden": true,
    "scrolled": true
   },
   "outputs": [],
   "source": [
    "suppress_nan(openfoodfacts_tags, tx_remplissage_col = 10)"
   ]
  },
  {
   "cell_type": "code",
   "execution_count": null,
   "id": "d770fe4c",
   "metadata": {
    "hidden": true,
    "scrolled": true
   },
   "outputs": [],
   "source": [
    "describe_variables(openfoodfacts_tags).sort_values(by = '% Not NaN', ascending = False)"
   ]
  },
  {
   "cell_type": "markdown",
   "id": "dae3556e",
   "metadata": {
    "hidden": true
   },
   "source": [
    "Certaines variables sont nécessaires dans notre analyse future et ne doivent pas contenir de valeurs manquantes. C'est le cas par exemple du product_name et des variables contenant le mot \"nutriscore\"."
   ]
  },
  {
   "cell_type": "markdown",
   "id": "b8ea3fc8",
   "metadata": {
    "hidden": true
   },
   "source": [
    "**Product_name**"
   ]
  },
  {
   "cell_type": "code",
   "execution_count": null,
   "id": "8c420ff9",
   "metadata": {
    "hidden": true
   },
   "outputs": [],
   "source": [
    "# Exemples de la variable product_name NaN \n",
    "openfoodfacts_tags[openfoodfacts_tags['product_name'].isnull()].sample(5)"
   ]
  },
  {
   "cell_type": "code",
   "execution_count": null,
   "id": "bc6ac0ba",
   "metadata": {
    "hidden": true
   },
   "outputs": [],
   "source": [
    "index_with_nan = openfoodfacts_tags.index[openfoodfacts_tags['product_name'].isnull()]\n",
    "index_with_nan.shape"
   ]
  },
  {
   "cell_type": "code",
   "execution_count": null,
   "id": "26dff6eb",
   "metadata": {
    "hidden": true
   },
   "outputs": [],
   "source": [
    "openfoodfacts_not_NaN = openfoodfacts_tags.drop(index_with_nan,'index', inplace = False)\n",
    "openfoodfacts_not_NaN.shape"
   ]
  },
  {
   "cell_type": "code",
   "execution_count": null,
   "id": "d24450c7",
   "metadata": {
    "hidden": true
   },
   "outputs": [],
   "source": [
    "# Vérification que le bon nombre de ligne a été supprimé\n",
    "(openfoodfacts_tags.shape[0] - openfoodfacts_not_NaN.shape[0]) == index_with_nan.shape[0]"
   ]
  },
  {
   "cell_type": "code",
   "execution_count": null,
   "id": "aaa88220",
   "metadata": {
    "hidden": true
   },
   "outputs": [],
   "source": [
    "# % NaN du dataset\n",
    "print('Taux de NaN du dataset:')\n",
    "print(round((openfoodfacts_not_NaN.isna().sum().sum()) / \n",
    "            (openfoodfacts_not_NaN.shape[0]*openfoodfacts_not_NaN.shape[1])*100,2))"
   ]
  },
  {
   "cell_type": "code",
   "execution_count": null,
   "id": "b76f4f39",
   "metadata": {
    "hidden": true
   },
   "outputs": [],
   "source": [
    "# % de NaN en fonction d'un pallier de suppression des NaN"
   ]
  },
  {
   "cell_type": "markdown",
   "id": "5fcf7c87",
   "metadata": {
    "hidden": true
   },
   "source": [
    "**Variable nutriscore_score**"
   ]
  },
  {
   "cell_type": "code",
   "execution_count": null,
   "id": "1f20129d",
   "metadata": {
    "hidden": true
   },
   "outputs": [],
   "source": [
    "# Exemples de la variable nutriscore_score NaN \n",
    "openfoodfacts_not_NaN[openfoodfacts_not_NaN[['nutriscore_score', 'nutriscore_grade']].isnull().all(1)].sample(5)"
   ]
  },
  {
   "cell_type": "code",
   "execution_count": null,
   "id": "5ab31541",
   "metadata": {
    "hidden": true
   },
   "outputs": [],
   "source": [
    "index_with_nan = openfoodfacts_not_NaN.index[openfoodfacts_not_NaN[['nutriscore_score', \n",
    "                                                                    'nutriscore_grade']].isnull().all(1)]\n",
    "index_with_nan.shape"
   ]
  },
  {
   "cell_type": "code",
   "execution_count": null,
   "id": "668139aa",
   "metadata": {
    "hidden": true
   },
   "outputs": [],
   "source": [
    "openfoodfacts_not_NaN.drop(index_with_nan,'index', inplace = True)\n",
    "openfoodfacts_not_NaN.shape"
   ]
  },
  {
   "cell_type": "code",
   "execution_count": null,
   "id": "66a84362",
   "metadata": {
    "hidden": true
   },
   "outputs": [],
   "source": []
  },
  {
   "cell_type": "code",
   "execution_count": null,
   "id": "da360fec",
   "metadata": {
    "hidden": true
   },
   "outputs": [],
   "source": []
  },
  {
   "cell_type": "markdown",
   "id": "82f9d3f2",
   "metadata": {
    "hidden": true
   },
   "source": [
    "<div class=\"alert alert-block alert-info\">\n",
    "    <p> Variables qui doivent être remplies comme product name </p>\n",
    "</div>"
   ]
  },
  {
   "cell_type": "markdown",
   "id": "c369529a",
   "metadata": {},
   "source": [
    "## Gestion des valeurs manquantes <a class=\"anchor\" id=\"nan\"></a>"
   ]
  },
  {
   "cell_type": "code",
   "execution_count": null,
   "id": "85d1bb25",
   "metadata": {},
   "outputs": [],
   "source": [
    "sns.set(style=\"whitegrid\")\n",
    "ax = sns.distplot(proportion_nan.values)\n",
    "ax.xaxis.set_ticks_position('top')\n",
    "plt.title('Répartition de la quantité de NaN', size=15)\n",
    "plt.show()"
   ]
  },
  {
   "cell_type": "code",
   "execution_count": null,
   "id": "b67aec4a",
   "metadata": {},
   "outputs": [],
   "source": []
  },
  {
   "cell_type": "code",
   "execution_count": null,
   "id": "9d2ac94f",
   "metadata": {},
   "outputs": [],
   "source": []
  },
  {
   "cell_type": "code",
   "execution_count": null,
   "id": "b754a633",
   "metadata": {},
   "outputs": [],
   "source": []
  },
  {
   "cell_type": "code",
   "execution_count": null,
   "id": "985af7c1",
   "metadata": {},
   "outputs": [],
   "source": []
  },
  {
   "cell_type": "code",
   "execution_count": null,
   "id": "37689610",
   "metadata": {},
   "outputs": [],
   "source": []
  },
  {
   "cell_type": "code",
   "execution_count": null,
   "id": "0b1d0307",
   "metadata": {},
   "outputs": [],
   "source": []
  },
  {
   "cell_type": "code",
   "execution_count": null,
   "id": "077e9790",
   "metadata": {},
   "outputs": [],
   "source": []
  },
  {
   "cell_type": "code",
   "execution_count": null,
   "id": "e803d6d7",
   "metadata": {},
   "outputs": [],
   "source": []
  },
  {
   "cell_type": "code",
   "execution_count": null,
   "id": "047a67c2",
   "metadata": {},
   "outputs": [],
   "source": []
  },
  {
   "cell_type": "markdown",
   "id": "8ab30965",
   "metadata": {},
   "source": [
    "Dans cette partie nous allons tout d'abord vérifier:\n",
    "- si le type des variables est cohérent\n",
    "- si des variables sont redondantes\n",
    "- si des observations sont dupliquées\n",
    "- analyser les données manquantes et définir une stratégie pour les traiter\n",
    "- gérer les outliers"
   ]
  },
  {
   "cell_type": "markdown",
   "id": "355743dc",
   "metadata": {},
   "source": [
    "<div class=\"alert alert-block alert-info\">\n",
    "    <p> Check dtypes </p>\n",
    "</div>"
   ]
  },
  {
   "cell_type": "markdown",
   "id": "006d5b26",
   "metadata": {},
   "source": [
    "### Type des variables <a class=\"anchor\" id=\"typevar\"></a>"
   ]
  },
  {
   "cell_type": "markdown",
   "id": "e5acbf48",
   "metadata": {},
   "source": [
    "#### Autres variables <a class=\"anchor\" id=\"misc\"></a>"
   ]
  },
  {
   "cell_type": "markdown",
   "id": "9cf346cb",
   "metadata": {},
   "source": [
    "Filtre contient pas 100g, _tags et serving_"
   ]
  },
  {
   "cell_type": "code",
   "execution_count": null,
   "id": "d6b3977a",
   "metadata": {},
   "outputs": [],
   "source": [
    "describe_variables(openfoodfacts_tags.iloc[:,(~openfoodfacts_tags.columns.str.endswith('_date'))&\n",
    "                        (~openfoodfacts_tags.columns.str.endswith('_year'))&\n",
    "                        (~openfoodfacts_tags.columns.str.endswith('_100g'))&\n",
    "                        (~openfoodfacts_tags.columns.str.startswith('serving_'))\n",
    "                       ])\n",
    "#.columns.unique().tolist()"
   ]
  },
  {
   "cell_type": "code",
   "execution_count": null,
   "id": "3bb1ae32",
   "metadata": {},
   "outputs": [],
   "source": [
    "# Fonction qui supprime les colonnes d'un dataframe en fonction d'un seuil de NaN\n",
    "def suppr_NaN_colonne(data, tx_NaN = 100):\n",
    "    \"\"\"\n",
    "    Fonction qui supprime les colonnes d'un dataframe en fonction d'un pourcentage de valeurs manquantes\n",
    "    \n",
    "    Args:\n",
    "        data: dataset en entrée\n",
    "        tx_NaN: pourcentage de valeurs manquante\n",
    "        \n",
    "    Returns:\n",
    "        Dataset au format dataframe imputé des colonnes composées de x % de valeurs manquantes\n",
    "    \"\"\"\n",
    "    column_with_nan = data.columns[data.isnull().any()]\n",
    "    \n",
    "    for column in column_with_nan:\n",
    "        if (data[column].isnull().sum()/data.shape[0])*100 >= tx_NaN:\n",
    "            data.drop(column,1, inplace=True)\n",
    "            return(data)"
   ]
  },
  {
   "cell_type": "markdown",
   "id": "ad8eca41",
   "metadata": {},
   "source": [
    "[Retour à la table des matières](#0)"
   ]
  }
 ],
 "metadata": {
  "kernelspec": {
   "display_name": "projet3",
   "language": "python",
   "name": "projet3"
  },
  "language_info": {
   "codemirror_mode": {
    "name": "ipython",
    "version": 3
   },
   "file_extension": ".py",
   "mimetype": "text/x-python",
   "name": "python",
   "nbconvert_exporter": "python",
   "pygments_lexer": "ipython3",
   "version": "3.8.12"
  },
  "varInspector": {
   "cols": {
    "lenName": 16,
    "lenType": 16,
    "lenVar": 40
   },
   "kernels_config": {
    "python": {
     "delete_cmd_postfix": "",
     "delete_cmd_prefix": "del ",
     "library": "var_list.py",
     "varRefreshCmd": "print(var_dic_list())"
    },
    "r": {
     "delete_cmd_postfix": ") ",
     "delete_cmd_prefix": "rm(",
     "library": "var_list.r",
     "varRefreshCmd": "cat(var_dic_list()) "
    }
   },
   "oldHeight": 455.583666,
   "position": {
    "height": "477.217px",
    "left": "948px",
    "right": "20px",
    "top": "1px",
    "width": "566.733px"
   },
   "types_to_exclude": [
    "module",
    "function",
    "builtin_function_or_method",
    "instance",
    "_Feature"
   ],
   "varInspector_section_display": "block",
   "window_display": false
  }
 },
 "nbformat": 4,
 "nbformat_minor": 5
}
