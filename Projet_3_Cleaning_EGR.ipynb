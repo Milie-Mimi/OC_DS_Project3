{
 "cells": [
  {
   "cell_type": "markdown",
   "id": "b6e89a93",
   "metadata": {},
   "source": [
    "# Projet 3: Concevez une application au service de la santé publique"
   ]
  },
  {
   "cell_type": "markdown",
   "id": "b64bb93d",
   "metadata": {},
   "source": [
    "Open Food Facts est une association à but non lucratif composée de volontaires qui fournit une base de données de produits alimentaires qui répertorie les ingrédients, les allergènes, la composition nutritionnelle et toutes les informations présentes sur les étiquettes des aliments. \n",
    "\n",
    "Toute la base de données est publiée sous forme de données ouvertes (open data) qui peuvent être utilisées par tous et pour tous usages.\n",
    "\n",
    "La base de données contient:\n",
    "- des **informations générales**: code barre du produit, url du produit sur le site d'Open Food Facts, contributeur qui a ajouté le produit pour la première fois, date de l'ajout et de la modification d'un produit, le nom du produit, sa quantité, son image\n",
    "- des informations sur le **type du produit**: marque, catégorie, label\n",
    "- des informations sur sa **provenance**: origine, lieu de transformation, pays,villes et magasins où sont proposés les produits\n",
    "- des informations sur le type d'**emballage** du produit\n",
    "- des informations sur la **composition** du produit: ingrédients, additifs, allergènes, nutriments, vitamines\n",
    "- des **scores**: empreinte carbonne, nutriscore (défini par la FSA et sa version adaptée au marché français), grade de nutrition (de A à E)\n",
    "\n",
    "Le nutriscore est attribué sur la base d’un score prenant en compte pour 100 gr ou 100 mL de produit, la teneur :\n",
    "- en **nutriments et aliments à favoriser** (fibres, protéines, fruits, légumes, légumineuses, fruits à coques, huile de colza, de noix et d’olive),\n",
    "- et en **nutriments à limiter** (énergie, acides gras saturés, sucres, sel)\n",
    "\n",
    "Après calcul, le score obtenu par un produit permet de lui attribuer une lettre et une couleur.\n",
    "\n",
    "L'agence \"Santé publique France\" a lancé un appel à projets pour trouver des idées innovantes d’applications en lien avec l'alimentation."
   ]
  },
  {
   "cell_type": "markdown",
   "id": "7bb6110a",
   "metadata": {
    "heading_collapsed": true
   },
   "source": [
    "## Table des matières: <a class=\"anchor\" id=\"0\"></a>\n",
    "\n",
    "1. [Import des librairies et configurations générales](#library)\n",
    "2. [Visualisation et chargement du dataset](#dataset)\n",
    "3. [Mots qui apparaissent le plus souvent dans le nom des variables](#words)\n",
    "    1. [_100g](#100g)\n",
    "    2. [_tags](#tags)\n",
    "    3. [_en](#en)\n",
    "    4. [_url / image](#url)\n",
    "    5. [_ingredients](#ingredients)\n",
    "    6. [_packaging](#packaging)\n",
    "    7. [_name](#name)\n",
    "    8. [_places](#places)\n",
    "    9. [_additives](#additives)\n",
    "    10. [Autres variables](#misc)\n",
    "5. [Sélection de variables pertinentes en lien avec le choix d'application](#selec_var)\n",
    "6. [Doublons](#doublons)\n",
    "7. [Gestion des valeurs aberrantes](#outliers)\n",
    "8. [Gestion des valeurs manquantes](#nan)    "
   ]
  },
  {
   "cell_type": "markdown",
   "id": "87582c69",
   "metadata": {
    "heading_collapsed": true
   },
   "source": [
    "## Import des librairies et configurations générales <a class=\"anchor\" id=\"library\"></a>"
   ]
  },
  {
   "cell_type": "code",
   "execution_count": 1,
   "id": "e552d84a",
   "metadata": {
    "hidden": true
   },
   "outputs": [],
   "source": [
    "import numpy as np # pour l'algèbre linéaire\n",
    "import pandas as pd # pour l'analyse de données\n",
    "import collections # pour compter l'occurence de mots\n",
    "from collections import Counter\n",
    "\n",
    "import seaborn as sns # datavisualisation\n",
    "import matplotlib.pyplot as plt # datavisualisation\n",
    "from matplotlib.gridspec import GridSpec # visualisation sous forme de grille\n",
    "from wordcloud import WordCloud # nuage de mots"
   ]
  },
  {
   "cell_type": "code",
   "execution_count": 2,
   "id": "b48ea3ae",
   "metadata": {
    "hidden": true
   },
   "outputs": [],
   "source": [
    "#plt.rcParams.keys()"
   ]
  },
  {
   "cell_type": "code",
   "execution_count": 3,
   "id": "20c5ecd5",
   "metadata": {
    "hidden": true
   },
   "outputs": [],
   "source": [
    "# Configuration générale des graphiques\n",
    "parameters = {'axes.labelsize': 13, 'axes.titlesize': 16, 'axes.titleweight': 'bold'}\n",
    "plt.rcParams.update(parameters)"
   ]
  },
  {
   "cell_type": "code",
   "execution_count": 4,
   "id": "34d54cf4",
   "metadata": {
    "hidden": true
   },
   "outputs": [],
   "source": [
    "# Modification de l'affichage des lignes et colonnes pour plus de lisibilité\n",
    "pd.set_option('display.max_rows', 500)\n",
    "pd.set_option('display.max_columns', 100)"
   ]
  },
  {
   "cell_type": "code",
   "execution_count": null,
   "id": "52116df4",
   "metadata": {
    "hidden": true
   },
   "outputs": [],
   "source": [
    "#import warnings\n",
    "#warnings.filterwarnings('ignore')"
   ]
  },
  {
   "cell_type": "markdown",
   "id": "7f2da54a",
   "metadata": {
    "heading_collapsed": true
   },
   "source": [
    "## Visualisation et chargement du dataset <a class=\"anchor\" id=\"dataset\"></a>"
   ]
  },
  {
   "cell_type": "code",
   "execution_count": 5,
   "id": "abc251d8",
   "metadata": {
    "hidden": true
   },
   "outputs": [],
   "source": [
    "#openfoodfacts = pd.read_csv('data\\en.openfoodfacts.org.products.csv', sep = '\\t')"
   ]
  },
  {
   "cell_type": "markdown",
   "id": "80f2f837",
   "metadata": {
    "hidden": true
   },
   "source": [
    "Lorsque l'on tente de charger directement le dataset, on obtient une erreur indiquant l'index des colonnes posant problème (type mixte). Afin de récupérer le nom des variables pour leur affecter un dtypes avant import, nous allons charger uniquement les 5 premières lignes et récupérer les colonnes (0,8,13,19,20,21,22,23,27,28,29,31,32,38,40,41,42,52,55,64,66):"
   ]
  },
  {
   "cell_type": "code",
   "execution_count": 6,
   "id": "a178e050",
   "metadata": {
    "hidden": true
   },
   "outputs": [],
   "source": [
    "#openfoodfacts = pd.read_csv('data\\en.openfoodfacts.org.products.csv', sep = '\\t', nrows = 5)\n",
    "#openfoodfacts"
   ]
  },
  {
   "cell_type": "code",
   "execution_count": 7,
   "id": "76756c6d",
   "metadata": {
    "hidden": true
   },
   "outputs": [],
   "source": [
    "#liste_colonnes_pour_dtypes = [0,8,13,19,20,21,22,23,27,28,29,31,32,38,40,41,42,52,55,64,66]\n",
    "#print(openfoodfacts.iloc[:,liste_colonnes_pour_dtypes].columns.tolist())"
   ]
  },
  {
   "cell_type": "code",
   "execution_count": 8,
   "id": "43fcd1f2",
   "metadata": {
    "hidden": true
   },
   "outputs": [],
   "source": [
    "# Certaines colonnes ont des modalités de type différent, forçons le type en object\n",
    "dtypes = {\n",
    "    'code':object, \n",
    "    'abbreviated_product_name':object, \n",
    "    'packaging_text':object, \n",
    "    'origins':object,\n",
    "    'origins_tags':object, \n",
    "    'origins_en':object, \n",
    "    'manufacturing_places':object,\n",
    "    'manufacturing_places_tags':object, \n",
    "    'emb_codes':object, \n",
    "    'emb_codes_tags':object,\n",
    "    'first_packaging_code_geo':object, \n",
    "    'cities_tags':object,\n",
    "    'purchase_places':object,\n",
    "    'allergens':object,\n",
    "    'traces':object,\n",
    "    'traces_tags':object, \n",
    "    'traces_en':object, \n",
    "    'ingredients_from_palm_oil_tags':object, \n",
    "    'ingredients_that_may_be_from_palm_oil_tags':object, \n",
    "    'brand_owner':object, \n",
    "    'ecoscore_grade_fr':object\n",
    "}"
   ]
  },
  {
   "cell_type": "code",
   "execution_count": 9,
   "id": "4ec3c244",
   "metadata": {
    "hidden": true
   },
   "outputs": [],
   "source": [
    "# Chargement du dataset avec les bons dtypes\n",
    "openfoodfacts = pd.read_csv('data\\en.openfoodfacts.org.products.csv', sep = '\\t', dtype=dtypes)"
   ]
  },
  {
   "cell_type": "markdown",
   "id": "04a0bdd4",
   "metadata": {
    "hidden": true
   },
   "source": [
    "Nous allons créer une fonction qui permettra de savoir si lors d'un import futur, les variables correspondent à celles chargées à l'origine. Si ce n'est pas le cas, il faudra analyser les nouvelles variables afin de définir si elles apportent une information supplémentaire et peut être adapter le script."
   ]
  },
  {
   "cell_type": "code",
   "execution_count": 10,
   "id": "f2e218f8",
   "metadata": {
    "hidden": true
   },
   "outputs": [],
   "source": [
    "#print(openfoodfacts.columns.tolist())"
   ]
  },
  {
   "cell_type": "code",
   "execution_count": 11,
   "id": "6d8f83b3",
   "metadata": {
    "hidden": true
   },
   "outputs": [],
   "source": [
    "def controle_des_colonnes(dataset):\n",
    "    '''Fonction qui permet de vérifier que toutes les colonnes ont bien été importées parmi la liste des variables \n",
    "    importées lors de la phase de cleaning'''\n",
    "    \n",
    "    liste_colonnes = ['code', 'url', 'creator', 'created_t', 'created_datetime', 'last_modified_t', \n",
    "                      'last_modified_datetime', 'product_name', 'abbreviated_product_name', 'generic_name', 'quantity', \n",
    "                      'packaging', 'packaging_tags', 'packaging_text', 'brands', 'brands_tags', 'categories', \n",
    "                      'categories_tags', 'categories_en', 'origins', 'origins_tags', 'origins_en', 'manufacturing_places', \n",
    "                      'manufacturing_places_tags', 'labels', 'labels_tags', 'labels_en', 'emb_codes', 'emb_codes_tags', \n",
    "                      'first_packaging_code_geo', 'cities', 'cities_tags', 'purchase_places', 'stores', 'countries', \n",
    "                      'countries_tags', 'countries_en', 'ingredients_text', 'allergens', 'allergens_en', 'traces', \n",
    "                      'traces_tags', 'traces_en', 'serving_size', 'serving_quantity', 'no_nutriments', 'additives_n', \n",
    "                      'additives', 'additives_tags', 'additives_en', 'ingredients_from_palm_oil_n', \n",
    "                      'ingredients_from_palm_oil', 'ingredients_from_palm_oil_tags', 'ingredients_that_may_be_from_palm_oil_n', \n",
    "                      'ingredients_that_may_be_from_palm_oil', 'ingredients_that_may_be_from_palm_oil_tags', \n",
    "                      'nutriscore_score', 'nutriscore_grade', 'nova_group', 'pnns_groups_1', 'pnns_groups_2', \n",
    "                      'states', 'states_tags', 'states_en', 'brand_owner', 'ecoscore_score_fr', 'ecoscore_grade_fr', \n",
    "                      'main_category', 'main_category_en', 'image_url', 'image_small_url', 'image_ingredients_url', \n",
    "                      'image_ingredients_small_url', 'image_nutrition_url', 'image_nutrition_small_url', 'energy-kj_100g', \n",
    "                      'energy-kcal_100g', 'energy_100g', 'energy-from-fat_100g', 'fat_100g', 'saturated-fat_100g', \n",
    "                      '-butyric-acid_100g', '-caproic-acid_100g', '-caprylic-acid_100g', '-capric-acid_100g', \n",
    "                      '-lauric-acid_100g', '-myristic-acid_100g', '-palmitic-acid_100g', '-stearic-acid_100g', \n",
    "                      '-arachidic-acid_100g', '-behenic-acid_100g', '-lignoceric-acid_100g', '-cerotic-acid_100g', \n",
    "                      '-montanic-acid_100g', '-melissic-acid_100g', 'monounsaturated-fat_100g', 'polyunsaturated-fat_100g', \n",
    "                      'omega-3-fat_100g', '-alpha-linolenic-acid_100g', '-eicosapentaenoic-acid_100g', \n",
    "                      '-docosahexaenoic-acid_100g', 'omega-6-fat_100g', '-linoleic-acid_100g', '-arachidonic-acid_100g', \n",
    "                      '-gamma-linolenic-acid_100g', '-dihomo-gamma-linolenic-acid_100g', 'omega-9-fat_100g', \n",
    "                      '-oleic-acid_100g', '-elaidic-acid_100g', '-gondoic-acid_100g', '-mead-acid_100g', \n",
    "                      '-erucic-acid_100g', '-nervonic-acid_100g', 'trans-fat_100g', 'cholesterol_100g', \n",
    "                      'carbohydrates_100g', 'sugars_100g', '-sucrose_100g', '-glucose_100g', '-fructose_100g', \n",
    "                      '-lactose_100g', '-maltose_100g', '-maltodextrins_100g', 'starch_100g', 'polyols_100g', \n",
    "                      'fiber_100g', 'soluble-fiber_100g', 'insoluble-fiber_100g', 'proteins_100g', 'casein_100g', \n",
    "                      'serum-proteins_100g', 'nucleotides_100g', 'salt_100g', 'sodium_100g', 'alcohol_100g', \n",
    "                      'vitamin-a_100g', 'beta-carotene_100g', 'vitamin-d_100g', 'vitamin-e_100g', 'vitamin-k_100g', \n",
    "                      'vitamin-c_100g', 'vitamin-b1_100g', 'vitamin-b2_100g', 'vitamin-pp_100g', 'vitamin-b6_100g', \n",
    "                      'vitamin-b9_100g', 'folates_100g', 'vitamin-b12_100g', 'biotin_100g', 'pantothenic-acid_100g', \n",
    "                      'silica_100g', 'bicarbonate_100g', 'potassium_100g', 'chloride_100g', 'calcium_100g', \n",
    "                      'phosphorus_100g', 'iron_100g', 'magnesium_100g', 'zinc_100g', 'copper_100g', 'manganese_100g', \n",
    "                      'fluoride_100g', 'selenium_100g', 'chromium_100g', 'molybdenum_100g', 'iodine_100g', 'caffeine_100g', \n",
    "                      'taurine_100g', 'ph_100g', 'fruits-vegetables-nuts_100g', 'fruits-vegetables-nuts-dried_100g', \n",
    "                      'fruits-vegetables-nuts-estimate_100g', 'fruits-vegetables-nuts-estimate-from-ingredients_100g', \n",
    "                      'collagen-meat-protein-ratio_100g', 'cocoa_100g', 'chlorophyl_100g', 'carbon-footprint_100g', \n",
    "                      'carbon-footprint-from-meat-or-fish_100g', 'nutrition-score-fr_100g', 'nutrition-score-uk_100g', \n",
    "                      'glycemic-index_100g', 'water-hardness_100g', 'choline_100g', 'phylloquinone_100g', 'beta-glucan_100g', \n",
    "                      'inositol_100g', 'carnitine_100g']\n",
    "    \n",
    "    \n",
    "    if dataset.columns.tolist() == liste_colonnes:\n",
    "        print('Toutes les variables ont bien été chargées')\n",
    "    \n",
    "    else:\n",
    "        print('Variable(s) non présente(s) dans le dataset:')\n",
    "        print(set(liste_colonnes) - set(dataset.columns.tolist()))\n",
    "        \n",
    "        print('Variable(s) supplémentaires dans le dataset:')\n",
    "        print(set(dataset.columns.tolist()) - set(liste_colonnes))"
   ]
  },
  {
   "cell_type": "code",
   "execution_count": 12,
   "id": "2460b801",
   "metadata": {
    "hidden": true
   },
   "outputs": [
    {
     "name": "stdout",
     "output_type": "stream",
     "text": [
      "Toutes les variables ont bien été chargées\n"
     ]
    }
   ],
   "source": [
    "controle_des_colonnes(openfoodfacts)"
   ]
  },
  {
   "cell_type": "code",
   "execution_count": 13,
   "id": "1c4b6617",
   "metadata": {
    "hidden": true
   },
   "outputs": [
    {
     "name": "stdout",
     "output_type": "stream",
     "text": [
      "<class 'pandas.core.frame.DataFrame'>\n",
      "RangeIndex: 2053679 entries, 0 to 2053678\n",
      "Columns: 187 entries, code to carnitine_100g\n",
      "dtypes: float64(125), int64(2), object(60)\n",
      "memory usage: 2.9+ GB\n"
     ]
    }
   ],
   "source": [
    "openfoodfacts.info()"
   ]
  },
  {
   "cell_type": "code",
   "execution_count": 14,
   "id": "c234f96f",
   "metadata": {
    "hidden": true
   },
   "outputs": [
    {
     "data": {
      "text/html": [
       "<div>\n",
       "<style scoped>\n",
       "    .dataframe tbody tr th:only-of-type {\n",
       "        vertical-align: middle;\n",
       "    }\n",
       "\n",
       "    .dataframe tbody tr th {\n",
       "        vertical-align: top;\n",
       "    }\n",
       "\n",
       "    .dataframe thead th {\n",
       "        text-align: right;\n",
       "    }\n",
       "</style>\n",
       "<table border=\"1\" class=\"dataframe\">\n",
       "  <thead>\n",
       "    <tr style=\"text-align: right;\">\n",
       "      <th></th>\n",
       "      <th>code</th>\n",
       "      <th>url</th>\n",
       "      <th>creator</th>\n",
       "      <th>created_t</th>\n",
       "      <th>created_datetime</th>\n",
       "      <th>last_modified_t</th>\n",
       "      <th>last_modified_datetime</th>\n",
       "      <th>product_name</th>\n",
       "      <th>abbreviated_product_name</th>\n",
       "      <th>generic_name</th>\n",
       "      <th>quantity</th>\n",
       "      <th>packaging</th>\n",
       "      <th>packaging_tags</th>\n",
       "      <th>packaging_text</th>\n",
       "      <th>brands</th>\n",
       "      <th>brands_tags</th>\n",
       "      <th>categories</th>\n",
       "      <th>categories_tags</th>\n",
       "      <th>categories_en</th>\n",
       "      <th>origins</th>\n",
       "      <th>origins_tags</th>\n",
       "      <th>origins_en</th>\n",
       "      <th>manufacturing_places</th>\n",
       "      <th>manufacturing_places_tags</th>\n",
       "      <th>labels</th>\n",
       "      <th>labels_tags</th>\n",
       "      <th>labels_en</th>\n",
       "      <th>emb_codes</th>\n",
       "      <th>emb_codes_tags</th>\n",
       "      <th>first_packaging_code_geo</th>\n",
       "      <th>cities</th>\n",
       "      <th>cities_tags</th>\n",
       "      <th>purchase_places</th>\n",
       "      <th>stores</th>\n",
       "      <th>countries</th>\n",
       "      <th>countries_tags</th>\n",
       "      <th>countries_en</th>\n",
       "      <th>ingredients_text</th>\n",
       "      <th>allergens</th>\n",
       "      <th>allergens_en</th>\n",
       "      <th>traces</th>\n",
       "      <th>traces_tags</th>\n",
       "      <th>traces_en</th>\n",
       "      <th>serving_size</th>\n",
       "      <th>serving_quantity</th>\n",
       "      <th>no_nutriments</th>\n",
       "      <th>additives_n</th>\n",
       "      <th>additives</th>\n",
       "      <th>additives_tags</th>\n",
       "      <th>additives_en</th>\n",
       "      <th>...</th>\n",
       "      <th>vitamin-d_100g</th>\n",
       "      <th>vitamin-e_100g</th>\n",
       "      <th>vitamin-k_100g</th>\n",
       "      <th>vitamin-c_100g</th>\n",
       "      <th>vitamin-b1_100g</th>\n",
       "      <th>vitamin-b2_100g</th>\n",
       "      <th>vitamin-pp_100g</th>\n",
       "      <th>vitamin-b6_100g</th>\n",
       "      <th>vitamin-b9_100g</th>\n",
       "      <th>folates_100g</th>\n",
       "      <th>vitamin-b12_100g</th>\n",
       "      <th>biotin_100g</th>\n",
       "      <th>pantothenic-acid_100g</th>\n",
       "      <th>silica_100g</th>\n",
       "      <th>bicarbonate_100g</th>\n",
       "      <th>potassium_100g</th>\n",
       "      <th>chloride_100g</th>\n",
       "      <th>calcium_100g</th>\n",
       "      <th>phosphorus_100g</th>\n",
       "      <th>iron_100g</th>\n",
       "      <th>magnesium_100g</th>\n",
       "      <th>zinc_100g</th>\n",
       "      <th>copper_100g</th>\n",
       "      <th>manganese_100g</th>\n",
       "      <th>fluoride_100g</th>\n",
       "      <th>selenium_100g</th>\n",
       "      <th>chromium_100g</th>\n",
       "      <th>molybdenum_100g</th>\n",
       "      <th>iodine_100g</th>\n",
       "      <th>caffeine_100g</th>\n",
       "      <th>taurine_100g</th>\n",
       "      <th>ph_100g</th>\n",
       "      <th>fruits-vegetables-nuts_100g</th>\n",
       "      <th>fruits-vegetables-nuts-dried_100g</th>\n",
       "      <th>fruits-vegetables-nuts-estimate_100g</th>\n",
       "      <th>fruits-vegetables-nuts-estimate-from-ingredients_100g</th>\n",
       "      <th>collagen-meat-protein-ratio_100g</th>\n",
       "      <th>cocoa_100g</th>\n",
       "      <th>chlorophyl_100g</th>\n",
       "      <th>carbon-footprint_100g</th>\n",
       "      <th>carbon-footprint-from-meat-or-fish_100g</th>\n",
       "      <th>nutrition-score-fr_100g</th>\n",
       "      <th>nutrition-score-uk_100g</th>\n",
       "      <th>glycemic-index_100g</th>\n",
       "      <th>water-hardness_100g</th>\n",
       "      <th>choline_100g</th>\n",
       "      <th>phylloquinone_100g</th>\n",
       "      <th>beta-glucan_100g</th>\n",
       "      <th>inositol_100g</th>\n",
       "      <th>carnitine_100g</th>\n",
       "    </tr>\n",
       "  </thead>\n",
       "  <tbody>\n",
       "    <tr>\n",
       "      <th>0</th>\n",
       "      <td>00000000000000225</td>\n",
       "      <td>http://world-en.openfoodfacts.org/product/0000...</td>\n",
       "      <td>nutrinet-sante</td>\n",
       "      <td>1623855208</td>\n",
       "      <td>2021-06-16T14:53:28Z</td>\n",
       "      <td>1623855209</td>\n",
       "      <td>2021-06-16T14:53:29Z</td>\n",
       "      <td>jeunes pousses</td>\n",
       "      <td>NaN</td>\n",
       "      <td>NaN</td>\n",
       "      <td>NaN</td>\n",
       "      <td>NaN</td>\n",
       "      <td>NaN</td>\n",
       "      <td>NaN</td>\n",
       "      <td>endives</td>\n",
       "      <td>endives</td>\n",
       "      <td>NaN</td>\n",
       "      <td>NaN</td>\n",
       "      <td>NaN</td>\n",
       "      <td>NaN</td>\n",
       "      <td>NaN</td>\n",
       "      <td>NaN</td>\n",
       "      <td>NaN</td>\n",
       "      <td>NaN</td>\n",
       "      <td>NaN</td>\n",
       "      <td>NaN</td>\n",
       "      <td>NaN</td>\n",
       "      <td>NaN</td>\n",
       "      <td>NaN</td>\n",
       "      <td>NaN</td>\n",
       "      <td>NaN</td>\n",
       "      <td>NaN</td>\n",
       "      <td>NaN</td>\n",
       "      <td>NaN</td>\n",
       "      <td>en:france</td>\n",
       "      <td>en:france</td>\n",
       "      <td>France</td>\n",
       "      <td>NaN</td>\n",
       "      <td>NaN</td>\n",
       "      <td>NaN</td>\n",
       "      <td>NaN</td>\n",
       "      <td>NaN</td>\n",
       "      <td>NaN</td>\n",
       "      <td>NaN</td>\n",
       "      <td>NaN</td>\n",
       "      <td>NaN</td>\n",
       "      <td>NaN</td>\n",
       "      <td>NaN</td>\n",
       "      <td>NaN</td>\n",
       "      <td>NaN</td>\n",
       "      <td>...</td>\n",
       "      <td>NaN</td>\n",
       "      <td>NaN</td>\n",
       "      <td>NaN</td>\n",
       "      <td>NaN</td>\n",
       "      <td>NaN</td>\n",
       "      <td>NaN</td>\n",
       "      <td>NaN</td>\n",
       "      <td>NaN</td>\n",
       "      <td>NaN</td>\n",
       "      <td>NaN</td>\n",
       "      <td>NaN</td>\n",
       "      <td>NaN</td>\n",
       "      <td>NaN</td>\n",
       "      <td>NaN</td>\n",
       "      <td>NaN</td>\n",
       "      <td>NaN</td>\n",
       "      <td>NaN</td>\n",
       "      <td>NaN</td>\n",
       "      <td>NaN</td>\n",
       "      <td>NaN</td>\n",
       "      <td>NaN</td>\n",
       "      <td>NaN</td>\n",
       "      <td>NaN</td>\n",
       "      <td>NaN</td>\n",
       "      <td>NaN</td>\n",
       "      <td>NaN</td>\n",
       "      <td>NaN</td>\n",
       "      <td>NaN</td>\n",
       "      <td>NaN</td>\n",
       "      <td>NaN</td>\n",
       "      <td>NaN</td>\n",
       "      <td>NaN</td>\n",
       "      <td>NaN</td>\n",
       "      <td>NaN</td>\n",
       "      <td>NaN</td>\n",
       "      <td>NaN</td>\n",
       "      <td>NaN</td>\n",
       "      <td>NaN</td>\n",
       "      <td>NaN</td>\n",
       "      <td>NaN</td>\n",
       "      <td>NaN</td>\n",
       "      <td>NaN</td>\n",
       "      <td>NaN</td>\n",
       "      <td>NaN</td>\n",
       "      <td>NaN</td>\n",
       "      <td>NaN</td>\n",
       "      <td>NaN</td>\n",
       "      <td>NaN</td>\n",
       "      <td>NaN</td>\n",
       "      <td>NaN</td>\n",
       "    </tr>\n",
       "    <tr>\n",
       "      <th>1</th>\n",
       "      <td>00000000000003429145</td>\n",
       "      <td>http://world-en.openfoodfacts.org/product/0000...</td>\n",
       "      <td>kiliweb</td>\n",
       "      <td>1630483911</td>\n",
       "      <td>2021-09-01T08:11:51Z</td>\n",
       "      <td>1630484064</td>\n",
       "      <td>2021-09-01T08:14:24Z</td>\n",
       "      <td>L.casei</td>\n",
       "      <td>NaN</td>\n",
       "      <td>NaN</td>\n",
       "      <td>NaN</td>\n",
       "      <td>NaN</td>\n",
       "      <td>NaN</td>\n",
       "      <td>NaN</td>\n",
       "      <td>NaN</td>\n",
       "      <td>NaN</td>\n",
       "      <td>NaN</td>\n",
       "      <td>NaN</td>\n",
       "      <td>NaN</td>\n",
       "      <td>Spain</td>\n",
       "      <td>en:spain</td>\n",
       "      <td>Spain</td>\n",
       "      <td>NaN</td>\n",
       "      <td>NaN</td>\n",
       "      <td>NaN</td>\n",
       "      <td>NaN</td>\n",
       "      <td>NaN</td>\n",
       "      <td>NaN</td>\n",
       "      <td>NaN</td>\n",
       "      <td>NaN</td>\n",
       "      <td>NaN</td>\n",
       "      <td>NaN</td>\n",
       "      <td>NaN</td>\n",
       "      <td>NaN</td>\n",
       "      <td>Spain</td>\n",
       "      <td>en:spain</td>\n",
       "      <td>Spain</td>\n",
       "      <td>Leche semidesnatada, azucar 6.9% leche desnata...</td>\n",
       "      <td>NaN</td>\n",
       "      <td>NaN</td>\n",
       "      <td>NaN</td>\n",
       "      <td>NaN</td>\n",
       "      <td>NaN</td>\n",
       "      <td>NaN</td>\n",
       "      <td>NaN</td>\n",
       "      <td>NaN</td>\n",
       "      <td>0.0</td>\n",
       "      <td>NaN</td>\n",
       "      <td>NaN</td>\n",
       "      <td>NaN</td>\n",
       "      <td>...</td>\n",
       "      <td>NaN</td>\n",
       "      <td>NaN</td>\n",
       "      <td>NaN</td>\n",
       "      <td>NaN</td>\n",
       "      <td>NaN</td>\n",
       "      <td>NaN</td>\n",
       "      <td>NaN</td>\n",
       "      <td>NaN</td>\n",
       "      <td>NaN</td>\n",
       "      <td>NaN</td>\n",
       "      <td>NaN</td>\n",
       "      <td>NaN</td>\n",
       "      <td>NaN</td>\n",
       "      <td>NaN</td>\n",
       "      <td>NaN</td>\n",
       "      <td>NaN</td>\n",
       "      <td>NaN</td>\n",
       "      <td>NaN</td>\n",
       "      <td>NaN</td>\n",
       "      <td>NaN</td>\n",
       "      <td>NaN</td>\n",
       "      <td>NaN</td>\n",
       "      <td>NaN</td>\n",
       "      <td>NaN</td>\n",
       "      <td>NaN</td>\n",
       "      <td>NaN</td>\n",
       "      <td>NaN</td>\n",
       "      <td>NaN</td>\n",
       "      <td>NaN</td>\n",
       "      <td>NaN</td>\n",
       "      <td>NaN</td>\n",
       "      <td>NaN</td>\n",
       "      <td>NaN</td>\n",
       "      <td>NaN</td>\n",
       "      <td>NaN</td>\n",
       "      <td>0.0</td>\n",
       "      <td>NaN</td>\n",
       "      <td>NaN</td>\n",
       "      <td>NaN</td>\n",
       "      <td>NaN</td>\n",
       "      <td>NaN</td>\n",
       "      <td>NaN</td>\n",
       "      <td>NaN</td>\n",
       "      <td>NaN</td>\n",
       "      <td>NaN</td>\n",
       "      <td>NaN</td>\n",
       "      <td>NaN</td>\n",
       "      <td>NaN</td>\n",
       "      <td>NaN</td>\n",
       "      <td>NaN</td>\n",
       "    </tr>\n",
       "    <tr>\n",
       "      <th>2</th>\n",
       "      <td>0000000000017</td>\n",
       "      <td>http://world-en.openfoodfacts.org/product/0000...</td>\n",
       "      <td>kiliweb</td>\n",
       "      <td>1529059080</td>\n",
       "      <td>2018-06-15T10:38:00Z</td>\n",
       "      <td>1561463718</td>\n",
       "      <td>2019-06-25T11:55:18Z</td>\n",
       "      <td>Vitória crackers</td>\n",
       "      <td>NaN</td>\n",
       "      <td>NaN</td>\n",
       "      <td>NaN</td>\n",
       "      <td>NaN</td>\n",
       "      <td>NaN</td>\n",
       "      <td>NaN</td>\n",
       "      <td>NaN</td>\n",
       "      <td>NaN</td>\n",
       "      <td>NaN</td>\n",
       "      <td>NaN</td>\n",
       "      <td>NaN</td>\n",
       "      <td>NaN</td>\n",
       "      <td>NaN</td>\n",
       "      <td>NaN</td>\n",
       "      <td>NaN</td>\n",
       "      <td>NaN</td>\n",
       "      <td>NaN</td>\n",
       "      <td>NaN</td>\n",
       "      <td>NaN</td>\n",
       "      <td>NaN</td>\n",
       "      <td>NaN</td>\n",
       "      <td>NaN</td>\n",
       "      <td>NaN</td>\n",
       "      <td>NaN</td>\n",
       "      <td>NaN</td>\n",
       "      <td>NaN</td>\n",
       "      <td>France</td>\n",
       "      <td>en:france</td>\n",
       "      <td>France</td>\n",
       "      <td>NaN</td>\n",
       "      <td>NaN</td>\n",
       "      <td>NaN</td>\n",
       "      <td>NaN</td>\n",
       "      <td>NaN</td>\n",
       "      <td>NaN</td>\n",
       "      <td>NaN</td>\n",
       "      <td>NaN</td>\n",
       "      <td>NaN</td>\n",
       "      <td>NaN</td>\n",
       "      <td>NaN</td>\n",
       "      <td>NaN</td>\n",
       "      <td>NaN</td>\n",
       "      <td>...</td>\n",
       "      <td>NaN</td>\n",
       "      <td>NaN</td>\n",
       "      <td>NaN</td>\n",
       "      <td>NaN</td>\n",
       "      <td>NaN</td>\n",
       "      <td>NaN</td>\n",
       "      <td>NaN</td>\n",
       "      <td>NaN</td>\n",
       "      <td>NaN</td>\n",
       "      <td>NaN</td>\n",
       "      <td>NaN</td>\n",
       "      <td>NaN</td>\n",
       "      <td>NaN</td>\n",
       "      <td>NaN</td>\n",
       "      <td>NaN</td>\n",
       "      <td>NaN</td>\n",
       "      <td>NaN</td>\n",
       "      <td>NaN</td>\n",
       "      <td>NaN</td>\n",
       "      <td>NaN</td>\n",
       "      <td>NaN</td>\n",
       "      <td>NaN</td>\n",
       "      <td>NaN</td>\n",
       "      <td>NaN</td>\n",
       "      <td>NaN</td>\n",
       "      <td>NaN</td>\n",
       "      <td>NaN</td>\n",
       "      <td>NaN</td>\n",
       "      <td>NaN</td>\n",
       "      <td>NaN</td>\n",
       "      <td>NaN</td>\n",
       "      <td>NaN</td>\n",
       "      <td>NaN</td>\n",
       "      <td>NaN</td>\n",
       "      <td>NaN</td>\n",
       "      <td>NaN</td>\n",
       "      <td>NaN</td>\n",
       "      <td>NaN</td>\n",
       "      <td>NaN</td>\n",
       "      <td>NaN</td>\n",
       "      <td>NaN</td>\n",
       "      <td>NaN</td>\n",
       "      <td>NaN</td>\n",
       "      <td>NaN</td>\n",
       "      <td>NaN</td>\n",
       "      <td>NaN</td>\n",
       "      <td>NaN</td>\n",
       "      <td>NaN</td>\n",
       "      <td>NaN</td>\n",
       "      <td>NaN</td>\n",
       "    </tr>\n",
       "    <tr>\n",
       "      <th>3</th>\n",
       "      <td>0000000000031</td>\n",
       "      <td>http://world-en.openfoodfacts.org/product/0000...</td>\n",
       "      <td>isagoofy</td>\n",
       "      <td>1539464774</td>\n",
       "      <td>2018-10-13T21:06:14Z</td>\n",
       "      <td>1539464817</td>\n",
       "      <td>2018-10-13T21:06:57Z</td>\n",
       "      <td>Cacao</td>\n",
       "      <td>NaN</td>\n",
       "      <td>NaN</td>\n",
       "      <td>130 g</td>\n",
       "      <td>NaN</td>\n",
       "      <td>NaN</td>\n",
       "      <td>NaN</td>\n",
       "      <td>NaN</td>\n",
       "      <td>NaN</td>\n",
       "      <td>NaN</td>\n",
       "      <td>NaN</td>\n",
       "      <td>NaN</td>\n",
       "      <td>NaN</td>\n",
       "      <td>NaN</td>\n",
       "      <td>NaN</td>\n",
       "      <td>NaN</td>\n",
       "      <td>NaN</td>\n",
       "      <td>NaN</td>\n",
       "      <td>NaN</td>\n",
       "      <td>NaN</td>\n",
       "      <td>NaN</td>\n",
       "      <td>NaN</td>\n",
       "      <td>NaN</td>\n",
       "      <td>NaN</td>\n",
       "      <td>NaN</td>\n",
       "      <td>NaN</td>\n",
       "      <td>NaN</td>\n",
       "      <td>France</td>\n",
       "      <td>en:france</td>\n",
       "      <td>France</td>\n",
       "      <td>NaN</td>\n",
       "      <td>NaN</td>\n",
       "      <td>NaN</td>\n",
       "      <td>NaN</td>\n",
       "      <td>NaN</td>\n",
       "      <td>NaN</td>\n",
       "      <td>NaN</td>\n",
       "      <td>NaN</td>\n",
       "      <td>NaN</td>\n",
       "      <td>NaN</td>\n",
       "      <td>NaN</td>\n",
       "      <td>NaN</td>\n",
       "      <td>NaN</td>\n",
       "      <td>...</td>\n",
       "      <td>NaN</td>\n",
       "      <td>NaN</td>\n",
       "      <td>NaN</td>\n",
       "      <td>NaN</td>\n",
       "      <td>NaN</td>\n",
       "      <td>NaN</td>\n",
       "      <td>NaN</td>\n",
       "      <td>NaN</td>\n",
       "      <td>NaN</td>\n",
       "      <td>NaN</td>\n",
       "      <td>NaN</td>\n",
       "      <td>NaN</td>\n",
       "      <td>NaN</td>\n",
       "      <td>NaN</td>\n",
       "      <td>NaN</td>\n",
       "      <td>NaN</td>\n",
       "      <td>NaN</td>\n",
       "      <td>NaN</td>\n",
       "      <td>NaN</td>\n",
       "      <td>NaN</td>\n",
       "      <td>NaN</td>\n",
       "      <td>NaN</td>\n",
       "      <td>NaN</td>\n",
       "      <td>NaN</td>\n",
       "      <td>NaN</td>\n",
       "      <td>NaN</td>\n",
       "      <td>NaN</td>\n",
       "      <td>NaN</td>\n",
       "      <td>NaN</td>\n",
       "      <td>NaN</td>\n",
       "      <td>NaN</td>\n",
       "      <td>NaN</td>\n",
       "      <td>NaN</td>\n",
       "      <td>NaN</td>\n",
       "      <td>NaN</td>\n",
       "      <td>NaN</td>\n",
       "      <td>NaN</td>\n",
       "      <td>NaN</td>\n",
       "      <td>NaN</td>\n",
       "      <td>NaN</td>\n",
       "      <td>NaN</td>\n",
       "      <td>NaN</td>\n",
       "      <td>NaN</td>\n",
       "      <td>NaN</td>\n",
       "      <td>NaN</td>\n",
       "      <td>NaN</td>\n",
       "      <td>NaN</td>\n",
       "      <td>NaN</td>\n",
       "      <td>NaN</td>\n",
       "      <td>NaN</td>\n",
       "    </tr>\n",
       "    <tr>\n",
       "      <th>4</th>\n",
       "      <td>000000000003327986</td>\n",
       "      <td>http://world-en.openfoodfacts.org/product/0000...</td>\n",
       "      <td>kiliweb</td>\n",
       "      <td>1574175736</td>\n",
       "      <td>2019-11-19T15:02:16Z</td>\n",
       "      <td>1624390765</td>\n",
       "      <td>2021-06-22T19:39:25Z</td>\n",
       "      <td>Filetes de pollo empanado</td>\n",
       "      <td>NaN</td>\n",
       "      <td>NaN</td>\n",
       "      <td>NaN</td>\n",
       "      <td>NaN</td>\n",
       "      <td>NaN</td>\n",
       "      <td>NaN</td>\n",
       "      <td>NaN</td>\n",
       "      <td>NaN</td>\n",
       "      <td>NaN</td>\n",
       "      <td>NaN</td>\n",
       "      <td>NaN</td>\n",
       "      <td>NaN</td>\n",
       "      <td>NaN</td>\n",
       "      <td>NaN</td>\n",
       "      <td>NaN</td>\n",
       "      <td>NaN</td>\n",
       "      <td>NaN</td>\n",
       "      <td>NaN</td>\n",
       "      <td>NaN</td>\n",
       "      <td>NaN</td>\n",
       "      <td>NaN</td>\n",
       "      <td>NaN</td>\n",
       "      <td>NaN</td>\n",
       "      <td>NaN</td>\n",
       "      <td>NaN</td>\n",
       "      <td>NaN</td>\n",
       "      <td>Espagne</td>\n",
       "      <td>en:spain</td>\n",
       "      <td>Spain</td>\n",
       "      <td>NaN</td>\n",
       "      <td>NaN</td>\n",
       "      <td>NaN</td>\n",
       "      <td>NaN</td>\n",
       "      <td>NaN</td>\n",
       "      <td>NaN</td>\n",
       "      <td>NaN</td>\n",
       "      <td>NaN</td>\n",
       "      <td>NaN</td>\n",
       "      <td>NaN</td>\n",
       "      <td>NaN</td>\n",
       "      <td>NaN</td>\n",
       "      <td>NaN</td>\n",
       "      <td>...</td>\n",
       "      <td>NaN</td>\n",
       "      <td>NaN</td>\n",
       "      <td>NaN</td>\n",
       "      <td>NaN</td>\n",
       "      <td>NaN</td>\n",
       "      <td>NaN</td>\n",
       "      <td>NaN</td>\n",
       "      <td>NaN</td>\n",
       "      <td>NaN</td>\n",
       "      <td>NaN</td>\n",
       "      <td>NaN</td>\n",
       "      <td>NaN</td>\n",
       "      <td>NaN</td>\n",
       "      <td>NaN</td>\n",
       "      <td>NaN</td>\n",
       "      <td>NaN</td>\n",
       "      <td>NaN</td>\n",
       "      <td>NaN</td>\n",
       "      <td>NaN</td>\n",
       "      <td>NaN</td>\n",
       "      <td>NaN</td>\n",
       "      <td>NaN</td>\n",
       "      <td>NaN</td>\n",
       "      <td>NaN</td>\n",
       "      <td>NaN</td>\n",
       "      <td>NaN</td>\n",
       "      <td>NaN</td>\n",
       "      <td>NaN</td>\n",
       "      <td>NaN</td>\n",
       "      <td>NaN</td>\n",
       "      <td>NaN</td>\n",
       "      <td>NaN</td>\n",
       "      <td>NaN</td>\n",
       "      <td>NaN</td>\n",
       "      <td>NaN</td>\n",
       "      <td>NaN</td>\n",
       "      <td>NaN</td>\n",
       "      <td>NaN</td>\n",
       "      <td>NaN</td>\n",
       "      <td>NaN</td>\n",
       "      <td>NaN</td>\n",
       "      <td>NaN</td>\n",
       "      <td>NaN</td>\n",
       "      <td>NaN</td>\n",
       "      <td>NaN</td>\n",
       "      <td>NaN</td>\n",
       "      <td>NaN</td>\n",
       "      <td>NaN</td>\n",
       "      <td>NaN</td>\n",
       "      <td>NaN</td>\n",
       "    </tr>\n",
       "  </tbody>\n",
       "</table>\n",
       "<p>5 rows × 187 columns</p>\n",
       "</div>"
      ],
      "text/plain": [
       "                   code                                                url  \\\n",
       "0     00000000000000225  http://world-en.openfoodfacts.org/product/0000...   \n",
       "1  00000000000003429145  http://world-en.openfoodfacts.org/product/0000...   \n",
       "2         0000000000017  http://world-en.openfoodfacts.org/product/0000...   \n",
       "3         0000000000031  http://world-en.openfoodfacts.org/product/0000...   \n",
       "4    000000000003327986  http://world-en.openfoodfacts.org/product/0000...   \n",
       "\n",
       "          creator   created_t      created_datetime  last_modified_t  \\\n",
       "0  nutrinet-sante  1623855208  2021-06-16T14:53:28Z       1623855209   \n",
       "1         kiliweb  1630483911  2021-09-01T08:11:51Z       1630484064   \n",
       "2         kiliweb  1529059080  2018-06-15T10:38:00Z       1561463718   \n",
       "3        isagoofy  1539464774  2018-10-13T21:06:14Z       1539464817   \n",
       "4         kiliweb  1574175736  2019-11-19T15:02:16Z       1624390765   \n",
       "\n",
       "  last_modified_datetime               product_name abbreviated_product_name  \\\n",
       "0   2021-06-16T14:53:29Z             jeunes pousses                      NaN   \n",
       "1   2021-09-01T08:14:24Z                    L.casei                      NaN   \n",
       "2   2019-06-25T11:55:18Z           Vitória crackers                      NaN   \n",
       "3   2018-10-13T21:06:57Z                      Cacao                      NaN   \n",
       "4   2021-06-22T19:39:25Z  Filetes de pollo empanado                      NaN   \n",
       "\n",
       "  generic_name quantity packaging packaging_tags packaging_text   brands  \\\n",
       "0          NaN      NaN       NaN            NaN            NaN  endives   \n",
       "1          NaN      NaN       NaN            NaN            NaN      NaN   \n",
       "2          NaN      NaN       NaN            NaN            NaN      NaN   \n",
       "3          NaN    130 g       NaN            NaN            NaN      NaN   \n",
       "4          NaN      NaN       NaN            NaN            NaN      NaN   \n",
       "\n",
       "  brands_tags categories categories_tags categories_en origins origins_tags  \\\n",
       "0     endives        NaN             NaN           NaN     NaN          NaN   \n",
       "1         NaN        NaN             NaN           NaN   Spain     en:spain   \n",
       "2         NaN        NaN             NaN           NaN     NaN          NaN   \n",
       "3         NaN        NaN             NaN           NaN     NaN          NaN   \n",
       "4         NaN        NaN             NaN           NaN     NaN          NaN   \n",
       "\n",
       "  origins_en manufacturing_places manufacturing_places_tags labels  \\\n",
       "0        NaN                  NaN                       NaN    NaN   \n",
       "1      Spain                  NaN                       NaN    NaN   \n",
       "2        NaN                  NaN                       NaN    NaN   \n",
       "3        NaN                  NaN                       NaN    NaN   \n",
       "4        NaN                  NaN                       NaN    NaN   \n",
       "\n",
       "  labels_tags labels_en emb_codes emb_codes_tags first_packaging_code_geo  \\\n",
       "0         NaN       NaN       NaN            NaN                      NaN   \n",
       "1         NaN       NaN       NaN            NaN                      NaN   \n",
       "2         NaN       NaN       NaN            NaN                      NaN   \n",
       "3         NaN       NaN       NaN            NaN                      NaN   \n",
       "4         NaN       NaN       NaN            NaN                      NaN   \n",
       "\n",
       "   cities cities_tags purchase_places stores  countries countries_tags  \\\n",
       "0     NaN         NaN             NaN    NaN  en:france      en:france   \n",
       "1     NaN         NaN             NaN    NaN      Spain       en:spain   \n",
       "2     NaN         NaN             NaN    NaN     France      en:france   \n",
       "3     NaN         NaN             NaN    NaN     France      en:france   \n",
       "4     NaN         NaN             NaN    NaN    Espagne       en:spain   \n",
       "\n",
       "  countries_en                                   ingredients_text allergens  \\\n",
       "0       France                                                NaN       NaN   \n",
       "1        Spain  Leche semidesnatada, azucar 6.9% leche desnata...       NaN   \n",
       "2       France                                                NaN       NaN   \n",
       "3       France                                                NaN       NaN   \n",
       "4        Spain                                                NaN       NaN   \n",
       "\n",
       "   allergens_en traces traces_tags traces_en serving_size  serving_quantity  \\\n",
       "0           NaN    NaN         NaN       NaN          NaN               NaN   \n",
       "1           NaN    NaN         NaN       NaN          NaN               NaN   \n",
       "2           NaN    NaN         NaN       NaN          NaN               NaN   \n",
       "3           NaN    NaN         NaN       NaN          NaN               NaN   \n",
       "4           NaN    NaN         NaN       NaN          NaN               NaN   \n",
       "\n",
       "   no_nutriments  additives_n  additives additives_tags additives_en  ...  \\\n",
       "0            NaN          NaN        NaN            NaN          NaN  ...   \n",
       "1            NaN          0.0        NaN            NaN          NaN  ...   \n",
       "2            NaN          NaN        NaN            NaN          NaN  ...   \n",
       "3            NaN          NaN        NaN            NaN          NaN  ...   \n",
       "4            NaN          NaN        NaN            NaN          NaN  ...   \n",
       "\n",
       "   vitamin-d_100g  vitamin-e_100g vitamin-k_100g  vitamin-c_100g  \\\n",
       "0             NaN             NaN            NaN             NaN   \n",
       "1             NaN             NaN            NaN             NaN   \n",
       "2             NaN             NaN            NaN             NaN   \n",
       "3             NaN             NaN            NaN             NaN   \n",
       "4             NaN             NaN            NaN             NaN   \n",
       "\n",
       "   vitamin-b1_100g vitamin-b2_100g  vitamin-pp_100g vitamin-b6_100g  \\\n",
       "0              NaN             NaN              NaN             NaN   \n",
       "1              NaN             NaN              NaN             NaN   \n",
       "2              NaN             NaN              NaN             NaN   \n",
       "3              NaN             NaN              NaN             NaN   \n",
       "4              NaN             NaN              NaN             NaN   \n",
       "\n",
       "   vitamin-b9_100g folates_100g vitamin-b12_100g biotin_100g  \\\n",
       "0              NaN          NaN              NaN         NaN   \n",
       "1              NaN          NaN              NaN         NaN   \n",
       "2              NaN          NaN              NaN         NaN   \n",
       "3              NaN          NaN              NaN         NaN   \n",
       "4              NaN          NaN              NaN         NaN   \n",
       "\n",
       "  pantothenic-acid_100g silica_100g bicarbonate_100g  potassium_100g  \\\n",
       "0                   NaN         NaN              NaN             NaN   \n",
       "1                   NaN         NaN              NaN             NaN   \n",
       "2                   NaN         NaN              NaN             NaN   \n",
       "3                   NaN         NaN              NaN             NaN   \n",
       "4                   NaN         NaN              NaN             NaN   \n",
       "\n",
       "  chloride_100g calcium_100g phosphorus_100g iron_100g magnesium_100g  \\\n",
       "0           NaN          NaN             NaN       NaN            NaN   \n",
       "1           NaN          NaN             NaN       NaN            NaN   \n",
       "2           NaN          NaN             NaN       NaN            NaN   \n",
       "3           NaN          NaN             NaN       NaN            NaN   \n",
       "4           NaN          NaN             NaN       NaN            NaN   \n",
       "\n",
       "  zinc_100g copper_100g manganese_100g fluoride_100g  selenium_100g  \\\n",
       "0       NaN         NaN            NaN           NaN            NaN   \n",
       "1       NaN         NaN            NaN           NaN            NaN   \n",
       "2       NaN         NaN            NaN           NaN            NaN   \n",
       "3       NaN         NaN            NaN           NaN            NaN   \n",
       "4       NaN         NaN            NaN           NaN            NaN   \n",
       "\n",
       "   chromium_100g  molybdenum_100g  iodine_100g  caffeine_100g  taurine_100g  \\\n",
       "0            NaN              NaN          NaN            NaN           NaN   \n",
       "1            NaN              NaN          NaN            NaN           NaN   \n",
       "2            NaN              NaN          NaN            NaN           NaN   \n",
       "3            NaN              NaN          NaN            NaN           NaN   \n",
       "4            NaN              NaN          NaN            NaN           NaN   \n",
       "\n",
       "   ph_100g  fruits-vegetables-nuts_100g  fruits-vegetables-nuts-dried_100g  \\\n",
       "0      NaN                          NaN                                NaN   \n",
       "1      NaN                          NaN                                NaN   \n",
       "2      NaN                          NaN                                NaN   \n",
       "3      NaN                          NaN                                NaN   \n",
       "4      NaN                          NaN                                NaN   \n",
       "\n",
       "   fruits-vegetables-nuts-estimate_100g  \\\n",
       "0                                   NaN   \n",
       "1                                   NaN   \n",
       "2                                   NaN   \n",
       "3                                   NaN   \n",
       "4                                   NaN   \n",
       "\n",
       "   fruits-vegetables-nuts-estimate-from-ingredients_100g  \\\n",
       "0                                                NaN       \n",
       "1                                                0.0       \n",
       "2                                                NaN       \n",
       "3                                                NaN       \n",
       "4                                                NaN       \n",
       "\n",
       "   collagen-meat-protein-ratio_100g  cocoa_100g  chlorophyl_100g  \\\n",
       "0                               NaN         NaN              NaN   \n",
       "1                               NaN         NaN              NaN   \n",
       "2                               NaN         NaN              NaN   \n",
       "3                               NaN         NaN              NaN   \n",
       "4                               NaN         NaN              NaN   \n",
       "\n",
       "   carbon-footprint_100g  carbon-footprint-from-meat-or-fish_100g  \\\n",
       "0                    NaN                                      NaN   \n",
       "1                    NaN                                      NaN   \n",
       "2                    NaN                                      NaN   \n",
       "3                    NaN                                      NaN   \n",
       "4                    NaN                                      NaN   \n",
       "\n",
       "   nutrition-score-fr_100g  nutrition-score-uk_100g  glycemic-index_100g  \\\n",
       "0                      NaN                      NaN                  NaN   \n",
       "1                      NaN                      NaN                  NaN   \n",
       "2                      NaN                      NaN                  NaN   \n",
       "3                      NaN                      NaN                  NaN   \n",
       "4                      NaN                      NaN                  NaN   \n",
       "\n",
       "   water-hardness_100g  choline_100g  phylloquinone_100g  beta-glucan_100g  \\\n",
       "0                  NaN           NaN                 NaN               NaN   \n",
       "1                  NaN           NaN                 NaN               NaN   \n",
       "2                  NaN           NaN                 NaN               NaN   \n",
       "3                  NaN           NaN                 NaN               NaN   \n",
       "4                  NaN           NaN                 NaN               NaN   \n",
       "\n",
       "   inositol_100g  carnitine_100g  \n",
       "0            NaN             NaN  \n",
       "1            NaN             NaN  \n",
       "2            NaN             NaN  \n",
       "3            NaN             NaN  \n",
       "4            NaN             NaN  \n",
       "\n",
       "[5 rows x 187 columns]"
      ]
     },
     "execution_count": 14,
     "metadata": {},
     "output_type": "execute_result"
    }
   ],
   "source": [
    "openfoodfacts.head()"
   ]
  },
  {
   "cell_type": "markdown",
   "id": "bbe08a68",
   "metadata": {
    "hidden": true
   },
   "source": [
    "Regardons à présent le nombre de lignes et colonnes du dataset."
   ]
  },
  {
   "cell_type": "code",
   "execution_count": 15,
   "id": "1bbad8f4",
   "metadata": {
    "hidden": true
   },
   "outputs": [
    {
     "name": "stdout",
     "output_type": "stream",
     "text": [
      "Nombre de lignes: 2053679\n",
      "Nombre de variables: 187\n"
     ]
    }
   ],
   "source": [
    "print(f\"Nombre de lignes: {openfoodfacts.shape[0]}\\nNombre de variables: {openfoodfacts.shape[1]}\")"
   ]
  },
  {
   "cell_type": "markdown",
   "id": "293f17f4",
   "metadata": {
    "hidden": true
   },
   "source": [
    "Supprimons les variables composées à 100% de valeurs manquantes qui n'apportent aucune information et viennent alourdir le dataset."
   ]
  },
  {
   "cell_type": "code",
   "execution_count": 16,
   "id": "cd449f59",
   "metadata": {
    "hidden": true
   },
   "outputs": [
    {
     "name": "stdout",
     "output_type": "stream",
     "text": [
      "['cities', 'allergens_en', 'no_nutriments', 'additives', 'ingredients_from_palm_oil', 'ingredients_that_may_be_from_palm_oil', '-butyric-acid_100g', '-caproic-acid_100g', '-caprylic-acid_100g', '-capric-acid_100g', '-lauric-acid_100g', '-myristic-acid_100g', '-palmitic-acid_100g', '-stearic-acid_100g', '-arachidic-acid_100g', '-behenic-acid_100g', '-lignoceric-acid_100g', '-cerotic-acid_100g', '-montanic-acid_100g', '-melissic-acid_100g', '-alpha-linolenic-acid_100g', '-eicosapentaenoic-acid_100g', '-docosahexaenoic-acid_100g', '-linoleic-acid_100g', '-arachidonic-acid_100g', '-gamma-linolenic-acid_100g', '-dihomo-gamma-linolenic-acid_100g', '-oleic-acid_100g', '-elaidic-acid_100g', '-gondoic-acid_100g', '-mead-acid_100g', '-erucic-acid_100g', '-nervonic-acid_100g', '-sucrose_100g', '-glucose_100g', '-fructose_100g', '-lactose_100g', '-maltose_100g', '-maltodextrins_100g']\n"
     ]
    }
   ],
   "source": [
    "# Liste des colonnes avec 100% de NaN\n",
    "print([c for c in openfoodfacts.columns if (openfoodfacts[c].isnull().mean()*100 == 100)])"
   ]
  },
  {
   "cell_type": "code",
   "execution_count": 17,
   "id": "94827e92",
   "metadata": {
    "hidden": true
   },
   "outputs": [
    {
     "name": "stdout",
     "output_type": "stream",
     "text": [
      "Nombre de lignes: 2053679\n",
      "Nombre de variables: 148\n"
     ]
    }
   ],
   "source": [
    "# Suppression les colonnes avec 100% de données manquantes\n",
    "openfoodfacts.dropna(how='all', axis = 'columns', inplace = True)\n",
    "print(f\"Nombre de lignes: {openfoodfacts.shape[0]}\\nNombre de variables: {openfoodfacts.shape[1]}\")"
   ]
  },
  {
   "cell_type": "code",
   "execution_count": 18,
   "id": "18020eae",
   "metadata": {
    "hidden": true
   },
   "outputs": [],
   "source": [
    "def missing_values_all(dataframe):\n",
    "    missing = dataframe.isna().sum().sum()\n",
    "    missing_percent = round(missing / (dataframe.shape[0] * dataframe.shape[1]) * 100, 2)\n",
    "    \n",
    "    print(f'Nombre total de NaN du dataset: {missing} \\n % total de NaN du dataset: {missing_percent}%')"
   ]
  },
  {
   "cell_type": "code",
   "execution_count": 19,
   "id": "ea6e71a5",
   "metadata": {
    "hidden": true
   },
   "outputs": [
    {
     "name": "stdout",
     "output_type": "stream",
     "text": [
      "Nombre total de NaN du dataset: 227465052 \n",
      " % total de NaN du dataset: 74.84%\n"
     ]
    }
   ],
   "source": [
    "missing_values_all(openfoodfacts)"
   ]
  },
  {
   "cell_type": "markdown",
   "id": "a1390aac",
   "metadata": {},
   "source": [
    "## Mots qui apparaissent le plus souvent dans le nom des variables <a class=\"anchor\" id=\"words\"></a>"
   ]
  },
  {
   "cell_type": "markdown",
   "id": "dcebc69e",
   "metadata": {},
   "source": [
    "Dans un premier temps et afin de prendre connaissance avec les variables du jeu de données, récupérons les mots contenus dans le titre des variables qui reviennent le plus souvent.\n",
    "Cette étape nous permettra de repérer une potentielle redondance entre les variables."
   ]
  },
  {
   "cell_type": "code",
   "execution_count": 20,
   "id": "1c0a9d75",
   "metadata": {},
   "outputs": [],
   "source": [
    "# Récupération des mots contenus dans les titres des colonnes (séparateur =  \"_\")\n",
    "liste_mots_colonnes = [i.split('_') for i in openfoodfacts.columns] \n",
    "\n",
    "# Applatissement de la liste de listes\n",
    "liste_mots_colonnes_flat = []\n",
    "\n",
    "for item in liste_mots_colonnes:\n",
    "    liste_mots_colonnes_flat += item"
   ]
  },
  {
   "cell_type": "code",
   "execution_count": 21,
   "id": "6d6dd2b6",
   "metadata": {},
   "outputs": [
    {
     "name": "stdout",
     "output_type": "stream",
     "text": [
      "[('100g', 79), ('tags', 14), ('en', 8), ('url', 7), ('ingredients', 7), ('image', 6), ('packaging', 4), ('from', 4), ('palm', 4), ('oil', 4), ('name', 3), ('categories', 3), ('origins', 3), ('places', 3), ('labels', 3), ('countries', 3), ('traces', 3), ('additives', 3), ('n', 3), ('states', 3)]\n"
     ]
    }
   ],
   "source": [
    "# J'affiche les 20 mots qui reviennent le plus dans les titres de colonnes\n",
    "print(collections.Counter(liste_mots_colonnes_flat).most_common(20))\n",
    "\n",
    "# J'enregistre tous les mots et le nombre associé dans une variable\n",
    "most_common_columns_words = collections.Counter(liste_mots_colonnes_flat).most_common(len(liste_mots_colonnes_flat))"
   ]
  },
  {
   "cell_type": "code",
   "execution_count": 22,
   "id": "257754b4",
   "metadata": {},
   "outputs": [],
   "source": [
    "# Passage sous dataframe afin de pouvoir visualiser les données sous forme de graphique (nb occurences >= 6)\n",
    "most_common_columns_words = pd.DataFrame(most_common_columns_words, \n",
    "                                 columns = ['Mots', 'Nombre d\\'occurences']).sort_values(by = 'Nombre d\\'occurences', \n",
    "                                                                                         ascending=False)\n",
    "\n",
    "most_common_columns_words = most_common_columns_words[most_common_columns_words[\"Nombre d\\'occurences\"] >= 6]"
   ]
  },
  {
   "cell_type": "code",
   "execution_count": 23,
   "id": "36d5c45d",
   "metadata": {},
   "outputs": [],
   "source": [
    "def etiquette_h(ax):\n",
    "    \"\"\"Ajoute les étiquettes en haut de chaque barre sur un barplot horizontal.\n",
    "    Arguments:\n",
    "    ax (matplotlib.axes.Axes): objet matplotlib ocontenant les axes du plot à annoter.\"\"\"\n",
    "    \n",
    "    for p in ax.patches:\n",
    "        etiquette = '{:,.0f}'.format(p.get_width())\n",
    "        width, height = p.get_width(),p.get_height()\n",
    "        x = p.get_x() + width + 0.02\n",
    "        y = p.get_y() + height / 2\n",
    "        ax.annotate(etiquette,(x,y))"
   ]
  },
  {
   "cell_type": "code",
   "execution_count": 24,
   "id": "272abfb9",
   "metadata": {
    "scrolled": false
   },
   "outputs": [
    {
     "data": {
      "image/png": "[encoded data removed]",
      "text/plain": [
       "<Figure size 576x288 with 1 Axes>"
      ]
     },
     "metadata": {
      "needs_background": "light"
     },
     "output_type": "display_data"
    }
   ],
   "source": [
    "# Visualisation sous forme de barplot\n",
    "plt.figure(figsize=(8, 4))\n",
    "ax = sns.barplot(y = 'Mots', x = 'Nombre d\\'occurences', data = most_common_columns_words, palette = 'muted')\n",
    "plt.title(\"Mots les plus utilisés dans le nom des variables \\n (>= 6 occurences)\")\n",
    "plt.ylabel(\"\")\n",
    "plt.xlabel(\"% NaN\")\n",
    "etiquette_h(ax);"
   ]
  },
  {
   "cell_type": "code",
   "execution_count": 25,
   "id": "3566505b",
   "metadata": {},
   "outputs": [
    {
     "data": {
      "image/png": "[encoded data removed]",
      "text/plain": [
       "<Figure size 1080x576 with 1 Axes>"
      ]
     },
     "metadata": {
      "needs_background": "light"
     },
     "output_type": "display_data"
    }
   ],
   "source": [
    "# Création d'un nuage de mots\n",
    "\n",
    "# Conversion de la liste en dictionnaire valeurs / occurences\n",
    "word_cloud_dict = Counter(liste_mots_colonnes_flat)\n",
    "wordcloud = WordCloud(width = 800, height = 400).generate_from_frequencies(word_cloud_dict)\n",
    "\n",
    "plt.figure(figsize=(15,8))\n",
    "plt.imshow(wordcloud)\n",
    "plt.axis(\"off\");"
   ]
  },
  {
   "cell_type": "markdown",
   "id": "17142602",
   "metadata": {
    "heading_collapsed": true
   },
   "source": [
    "### 100g <a class=\"anchor\" id=\"100g\"></a>"
   ]
  },
  {
   "cell_type": "markdown",
   "id": "680b1819",
   "metadata": {
    "hidden": true
   },
   "source": [
    "Les variables qui se terminent par _100g correspondent à la quantité de nutriments (en g ou kj pour l'énergie) pour 100g ou 100 ml de produit. Logiquement ces variables devraient être de type float."
   ]
  },
  {
   "cell_type": "code",
   "execution_count": 26,
   "id": "6d8418f3",
   "metadata": {
    "hidden": true
   },
   "outputs": [
    {
     "name": "stdout",
     "output_type": "stream",
     "text": [
      "['energy-kj_100g', 'energy-kcal_100g', 'energy_100g', 'energy-from-fat_100g', 'fat_100g', 'saturated-fat_100g', 'monounsaturated-fat_100g', 'polyunsaturated-fat_100g', 'omega-3-fat_100g', 'omega-6-fat_100g', 'omega-9-fat_100g', 'trans-fat_100g', 'cholesterol_100g', 'carbohydrates_100g', 'sugars_100g', 'starch_100g', 'polyols_100g', 'fiber_100g', 'soluble-fiber_100g', 'insoluble-fiber_100g', 'proteins_100g', 'casein_100g', 'serum-proteins_100g', 'nucleotides_100g', 'salt_100g', 'sodium_100g', 'alcohol_100g', 'vitamin-a_100g', 'beta-carotene_100g', 'vitamin-d_100g', 'vitamin-e_100g', 'vitamin-k_100g', 'vitamin-c_100g', 'vitamin-b1_100g', 'vitamin-b2_100g', 'vitamin-pp_100g', 'vitamin-b6_100g', 'vitamin-b9_100g', 'folates_100g', 'vitamin-b12_100g', 'biotin_100g', 'pantothenic-acid_100g', 'silica_100g', 'bicarbonate_100g', 'potassium_100g', 'chloride_100g', 'calcium_100g', 'phosphorus_100g', 'iron_100g', 'magnesium_100g', 'zinc_100g', 'copper_100g', 'manganese_100g', 'fluoride_100g', 'selenium_100g', 'chromium_100g', 'molybdenum_100g', 'iodine_100g', 'caffeine_100g', 'taurine_100g', 'ph_100g', 'fruits-vegetables-nuts_100g', 'fruits-vegetables-nuts-dried_100g', 'fruits-vegetables-nuts-estimate_100g', 'fruits-vegetables-nuts-estimate-from-ingredients_100g', 'collagen-meat-protein-ratio_100g', 'cocoa_100g', 'chlorophyl_100g', 'carbon-footprint_100g', 'carbon-footprint-from-meat-or-fish_100g', 'nutrition-score-fr_100g', 'nutrition-score-uk_100g', 'glycemic-index_100g', 'water-hardness_100g', 'choline_100g', 'phylloquinone_100g', 'beta-glucan_100g', 'inositol_100g', 'carnitine_100g']\n"
     ]
    }
   ],
   "source": [
    "# Liste des colonnes qui se terminent par _100g\n",
    "col_100g = openfoodfacts.iloc[:,openfoodfacts.columns.str.endswith('_100g')].columns.tolist()\n",
    "print(col_100g)"
   ]
  },
  {
   "cell_type": "code",
   "execution_count": 27,
   "id": "c43144ef",
   "metadata": {
    "hidden": true
   },
   "outputs": [],
   "source": [
    "# On downcast les variables en float32 pour réduire la mémoire\n",
    "for col in col_100g:\n",
    "    openfoodfacts[col] = openfoodfacts[col].astype('float32')"
   ]
  },
  {
   "cell_type": "code",
   "execution_count": 28,
   "id": "077fe5b2",
   "metadata": {
    "hidden": true
   },
   "outputs": [
    {
     "name": "stdout",
     "output_type": "stream",
     "text": [
      "<class 'pandas.core.frame.DataFrame'>\n",
      "RangeIndex: 2053679 entries, 0 to 2053678\n",
      "Columns: 148 entries, code to carnitine_100g\n",
      "dtypes: float32(79), float64(7), int64(2), object(60)\n",
      "memory usage: 1.7+ GB\n"
     ]
    }
   ],
   "source": [
    "openfoodfacts.info()"
   ]
  },
  {
   "cell_type": "code",
   "execution_count": 29,
   "id": "5cdfdc61",
   "metadata": {
    "hidden": true
   },
   "outputs": [
    {
     "data": {
      "text/plain": [
       "Series([], dtype: object)"
      ]
     },
     "execution_count": 29,
     "metadata": {},
     "output_type": "execute_result"
    }
   ],
   "source": [
    "# Dtypes des variables qui se terminent par _100g et qui ne sont pas de type float\n",
    "openfoodfacts.iloc[:,openfoodfacts.columns.isin(col_100g)].select_dtypes(exclude = ['float32']).dtypes"
   ]
  },
  {
   "cell_type": "markdown",
   "id": "8e79b001",
   "metadata": {
    "hidden": true
   },
   "source": [
    "Toutes ces variables sont bien au format float. En regardant la liste des colonnes, on peut se demander si les variables energy-kj_100g et energy_100g apportent la même information."
   ]
  },
  {
   "cell_type": "code",
   "execution_count": 30,
   "id": "6346aa44",
   "metadata": {
    "hidden": true
   },
   "outputs": [
    {
     "data": {
      "text/html": [
       "<div>\n",
       "<style scoped>\n",
       "    .dataframe tbody tr th:only-of-type {\n",
       "        vertical-align: middle;\n",
       "    }\n",
       "\n",
       "    .dataframe tbody tr th {\n",
       "        vertical-align: top;\n",
       "    }\n",
       "\n",
       "    .dataframe thead th {\n",
       "        text-align: right;\n",
       "    }\n",
       "</style>\n",
       "<table border=\"1\" class=\"dataframe\">\n",
       "  <thead>\n",
       "    <tr style=\"text-align: right;\">\n",
       "      <th></th>\n",
       "      <th>energy-kj_100g</th>\n",
       "      <th>energy-kcal_100g</th>\n",
       "      <th>energy_100g</th>\n",
       "    </tr>\n",
       "  </thead>\n",
       "  <tbody>\n",
       "    <tr>\n",
       "      <th>4</th>\n",
       "      <td>685.799988</td>\n",
       "      <td>163.899994</td>\n",
       "      <td>685.799988</td>\n",
       "    </tr>\n",
       "    <tr>\n",
       "      <th>417</th>\n",
       "      <td>2318.000000</td>\n",
       "      <td>561.000000</td>\n",
       "      <td>2318.000000</td>\n",
       "    </tr>\n",
       "    <tr>\n",
       "      <th>419</th>\n",
       "      <td>1104.000000</td>\n",
       "      <td>268.000000</td>\n",
       "      <td>1104.000000</td>\n",
       "    </tr>\n",
       "    <tr>\n",
       "      <th>790</th>\n",
       "      <td>442.000000</td>\n",
       "      <td>1852.000000</td>\n",
       "      <td>442.000000</td>\n",
       "    </tr>\n",
       "    <tr>\n",
       "      <th>863</th>\n",
       "      <td>1926.000000</td>\n",
       "      <td>460.000000</td>\n",
       "      <td>1926.000000</td>\n",
       "    </tr>\n",
       "  </tbody>\n",
       "</table>\n",
       "</div>"
      ],
      "text/plain": [
       "     energy-kj_100g  energy-kcal_100g  energy_100g\n",
       "4        685.799988        163.899994   685.799988\n",
       "417     2318.000000        561.000000  2318.000000\n",
       "419     1104.000000        268.000000  1104.000000\n",
       "790      442.000000       1852.000000   442.000000\n",
       "863     1926.000000        460.000000  1926.000000"
      ]
     },
     "execution_count": 30,
     "metadata": {},
     "output_type": "execute_result"
    }
   ],
   "source": [
    "openfoodfacts[openfoodfacts[['energy-kj_100g', 'energy-kcal_100g', 'energy_100g']].notnull().all(1)][\n",
    "    ['energy-kj_100g', 'energy-kcal_100g', 'energy_100g']].head()"
   ]
  },
  {
   "cell_type": "markdown",
   "id": "8b196135",
   "metadata": {
    "hidden": true
   },
   "source": [
    "Les colonnes energy-kj_100g et energy_100g semblent être redondantes. Regardons la proportion de NaN."
   ]
  },
  {
   "cell_type": "code",
   "execution_count": 31,
   "id": "96fe2e19",
   "metadata": {
    "hidden": true
   },
   "outputs": [
    {
     "name": "stdout",
     "output_type": "stream",
     "text": [
      "% de NaN de la variable energy-kj_100g: 92.7%\n",
      "% de NaN de la variable energy_100g: 20.66%\n"
     ]
    }
   ],
   "source": [
    "print(f\"% de NaN de la variable energy-kj_100g: {round(openfoodfacts['energy-kj_100g'].isna().mean(),4)*100}%\")\n",
    "print(f\"% de NaN de la variable energy_100g: {round(openfoodfacts['energy_100g'].isna().mean(),4)*100}%\")"
   ]
  },
  {
   "cell_type": "markdown",
   "id": "ce76f4b5",
   "metadata": {
    "hidden": true
   },
   "source": [
    "La variables energy_100g comporte bien moins de valeurs manquantes que energy-kj_100g. Nous allons remplir les NaN de energy_100g avec les éventuelles  valeurs renseignées de energy-kj_100g puis supprimer la colonne energy-kj_100g."
   ]
  },
  {
   "cell_type": "code",
   "execution_count": 32,
   "id": "22fabf15",
   "metadata": {
    "hidden": true
   },
   "outputs": [],
   "source": [
    "# Pour les NaN de energy_100g, je complète avec energy-kj_100g sinon je laisse tel quel\n",
    "openfoodfacts['energy_100g'] = np.where(openfoodfacts['energy_100g'].isnull(), \n",
    "                                        openfoodfacts['energy-kj_100g'], \n",
    "                                        openfoodfacts['energy_100g'])"
   ]
  },
  {
   "cell_type": "code",
   "execution_count": 33,
   "id": "ef75297c",
   "metadata": {
    "hidden": true
   },
   "outputs": [
    {
     "name": "stdout",
     "output_type": "stream",
     "text": [
      "% de NaN de la variable energy_100g: 20.66%\n"
     ]
    }
   ],
   "source": [
    "print(f\"% de NaN de la variable energy_100g: {round(openfoodfacts['energy_100g'].isna().mean(),4)*100}%\")"
   ]
  },
  {
   "cell_type": "markdown",
   "id": "96b1fdef",
   "metadata": {
    "hidden": true
   },
   "source": [
    "La variable energy-kj_100g ne semble pas avoir diminué le taux de NaN de energy_100g, nous pouvons la supprimer."
   ]
  },
  {
   "cell_type": "code",
   "execution_count": 34,
   "id": "b27a980d",
   "metadata": {
    "hidden": true
   },
   "outputs": [
    {
     "name": "stderr",
     "output_type": "stream",
     "text": [
      "<ipython-input-34-112d0e192dab>:1: FutureWarning: In a future version of pandas all arguments of DataFrame.drop except for the argument 'labels' will be keyword-only\n",
      "  openfoodfacts = openfoodfacts.drop('energy-kj_100g', 'columns')\n"
     ]
    },
    {
     "data": {
      "text/plain": [
       "(2053679, 147)"
      ]
     },
     "execution_count": 34,
     "metadata": {},
     "output_type": "execute_result"
    }
   ],
   "source": [
    "openfoodfacts = openfoodfacts.drop('energy-kj_100g', 'columns')\n",
    "openfoodfacts.shape"
   ]
  },
  {
   "cell_type": "markdown",
   "id": "e37afa73",
   "metadata": {
    "heading_collapsed": true
   },
   "source": [
    "### tags <a class=\"anchor\" id=\"tags\"></a>"
   ]
  },
  {
   "cell_type": "markdown",
   "id": "b18323d9",
   "metadata": {
    "hidden": true
   },
   "source": [
    "Les variables qui se terminent par _tags sont des variables qualitatives (packaging, marques, catégories etc). Elles doivent être de type \"object\"."
   ]
  },
  {
   "cell_type": "code",
   "execution_count": 35,
   "id": "f17a9378",
   "metadata": {
    "hidden": true
   },
   "outputs": [
    {
     "name": "stdout",
     "output_type": "stream",
     "text": [
      "['packaging_tags', 'brands_tags', 'categories_tags', 'origins_tags', 'manufacturing_places_tags', 'labels_tags', 'emb_codes_tags', 'cities_tags', 'countries_tags', 'traces_tags', 'additives_tags', 'ingredients_from_palm_oil_tags', 'ingredients_that_may_be_from_palm_oil_tags', 'states_tags']\n"
     ]
    }
   ],
   "source": [
    "# Liste des colonnes qui se terminent par _tags\n",
    "col_tags = openfoodfacts.iloc[:,openfoodfacts.columns.str.endswith('_tags')].columns.tolist()\n",
    "print(col_tags)"
   ]
  },
  {
   "cell_type": "code",
   "execution_count": 36,
   "id": "4e8b99d0",
   "metadata": {
    "hidden": true
   },
   "outputs": [],
   "source": [
    "# On cast les variables en str\n",
    "for col in col_tags:\n",
    "    openfoodfacts[col] = openfoodfacts[col].astype(\"object\")"
   ]
  },
  {
   "cell_type": "code",
   "execution_count": 37,
   "id": "5e463f4b",
   "metadata": {
    "hidden": true
   },
   "outputs": [
    {
     "data": {
      "text/plain": [
       "Series([], dtype: object)"
      ]
     },
     "execution_count": 37,
     "metadata": {},
     "output_type": "execute_result"
    }
   ],
   "source": [
    "openfoodfacts.iloc[:,openfoodfacts.columns.isin(col_tags)].select_dtypes(exclude = ['object']).dtypes"
   ]
  },
  {
   "cell_type": "markdown",
   "id": "915bd544",
   "metadata": {
    "hidden": true
   },
   "source": [
    "Toutes ces variables ont bien le dtype objet. A partir du préfixe des variables se terminant par _tags, tentons de récupérer les variables associées afin de s'assurer qu'elles ne sont pas redondantes. "
   ]
  },
  {
   "cell_type": "code",
   "execution_count": 38,
   "id": "926910b8",
   "metadata": {
    "hidden": true
   },
   "outputs": [
    {
     "name": "stdout",
     "output_type": "stream",
     "text": [
      "Préfixes des colonnes se terminant par _tags: ['packaging', 'brands', 'categories', 'origins', 'manufacturing_places', 'labels', 'emb_codes', 'cities', 'countries', 'traces', 'additives', 'ingredients_from_palm_oil', 'ingredients_that_may_be_from_palm_oil', 'states']\n"
     ]
    }
   ],
   "source": [
    "# Pour chaque colonne se terminant par _tags, je supprime cette mention pour n'avoir que le préfixe\n",
    "liste_col_tags_prefixe = [i.replace('_tags', '') for i in openfoodfacts.iloc[\n",
    "    :,openfoodfacts.columns.isin(col_tags)].columns.unique().tolist()]\n",
    "\n",
    "print(f'Préfixes des colonnes se terminant par _tags: {liste_col_tags_prefixe}')"
   ]
  },
  {
   "cell_type": "code",
   "execution_count": 39,
   "id": "c74917b5",
   "metadata": {
    "hidden": true
   },
   "outputs": [],
   "source": [
    "# Fusion des 2 listes + tri par ordre alphabétique\n",
    "liste_col_tags = liste_col_tags_prefixe + col_tags\n",
    "liste_col_tags.sort()"
   ]
  },
  {
   "cell_type": "code",
   "execution_count": 40,
   "id": "ec256753",
   "metadata": {
    "hidden": true
   },
   "outputs": [
    {
     "name": "stdout",
     "output_type": "stream",
     "text": [
      "Colonnes + colonnes associées _tags:\n",
      "\n",
      " ['additives', 'additives_tags', 'brands', 'brands_tags', 'categories', 'categories_tags', 'cities', 'cities_tags', 'countries', 'countries_tags', 'emb_codes', 'emb_codes_tags', 'ingredients_from_palm_oil', 'ingredients_from_palm_oil_tags', 'ingredients_that_may_be_from_palm_oil', 'ingredients_that_may_be_from_palm_oil_tags', 'labels', 'labels_tags', 'manufacturing_places', 'manufacturing_places_tags', 'origins', 'origins_tags', 'packaging', 'packaging_tags', 'states', 'states_tags', 'traces', 'traces_tags']\n"
     ]
    }
   ],
   "source": [
    "print(f'Colonnes + colonnes associées _tags:\\n\\n {liste_col_tags}')"
   ]
  },
  {
   "cell_type": "markdown",
   "id": "e2fff4bf",
   "metadata": {
    "hidden": true
   },
   "source": [
    "Automatisation des étapes précédentes."
   ]
  },
  {
   "cell_type": "code",
   "execution_count": 41,
   "id": "b386c301",
   "metadata": {
    "hidden": true
   },
   "outputs": [],
   "source": [
    "def liste_col_endswith(dataframe, keyword):\n",
    "    ''' Fonction qui permet de récupérer le préfixe des colonnes se terminant par un mot clef et qui retourne une liste\n",
    "    de ces variables et des variables associées qui contiennent le préfixe. L'objectif est de s'assurer que ces variables\n",
    "    n'apportent pas la même information.'''\n",
    "    \n",
    "    liste_col_keyword_prefixe = [i.replace(f'_{keyword}', '') for i in dataframe.iloc[\n",
    "    :,dataframe.columns.str.endswith(keyword)].columns.unique().tolist()]\n",
    "    \n",
    "    liste_col_ends_keyword = dataframe.iloc[:,(dataframe.columns.str.endswith(\n",
    "    keyword))].columns.unique().tolist()\n",
    "    \n",
    "    liste_col_keyword = liste_col_keyword_prefixe + liste_col_ends_keyword\n",
    "    liste_col_keyword.sort()\n",
    "    \n",
    "    return liste_col_keyword"
   ]
  },
  {
   "cell_type": "code",
   "execution_count": 42,
   "id": "fabaa64e",
   "metadata": {
    "hidden": true
   },
   "outputs": [],
   "source": [
    "liste_col_tags = liste_col_endswith(openfoodfacts, 'tags')"
   ]
  },
  {
   "cell_type": "code",
   "execution_count": 43,
   "id": "03d2a2dc",
   "metadata": {
    "hidden": true
   },
   "outputs": [],
   "source": [
    "def describe_variables_light(data):\n",
    "    '''Fonction qui prend un dataframe en entrée, et retourne un récapitulatif qui contient le nom des variables, \n",
    "    leur type, un exemple de modalité, le nombre total de lignes, le nombre et pourcentage de valeurs distinctes, \n",
    "    le nombre et pourcentage de valeurs non manquantes et de valeurs manquantes (NaN)'''\n",
    "\n",
    "    # Choix du nom des variables à afficher\n",
    "    df = pd.DataFrame(columns = ['Variable name', 'Variable type', 'Example', 'Raws', 'Distinct', '% distinct', \n",
    "                                 'Not NaN', '% Not NaN', 'NaN', '% NaN'])\n",
    "    \n",
    "    # Pour chaque colonne du dataframe\n",
    "    for column in data.columns:\n",
    "        \n",
    "        # Définition des variables\n",
    "        var_type = data[column].dtypes # type de la variable (object, float, int...)\n",
    "        example = data[data[column].notna()][column].iloc[0] # premier élément notNA\n",
    "        #example = [data[data[column].notna()][column].iloc[0] if data[column].isna().sum() != len(data[column]) else 0]\n",
    "        nb_raw = len(data[column]) # nombre total de lignes\n",
    "        count = len(data[column])- data[column].isna().sum() # nombre de valeurs non manquantes\n",
    "        percent_count = round(data[column].notnull().mean(),4)*100 # % de valeurs non manquantes\n",
    "        distinct = data[column].nunique() # nombre de modalités que peut prendre la variable\n",
    "        percent_distinct = round(data[column].nunique()/len(data[column]),4)*100 # % de valeurs distinctes\n",
    "        missing = data[column].isna().sum() # nombre de valeurs manquantes\n",
    "        percent_missing = round(data[column].isna().mean(),4)*100 # % de valeurs manquantes\n",
    "        \n",
    "        \n",
    "        df = df.append(pd.DataFrame([[column, var_type, example, nb_raw, distinct, percent_distinct, count, \n",
    "                                      percent_count,missing, percent_missing]], \n",
    "                                    columns = ['Variable name', 'Variable type', 'Example', 'Raws', 'Distinct', \n",
    "                                               '% distinct', 'Not NaN', '% Not NaN', 'NaN', '% NaN']))\n",
    "        \n",
    "    return df.reset_index(drop = True)"
   ]
  },
  {
   "cell_type": "code",
   "execution_count": 44,
   "id": "0f02b480",
   "metadata": {
    "hidden": true,
    "scrolled": true
   },
   "outputs": [
    {
     "data": {
      "text/html": [
       "<div>\n",
       "<style scoped>\n",
       "    .dataframe tbody tr th:only-of-type {\n",
       "        vertical-align: middle;\n",
       "    }\n",
       "\n",
       "    .dataframe tbody tr th {\n",
       "        vertical-align: top;\n",
       "    }\n",
       "\n",
       "    .dataframe thead th {\n",
       "        text-align: right;\n",
       "    }\n",
       "</style>\n",
       "<table border=\"1\" class=\"dataframe\">\n",
       "  <thead>\n",
       "    <tr style=\"text-align: right;\">\n",
       "      <th></th>\n",
       "      <th>Variable name</th>\n",
       "      <th>Variable type</th>\n",
       "      <th>Example</th>\n",
       "      <th>Raws</th>\n",
       "      <th>Distinct</th>\n",
       "      <th>% distinct</th>\n",
       "      <th>Not NaN</th>\n",
       "      <th>% Not NaN</th>\n",
       "      <th>NaN</th>\n",
       "      <th>% NaN</th>\n",
       "    </tr>\n",
       "  </thead>\n",
       "  <tbody>\n",
       "    <tr>\n",
       "      <th>0</th>\n",
       "      <td>packaging</td>\n",
       "      <td>object</td>\n",
       "      <td>barquette,plastique</td>\n",
       "      <td>2053679</td>\n",
       "      <td>57066</td>\n",
       "      <td>2.78</td>\n",
       "      <td>315935</td>\n",
       "      <td>15.38</td>\n",
       "      <td>1737744</td>\n",
       "      <td>84.62</td>\n",
       "    </tr>\n",
       "    <tr>\n",
       "      <th>1</th>\n",
       "      <td>packaging_tags</td>\n",
       "      <td>object</td>\n",
       "      <td>barquette,plastique</td>\n",
       "      <td>2053679</td>\n",
       "      <td>46485</td>\n",
       "      <td>2.26</td>\n",
       "      <td>315895</td>\n",
       "      <td>15.38</td>\n",
       "      <td>1737784</td>\n",
       "      <td>84.62</td>\n",
       "    </tr>\n",
       "    <tr>\n",
       "      <th>2</th>\n",
       "      <td>brands</td>\n",
       "      <td>object</td>\n",
       "      <td>endives</td>\n",
       "      <td>2053679</td>\n",
       "      <td>183520</td>\n",
       "      <td>8.94</td>\n",
       "      <td>1050597</td>\n",
       "      <td>51.16</td>\n",
       "      <td>1003082</td>\n",
       "      <td>48.84</td>\n",
       "    </tr>\n",
       "    <tr>\n",
       "      <th>3</th>\n",
       "      <td>brands_tags</td>\n",
       "      <td>object</td>\n",
       "      <td>endives</td>\n",
       "      <td>2053679</td>\n",
       "      <td>141427</td>\n",
       "      <td>6.89</td>\n",
       "      <td>1050528</td>\n",
       "      <td>51.15</td>\n",
       "      <td>1003151</td>\n",
       "      <td>48.85</td>\n",
       "    </tr>\n",
       "    <tr>\n",
       "      <th>4</th>\n",
       "      <td>categories</td>\n",
       "      <td>object</td>\n",
       "      <td>Epicerie, Condiments, Sauces, Moutardes</td>\n",
       "      <td>2053679</td>\n",
       "      <td>117610</td>\n",
       "      <td>5.73</td>\n",
       "      <td>945149</td>\n",
       "      <td>46.02</td>\n",
       "      <td>1108530</td>\n",
       "      <td>53.98</td>\n",
       "    </tr>\n",
       "    <tr>\n",
       "      <th>5</th>\n",
       "      <td>categories_tags</td>\n",
       "      <td>object</td>\n",
       "      <td>en:groceries,en:condiments,en:sauces,en:mustards</td>\n",
       "      <td>2053679</td>\n",
       "      <td>72803</td>\n",
       "      <td>3.55</td>\n",
       "      <td>945141</td>\n",
       "      <td>46.02</td>\n",
       "      <td>1108538</td>\n",
       "      <td>53.98</td>\n",
       "    </tr>\n",
       "    <tr>\n",
       "      <th>6</th>\n",
       "      <td>origins</td>\n",
       "      <td>object</td>\n",
       "      <td>Spain</td>\n",
       "      <td>2053679</td>\n",
       "      <td>14023</td>\n",
       "      <td>0.68</td>\n",
       "      <td>88290</td>\n",
       "      <td>4.30</td>\n",
       "      <td>1965389</td>\n",
       "      <td>95.70</td>\n",
       "    </tr>\n",
       "    <tr>\n",
       "      <th>7</th>\n",
       "      <td>origins_tags</td>\n",
       "      <td>object</td>\n",
       "      <td>en:spain</td>\n",
       "      <td>2053679</td>\n",
       "      <td>11428</td>\n",
       "      <td>0.56</td>\n",
       "      <td>88160</td>\n",
       "      <td>4.29</td>\n",
       "      <td>1965519</td>\n",
       "      <td>95.71</td>\n",
       "    </tr>\n",
       "    <tr>\n",
       "      <th>8</th>\n",
       "      <td>manufacturing_places</td>\n",
       "      <td>object</td>\n",
       "      <td>bénivay-ollon</td>\n",
       "      <td>2053679</td>\n",
       "      <td>28901</td>\n",
       "      <td>1.41</td>\n",
       "      <td>128424</td>\n",
       "      <td>6.25</td>\n",
       "      <td>1925255</td>\n",
       "      <td>93.75</td>\n",
       "    </tr>\n",
       "    <tr>\n",
       "      <th>9</th>\n",
       "      <td>manufacturing_places_tags</td>\n",
       "      <td>object</td>\n",
       "      <td>benivay-ollon</td>\n",
       "      <td>2053679</td>\n",
       "      <td>25973</td>\n",
       "      <td>1.26</td>\n",
       "      <td>128364</td>\n",
       "      <td>6.25</td>\n",
       "      <td>1925315</td>\n",
       "      <td>93.75</td>\n",
       "    </tr>\n",
       "    <tr>\n",
       "      <th>10</th>\n",
       "      <td>labels</td>\n",
       "      <td>object</td>\n",
       "      <td>Delois france</td>\n",
       "      <td>2053679</td>\n",
       "      <td>81006</td>\n",
       "      <td>3.94</td>\n",
       "      <td>438478</td>\n",
       "      <td>21.35</td>\n",
       "      <td>1615201</td>\n",
       "      <td>78.65</td>\n",
       "    </tr>\n",
       "    <tr>\n",
       "      <th>11</th>\n",
       "      <td>labels_tags</td>\n",
       "      <td>object</td>\n",
       "      <td>fr:delois-france</td>\n",
       "      <td>2053679</td>\n",
       "      <td>60380</td>\n",
       "      <td>2.94</td>\n",
       "      <td>438458</td>\n",
       "      <td>21.35</td>\n",
       "      <td>1615221</td>\n",
       "      <td>78.65</td>\n",
       "    </tr>\n",
       "    <tr>\n",
       "      <th>12</th>\n",
       "      <td>emb_codes</td>\n",
       "      <td>object</td>\n",
       "      <td>FR 72.264.002 EC</td>\n",
       "      <td>2053679</td>\n",
       "      <td>34208</td>\n",
       "      <td>1.67</td>\n",
       "      <td>123665</td>\n",
       "      <td>6.02</td>\n",
       "      <td>1930014</td>\n",
       "      <td>93.98</td>\n",
       "    </tr>\n",
       "    <tr>\n",
       "      <th>13</th>\n",
       "      <td>emb_codes_tags</td>\n",
       "      <td>object</td>\n",
       "      <td>fr-72-264-002-ec</td>\n",
       "      <td>2053679</td>\n",
       "      <td>29641</td>\n",
       "      <td>1.44</td>\n",
       "      <td>123618</td>\n",
       "      <td>6.02</td>\n",
       "      <td>1930061</td>\n",
       "      <td>93.98</td>\n",
       "    </tr>\n",
       "    <tr>\n",
       "      <th>14</th>\n",
       "      <td>cities_tags</td>\n",
       "      <td>object</td>\n",
       "      <td>sable-sur-sarthe-sarthe-france</td>\n",
       "      <td>2053679</td>\n",
       "      <td>7129</td>\n",
       "      <td>0.35</td>\n",
       "      <td>79644</td>\n",
       "      <td>3.88</td>\n",
       "      <td>1974035</td>\n",
       "      <td>96.12</td>\n",
       "    </tr>\n",
       "    <tr>\n",
       "      <th>15</th>\n",
       "      <td>countries</td>\n",
       "      <td>object</td>\n",
       "      <td>en:france</td>\n",
       "      <td>2053679</td>\n",
       "      <td>11126</td>\n",
       "      <td>0.54</td>\n",
       "      <td>2047493</td>\n",
       "      <td>99.70</td>\n",
       "      <td>6186</td>\n",
       "      <td>0.30</td>\n",
       "    </tr>\n",
       "    <tr>\n",
       "      <th>16</th>\n",
       "      <td>countries_tags</td>\n",
       "      <td>object</td>\n",
       "      <td>en:france</td>\n",
       "      <td>2053679</td>\n",
       "      <td>4403</td>\n",
       "      <td>0.21</td>\n",
       "      <td>2047488</td>\n",
       "      <td>99.70</td>\n",
       "      <td>6191</td>\n",
       "      <td>0.30</td>\n",
       "    </tr>\n",
       "    <tr>\n",
       "      <th>17</th>\n",
       "      <td>traces</td>\n",
       "      <td>object</td>\n",
       "      <td>en:eggs,en:milk</td>\n",
       "      <td>2053679</td>\n",
       "      <td>12777</td>\n",
       "      <td>0.62</td>\n",
       "      <td>104812</td>\n",
       "      <td>5.10</td>\n",
       "      <td>1948867</td>\n",
       "      <td>94.90</td>\n",
       "    </tr>\n",
       "    <tr>\n",
       "      <th>18</th>\n",
       "      <td>traces_tags</td>\n",
       "      <td>object</td>\n",
       "      <td>en:eggs,en:milk</td>\n",
       "      <td>2053679</td>\n",
       "      <td>12766</td>\n",
       "      <td>0.62</td>\n",
       "      <td>129529</td>\n",
       "      <td>6.31</td>\n",
       "      <td>1924150</td>\n",
       "      <td>93.69</td>\n",
       "    </tr>\n",
       "    <tr>\n",
       "      <th>19</th>\n",
       "      <td>additives_tags</td>\n",
       "      <td>object</td>\n",
       "      <td>en:e296,en:e330,en:e552,en:e950,en:e955</td>\n",
       "      <td>2053679</td>\n",
       "      <td>100577</td>\n",
       "      <td>4.90</td>\n",
       "      <td>423384</td>\n",
       "      <td>20.62</td>\n",
       "      <td>1630295</td>\n",
       "      <td>79.38</td>\n",
       "    </tr>\n",
       "    <tr>\n",
       "      <th>20</th>\n",
       "      <td>ingredients_from_palm_oil_tags</td>\n",
       "      <td>object</td>\n",
       "      <td>huile-de-palme</td>\n",
       "      <td>2053679</td>\n",
       "      <td>16</td>\n",
       "      <td>0.00</td>\n",
       "      <td>14505</td>\n",
       "      <td>0.71</td>\n",
       "      <td>2039174</td>\n",
       "      <td>99.29</td>\n",
       "    </tr>\n",
       "    <tr>\n",
       "      <th>21</th>\n",
       "      <td>ingredients_that_may_be_from_palm_oil_tags</td>\n",
       "      <td>object</td>\n",
       "      <td>e481-stearoyl-2-lactylate-de-sodium,e472e-este...</td>\n",
       "      <td>2053679</td>\n",
       "      <td>350</td>\n",
       "      <td>0.02</td>\n",
       "      <td>43295</td>\n",
       "      <td>2.11</td>\n",
       "      <td>2010384</td>\n",
       "      <td>97.89</td>\n",
       "    </tr>\n",
       "    <tr>\n",
       "      <th>22</th>\n",
       "      <td>states</td>\n",
       "      <td>object</td>\n",
       "      <td>en:to-be-completed, en:nutrition-facts-to-be-c...</td>\n",
       "      <td>2053679</td>\n",
       "      <td>6210</td>\n",
       "      <td>0.30</td>\n",
       "      <td>2053679</td>\n",
       "      <td>100.00</td>\n",
       "      <td>0</td>\n",
       "      <td>0.00</td>\n",
       "    </tr>\n",
       "    <tr>\n",
       "      <th>23</th>\n",
       "      <td>states_tags</td>\n",
       "      <td>object</td>\n",
       "      <td>en:to-be-completed,en:nutrition-facts-to-be-co...</td>\n",
       "      <td>2053679</td>\n",
       "      <td>6210</td>\n",
       "      <td>0.30</td>\n",
       "      <td>2053679</td>\n",
       "      <td>100.00</td>\n",
       "      <td>0</td>\n",
       "      <td>0.00</td>\n",
       "    </tr>\n",
       "  </tbody>\n",
       "</table>\n",
       "</div>"
      ],
      "text/plain": [
       "                                 Variable name Variable type  \\\n",
       "0                                    packaging        object   \n",
       "1                               packaging_tags        object   \n",
       "2                                       brands        object   \n",
       "3                                  brands_tags        object   \n",
       "4                                   categories        object   \n",
       "5                              categories_tags        object   \n",
       "6                                      origins        object   \n",
       "7                                 origins_tags        object   \n",
       "8                         manufacturing_places        object   \n",
       "9                    manufacturing_places_tags        object   \n",
       "10                                      labels        object   \n",
       "11                                 labels_tags        object   \n",
       "12                                   emb_codes        object   \n",
       "13                              emb_codes_tags        object   \n",
       "14                                 cities_tags        object   \n",
       "15                                   countries        object   \n",
       "16                              countries_tags        object   \n",
       "17                                      traces        object   \n",
       "18                                 traces_tags        object   \n",
       "19                              additives_tags        object   \n",
       "20              ingredients_from_palm_oil_tags        object   \n",
       "21  ingredients_that_may_be_from_palm_oil_tags        object   \n",
       "22                                      states        object   \n",
       "23                                 states_tags        object   \n",
       "\n",
       "                                              Example     Raws Distinct  \\\n",
       "0                                 barquette,plastique  2053679    57066   \n",
       "1                                 barquette,plastique  2053679    46485   \n",
       "2                                             endives  2053679   183520   \n",
       "3                                             endives  2053679   141427   \n",
       "4             Epicerie, Condiments, Sauces, Moutardes  2053679   117610   \n",
       "5    en:groceries,en:condiments,en:sauces,en:mustards  2053679    72803   \n",
       "6                                               Spain  2053679    14023   \n",
       "7                                            en:spain  2053679    11428   \n",
       "8                                       bénivay-ollon  2053679    28901   \n",
       "9                                       benivay-ollon  2053679    25973   \n",
       "10                                      Delois france  2053679    81006   \n",
       "11                                   fr:delois-france  2053679    60380   \n",
       "12                                   FR 72.264.002 EC  2053679    34208   \n",
       "13                                   fr-72-264-002-ec  2053679    29641   \n",
       "14                     sable-sur-sarthe-sarthe-france  2053679     7129   \n",
       "15                                          en:france  2053679    11126   \n",
       "16                                          en:france  2053679     4403   \n",
       "17                                    en:eggs,en:milk  2053679    12777   \n",
       "18                                    en:eggs,en:milk  2053679    12766   \n",
       "19            en:e296,en:e330,en:e552,en:e950,en:e955  2053679   100577   \n",
       "20                                     huile-de-palme  2053679       16   \n",
       "21  e481-stearoyl-2-lactylate-de-sodium,e472e-este...  2053679      350   \n",
       "22  en:to-be-completed, en:nutrition-facts-to-be-c...  2053679     6210   \n",
       "23  en:to-be-completed,en:nutrition-facts-to-be-co...  2053679     6210   \n",
       "\n",
       "    % distinct  Not NaN  % Not NaN      NaN  % NaN  \n",
       "0         2.78   315935      15.38  1737744  84.62  \n",
       "1         2.26   315895      15.38  1737784  84.62  \n",
       "2         8.94  1050597      51.16  1003082  48.84  \n",
       "3         6.89  1050528      51.15  1003151  48.85  \n",
       "4         5.73   945149      46.02  1108530  53.98  \n",
       "5         3.55   945141      46.02  1108538  53.98  \n",
       "6         0.68    88290       4.30  1965389  95.70  \n",
       "7         0.56    88160       4.29  1965519  95.71  \n",
       "8         1.41   128424       6.25  1925255  93.75  \n",
       "9         1.26   128364       6.25  1925315  93.75  \n",
       "10        3.94   438478      21.35  1615201  78.65  \n",
       "11        2.94   438458      21.35  1615221  78.65  \n",
       "12        1.67   123665       6.02  1930014  93.98  \n",
       "13        1.44   123618       6.02  1930061  93.98  \n",
       "14        0.35    79644       3.88  1974035  96.12  \n",
       "15        0.54  2047493      99.70     6186   0.30  \n",
       "16        0.21  2047488      99.70     6191   0.30  \n",
       "17        0.62   104812       5.10  1948867  94.90  \n",
       "18        0.62   129529       6.31  1924150  93.69  \n",
       "19        4.90   423384      20.62  1630295  79.38  \n",
       "20        0.00    14505       0.71  2039174  99.29  \n",
       "21        0.02    43295       2.11  2010384  97.89  \n",
       "22        0.30  2053679     100.00        0   0.00  \n",
       "23        0.30  2053679     100.00        0   0.00  "
      ]
     },
     "execution_count": 44,
     "metadata": {},
     "output_type": "execute_result"
    }
   ],
   "source": [
    "describe_variables_light(openfoodfacts.iloc[:,openfoodfacts.columns.isin(liste_col_tags)])"
   ]
  },
  {
   "cell_type": "code",
   "execution_count": 45,
   "id": "2dc70a53",
   "metadata": {
    "hidden": true
   },
   "outputs": [],
   "source": [
    "def completion_distinct_plots(data):\n",
    "    ''' fonction qui prend un dataframe en entrée et retourne 2 diagrammes en barres représentant le pourcentage \n",
    "    de données manquantes et le pourcentage de données distinctes du dataset. Cette fonction nécessite que\n",
    "    soit chargée auparavant la fonction describe_variables '''   \n",
    "    \n",
    "    # Initialisation de la grille avec 1 ligne et 2 colonnes\n",
    "    fig = plt.figure(figsize=(15,7), constrained_layout=True)\n",
    "    gs = GridSpec(nrows=1, ncols=2, figure=fig)\n",
    "\n",
    "    # Premier graphique\n",
    "    ax1 = fig.add_subplot(gs[0,0]) # emplacement dans la grille\n",
    "    ax1 = sns.barplot(y = 'Variable name', x = '% NaN', data = describe_variables_light(data), palette = 'muted')\n",
    "    plt.title(\"% NaN\")\n",
    "    plt.ylabel(\"\")\n",
    "    plt.xlabel(\"% NaN\")\n",
    "    etiquette_h(ax1)\n",
    "        \n",
    "\n",
    "# Deuxième graphique\n",
    "    ax2 = fig.add_subplot(gs[0,1]) # emplacement dans la grille\n",
    "    ax2 = sns.barplot(y = 'Variable name', x = '% distinct', data = describe_variables_light(data), palette = 'muted')\n",
    "    plt.title(\"% valeurs distinctes\")\n",
    "    plt.ylabel(\"\")\n",
    "    plt.xlabel(\"% distinct\")\n",
    "    etiquette_h(ax2);"
   ]
  },
  {
   "cell_type": "code",
   "execution_count": 46,
   "id": "e07ffde6",
   "metadata": {
    "hidden": true
   },
   "outputs": [
    {
     "data": {
      "image/png": "[encoded data removed]",
      "text/plain": [
       "<Figure size 1080x504 with 2 Axes>"
      ]
     },
     "metadata": {
      "needs_background": "light"
     },
     "output_type": "display_data"
    }
   ],
   "source": [
    "completion_distinct_plots(openfoodfacts.iloc[:,openfoodfacts.columns.isin(liste_col_tags)])"
   ]
  },
  {
   "cell_type": "markdown",
   "id": "401c2696",
   "metadata": {
    "hidden": true
   },
   "source": [
    "Nous remarquons que les variables se terminant par _tags comportent souvent le même % de NaN que la variable associée mais le % de valeurs distinctes est quant à lui inférieur. Il semble être plus intéressant de conserver les variables se terminant par _tags et de supprimer les variables associées afin d'éviter la redondance d'information. De plus le site openfoodfacts nous indique que les variables _tags sont normalisées. Regardons quelques exemples avant de supprimer toutes les variables associées à celles se terminant par _tags."
   ]
  },
  {
   "cell_type": "code",
   "execution_count": 47,
   "id": "b6075bc8",
   "metadata": {
    "hidden": true
   },
   "outputs": [
    {
     "data": {
      "text/html": [
       "<div>\n",
       "<style scoped>\n",
       "    .dataframe tbody tr th:only-of-type {\n",
       "        vertical-align: middle;\n",
       "    }\n",
       "\n",
       "    .dataframe tbody tr th {\n",
       "        vertical-align: top;\n",
       "    }\n",
       "\n",
       "    .dataframe thead th {\n",
       "        text-align: right;\n",
       "    }\n",
       "</style>\n",
       "<table border=\"1\" class=\"dataframe\">\n",
       "  <thead>\n",
       "    <tr style=\"text-align: right;\">\n",
       "      <th></th>\n",
       "      <th>brands</th>\n",
       "      <th>brands_tags</th>\n",
       "    </tr>\n",
       "  </thead>\n",
       "  <tbody>\n",
       "    <tr>\n",
       "      <th>1055089</th>\n",
       "      <td>Leclerc</td>\n",
       "      <td>leclerc</td>\n",
       "    </tr>\n",
       "    <tr>\n",
       "      <th>779046</th>\n",
       "      <td>Jean Caby</td>\n",
       "      <td>jean-caby</td>\n",
       "    </tr>\n",
       "    <tr>\n",
       "      <th>553653</th>\n",
       "      <td>Les Délices des 7 Vallées</td>\n",
       "      <td>les-delices-des-7-vallees</td>\n",
       "    </tr>\n",
       "    <tr>\n",
       "      <th>497332</th>\n",
       "      <td>Justin's</td>\n",
       "      <td>justin-s</td>\n",
       "    </tr>\n",
       "    <tr>\n",
       "      <th>863458</th>\n",
       "      <td>Ederki</td>\n",
       "      <td>ederki</td>\n",
       "    </tr>\n",
       "    <tr>\n",
       "      <th>823125</th>\n",
       "      <td>Cora</td>\n",
       "      <td>cora</td>\n",
       "    </tr>\n",
       "    <tr>\n",
       "      <th>1111471</th>\n",
       "      <td>Baguette Paillasse</td>\n",
       "      <td>baguette-paillasse</td>\n",
       "    </tr>\n",
       "    <tr>\n",
       "      <th>499679</th>\n",
       "      <td>Redhawk Food Group  Inc.</td>\n",
       "      <td>redhawk-food-group-inc</td>\n",
       "    </tr>\n",
       "    <tr>\n",
       "      <th>1399050</th>\n",
       "      <td>Delhaize</td>\n",
       "      <td>delhaize</td>\n",
       "    </tr>\n",
       "    <tr>\n",
       "      <th>673105</th>\n",
       "      <td>Merevale</td>\n",
       "      <td>merevale</td>\n",
       "    </tr>\n",
       "  </tbody>\n",
       "</table>\n",
       "</div>"
      ],
      "text/plain": [
       "                            brands                brands_tags\n",
       "1055089                    Leclerc                    leclerc\n",
       "779046                   Jean Caby                  jean-caby\n",
       "553653   Les Délices des 7 Vallées  les-delices-des-7-vallees\n",
       "497332                    Justin's                   justin-s\n",
       "863458                      Ederki                     ederki\n",
       "823125                        Cora                       cora\n",
       "1111471         Baguette Paillasse         baguette-paillasse\n",
       "499679    Redhawk Food Group  Inc.     redhawk-food-group-inc\n",
       "1399050                   Delhaize                   delhaize\n",
       "673105                    Merevale                   merevale"
      ]
     },
     "execution_count": 47,
     "metadata": {},
     "output_type": "execute_result"
    }
   ],
   "source": [
    "openfoodfacts[~openfoodfacts['brands'].isnull()][['brands', 'brands_tags']].sample(10)"
   ]
  },
  {
   "cell_type": "code",
   "execution_count": 48,
   "id": "80cde3fd",
   "metadata": {
    "hidden": true
   },
   "outputs": [
    {
     "data": {
      "text/html": [
       "<div>\n",
       "<style scoped>\n",
       "    .dataframe tbody tr th:only-of-type {\n",
       "        vertical-align: middle;\n",
       "    }\n",
       "\n",
       "    .dataframe tbody tr th {\n",
       "        vertical-align: top;\n",
       "    }\n",
       "\n",
       "    .dataframe thead th {\n",
       "        text-align: right;\n",
       "    }\n",
       "</style>\n",
       "<table border=\"1\" class=\"dataframe\">\n",
       "  <thead>\n",
       "    <tr style=\"text-align: right;\">\n",
       "      <th></th>\n",
       "      <th>categories</th>\n",
       "      <th>categories_tags</th>\n",
       "    </tr>\n",
       "  </thead>\n",
       "  <tbody>\n",
       "    <tr>\n",
       "      <th>209127</th>\n",
       "      <td>Groceries, Sauces</td>\n",
       "      <td>en:groceries,en:sauces</td>\n",
       "    </tr>\n",
       "    <tr>\n",
       "      <th>651061</th>\n",
       "      <td>Alimentos y bebidas de origen vegetal, Bebidas...</td>\n",
       "      <td>en:plant-based-foods-and-beverages,en:beverage...</td>\n",
       "    </tr>\n",
       "    <tr>\n",
       "      <th>241261</th>\n",
       "      <td>Biscuits and cakes</td>\n",
       "      <td>en:biscuits-and-cakes</td>\n",
       "    </tr>\n",
       "    <tr>\n",
       "      <th>1231876</th>\n",
       "      <td>Dairies, Fermented foods, Fermented milk produ...</td>\n",
       "      <td>en:dairies,en:fermented-foods,en:fermented-mil...</td>\n",
       "    </tr>\n",
       "    <tr>\n",
       "      <th>594379</th>\n",
       "      <td>Dairies,Fermented foods,Fermented milk product...</td>\n",
       "      <td>en:dairies,en:fermented-foods,en:fermented-mil...</td>\n",
       "    </tr>\n",
       "    <tr>\n",
       "      <th>903856</th>\n",
       "      <td>Plats préparés, Pizzas tartes salées et quiche...</td>\n",
       "      <td>en:meals,en:pizzas-pies-and-quiches,en:quiches...</td>\n",
       "    </tr>\n",
       "    <tr>\n",
       "      <th>1003698</th>\n",
       "      <td>Pâtes à pizza</td>\n",
       "      <td>en:pizza-dough</td>\n",
       "    </tr>\n",
       "    <tr>\n",
       "      <th>811630</th>\n",
       "      <td>fr:jambons-crus</td>\n",
       "      <td>en:meats,en:prepared-meats,en:hams,en:cured-ham</td>\n",
       "    </tr>\n",
       "    <tr>\n",
       "      <th>41860</th>\n",
       "      <td>Dairies, Fermented foods, Fermented milk produ...</td>\n",
       "      <td>en:dairies,en:fermented-foods,en:fermented-mil...</td>\n",
       "    </tr>\n",
       "    <tr>\n",
       "      <th>498211</th>\n",
       "      <td>Snacks, Sweet snacks, Confectioneries, Chocola...</td>\n",
       "      <td>en:snacks,en:sweet-snacks,en:cocoa-and-its-pro...</td>\n",
       "    </tr>\n",
       "  </tbody>\n",
       "</table>\n",
       "</div>"
      ],
      "text/plain": [
       "                                                categories  \\\n",
       "209127                                   Groceries, Sauces   \n",
       "651061   Alimentos y bebidas de origen vegetal, Bebidas...   \n",
       "241261                                  Biscuits and cakes   \n",
       "1231876  Dairies, Fermented foods, Fermented milk produ...   \n",
       "594379   Dairies,Fermented foods,Fermented milk product...   \n",
       "903856   Plats préparés, Pizzas tartes salées et quiche...   \n",
       "1003698                                      Pâtes à pizza   \n",
       "811630                                     fr:jambons-crus   \n",
       "41860    Dairies, Fermented foods, Fermented milk produ...   \n",
       "498211   Snacks, Sweet snacks, Confectioneries, Chocola...   \n",
       "\n",
       "                                           categories_tags  \n",
       "209127                              en:groceries,en:sauces  \n",
       "651061   en:plant-based-foods-and-beverages,en:beverage...  \n",
       "241261                               en:biscuits-and-cakes  \n",
       "1231876  en:dairies,en:fermented-foods,en:fermented-mil...  \n",
       "594379   en:dairies,en:fermented-foods,en:fermented-mil...  \n",
       "903856   en:meals,en:pizzas-pies-and-quiches,en:quiches...  \n",
       "1003698                                     en:pizza-dough  \n",
       "811630     en:meats,en:prepared-meats,en:hams,en:cured-ham  \n",
       "41860    en:dairies,en:fermented-foods,en:fermented-mil...  \n",
       "498211   en:snacks,en:sweet-snacks,en:cocoa-and-its-pro...  "
      ]
     },
     "execution_count": 48,
     "metadata": {},
     "output_type": "execute_result"
    }
   ],
   "source": [
    "openfoodfacts[~openfoodfacts['categories'].isnull()][['categories', 'categories_tags']].sample(10)"
   ]
  },
  {
   "cell_type": "code",
   "execution_count": 49,
   "id": "9898e0f1",
   "metadata": {
    "hidden": true
   },
   "outputs": [
    {
     "data": {
      "text/html": [
       "<div>\n",
       "<style scoped>\n",
       "    .dataframe tbody tr th:only-of-type {\n",
       "        vertical-align: middle;\n",
       "    }\n",
       "\n",
       "    .dataframe tbody tr th {\n",
       "        vertical-align: top;\n",
       "    }\n",
       "\n",
       "    .dataframe thead th {\n",
       "        text-align: right;\n",
       "    }\n",
       "</style>\n",
       "<table border=\"1\" class=\"dataframe\">\n",
       "  <thead>\n",
       "    <tr style=\"text-align: right;\">\n",
       "      <th></th>\n",
       "      <th>labels</th>\n",
       "      <th>labels_tags</th>\n",
       "    </tr>\n",
       "  </thead>\n",
       "  <tbody>\n",
       "    <tr>\n",
       "      <th>1109749</th>\n",
       "      <td>Bio, Bio européen, Agriculture UE/Non UE, FR-B...</td>\n",
       "      <td>en:organic,en:eu-organic,en:non-eu-agriculture...</td>\n",
       "    </tr>\n",
       "    <tr>\n",
       "      <th>803785</th>\n",
       "      <td>en:nutriscore-grade-e</td>\n",
       "      <td>en:nutriscore,en:nutriscore-grade-e</td>\n",
       "    </tr>\n",
       "    <tr>\n",
       "      <th>1430827</th>\n",
       "      <td>en:organic</td>\n",
       "      <td>en:organic</td>\n",
       "    </tr>\n",
       "    <tr>\n",
       "      <th>1255926</th>\n",
       "      <td>Organic, de:Bio 7 Initiative, en:de-oko-001</td>\n",
       "      <td>en:organic,en:eu-organic,de:bio-7-initiative,e...</td>\n",
       "    </tr>\n",
       "    <tr>\n",
       "      <th>1632072</th>\n",
       "      <td>en:palm-oil-free</td>\n",
       "      <td>en:no-palm-oil</td>\n",
       "    </tr>\n",
       "    <tr>\n",
       "      <th>812431</th>\n",
       "      <td>en:FSC, FSC Mix, Point Vert, Sans sucre ajouté...</td>\n",
       "      <td>en:fsc,en:fsc-mix,en:green-dot,en:no-added-sug...</td>\n",
       "    </tr>\n",
       "    <tr>\n",
       "      <th>1470264</th>\n",
       "      <td>PL-EKO-02</td>\n",
       "      <td>en:organic,en:eu-organic,en:pl-eko-02</td>\n",
       "    </tr>\n",
       "    <tr>\n",
       "      <th>630288</th>\n",
       "      <td>Viande Française, Viande Porcine Française, Sa...</td>\n",
       "      <td>en:french-meat,en:french-pork,en:no-colorings</td>\n",
       "    </tr>\n",
       "    <tr>\n",
       "      <th>1823922</th>\n",
       "      <td>Sin gluten,Contiene una fuente de fenilalanina</td>\n",
       "      <td>en:no-gluten,en:contains-a-source-of-phenylala...</td>\n",
       "    </tr>\n",
       "    <tr>\n",
       "      <th>1806503</th>\n",
       "      <td>en:es-eco-019-ct</td>\n",
       "      <td>en:organic,en:eu-organic,en:es-eco-019-ct</td>\n",
       "    </tr>\n",
       "  </tbody>\n",
       "</table>\n",
       "</div>"
      ],
      "text/plain": [
       "                                                    labels  \\\n",
       "1109749  Bio, Bio européen, Agriculture UE/Non UE, FR-B...   \n",
       "803785                               en:nutriscore-grade-e   \n",
       "1430827                                         en:organic   \n",
       "1255926        Organic, de:Bio 7 Initiative, en:de-oko-001   \n",
       "1632072                                   en:palm-oil-free   \n",
       "812431   en:FSC, FSC Mix, Point Vert, Sans sucre ajouté...   \n",
       "1470264                                          PL-EKO-02   \n",
       "630288   Viande Française, Viande Porcine Française, Sa...   \n",
       "1823922     Sin gluten,Contiene una fuente de fenilalanina   \n",
       "1806503                                   en:es-eco-019-ct   \n",
       "\n",
       "                                               labels_tags  \n",
       "1109749  en:organic,en:eu-organic,en:non-eu-agriculture...  \n",
       "803785                 en:nutriscore,en:nutriscore-grade-e  \n",
       "1430827                                         en:organic  \n",
       "1255926  en:organic,en:eu-organic,de:bio-7-initiative,e...  \n",
       "1632072                                     en:no-palm-oil  \n",
       "812431   en:fsc,en:fsc-mix,en:green-dot,en:no-added-sug...  \n",
       "1470264              en:organic,en:eu-organic,en:pl-eko-02  \n",
       "630288       en:french-meat,en:french-pork,en:no-colorings  \n",
       "1823922  en:no-gluten,en:contains-a-source-of-phenylala...  \n",
       "1806503          en:organic,en:eu-organic,en:es-eco-019-ct  "
      ]
     },
     "execution_count": 49,
     "metadata": {},
     "output_type": "execute_result"
    }
   ],
   "source": [
    "openfoodfacts[~openfoodfacts['labels'].isnull()][['labels', 'labels_tags']].sample(10)"
   ]
  },
  {
   "cell_type": "markdown",
   "id": "9e248742",
   "metadata": {
    "hidden": true
   },
   "source": [
    "Les variables semblent bien redondantes entre elles. Nous remarquons également que les variables se terminant par _tags semblent être le plus souvent traduites en anglais. Nous décidons de garder ces dernières."
   ]
  },
  {
   "cell_type": "code",
   "execution_count": 50,
   "id": "234ee4a2",
   "metadata": {
    "hidden": true
   },
   "outputs": [
    {
     "name": "stdout",
     "output_type": "stream",
     "text": [
      "Liste des variables à supprimer: \n",
      "\n",
      " ['packaging', 'brands', 'categories', 'origins', 'manufacturing_places', 'labels', 'emb_codes', 'countries', 'traces', 'states']\n"
     ]
    }
   ],
   "source": [
    "liste_col_suppr = openfoodfacts.iloc[:,(openfoodfacts.columns.isin(liste_col_tags)) & \n",
    "                                        (~openfoodfacts.columns.str.endswith('_tags'))].columns.unique().tolist()\n",
    "print(f\"Liste des variables à supprimer: \\n\\n {liste_col_suppr}\")"
   ]
  },
  {
   "cell_type": "code",
   "execution_count": 51,
   "id": "0fb40e8e",
   "metadata": {
    "hidden": true
   },
   "outputs": [
    {
     "name": "stdout",
     "output_type": "stream",
     "text": [
      "Nombre de lignes: 2053679\n",
      "Nombre de variables: 137\n"
     ]
    }
   ],
   "source": [
    "# Suppression des variables sans suffixe _tags\n",
    "openfoodfacts_tags = openfoodfacts.drop(liste_col_suppr, axis = 'columns', inplace = False)\n",
    "\n",
    "print(f\"Nombre de lignes: {openfoodfacts_tags.shape[0]}\\nNombre de variables: {openfoodfacts_tags.shape[1]}\")"
   ]
  },
  {
   "cell_type": "markdown",
   "id": "6f346f92",
   "metadata": {
    "heading_collapsed": true
   },
   "source": [
    "### en <a class=\"anchor\" id=\"en\"></a>"
   ]
  },
  {
   "cell_type": "markdown",
   "id": "8c0a9218",
   "metadata": {
    "hidden": true
   },
   "source": [
    "La documentation nous indique que ces variables sont la traduction des variables _tags dans la langue indiquée. Elles doivent être de type \"object\"."
   ]
  },
  {
   "cell_type": "code",
   "execution_count": 52,
   "id": "fd050096",
   "metadata": {
    "hidden": true
   },
   "outputs": [
    {
     "name": "stdout",
     "output_type": "stream",
     "text": [
      "['categories_en', 'origins_en', 'labels_en', 'countries_en', 'traces_en', 'additives_en', 'states_en', 'main_category_en']\n"
     ]
    }
   ],
   "source": [
    "# Liste des colonnes qui se terminent par _en\n",
    "col_en = openfoodfacts_tags.iloc[:,openfoodfacts_tags.columns.str.endswith('_en')].columns.tolist()\n",
    "print(col_en)"
   ]
  },
  {
   "cell_type": "code",
   "execution_count": 53,
   "id": "3f9a68cc",
   "metadata": {
    "hidden": true
   },
   "outputs": [],
   "source": [
    "# On cast les variables en str\n",
    "for col in col_en:\n",
    "    openfoodfacts_tags[col] = openfoodfacts_tags[col].astype(\"object\")"
   ]
  },
  {
   "cell_type": "code",
   "execution_count": 54,
   "id": "aeaa1a61",
   "metadata": {
    "hidden": true
   },
   "outputs": [
    {
     "data": {
      "text/plain": [
       "Series([], dtype: object)"
      ]
     },
     "execution_count": 54,
     "metadata": {},
     "output_type": "execute_result"
    }
   ],
   "source": [
    "openfoodfacts_tags.iloc[:,openfoodfacts_tags.columns.isin(col_en)].select_dtypes(exclude = ['object']).dtypes"
   ]
  },
  {
   "cell_type": "code",
   "execution_count": 55,
   "id": "7dd8de1e",
   "metadata": {
    "hidden": true
   },
   "outputs": [
    {
     "name": "stdout",
     "output_type": "stream",
     "text": [
      "['additives', 'additives_en', 'categories', 'categories_en', 'countries', 'countries_en', 'labels', 'labels_en', 'main_category', 'main_category_en', 'origins', 'origins_en', 'states', 'states_en', 'traces', 'traces_en']\n"
     ]
    }
   ],
   "source": [
    "print(liste_col_endswith(openfoodfacts_tags, 'en'))"
   ]
  },
  {
   "cell_type": "markdown",
   "id": "a0d82713",
   "metadata": {
    "hidden": true
   },
   "source": [
    "On retrouve dans cette liste les préfixes des variables qui se terminent par _tags. Lorsque l'on applique la fonction précédente on ne récupère que le préfixe et la variable associée. Il faudrait en fait récupérer tous les préfixes et regarder les variables associées: _tags, _en etc. Améliorons la fonction."
   ]
  },
  {
   "cell_type": "code",
   "execution_count": 56,
   "id": "26558f78",
   "metadata": {
    "hidden": true
   },
   "outputs": [],
   "source": [
    "def liste_col_prefixe(dataframe, keyword):\n",
    "    ''' Fonction qui permet de récupérer le préfixe des colonnes se terminant par un mot clef et qui retourne une liste\n",
    "    de ces variables et des variables associées qui contiennent le préfixe. L'objectif est de s'assurer que ces variables\n",
    "    n'apportent pas la même information.'''\n",
    "    \n",
    "    liste_col_keyword_prefixe = [i.replace(f'_{keyword}', '') for i in dataframe.iloc[\n",
    "    :,dataframe.columns.str.endswith(keyword)].columns.unique().tolist()]\n",
    "    \n",
    "    liste_col_select = dataframe.iloc[:, dataframe.columns.str.startswith(\n",
    "        tuple(liste_col_keyword_prefixe))].columns.unique().tolist()\n",
    "    \n",
    "    liste_col_select.sort()\n",
    "                                      \n",
    "    return dataframe.iloc[:,dataframe.columns.isin(liste_col_select)].columns"
   ]
  },
  {
   "cell_type": "code",
   "execution_count": 57,
   "id": "8db453e8",
   "metadata": {
    "hidden": true
   },
   "outputs": [],
   "source": [
    "liste_col_en = liste_col_prefixe(openfoodfacts_tags, 'en')"
   ]
  },
  {
   "cell_type": "code",
   "execution_count": 58,
   "id": "f18f2a26",
   "metadata": {
    "hidden": true
   },
   "outputs": [
    {
     "data": {
      "text/html": [
       "<div>\n",
       "<style scoped>\n",
       "    .dataframe tbody tr th:only-of-type {\n",
       "        vertical-align: middle;\n",
       "    }\n",
       "\n",
       "    .dataframe tbody tr th {\n",
       "        vertical-align: top;\n",
       "    }\n",
       "\n",
       "    .dataframe thead th {\n",
       "        text-align: right;\n",
       "    }\n",
       "</style>\n",
       "<table border=\"1\" class=\"dataframe\">\n",
       "  <thead>\n",
       "    <tr style=\"text-align: right;\">\n",
       "      <th></th>\n",
       "      <th>Variable name</th>\n",
       "      <th>Variable type</th>\n",
       "      <th>Example</th>\n",
       "      <th>Raws</th>\n",
       "      <th>Distinct</th>\n",
       "      <th>% distinct</th>\n",
       "      <th>Not NaN</th>\n",
       "      <th>% Not NaN</th>\n",
       "      <th>NaN</th>\n",
       "      <th>% NaN</th>\n",
       "    </tr>\n",
       "  </thead>\n",
       "  <tbody>\n",
       "    <tr>\n",
       "      <th>0</th>\n",
       "      <td>categories_tags</td>\n",
       "      <td>object</td>\n",
       "      <td>en:groceries,en:condiments,en:sauces,en:mustards</td>\n",
       "      <td>2053679</td>\n",
       "      <td>72803</td>\n",
       "      <td>3.55</td>\n",
       "      <td>945141</td>\n",
       "      <td>46.02</td>\n",
       "      <td>1108538</td>\n",
       "      <td>53.98</td>\n",
       "    </tr>\n",
       "    <tr>\n",
       "      <th>1</th>\n",
       "      <td>categories_en</td>\n",
       "      <td>object</td>\n",
       "      <td>Groceries,Condiments,Sauces,Mustards</td>\n",
       "      <td>2053679</td>\n",
       "      <td>72800</td>\n",
       "      <td>3.54</td>\n",
       "      <td>945141</td>\n",
       "      <td>46.02</td>\n",
       "      <td>1108538</td>\n",
       "      <td>53.98</td>\n",
       "    </tr>\n",
       "    <tr>\n",
       "      <th>2</th>\n",
       "      <td>origins_tags</td>\n",
       "      <td>object</td>\n",
       "      <td>en:spain</td>\n",
       "      <td>2053679</td>\n",
       "      <td>11428</td>\n",
       "      <td>0.56</td>\n",
       "      <td>88160</td>\n",
       "      <td>4.29</td>\n",
       "      <td>1965519</td>\n",
       "      <td>95.71</td>\n",
       "    </tr>\n",
       "    <tr>\n",
       "      <th>3</th>\n",
       "      <td>origins_en</td>\n",
       "      <td>object</td>\n",
       "      <td>Spain</td>\n",
       "      <td>2053679</td>\n",
       "      <td>11389</td>\n",
       "      <td>0.55</td>\n",
       "      <td>88160</td>\n",
       "      <td>4.29</td>\n",
       "      <td>1965519</td>\n",
       "      <td>95.71</td>\n",
       "    </tr>\n",
       "    <tr>\n",
       "      <th>4</th>\n",
       "      <td>labels_tags</td>\n",
       "      <td>object</td>\n",
       "      <td>fr:delois-france</td>\n",
       "      <td>2053679</td>\n",
       "      <td>60380</td>\n",
       "      <td>2.94</td>\n",
       "      <td>438458</td>\n",
       "      <td>21.35</td>\n",
       "      <td>1615221</td>\n",
       "      <td>78.65</td>\n",
       "    </tr>\n",
       "    <tr>\n",
       "      <th>5</th>\n",
       "      <td>labels_en</td>\n",
       "      <td>object</td>\n",
       "      <td>fr:delois-france</td>\n",
       "      <td>2053679</td>\n",
       "      <td>60362</td>\n",
       "      <td>2.94</td>\n",
       "      <td>438458</td>\n",
       "      <td>21.35</td>\n",
       "      <td>1615221</td>\n",
       "      <td>78.65</td>\n",
       "    </tr>\n",
       "    <tr>\n",
       "      <th>6</th>\n",
       "      <td>countries_tags</td>\n",
       "      <td>object</td>\n",
       "      <td>en:france</td>\n",
       "      <td>2053679</td>\n",
       "      <td>4403</td>\n",
       "      <td>0.21</td>\n",
       "      <td>2047488</td>\n",
       "      <td>99.70</td>\n",
       "      <td>6191</td>\n",
       "      <td>0.30</td>\n",
       "    </tr>\n",
       "    <tr>\n",
       "      <th>7</th>\n",
       "      <td>countries_en</td>\n",
       "      <td>object</td>\n",
       "      <td>France</td>\n",
       "      <td>2053679</td>\n",
       "      <td>4403</td>\n",
       "      <td>0.21</td>\n",
       "      <td>2047488</td>\n",
       "      <td>99.70</td>\n",
       "      <td>6191</td>\n",
       "      <td>0.30</td>\n",
       "    </tr>\n",
       "    <tr>\n",
       "      <th>8</th>\n",
       "      <td>traces_tags</td>\n",
       "      <td>object</td>\n",
       "      <td>en:eggs,en:milk</td>\n",
       "      <td>2053679</td>\n",
       "      <td>12766</td>\n",
       "      <td>0.62</td>\n",
       "      <td>129529</td>\n",
       "      <td>6.31</td>\n",
       "      <td>1924150</td>\n",
       "      <td>93.69</td>\n",
       "    </tr>\n",
       "    <tr>\n",
       "      <th>9</th>\n",
       "      <td>traces_en</td>\n",
       "      <td>object</td>\n",
       "      <td>Eggs,Milk</td>\n",
       "      <td>2053679</td>\n",
       "      <td>12766</td>\n",
       "      <td>0.62</td>\n",
       "      <td>129529</td>\n",
       "      <td>6.31</td>\n",
       "      <td>1924150</td>\n",
       "      <td>93.69</td>\n",
       "    </tr>\n",
       "    <tr>\n",
       "      <th>10</th>\n",
       "      <td>additives_n</td>\n",
       "      <td>float64</td>\n",
       "      <td>0.0</td>\n",
       "      <td>2053679</td>\n",
       "      <td>40</td>\n",
       "      <td>0.00</td>\n",
       "      <td>732673</td>\n",
       "      <td>35.68</td>\n",
       "      <td>1321006</td>\n",
       "      <td>64.32</td>\n",
       "    </tr>\n",
       "    <tr>\n",
       "      <th>11</th>\n",
       "      <td>additives_tags</td>\n",
       "      <td>object</td>\n",
       "      <td>en:e296,en:e330,en:e552,en:e950,en:e955</td>\n",
       "      <td>2053679</td>\n",
       "      <td>100577</td>\n",
       "      <td>4.90</td>\n",
       "      <td>423384</td>\n",
       "      <td>20.62</td>\n",
       "      <td>1630295</td>\n",
       "      <td>79.38</td>\n",
       "    </tr>\n",
       "    <tr>\n",
       "      <th>12</th>\n",
       "      <td>additives_en</td>\n",
       "      <td>object</td>\n",
       "      <td>E296 - Malic acid,E330 - Citric acid,E552 - Ca...</td>\n",
       "      <td>2053679</td>\n",
       "      <td>100577</td>\n",
       "      <td>4.90</td>\n",
       "      <td>423384</td>\n",
       "      <td>20.62</td>\n",
       "      <td>1630295</td>\n",
       "      <td>79.38</td>\n",
       "    </tr>\n",
       "    <tr>\n",
       "      <th>13</th>\n",
       "      <td>states_tags</td>\n",
       "      <td>object</td>\n",
       "      <td>en:to-be-completed,en:nutrition-facts-to-be-co...</td>\n",
       "      <td>2053679</td>\n",
       "      <td>6210</td>\n",
       "      <td>0.30</td>\n",
       "      <td>2053679</td>\n",
       "      <td>100.00</td>\n",
       "      <td>0</td>\n",
       "      <td>0.00</td>\n",
       "    </tr>\n",
       "    <tr>\n",
       "      <th>14</th>\n",
       "      <td>states_en</td>\n",
       "      <td>object</td>\n",
       "      <td>To be completed,Nutrition facts to be complete...</td>\n",
       "      <td>2053679</td>\n",
       "      <td>6210</td>\n",
       "      <td>0.30</td>\n",
       "      <td>2053679</td>\n",
       "      <td>100.00</td>\n",
       "      <td>0</td>\n",
       "      <td>0.00</td>\n",
       "    </tr>\n",
       "    <tr>\n",
       "      <th>15</th>\n",
       "      <td>main_category</td>\n",
       "      <td>object</td>\n",
       "      <td>en:mustards</td>\n",
       "      <td>2053679</td>\n",
       "      <td>32887</td>\n",
       "      <td>1.60</td>\n",
       "      <td>945141</td>\n",
       "      <td>46.02</td>\n",
       "      <td>1108538</td>\n",
       "      <td>53.98</td>\n",
       "    </tr>\n",
       "    <tr>\n",
       "      <th>16</th>\n",
       "      <td>main_category_en</td>\n",
       "      <td>object</td>\n",
       "      <td>Mustards</td>\n",
       "      <td>2053679</td>\n",
       "      <td>32885</td>\n",
       "      <td>1.60</td>\n",
       "      <td>945141</td>\n",
       "      <td>46.02</td>\n",
       "      <td>1108538</td>\n",
       "      <td>53.98</td>\n",
       "    </tr>\n",
       "  </tbody>\n",
       "</table>\n",
       "</div>"
      ],
      "text/plain": [
       "       Variable name Variable type  \\\n",
       "0    categories_tags        object   \n",
       "1      categories_en        object   \n",
       "2       origins_tags        object   \n",
       "3         origins_en        object   \n",
       "4        labels_tags        object   \n",
       "5          labels_en        object   \n",
       "6     countries_tags        object   \n",
       "7       countries_en        object   \n",
       "8        traces_tags        object   \n",
       "9          traces_en        object   \n",
       "10       additives_n       float64   \n",
       "11    additives_tags        object   \n",
       "12      additives_en        object   \n",
       "13       states_tags        object   \n",
       "14         states_en        object   \n",
       "15     main_category        object   \n",
       "16  main_category_en        object   \n",
       "\n",
       "                                              Example     Raws Distinct  \\\n",
       "0    en:groceries,en:condiments,en:sauces,en:mustards  2053679    72803   \n",
       "1                Groceries,Condiments,Sauces,Mustards  2053679    72800   \n",
       "2                                            en:spain  2053679    11428   \n",
       "3                                               Spain  2053679    11389   \n",
       "4                                    fr:delois-france  2053679    60380   \n",
       "5                                    fr:delois-france  2053679    60362   \n",
       "6                                           en:france  2053679     4403   \n",
       "7                                              France  2053679     4403   \n",
       "8                                     en:eggs,en:milk  2053679    12766   \n",
       "9                                           Eggs,Milk  2053679    12766   \n",
       "10                                                0.0  2053679       40   \n",
       "11            en:e296,en:e330,en:e552,en:e950,en:e955  2053679   100577   \n",
       "12  E296 - Malic acid,E330 - Citric acid,E552 - Ca...  2053679   100577   \n",
       "13  en:to-be-completed,en:nutrition-facts-to-be-co...  2053679     6210   \n",
       "14  To be completed,Nutrition facts to be complete...  2053679     6210   \n",
       "15                                        en:mustards  2053679    32887   \n",
       "16                                           Mustards  2053679    32885   \n",
       "\n",
       "    % distinct  Not NaN  % Not NaN      NaN  % NaN  \n",
       "0         3.55   945141      46.02  1108538  53.98  \n",
       "1         3.54   945141      46.02  1108538  53.98  \n",
       "2         0.56    88160       4.29  1965519  95.71  \n",
       "3         0.55    88160       4.29  1965519  95.71  \n",
       "4         2.94   438458      21.35  1615221  78.65  \n",
       "5         2.94   438458      21.35  1615221  78.65  \n",
       "6         0.21  2047488      99.70     6191   0.30  \n",
       "7         0.21  2047488      99.70     6191   0.30  \n",
       "8         0.62   129529       6.31  1924150  93.69  \n",
       "9         0.62   129529       6.31  1924150  93.69  \n",
       "10        0.00   732673      35.68  1321006  64.32  \n",
       "11        4.90   423384      20.62  1630295  79.38  \n",
       "12        4.90   423384      20.62  1630295  79.38  \n",
       "13        0.30  2053679     100.00        0   0.00  \n",
       "14        0.30  2053679     100.00        0   0.00  \n",
       "15        1.60   945141      46.02  1108538  53.98  \n",
       "16        1.60   945141      46.02  1108538  53.98  "
      ]
     },
     "execution_count": 58,
     "metadata": {},
     "output_type": "execute_result"
    }
   ],
   "source": [
    "describe_variables_light(openfoodfacts_tags.iloc[:,openfoodfacts_tags.columns.isin(liste_col_en)])"
   ]
  },
  {
   "cell_type": "code",
   "execution_count": 59,
   "id": "c93268b0",
   "metadata": {
    "hidden": true
   },
   "outputs": [
    {
     "data": {
      "image/png": "[encoded data removed]",
      "text/plain": [
       "<Figure size 1080x504 with 2 Axes>"
      ]
     },
     "metadata": {
      "needs_background": "light"
     },
     "output_type": "display_data"
    }
   ],
   "source": [
    "completion_distinct_plots(openfoodfacts_tags.iloc[:,openfoodfacts_tags.columns.isin(liste_col_en)])"
   ]
  },
  {
   "cell_type": "markdown",
   "id": "9a33ef1b",
   "metadata": {
    "hidden": true
   },
   "source": [
    "Nous remarquons que les variables ayant le même préfixe comportent le même % de NaN et de valeurs distinctes. Comme nous avons déjà précedemment supprimé les variables sans suffixe, il nous reste les variables se terminant par _tags et _en. Nous avons donc le choix de conserver soit l'une soit l'autre. Vérifions juste un exemple avant de choisir quelles variables supprimer."
   ]
  },
  {
   "cell_type": "code",
   "execution_count": 60,
   "id": "2c45ba1c",
   "metadata": {
    "hidden": true
   },
   "outputs": [
    {
     "data": {
      "text/html": [
       "<div>\n",
       "<style scoped>\n",
       "    .dataframe tbody tr th:only-of-type {\n",
       "        vertical-align: middle;\n",
       "    }\n",
       "\n",
       "    .dataframe tbody tr th {\n",
       "        vertical-align: top;\n",
       "    }\n",
       "\n",
       "    .dataframe thead th {\n",
       "        text-align: right;\n",
       "    }\n",
       "</style>\n",
       "<table border=\"1\" class=\"dataframe\">\n",
       "  <thead>\n",
       "    <tr style=\"text-align: right;\">\n",
       "      <th></th>\n",
       "      <th>categories_tags</th>\n",
       "      <th>categories_en</th>\n",
       "    </tr>\n",
       "  </thead>\n",
       "  <tbody>\n",
       "    <tr>\n",
       "      <th>1832539</th>\n",
       "      <td>en:plant-based-foods-and-beverages,en:plant-ba...</td>\n",
       "      <td>Plant-based foods and beverages,Plant-based fo...</td>\n",
       "    </tr>\n",
       "    <tr>\n",
       "      <th>26488</th>\n",
       "      <td>en:desserts</td>\n",
       "      <td>Desserts</td>\n",
       "    </tr>\n",
       "    <tr>\n",
       "      <th>27124</th>\n",
       "      <td>en:groceries,en:condiments</td>\n",
       "      <td>Groceries,Condiments</td>\n",
       "    </tr>\n",
       "    <tr>\n",
       "      <th>856466</th>\n",
       "      <td>en:dairies,en:fermented-foods,en:fermented-mil...</td>\n",
       "      <td>Dairies,Fermented foods,Fermented milk product...</td>\n",
       "    </tr>\n",
       "    <tr>\n",
       "      <th>1498503</th>\n",
       "      <td>en:brick-sheets</td>\n",
       "      <td>Brick sheets</td>\n",
       "    </tr>\n",
       "    <tr>\n",
       "      <th>62265</th>\n",
       "      <td>en:snacks</td>\n",
       "      <td>Snacks</td>\n",
       "    </tr>\n",
       "    <tr>\n",
       "      <th>1172915</th>\n",
       "      <td>de:butterschmalz</td>\n",
       "      <td>de:butterschmalz</td>\n",
       "    </tr>\n",
       "    <tr>\n",
       "      <th>54470</th>\n",
       "      <td>en:dairies,en:fermented-foods,en:fermented-mil...</td>\n",
       "      <td>Dairies,Fermented foods,Fermented milk product...</td>\n",
       "    </tr>\n",
       "    <tr>\n",
       "      <th>150437</th>\n",
       "      <td>en:groceries,en:sauces,en:dips</td>\n",
       "      <td>Groceries,Sauces,Dips</td>\n",
       "    </tr>\n",
       "    <tr>\n",
       "      <th>1228175</th>\n",
       "      <td>en:plant-based-foods-and-beverages,en:plant-ba...</td>\n",
       "      <td>Plant-based foods and beverages,Plant-based fo...</td>\n",
       "    </tr>\n",
       "  </tbody>\n",
       "</table>\n",
       "</div>"
      ],
      "text/plain": [
       "                                           categories_tags  \\\n",
       "1832539  en:plant-based-foods-and-beverages,en:plant-ba...   \n",
       "26488                                          en:desserts   \n",
       "27124                           en:groceries,en:condiments   \n",
       "856466   en:dairies,en:fermented-foods,en:fermented-mil...   \n",
       "1498503                                    en:brick-sheets   \n",
       "62265                                            en:snacks   \n",
       "1172915                                   de:butterschmalz   \n",
       "54470    en:dairies,en:fermented-foods,en:fermented-mil...   \n",
       "150437                      en:groceries,en:sauces,en:dips   \n",
       "1228175  en:plant-based-foods-and-beverages,en:plant-ba...   \n",
       "\n",
       "                                             categories_en  \n",
       "1832539  Plant-based foods and beverages,Plant-based fo...  \n",
       "26488                                             Desserts  \n",
       "27124                                 Groceries,Condiments  \n",
       "856466   Dairies,Fermented foods,Fermented milk product...  \n",
       "1498503                                       Brick sheets  \n",
       "62265                                               Snacks  \n",
       "1172915                                   de:butterschmalz  \n",
       "54470    Dairies,Fermented foods,Fermented milk product...  \n",
       "150437                               Groceries,Sauces,Dips  \n",
       "1228175  Plant-based foods and beverages,Plant-based fo...  "
      ]
     },
     "execution_count": 60,
     "metadata": {},
     "output_type": "execute_result"
    }
   ],
   "source": [
    "openfoodfacts_tags[~openfoodfacts_tags['categories_tags'].isnull()][['categories_tags', 'categories_en']].sample(10)"
   ]
  },
  {
   "cell_type": "markdown",
   "id": "bed81de9",
   "metadata": {
    "hidden": true
   },
   "source": [
    "Les modalités étant plus lisibles et harmonisées dans les colonnes se terminant par _en, supprimons les colonnes _tags."
   ]
  },
  {
   "cell_type": "code",
   "execution_count": 61,
   "id": "60ef743b",
   "metadata": {
    "hidden": true
   },
   "outputs": [
    {
     "name": "stdout",
     "output_type": "stream",
     "text": [
      "Liste des variables à supprimer: \n",
      "\n",
      " ['categories_tags', 'origins_tags', 'labels_tags', 'countries_tags', 'traces_tags', 'additives_tags', 'states_tags']\n"
     ]
    }
   ],
   "source": [
    "liste_col_suppr = openfoodfacts_tags.iloc[:,(openfoodfacts_tags.columns.isin(liste_col_en)) & \n",
    "                                        (openfoodfacts_tags.columns.str.endswith('_tags'))].columns.unique().tolist()\n",
    "print(f\"Liste des variables à supprimer: \\n\\n {liste_col_suppr}\")"
   ]
  },
  {
   "cell_type": "code",
   "execution_count": 62,
   "id": "88af078f",
   "metadata": {
    "hidden": true
   },
   "outputs": [
    {
     "name": "stdout",
     "output_type": "stream",
     "text": [
      "Nombre de lignes: 2053679\n",
      "Nombre de variables: 130\n"
     ]
    }
   ],
   "source": [
    "# Suppression des variables avec suffixe _tags\n",
    "openfoodfacts_en = openfoodfacts_tags.drop(liste_col_suppr, axis = 'columns', inplace = False)\n",
    "\n",
    "print(f\"Nombre de lignes: {openfoodfacts_en.shape[0]}\\nNombre de variables: {openfoodfacts_en.shape[1]}\")"
   ]
  },
  {
   "cell_type": "markdown",
   "id": "6c444b73",
   "metadata": {
    "heading_collapsed": true
   },
   "source": [
    "### url / image  <a class=\"anchor\" id=\"url\"></a>"
   ]
  },
  {
   "cell_type": "markdown",
   "id": "451c5ca6",
   "metadata": {
    "hidden": true
   },
   "source": [
    "Ces variables indiquent les urls et les images des produits et n'apportent aucune information. Supprimons les."
   ]
  },
  {
   "cell_type": "code",
   "execution_count": 63,
   "id": "5eecfbc9",
   "metadata": {
    "hidden": true
   },
   "outputs": [
    {
     "name": "stdout",
     "output_type": "stream",
     "text": [
      "Liste des variables url à supprimer: \n",
      "\n",
      " ['url', 'image_url', 'image_small_url', 'image_ingredients_url', 'image_ingredients_small_url', 'image_nutrition_url', 'image_nutrition_small_url']\n"
     ]
    }
   ],
   "source": [
    "liste_col_url = openfoodfacts_en.iloc[:,openfoodfacts_en.columns.str.contains('url|image')].columns.unique().tolist()\n",
    "print(f\"Liste des variables url à supprimer: \\n\\n {liste_col_url}\")"
   ]
  },
  {
   "cell_type": "code",
   "execution_count": 64,
   "id": "14fa1855",
   "metadata": {
    "hidden": true
   },
   "outputs": [
    {
     "name": "stdout",
     "output_type": "stream",
     "text": [
      "Nombre de lignes: 2053679\n",
      "Nombre de variables: 123\n"
     ]
    }
   ],
   "source": [
    "# Suppression des variables contenant les mot url ou image\n",
    "openfoodfacts_en.drop(liste_col_url, axis = 'columns', inplace = True)\n",
    "print(f\"Nombre de lignes: {openfoodfacts_en.shape[0]}\\nNombre de variables: {openfoodfacts_en.shape[1]}\")"
   ]
  },
  {
   "cell_type": "markdown",
   "id": "143130d2",
   "metadata": {
    "heading_collapsed": true
   },
   "source": [
    "### ingredients <a class=\"anchor\" id=\"ingredients\"></a>"
   ]
  },
  {
   "cell_type": "code",
   "execution_count": 65,
   "id": "c60ee4c3",
   "metadata": {
    "hidden": true
   },
   "outputs": [],
   "source": [
    "def check_redundancy(dataframe, keyword):\n",
    "    ''' Fonction qui renseigne sur les principales statistiques des variables contenant le mot saisi en entrée.'''\n",
    "    liste = dataframe.iloc[:,dataframe.columns.str.contains(keyword)].columns.unique().tolist()\n",
    "    describe = describe_variables_light(dataframe[liste])\n",
    "    return describe"
   ]
  },
  {
   "cell_type": "code",
   "execution_count": 66,
   "id": "adc24fc8",
   "metadata": {
    "hidden": true
   },
   "outputs": [],
   "source": [
    "def modalities_no_NaN(dataframe, keyword):\n",
    "    ''' Fonction qui renvoie 5 exemples non nuls des variables contenant le mot saisi en entrée'''\n",
    "    liste_col = check_redundancy(dataframe, keyword)['Variable name'].tolist()\n",
    "    return dataframe[dataframe[liste_col].notnull().all(1)][liste_col].sample(5)"
   ]
  },
  {
   "cell_type": "markdown",
   "id": "b361a63b",
   "metadata": {
    "hidden": true
   },
   "source": [
    "<div class=\"alert alert-block alert-info\">\n",
    "    <p> Pas sûre de ma fonction: j'aimerais retourner 2 dataframes directement en appliquant la fonction plutôt que d'affecter la fonction à tab_desc, tab_modalities et de les afficher séparemment. Est-ce possible? </p>\n",
    "</div>"
   ]
  },
  {
   "cell_type": "code",
   "execution_count": 67,
   "id": "541718c6",
   "metadata": {
    "hidden": true
   },
   "outputs": [],
   "source": [
    "def check_redundancy_steps(dataframe, mot_clef):\n",
    "    ''' Fonction qui renvoie 2 dataframes: \n",
    "    tab_desc qui renseigne sur les principales  statistiques des variables contenant le mot saisi en entrée\n",
    "    tab_modalities qui renvoie 5 exemples non nuls des variables contenant le mot saisi en entrée'''\n",
    "    tab_desc = check_redundancy(dataframe, mot_clef)\n",
    "    tab_modalities = modalities_no_NaN(dataframe, mot_clef)\n",
    "    return tab_desc, tab_modalities"
   ]
  },
  {
   "cell_type": "code",
   "execution_count": 68,
   "id": "d3ab6eee",
   "metadata": {
    "hidden": true
   },
   "outputs": [],
   "source": [
    "tab_desc, tab_modalities = check_redundancy_steps(openfoodfacts_en, 'ingredients')"
   ]
  },
  {
   "cell_type": "code",
   "execution_count": 69,
   "id": "63bf683e",
   "metadata": {
    "hidden": true
   },
   "outputs": [
    {
     "data": {
      "text/html": [
       "<div>\n",
       "<style scoped>\n",
       "    .dataframe tbody tr th:only-of-type {\n",
       "        vertical-align: middle;\n",
       "    }\n",
       "\n",
       "    .dataframe tbody tr th {\n",
       "        vertical-align: top;\n",
       "    }\n",
       "\n",
       "    .dataframe thead th {\n",
       "        text-align: right;\n",
       "    }\n",
       "</style>\n",
       "<table border=\"1\" class=\"dataframe\">\n",
       "  <thead>\n",
       "    <tr style=\"text-align: right;\">\n",
       "      <th></th>\n",
       "      <th>Variable name</th>\n",
       "      <th>Variable type</th>\n",
       "      <th>Example</th>\n",
       "      <th>Raws</th>\n",
       "      <th>Distinct</th>\n",
       "      <th>% distinct</th>\n",
       "      <th>Not NaN</th>\n",
       "      <th>% Not NaN</th>\n",
       "      <th>NaN</th>\n",
       "      <th>% NaN</th>\n",
       "    </tr>\n",
       "  </thead>\n",
       "  <tbody>\n",
       "    <tr>\n",
       "      <th>0</th>\n",
       "      <td>ingredients_text</td>\n",
       "      <td>object</td>\n",
       "      <td>Leche semidesnatada, azucar 6.9% leche desnata...</td>\n",
       "      <td>2053679</td>\n",
       "      <td>616705</td>\n",
       "      <td>30.03</td>\n",
       "      <td>732671</td>\n",
       "      <td>35.68</td>\n",
       "      <td>1321008</td>\n",
       "      <td>64.32</td>\n",
       "    </tr>\n",
       "    <tr>\n",
       "      <th>1</th>\n",
       "      <td>ingredients_from_palm_oil_n</td>\n",
       "      <td>float64</td>\n",
       "      <td>0.0</td>\n",
       "      <td>2053679</td>\n",
       "      <td>4</td>\n",
       "      <td>0.00</td>\n",
       "      <td>732673</td>\n",
       "      <td>35.68</td>\n",
       "      <td>1321006</td>\n",
       "      <td>64.32</td>\n",
       "    </tr>\n",
       "    <tr>\n",
       "      <th>2</th>\n",
       "      <td>ingredients_from_palm_oil_tags</td>\n",
       "      <td>object</td>\n",
       "      <td>huile-de-palme</td>\n",
       "      <td>2053679</td>\n",
       "      <td>16</td>\n",
       "      <td>0.00</td>\n",
       "      <td>14505</td>\n",
       "      <td>0.71</td>\n",
       "      <td>2039174</td>\n",
       "      <td>99.29</td>\n",
       "    </tr>\n",
       "    <tr>\n",
       "      <th>3</th>\n",
       "      <td>ingredients_that_may_be_from_palm_oil_n</td>\n",
       "      <td>float64</td>\n",
       "      <td>0.0</td>\n",
       "      <td>2053679</td>\n",
       "      <td>7</td>\n",
       "      <td>0.00</td>\n",
       "      <td>732673</td>\n",
       "      <td>35.68</td>\n",
       "      <td>1321006</td>\n",
       "      <td>64.32</td>\n",
       "    </tr>\n",
       "    <tr>\n",
       "      <th>4</th>\n",
       "      <td>ingredients_that_may_be_from_palm_oil_tags</td>\n",
       "      <td>object</td>\n",
       "      <td>e481-stearoyl-2-lactylate-de-sodium,e472e-este...</td>\n",
       "      <td>2053679</td>\n",
       "      <td>350</td>\n",
       "      <td>0.02</td>\n",
       "      <td>43295</td>\n",
       "      <td>2.11</td>\n",
       "      <td>2010384</td>\n",
       "      <td>97.89</td>\n",
       "    </tr>\n",
       "    <tr>\n",
       "      <th>5</th>\n",
       "      <td>fruits-vegetables-nuts-estimate-from-ingredien...</td>\n",
       "      <td>float32</td>\n",
       "      <td>0.0</td>\n",
       "      <td>2053679</td>\n",
       "      <td>7644</td>\n",
       "      <td>0.37</td>\n",
       "      <td>731230</td>\n",
       "      <td>35.61</td>\n",
       "      <td>1322449</td>\n",
       "      <td>64.39</td>\n",
       "    </tr>\n",
       "  </tbody>\n",
       "</table>\n",
       "</div>"
      ],
      "text/plain": [
       "                                       Variable name Variable type  \\\n",
       "0                                   ingredients_text        object   \n",
       "1                        ingredients_from_palm_oil_n       float64   \n",
       "2                     ingredients_from_palm_oil_tags        object   \n",
       "3            ingredients_that_may_be_from_palm_oil_n       float64   \n",
       "4         ingredients_that_may_be_from_palm_oil_tags        object   \n",
       "5  fruits-vegetables-nuts-estimate-from-ingredien...       float32   \n",
       "\n",
       "                                             Example     Raws Distinct  \\\n",
       "0  Leche semidesnatada, azucar 6.9% leche desnata...  2053679   616705   \n",
       "1                                                0.0  2053679        4   \n",
       "2                                     huile-de-palme  2053679       16   \n",
       "3                                                0.0  2053679        7   \n",
       "4  e481-stearoyl-2-lactylate-de-sodium,e472e-este...  2053679      350   \n",
       "5                                                0.0  2053679     7644   \n",
       "\n",
       "   % distinct Not NaN  % Not NaN      NaN  % NaN  \n",
       "0       30.03  732671      35.68  1321008  64.32  \n",
       "1        0.00  732673      35.68  1321006  64.32  \n",
       "2        0.00   14505       0.71  2039174  99.29  \n",
       "3        0.00  732673      35.68  1321006  64.32  \n",
       "4        0.02   43295       2.11  2010384  97.89  \n",
       "5        0.37  731230      35.61  1322449  64.39  "
      ]
     },
     "execution_count": 69,
     "metadata": {},
     "output_type": "execute_result"
    }
   ],
   "source": [
    "tab_desc"
   ]
  },
  {
   "cell_type": "code",
   "execution_count": 70,
   "id": "cbf1b3a6",
   "metadata": {
    "hidden": true
   },
   "outputs": [
    {
     "data": {
      "text/html": [
       "<div>\n",
       "<style scoped>\n",
       "    .dataframe tbody tr th:only-of-type {\n",
       "        vertical-align: middle;\n",
       "    }\n",
       "\n",
       "    .dataframe tbody tr th {\n",
       "        vertical-align: top;\n",
       "    }\n",
       "\n",
       "    .dataframe thead th {\n",
       "        text-align: right;\n",
       "    }\n",
       "</style>\n",
       "<table border=\"1\" class=\"dataframe\">\n",
       "  <thead>\n",
       "    <tr style=\"text-align: right;\">\n",
       "      <th></th>\n",
       "      <th>ingredients_text</th>\n",
       "      <th>ingredients_from_palm_oil_n</th>\n",
       "      <th>ingredients_from_palm_oil_tags</th>\n",
       "      <th>ingredients_that_may_be_from_palm_oil_n</th>\n",
       "      <th>ingredients_that_may_be_from_palm_oil_tags</th>\n",
       "      <th>fruits-vegetables-nuts-estimate-from-ingredients_100g</th>\n",
       "    </tr>\n",
       "  </thead>\n",
       "  <tbody>\n",
       "    <tr>\n",
       "      <th>1407163</th>\n",
       "      <td>Farine de _blé_, graisse de palme, huile de na...</td>\n",
       "      <td>1.0</td>\n",
       "      <td>huile-de-palme</td>\n",
       "      <td>1.0</td>\n",
       "      <td>e471-mono-et-diglycerides-d-acides-gras-alimen...</td>\n",
       "      <td>0.000000</td>\n",
       "    </tr>\n",
       "    <tr>\n",
       "      <th>787939</th>\n",
       "      <td>Farine de Hé- Crème de pruneau 25% (pruneau, s...</td>\n",
       "      <td>1.0</td>\n",
       "      <td>huile-de-palme</td>\n",
       "      <td>1.0</td>\n",
       "      <td>e471-mono-et-diglycerides-d-acides-gras-alimen...</td>\n",
       "      <td>8.333333</td>\n",
       "    </tr>\n",
       "    <tr>\n",
       "      <th>1422723</th>\n",
       "      <td>Lait écrémé réhydraté, matières grasses végéta...</td>\n",
       "      <td>1.0</td>\n",
       "      <td>huile-de-palme</td>\n",
       "      <td>1.0</td>\n",
       "      <td>e471-mono-et-diglycerides-d-acides-gras-alimen...</td>\n",
       "      <td>0.000000</td>\n",
       "    </tr>\n",
       "    <tr>\n",
       "      <th>1184346</th>\n",
       "      <td>Farine de _blé_, raisins secs 27% , huile de p...</td>\n",
       "      <td>1.0</td>\n",
       "      <td>huile-de-palme</td>\n",
       "      <td>1.0</td>\n",
       "      <td>e471-mono-et-diglycerides-d-acides-gras-alimen...</td>\n",
       "      <td>27.000000</td>\n",
       "    </tr>\n",
       "    <tr>\n",
       "      <th>759950</th>\n",
       "      <td>Pépites de chocolat 23 % (sucre, pâte de cacao...</td>\n",
       "      <td>1.0</td>\n",
       "      <td>huile-de-palme</td>\n",
       "      <td>2.0</td>\n",
       "      <td>e471-mono-et-diglycerides-d-acides-gras-alimen...</td>\n",
       "      <td>0.000000</td>\n",
       "    </tr>\n",
       "  </tbody>\n",
       "</table>\n",
       "</div>"
      ],
      "text/plain": [
       "                                          ingredients_text  \\\n",
       "1407163  Farine de _blé_, graisse de palme, huile de na...   \n",
       "787939   Farine de Hé- Crème de pruneau 25% (pruneau, s...   \n",
       "1422723  Lait écrémé réhydraté, matières grasses végéta...   \n",
       "1184346  Farine de _blé_, raisins secs 27% , huile de p...   \n",
       "759950   Pépites de chocolat 23 % (sucre, pâte de cacao...   \n",
       "\n",
       "         ingredients_from_palm_oil_n ingredients_from_palm_oil_tags  \\\n",
       "1407163                          1.0                 huile-de-palme   \n",
       "787939                           1.0                 huile-de-palme   \n",
       "1422723                          1.0                 huile-de-palme   \n",
       "1184346                          1.0                 huile-de-palme   \n",
       "759950                           1.0                 huile-de-palme   \n",
       "\n",
       "         ingredients_that_may_be_from_palm_oil_n  \\\n",
       "1407163                                      1.0   \n",
       "787939                                       1.0   \n",
       "1422723                                      1.0   \n",
       "1184346                                      1.0   \n",
       "759950                                       2.0   \n",
       "\n",
       "                ingredients_that_may_be_from_palm_oil_tags  \\\n",
       "1407163  e471-mono-et-diglycerides-d-acides-gras-alimen...   \n",
       "787939   e471-mono-et-diglycerides-d-acides-gras-alimen...   \n",
       "1422723  e471-mono-et-diglycerides-d-acides-gras-alimen...   \n",
       "1184346  e471-mono-et-diglycerides-d-acides-gras-alimen...   \n",
       "759950   e471-mono-et-diglycerides-d-acides-gras-alimen...   \n",
       "\n",
       "         fruits-vegetables-nuts-estimate-from-ingredients_100g  \n",
       "1407163                                           0.000000      \n",
       "787939                                            8.333333      \n",
       "1422723                                           0.000000      \n",
       "1184346                                          27.000000      \n",
       "759950                                            0.000000      "
      ]
     },
     "execution_count": 70,
     "metadata": {},
     "output_type": "execute_result"
    }
   ],
   "source": [
    "tab_modalities"
   ]
  },
  {
   "cell_type": "markdown",
   "id": "113d5ecc",
   "metadata": {
    "hidden": true
   },
   "source": [
    "Nous pouvons remarquer que la variable ingredients_text contient un grand nombre de modalités et 64.32% de valeurs manquantes. \n",
    "\n",
    "Nous pouvons également voir que 4 variables comportent la mention palm_oil dont 2 variables qui se terminent par _n indiquent le nombre d'ingrédients contenant de l'huile de palme. \n",
    "\n",
    "Les 2 variables ingredients_from_palm_oil_tags et ingredients_that_may_be_from_palm_oil_tags ont un pourcentage très élevé de valeurs manquantes et semblent redondantes avec les variables numériques, qui si supérieures à 0, indiquent la présence d'huile de palme ou assimilé. Nous décidons de les supprimer."
   ]
  },
  {
   "cell_type": "code",
   "execution_count": 71,
   "id": "a93ae63d",
   "metadata": {
    "hidden": true
   },
   "outputs": [
    {
     "name": "stdout",
     "output_type": "stream",
     "text": [
      "Nombre de lignes: 2053679\n",
      "Nombre de variables: 121\n"
     ]
    }
   ],
   "source": [
    "# Suppression des variables ingredients_from_palm_oil_tags et ingredients_that_may_be_from_palm_oil_tags\n",
    "openfoodfacts_en.drop(['ingredients_from_palm_oil_tags', 'ingredients_that_may_be_from_palm_oil_tags'],\n",
    "                        axis = 'columns',\n",
    "                        inplace = True)\n",
    "print(f\"Nombre de lignes: {openfoodfacts_en.shape[0]}\\nNombre de variables: {openfoodfacts_en.shape[1]}\")"
   ]
  },
  {
   "cell_type": "markdown",
   "id": "52413d79",
   "metadata": {
    "heading_collapsed": true
   },
   "source": [
    "### packaging <a class=\"anchor\" id=\"packaging\"></a>"
   ]
  },
  {
   "cell_type": "markdown",
   "id": "269c6dd0",
   "metadata": {
    "hidden": true
   },
   "source": [
    "Ces variables ne seront pas utilisées par la suite, supprimons les:"
   ]
  },
  {
   "cell_type": "code",
   "execution_count": 72,
   "id": "bd83b5b5",
   "metadata": {
    "hidden": true
   },
   "outputs": [],
   "source": [
    "tab_desc, tab_modalities = check_redundancy_steps(openfoodfacts_en, 'packaging')"
   ]
  },
  {
   "cell_type": "code",
   "execution_count": 73,
   "id": "6c10d0e7",
   "metadata": {
    "hidden": true
   },
   "outputs": [
    {
     "data": {
      "text/html": [
       "<div>\n",
       "<style scoped>\n",
       "    .dataframe tbody tr th:only-of-type {\n",
       "        vertical-align: middle;\n",
       "    }\n",
       "\n",
       "    .dataframe tbody tr th {\n",
       "        vertical-align: top;\n",
       "    }\n",
       "\n",
       "    .dataframe thead th {\n",
       "        text-align: right;\n",
       "    }\n",
       "</style>\n",
       "<table border=\"1\" class=\"dataframe\">\n",
       "  <thead>\n",
       "    <tr style=\"text-align: right;\">\n",
       "      <th></th>\n",
       "      <th>Variable name</th>\n",
       "      <th>Variable type</th>\n",
       "      <th>Example</th>\n",
       "      <th>Raws</th>\n",
       "      <th>Distinct</th>\n",
       "      <th>% distinct</th>\n",
       "      <th>Not NaN</th>\n",
       "      <th>% Not NaN</th>\n",
       "      <th>NaN</th>\n",
       "      <th>% NaN</th>\n",
       "    </tr>\n",
       "  </thead>\n",
       "  <tbody>\n",
       "    <tr>\n",
       "      <th>0</th>\n",
       "      <td>packaging_tags</td>\n",
       "      <td>object</td>\n",
       "      <td>barquette,plastique</td>\n",
       "      <td>2053679</td>\n",
       "      <td>46485</td>\n",
       "      <td>2.26</td>\n",
       "      <td>315895</td>\n",
       "      <td>15.38</td>\n",
       "      <td>1737784</td>\n",
       "      <td>84.62</td>\n",
       "    </tr>\n",
       "    <tr>\n",
       "      <th>1</th>\n",
       "      <td>packaging_text</td>\n",
       "      <td>object</td>\n",
       "      <td>1 pot en verre à recycler</td>\n",
       "      <td>2053679</td>\n",
       "      <td>4306</td>\n",
       "      <td>0.21</td>\n",
       "      <td>8240</td>\n",
       "      <td>0.40</td>\n",
       "      <td>2045439</td>\n",
       "      <td>99.60</td>\n",
       "    </tr>\n",
       "    <tr>\n",
       "      <th>2</th>\n",
       "      <td>first_packaging_code_geo</td>\n",
       "      <td>object</td>\n",
       "      <td>47.833333,-0.333333</td>\n",
       "      <td>2053679</td>\n",
       "      <td>3768</td>\n",
       "      <td>0.18</td>\n",
       "      <td>73908</td>\n",
       "      <td>3.60</td>\n",
       "      <td>1979771</td>\n",
       "      <td>96.40</td>\n",
       "    </tr>\n",
       "  </tbody>\n",
       "</table>\n",
       "</div>"
      ],
      "text/plain": [
       "              Variable name Variable type                    Example     Raws  \\\n",
       "0            packaging_tags        object        barquette,plastique  2053679   \n",
       "1            packaging_text        object  1 pot en verre à recycler  2053679   \n",
       "2  first_packaging_code_geo        object        47.833333,-0.333333  2053679   \n",
       "\n",
       "  Distinct  % distinct Not NaN  % Not NaN      NaN  % NaN  \n",
       "0    46485        2.26  315895      15.38  1737784  84.62  \n",
       "1     4306        0.21    8240       0.40  2045439  99.60  \n",
       "2     3768        0.18   73908       3.60  1979771  96.40  "
      ]
     },
     "execution_count": 73,
     "metadata": {},
     "output_type": "execute_result"
    }
   ],
   "source": [
    "tab_desc"
   ]
  },
  {
   "cell_type": "code",
   "execution_count": 74,
   "id": "ffe380c4",
   "metadata": {
    "hidden": true,
    "scrolled": true
   },
   "outputs": [
    {
     "data": {
      "text/html": [
       "<div>\n",
       "<style scoped>\n",
       "    .dataframe tbody tr th:only-of-type {\n",
       "        vertical-align: middle;\n",
       "    }\n",
       "\n",
       "    .dataframe tbody tr th {\n",
       "        vertical-align: top;\n",
       "    }\n",
       "\n",
       "    .dataframe thead th {\n",
       "        text-align: right;\n",
       "    }\n",
       "</style>\n",
       "<table border=\"1\" class=\"dataframe\">\n",
       "  <thead>\n",
       "    <tr style=\"text-align: right;\">\n",
       "      <th></th>\n",
       "      <th>packaging_tags</th>\n",
       "      <th>packaging_text</th>\n",
       "      <th>first_packaging_code_geo</th>\n",
       "    </tr>\n",
       "  </thead>\n",
       "  <tbody>\n",
       "    <tr>\n",
       "      <th>1024051</th>\n",
       "      <td>frais,plastique</td>\n",
       "      <td>1 barquette plastique à jeter</td>\n",
       "      <td>47.766667,-3.233333</td>\n",
       "    </tr>\n",
       "    <tr>\n",
       "      <th>808738</th>\n",
       "      <td>surgele</td>\n",
       "      <td>1 Carton à recycler  1 Film plastique à jeter</td>\n",
       "      <td>43.366667,-1.266667</td>\n",
       "    </tr>\n",
       "    <tr>\n",
       "      <th>684323</th>\n",
       "      <td>carton,pots-en-plastique,fr-etui-en-carton,fr-...</td>\n",
       "      <td>Étui en carton : 20,25 g. Opercule papier : 0,...</td>\n",
       "      <td>48.1,-0.8</td>\n",
       "    </tr>\n",
       "    <tr>\n",
       "      <th>842752</th>\n",
       "      <td>carton,plastique,fr-barquette,fr-film-en-plast...</td>\n",
       "      <td>1 barquette plastique PP transparent à jeter 1...</td>\n",
       "      <td>45.033333,5.05</td>\n",
       "    </tr>\n",
       "    <tr>\n",
       "      <th>1221350</th>\n",
       "      <td>conserve</td>\n",
       "      <td>Boîte Métal à recycler</td>\n",
       "      <td>44.166667,4.883333</td>\n",
       "    </tr>\n",
       "  </tbody>\n",
       "</table>\n",
       "</div>"
      ],
      "text/plain": [
       "                                            packaging_tags  \\\n",
       "1024051                                    frais,plastique   \n",
       "808738                                             surgele   \n",
       "684323   carton,pots-en-plastique,fr-etui-en-carton,fr-...   \n",
       "842752   carton,plastique,fr-barquette,fr-film-en-plast...   \n",
       "1221350                                           conserve   \n",
       "\n",
       "                                            packaging_text  \\\n",
       "1024051                      1 barquette plastique à jeter   \n",
       "808738       1 Carton à recycler  1 Film plastique à jeter   \n",
       "684323   Étui en carton : 20,25 g. Opercule papier : 0,...   \n",
       "842752   1 barquette plastique PP transparent à jeter 1...   \n",
       "1221350                             Boîte Métal à recycler   \n",
       "\n",
       "        first_packaging_code_geo  \n",
       "1024051      47.766667,-3.233333  \n",
       "808738       43.366667,-1.266667  \n",
       "684323                 48.1,-0.8  \n",
       "842752            45.033333,5.05  \n",
       "1221350       44.166667,4.883333  "
      ]
     },
     "execution_count": 74,
     "metadata": {},
     "output_type": "execute_result"
    }
   ],
   "source": [
    "tab_modalities"
   ]
  },
  {
   "cell_type": "code",
   "execution_count": 75,
   "id": "a7c7ccbe",
   "metadata": {
    "hidden": true
   },
   "outputs": [
    {
     "name": "stdout",
     "output_type": "stream",
     "text": [
      "Nombre de lignes: 2053679\n",
      "Nombre de variables: 118\n"
     ]
    }
   ],
   "source": [
    "# Suppression des variables contenant le mot packaging\n",
    "openfoodfacts_en.drop(tab_modalities.columns, axis = 'columns', inplace = True)\n",
    "print(f\"Nombre de lignes: {openfoodfacts_en.shape[0]}\\nNombre de variables: {openfoodfacts_en.shape[1]}\")"
   ]
  },
  {
   "cell_type": "markdown",
   "id": "c18fdab2",
   "metadata": {
    "heading_collapsed": true
   },
   "source": [
    "### name <a class=\"anchor\" id=\"name\"></a>"
   ]
  },
  {
   "cell_type": "code",
   "execution_count": 76,
   "id": "fdc220c5",
   "metadata": {
    "hidden": true
   },
   "outputs": [],
   "source": [
    "tab_desc, tab_modalities = check_redundancy_steps(openfoodfacts_en, 'name')"
   ]
  },
  {
   "cell_type": "code",
   "execution_count": 77,
   "id": "c9ae69da",
   "metadata": {
    "hidden": true
   },
   "outputs": [
    {
     "data": {
      "text/html": [
       "<div>\n",
       "<style scoped>\n",
       "    .dataframe tbody tr th:only-of-type {\n",
       "        vertical-align: middle;\n",
       "    }\n",
       "\n",
       "    .dataframe tbody tr th {\n",
       "        vertical-align: top;\n",
       "    }\n",
       "\n",
       "    .dataframe thead th {\n",
       "        text-align: right;\n",
       "    }\n",
       "</style>\n",
       "<table border=\"1\" class=\"dataframe\">\n",
       "  <thead>\n",
       "    <tr style=\"text-align: right;\">\n",
       "      <th></th>\n",
       "      <th>Variable name</th>\n",
       "      <th>Variable type</th>\n",
       "      <th>Example</th>\n",
       "      <th>Raws</th>\n",
       "      <th>Distinct</th>\n",
       "      <th>% distinct</th>\n",
       "      <th>Not NaN</th>\n",
       "      <th>% Not NaN</th>\n",
       "      <th>NaN</th>\n",
       "      <th>% NaN</th>\n",
       "    </tr>\n",
       "  </thead>\n",
       "  <tbody>\n",
       "    <tr>\n",
       "      <th>0</th>\n",
       "      <td>product_name</td>\n",
       "      <td>object</td>\n",
       "      <td>jeunes pousses</td>\n",
       "      <td>2053679</td>\n",
       "      <td>1276058</td>\n",
       "      <td>62.14</td>\n",
       "      <td>1970360</td>\n",
       "      <td>95.94</td>\n",
       "      <td>83319</td>\n",
       "      <td>4.06</td>\n",
       "    </tr>\n",
       "    <tr>\n",
       "      <th>1</th>\n",
       "      <td>abbreviated_product_name</td>\n",
       "      <td>object</td>\n",
       "      <td>Amora Moutarde Strong 6x2.5Kg 1x</td>\n",
       "      <td>2053679</td>\n",
       "      <td>7073</td>\n",
       "      <td>0.34</td>\n",
       "      <td>7197</td>\n",
       "      <td>0.35</td>\n",
       "      <td>2046482</td>\n",
       "      <td>99.65</td>\n",
       "    </tr>\n",
       "    <tr>\n",
       "      <th>2</th>\n",
       "      <td>generic_name</td>\n",
       "      <td>object</td>\n",
       "      <td>Blanquette de Volaille et son Riz</td>\n",
       "      <td>2053679</td>\n",
       "      <td>89427</td>\n",
       "      <td>4.35</td>\n",
       "      <td>123512</td>\n",
       "      <td>6.01</td>\n",
       "      <td>1930167</td>\n",
       "      <td>93.99</td>\n",
       "    </tr>\n",
       "  </tbody>\n",
       "</table>\n",
       "</div>"
      ],
      "text/plain": [
       "              Variable name Variable type                            Example  \\\n",
       "0              product_name        object                     jeunes pousses   \n",
       "1  abbreviated_product_name        object   Amora Moutarde Strong 6x2.5Kg 1x   \n",
       "2              generic_name        object  Blanquette de Volaille et son Riz   \n",
       "\n",
       "      Raws Distinct  % distinct  Not NaN  % Not NaN      NaN  % NaN  \n",
       "0  2053679  1276058       62.14  1970360      95.94    83319   4.06  \n",
       "1  2053679     7073        0.34     7197       0.35  2046482  99.65  \n",
       "2  2053679    89427        4.35   123512       6.01  1930167  93.99  "
      ]
     },
     "execution_count": 77,
     "metadata": {},
     "output_type": "execute_result"
    }
   ],
   "source": [
    "tab_desc"
   ]
  },
  {
   "cell_type": "code",
   "execution_count": 78,
   "id": "63e22d10",
   "metadata": {
    "hidden": true
   },
   "outputs": [
    {
     "data": {
      "text/html": [
       "<div>\n",
       "<style scoped>\n",
       "    .dataframe tbody tr th:only-of-type {\n",
       "        vertical-align: middle;\n",
       "    }\n",
       "\n",
       "    .dataframe tbody tr th {\n",
       "        vertical-align: top;\n",
       "    }\n",
       "\n",
       "    .dataframe thead th {\n",
       "        text-align: right;\n",
       "    }\n",
       "</style>\n",
       "<table border=\"1\" class=\"dataframe\">\n",
       "  <thead>\n",
       "    <tr style=\"text-align: right;\">\n",
       "      <th></th>\n",
       "      <th>product_name</th>\n",
       "      <th>abbreviated_product_name</th>\n",
       "      <th>generic_name</th>\n",
       "    </tr>\n",
       "  </thead>\n",
       "  <tbody>\n",
       "    <tr>\n",
       "      <th>730754</th>\n",
       "      <td>4 Pains burger géant à la farine  complète</td>\n",
       "      <td>Burger Géant Cplt Ss Add x4 JACQUET</td>\n",
       "      <td>Pain spécial pour hamburger à la farine complète</td>\n",
       "    </tr>\n",
       "    <tr>\n",
       "      <th>948704</th>\n",
       "      <td>Saucisson sec tranches fines -25% de sel</td>\n",
       "      <td>Coch son tsr vpf 32t 100g c6p</td>\n",
       "      <td>Saucisson sec supérieur pur porc</td>\n",
       "    </tr>\n",
       "    <tr>\n",
       "      <th>764608</th>\n",
       "      <td>Bénénuts 3D's Bugles goût cacahuète format fam...</td>\n",
       "      <td>3d's bugles gout cacahuetes 150g</td>\n",
       "      <td>Produit soufflé à base de maïs goût cacahuète</td>\n",
       "    </tr>\n",
       "    <tr>\n",
       "      <th>747677</th>\n",
       "      <td>Légumiô - Haricots Rouges et Tomates en Pipe R...</td>\n",
       "      <td>Légumiô H ROUG TOMA PIPE RIGAT 250G</td>\n",
       "      <td>Spécialité de haricots rouges et tomates</td>\n",
       "    </tr>\n",
       "    <tr>\n",
       "      <th>971565</th>\n",
       "      <td>Saucisses Déliss' Original</td>\n",
       "      <td>Deliss'original familial 700g</td>\n",
       "      <td>Deliss'original familial 700g</td>\n",
       "    </tr>\n",
       "  </tbody>\n",
       "</table>\n",
       "</div>"
      ],
      "text/plain": [
       "                                             product_name  \\\n",
       "730754         4 Pains burger géant à la farine  complète   \n",
       "948704           Saucisson sec tranches fines -25% de sel   \n",
       "764608  Bénénuts 3D's Bugles goût cacahuète format fam...   \n",
       "747677  Légumiô - Haricots Rouges et Tomates en Pipe R...   \n",
       "971565                         Saucisses Déliss' Original   \n",
       "\n",
       "                   abbreviated_product_name  \\\n",
       "730754  Burger Géant Cplt Ss Add x4 JACQUET   \n",
       "948704        Coch son tsr vpf 32t 100g c6p   \n",
       "764608     3d's bugles gout cacahuetes 150g   \n",
       "747677  Légumiô H ROUG TOMA PIPE RIGAT 250G   \n",
       "971565        Deliss'original familial 700g   \n",
       "\n",
       "                                            generic_name  \n",
       "730754  Pain spécial pour hamburger à la farine complète  \n",
       "948704                  Saucisson sec supérieur pur porc  \n",
       "764608     Produit soufflé à base de maïs goût cacahuète  \n",
       "747677          Spécialité de haricots rouges et tomates  \n",
       "971565                     Deliss'original familial 700g  "
      ]
     },
     "execution_count": 78,
     "metadata": {},
     "output_type": "execute_result"
    }
   ],
   "source": [
    "tab_modalities"
   ]
  },
  {
   "cell_type": "markdown",
   "id": "cc5834b5",
   "metadata": {
    "hidden": true
   },
   "source": [
    "Ces trois variables nous apportent la même information. abbreviated_product_name et generic_name ayant un fort pourcentage de valeurs manquantes, nous décidons de supprimer ces 2 variables."
   ]
  },
  {
   "cell_type": "code",
   "execution_count": 79,
   "id": "14236b36",
   "metadata": {
    "hidden": true
   },
   "outputs": [
    {
     "name": "stdout",
     "output_type": "stream",
     "text": [
      "Nombre de lignes: 2053679\n",
      "Nombre de variables: 116\n"
     ]
    }
   ],
   "source": [
    "# Suppression des variables abbreviated_product_name et generic_name\n",
    "openfoodfacts_en.drop(['abbreviated_product_name', 'generic_name'], axis = 'columns', inplace = True)\n",
    "print(f\"Nombre de lignes: {openfoodfacts_en.shape[0]}\\nNombre de variables: {openfoodfacts_en.shape[1]}\")"
   ]
  },
  {
   "cell_type": "markdown",
   "id": "9df05a8c",
   "metadata": {
    "heading_collapsed": true
   },
   "source": [
    "### places <a class=\"anchor\" id=\"places\"></a>"
   ]
  },
  {
   "cell_type": "code",
   "execution_count": 80,
   "id": "ffeb859e",
   "metadata": {
    "hidden": true
   },
   "outputs": [],
   "source": [
    "tab_desc, tab_modalities = check_redundancy_steps(openfoodfacts_en, 'places')"
   ]
  },
  {
   "cell_type": "code",
   "execution_count": 81,
   "id": "9c1041bd",
   "metadata": {
    "hidden": true
   },
   "outputs": [
    {
     "data": {
      "text/html": [
       "<div>\n",
       "<style scoped>\n",
       "    .dataframe tbody tr th:only-of-type {\n",
       "        vertical-align: middle;\n",
       "    }\n",
       "\n",
       "    .dataframe tbody tr th {\n",
       "        vertical-align: top;\n",
       "    }\n",
       "\n",
       "    .dataframe thead th {\n",
       "        text-align: right;\n",
       "    }\n",
       "</style>\n",
       "<table border=\"1\" class=\"dataframe\">\n",
       "  <thead>\n",
       "    <tr style=\"text-align: right;\">\n",
       "      <th></th>\n",
       "      <th>Variable name</th>\n",
       "      <th>Variable type</th>\n",
       "      <th>Example</th>\n",
       "      <th>Raws</th>\n",
       "      <th>Distinct</th>\n",
       "      <th>% distinct</th>\n",
       "      <th>Not NaN</th>\n",
       "      <th>% Not NaN</th>\n",
       "      <th>NaN</th>\n",
       "      <th>% NaN</th>\n",
       "    </tr>\n",
       "  </thead>\n",
       "  <tbody>\n",
       "    <tr>\n",
       "      <th>0</th>\n",
       "      <td>manufacturing_places_tags</td>\n",
       "      <td>object</td>\n",
       "      <td>benivay-ollon</td>\n",
       "      <td>2053679</td>\n",
       "      <td>25973</td>\n",
       "      <td>1.26</td>\n",
       "      <td>128364</td>\n",
       "      <td>6.25</td>\n",
       "      <td>1925315</td>\n",
       "      <td>93.75</td>\n",
       "    </tr>\n",
       "    <tr>\n",
       "      <th>1</th>\n",
       "      <td>purchase_places</td>\n",
       "      <td>object</td>\n",
       "      <td>France</td>\n",
       "      <td>2053679</td>\n",
       "      <td>11361</td>\n",
       "      <td>0.55</td>\n",
       "      <td>161431</td>\n",
       "      <td>7.86</td>\n",
       "      <td>1892248</td>\n",
       "      <td>92.14</td>\n",
       "    </tr>\n",
       "  </tbody>\n",
       "</table>\n",
       "</div>"
      ],
      "text/plain": [
       "               Variable name Variable type        Example     Raws Distinct  \\\n",
       "0  manufacturing_places_tags        object  benivay-ollon  2053679    25973   \n",
       "1            purchase_places        object         France  2053679    11361   \n",
       "\n",
       "   % distinct Not NaN  % Not NaN      NaN  % NaN  \n",
       "0        1.26  128364       6.25  1925315  93.75  \n",
       "1        0.55  161431       7.86  1892248  92.14  "
      ]
     },
     "execution_count": 81,
     "metadata": {},
     "output_type": "execute_result"
    }
   ],
   "source": [
    "tab_desc"
   ]
  },
  {
   "cell_type": "code",
   "execution_count": 82,
   "id": "8cf3dead",
   "metadata": {
    "hidden": true
   },
   "outputs": [
    {
     "data": {
      "text/html": [
       "<div>\n",
       "<style scoped>\n",
       "    .dataframe tbody tr th:only-of-type {\n",
       "        vertical-align: middle;\n",
       "    }\n",
       "\n",
       "    .dataframe tbody tr th {\n",
       "        vertical-align: top;\n",
       "    }\n",
       "\n",
       "    .dataframe thead th {\n",
       "        text-align: right;\n",
       "    }\n",
       "</style>\n",
       "<table border=\"1\" class=\"dataframe\">\n",
       "  <thead>\n",
       "    <tr style=\"text-align: right;\">\n",
       "      <th></th>\n",
       "      <th>manufacturing_places_tags</th>\n",
       "      <th>purchase_places</th>\n",
       "    </tr>\n",
       "  </thead>\n",
       "  <tbody>\n",
       "    <tr>\n",
       "      <th>853106</th>\n",
       "      <td>france</td>\n",
       "      <td>France</td>\n",
       "    </tr>\n",
       "    <tr>\n",
       "      <th>1231570</th>\n",
       "      <td>dettingen-teck,deutschland</td>\n",
       "      <td>Wiesbaden,Deutschland</td>\n",
       "    </tr>\n",
       "    <tr>\n",
       "      <th>1255748</th>\n",
       "      <td>deutschland</td>\n",
       "      <td>Deutschland</td>\n",
       "    </tr>\n",
       "    <tr>\n",
       "      <th>1553227</th>\n",
       "      <td>allemagne</td>\n",
       "      <td>Suisse</td>\n",
       "    </tr>\n",
       "    <tr>\n",
       "      <th>891336</th>\n",
       "      <td>france,47200-virazeil</td>\n",
       "      <td>Paris</td>\n",
       "    </tr>\n",
       "  </tbody>\n",
       "</table>\n",
       "</div>"
      ],
      "text/plain": [
       "          manufacturing_places_tags        purchase_places\n",
       "853106                       france                 France\n",
       "1231570  dettingen-teck,deutschland  Wiesbaden,Deutschland\n",
       "1255748                 deutschland            Deutschland\n",
       "1553227                   allemagne                 Suisse\n",
       "891336        france,47200-virazeil                  Paris"
      ]
     },
     "execution_count": 82,
     "metadata": {},
     "output_type": "execute_result"
    }
   ],
   "source": [
    "tab_modalities"
   ]
  },
  {
   "cell_type": "markdown",
   "id": "84978a8f",
   "metadata": {
    "hidden": true
   },
   "source": [
    "Ces variables étant très peu alimentées (plus de 90% de NaN), supprimons les."
   ]
  },
  {
   "cell_type": "code",
   "execution_count": 83,
   "id": "3f468046",
   "metadata": {
    "hidden": true
   },
   "outputs": [
    {
     "name": "stdout",
     "output_type": "stream",
     "text": [
      "Nombre de lignes: 2053679\n",
      "Nombre de variables: 114\n"
     ]
    }
   ],
   "source": [
    "# Suppression des variables\n",
    "openfoodfacts_en.drop(tab_modalities.columns, axis = 'columns', inplace = True)\n",
    "print(f\"Nombre de lignes: {openfoodfacts_en.shape[0]}\\nNombre de variables: {openfoodfacts_en.shape[1]}\")"
   ]
  },
  {
   "cell_type": "markdown",
   "id": "96574bd3",
   "metadata": {
    "heading_collapsed": true
   },
   "source": [
    "### additives <a class=\"anchor\" id=\"additives\"></a>"
   ]
  },
  {
   "cell_type": "code",
   "execution_count": 84,
   "id": "7cd7ad03",
   "metadata": {
    "hidden": true
   },
   "outputs": [],
   "source": [
    "tab_desc, tab_modalities = check_redundancy_steps(openfoodfacts_en, 'additives')"
   ]
  },
  {
   "cell_type": "code",
   "execution_count": 85,
   "id": "d62d2a20",
   "metadata": {
    "hidden": true
   },
   "outputs": [
    {
     "data": {
      "text/html": [
       "<div>\n",
       "<style scoped>\n",
       "    .dataframe tbody tr th:only-of-type {\n",
       "        vertical-align: middle;\n",
       "    }\n",
       "\n",
       "    .dataframe tbody tr th {\n",
       "        vertical-align: top;\n",
       "    }\n",
       "\n",
       "    .dataframe thead th {\n",
       "        text-align: right;\n",
       "    }\n",
       "</style>\n",
       "<table border=\"1\" class=\"dataframe\">\n",
       "  <thead>\n",
       "    <tr style=\"text-align: right;\">\n",
       "      <th></th>\n",
       "      <th>Variable name</th>\n",
       "      <th>Variable type</th>\n",
       "      <th>Example</th>\n",
       "      <th>Raws</th>\n",
       "      <th>Distinct</th>\n",
       "      <th>% distinct</th>\n",
       "      <th>Not NaN</th>\n",
       "      <th>% Not NaN</th>\n",
       "      <th>NaN</th>\n",
       "      <th>% NaN</th>\n",
       "    </tr>\n",
       "  </thead>\n",
       "  <tbody>\n",
       "    <tr>\n",
       "      <th>0</th>\n",
       "      <td>additives_n</td>\n",
       "      <td>float64</td>\n",
       "      <td>0.0</td>\n",
       "      <td>2053679</td>\n",
       "      <td>40</td>\n",
       "      <td>0.0</td>\n",
       "      <td>732673</td>\n",
       "      <td>35.68</td>\n",
       "      <td>1321006</td>\n",
       "      <td>64.32</td>\n",
       "    </tr>\n",
       "    <tr>\n",
       "      <th>1</th>\n",
       "      <td>additives_en</td>\n",
       "      <td>object</td>\n",
       "      <td>E296 - Malic acid,E330 - Citric acid,E552 - Ca...</td>\n",
       "      <td>2053679</td>\n",
       "      <td>100577</td>\n",
       "      <td>4.9</td>\n",
       "      <td>423384</td>\n",
       "      <td>20.62</td>\n",
       "      <td>1630295</td>\n",
       "      <td>79.38</td>\n",
       "    </tr>\n",
       "  </tbody>\n",
       "</table>\n",
       "</div>"
      ],
      "text/plain": [
       "  Variable name Variable type  \\\n",
       "0   additives_n       float64   \n",
       "1  additives_en        object   \n",
       "\n",
       "                                             Example     Raws Distinct  \\\n",
       "0                                                0.0  2053679       40   \n",
       "1  E296 - Malic acid,E330 - Citric acid,E552 - Ca...  2053679   100577   \n",
       "\n",
       "   % distinct Not NaN  % Not NaN      NaN  % NaN  \n",
       "0         0.0  732673      35.68  1321006  64.32  \n",
       "1         4.9  423384      20.62  1630295  79.38  "
      ]
     },
     "execution_count": 85,
     "metadata": {},
     "output_type": "execute_result"
    }
   ],
   "source": [
    "tab_desc"
   ]
  },
  {
   "cell_type": "code",
   "execution_count": 86,
   "id": "c0f72470",
   "metadata": {
    "hidden": true
   },
   "outputs": [
    {
     "data": {
      "text/html": [
       "<div>\n",
       "<style scoped>\n",
       "    .dataframe tbody tr th:only-of-type {\n",
       "        vertical-align: middle;\n",
       "    }\n",
       "\n",
       "    .dataframe tbody tr th {\n",
       "        vertical-align: top;\n",
       "    }\n",
       "\n",
       "    .dataframe thead th {\n",
       "        text-align: right;\n",
       "    }\n",
       "</style>\n",
       "<table border=\"1\" class=\"dataframe\">\n",
       "  <thead>\n",
       "    <tr style=\"text-align: right;\">\n",
       "      <th></th>\n",
       "      <th>additives_n</th>\n",
       "      <th>additives_en</th>\n",
       "    </tr>\n",
       "  </thead>\n",
       "  <tbody>\n",
       "    <tr>\n",
       "      <th>223780</th>\n",
       "      <td>2.0</td>\n",
       "      <td>E150c - Ammonia caramel,E322 - Lecithins,E322i...</td>\n",
       "    </tr>\n",
       "    <tr>\n",
       "      <th>801078</th>\n",
       "      <td>2.0</td>\n",
       "      <td>E412 - Guar gum,E415 - Xanthan gum</td>\n",
       "    </tr>\n",
       "    <tr>\n",
       "      <th>1338152</th>\n",
       "      <td>10.0</td>\n",
       "      <td>E14XX - Modified Starch,E150d - Sulphite ammon...</td>\n",
       "    </tr>\n",
       "    <tr>\n",
       "      <th>441730</th>\n",
       "      <td>7.0</td>\n",
       "      <td>E102 - Tartrazine,E110 - Sunset yellow FCF,E12...</td>\n",
       "    </tr>\n",
       "    <tr>\n",
       "      <th>451837</th>\n",
       "      <td>1.0</td>\n",
       "      <td>E412 - Guar gum</td>\n",
       "    </tr>\n",
       "  </tbody>\n",
       "</table>\n",
       "</div>"
      ],
      "text/plain": [
       "         additives_n                                       additives_en\n",
       "223780           2.0  E150c - Ammonia caramel,E322 - Lecithins,E322i...\n",
       "801078           2.0                 E412 - Guar gum,E415 - Xanthan gum\n",
       "1338152         10.0  E14XX - Modified Starch,E150d - Sulphite ammon...\n",
       "441730           7.0  E102 - Tartrazine,E110 - Sunset yellow FCF,E12...\n",
       "451837           1.0                                    E412 - Guar gum"
      ]
     },
     "execution_count": 86,
     "metadata": {},
     "output_type": "execute_result"
    }
   ],
   "source": [
    "tab_modalities"
   ]
  },
  {
   "cell_type": "markdown",
   "id": "c4030ed3",
   "metadata": {
    "hidden": true
   },
   "source": [
    "Le pourcentage de valeurs manquantes étant \"acceptable\", nous décidons de conserver ces variables pour le moment."
   ]
  },
  {
   "cell_type": "markdown",
   "id": "157dba92",
   "metadata": {},
   "source": [
    "### Autres variables  <a class=\"anchor\" id=\"misc\"></a>"
   ]
  },
  {
   "cell_type": "markdown",
   "id": "10fb2b37",
   "metadata": {},
   "source": [
    "La nomenclature des variables nous donne d'autres informations. Elle se trouve à l'adresse: https://static.openfoodfacts.org/data/data-fields.txt"
   ]
  },
  {
   "cell_type": "markdown",
   "id": "a490d7dd",
   "metadata": {
    "heading_collapsed": true
   },
   "source": [
    "#### Dates"
   ]
  },
  {
   "cell_type": "code",
   "execution_count": 87,
   "id": "31287250",
   "metadata": {
    "hidden": true
   },
   "outputs": [
    {
     "name": "stdout",
     "output_type": "stream",
     "text": [
      "Liste des variables dont le titre se termine par _t ou _datetime: \n"
     ]
    },
    {
     "data": {
      "text/plain": [
       "['created_t', 'created_datetime', 'last_modified_t', 'last_modified_datetime']"
      ]
     },
     "execution_count": 87,
     "metadata": {},
     "output_type": "execute_result"
    }
   ],
   "source": [
    "# Colonnes dont le titre se termine par \"_t\" ou \"_datetime\"\n",
    "print(\"Liste des variables dont le titre se termine par _t ou _datetime: \")\n",
    "liste_col_date = openfoodfacts_en.iloc[:,(openfoodfacts_en.columns.str.endswith('_datetime')) |\n",
    "                   (openfoodfacts_en.columns.str.endswith('_t'))].columns.tolist()\n",
    "liste_col_date"
   ]
  },
  {
   "cell_type": "code",
   "execution_count": 88,
   "id": "6cd8c667",
   "metadata": {
    "hidden": true
   },
   "outputs": [],
   "source": [
    "# Passage au bon format\n",
    "from datetime import datetime\n",
    "import time\n",
    "\n",
    "for column in liste_col_date:\n",
    "    if column.endswith('_t'):\n",
    "        openfoodfacts_en[column] = pd.to_datetime(openfoodfacts_en[column], unit='s')\n",
    "    else:\n",
    "        openfoodfacts_en[column] = pd.to_datetime(openfoodfacts_en[column], format=\"%Y-%m-%d %H:%M:%S.%f\", utc=True)"
   ]
  },
  {
   "cell_type": "code",
   "execution_count": 89,
   "id": "142ade71",
   "metadata": {
    "hidden": true
   },
   "outputs": [
    {
     "data": {
      "text/html": [
       "<div>\n",
       "<style scoped>\n",
       "    .dataframe tbody tr th:only-of-type {\n",
       "        vertical-align: middle;\n",
       "    }\n",
       "\n",
       "    .dataframe tbody tr th {\n",
       "        vertical-align: top;\n",
       "    }\n",
       "\n",
       "    .dataframe thead th {\n",
       "        text-align: right;\n",
       "    }\n",
       "</style>\n",
       "<table border=\"1\" class=\"dataframe\">\n",
       "  <thead>\n",
       "    <tr style=\"text-align: right;\">\n",
       "      <th></th>\n",
       "      <th>created_t</th>\n",
       "      <th>created_datetime</th>\n",
       "      <th>last_modified_t</th>\n",
       "      <th>last_modified_datetime</th>\n",
       "    </tr>\n",
       "  </thead>\n",
       "  <tbody>\n",
       "    <tr>\n",
       "      <th>0</th>\n",
       "      <td>2021-06-16 14:53:28</td>\n",
       "      <td>2021-06-16 14:53:28+00:00</td>\n",
       "      <td>2021-06-16 14:53:29</td>\n",
       "      <td>2021-06-16 14:53:29+00:00</td>\n",
       "    </tr>\n",
       "    <tr>\n",
       "      <th>1</th>\n",
       "      <td>2021-09-01 08:11:51</td>\n",
       "      <td>2021-09-01 08:11:51+00:00</td>\n",
       "      <td>2021-09-01 08:14:24</td>\n",
       "      <td>2021-09-01 08:14:24+00:00</td>\n",
       "    </tr>\n",
       "    <tr>\n",
       "      <th>2</th>\n",
       "      <td>2018-06-15 10:38:00</td>\n",
       "      <td>2018-06-15 10:38:00+00:00</td>\n",
       "      <td>2019-06-25 11:55:18</td>\n",
       "      <td>2019-06-25 11:55:18+00:00</td>\n",
       "    </tr>\n",
       "    <tr>\n",
       "      <th>3</th>\n",
       "      <td>2018-10-13 21:06:14</td>\n",
       "      <td>2018-10-13 21:06:14+00:00</td>\n",
       "      <td>2018-10-13 21:06:57</td>\n",
       "      <td>2018-10-13 21:06:57+00:00</td>\n",
       "    </tr>\n",
       "    <tr>\n",
       "      <th>4</th>\n",
       "      <td>2019-11-19 15:02:16</td>\n",
       "      <td>2019-11-19 15:02:16+00:00</td>\n",
       "      <td>2021-06-22 19:39:25</td>\n",
       "      <td>2021-06-22 19:39:25+00:00</td>\n",
       "    </tr>\n",
       "  </tbody>\n",
       "</table>\n",
       "</div>"
      ],
      "text/plain": [
       "            created_t          created_datetime     last_modified_t  \\\n",
       "0 2021-06-16 14:53:28 2021-06-16 14:53:28+00:00 2021-06-16 14:53:29   \n",
       "1 2021-09-01 08:11:51 2021-09-01 08:11:51+00:00 2021-09-01 08:14:24   \n",
       "2 2018-06-15 10:38:00 2018-06-15 10:38:00+00:00 2019-06-25 11:55:18   \n",
       "3 2018-10-13 21:06:14 2018-10-13 21:06:14+00:00 2018-10-13 21:06:57   \n",
       "4 2019-11-19 15:02:16 2019-11-19 15:02:16+00:00 2021-06-22 19:39:25   \n",
       "\n",
       "     last_modified_datetime  \n",
       "0 2021-06-16 14:53:29+00:00  \n",
       "1 2021-09-01 08:14:24+00:00  \n",
       "2 2019-06-25 11:55:18+00:00  \n",
       "3 2018-10-13 21:06:57+00:00  \n",
       "4 2021-06-22 19:39:25+00:00  "
      ]
     },
     "execution_count": 89,
     "metadata": {},
     "output_type": "execute_result"
    }
   ],
   "source": [
    "openfoodfacts_en[liste_col_date].head()"
   ]
  },
  {
   "cell_type": "markdown",
   "id": "60c28df4",
   "metadata": {
    "hidden": true
   },
   "source": [
    "On remarque de la redondance d'information, on supprime les variables qui se terminent par _datetime puis nous créons des variables Année pour l'analyse future."
   ]
  },
  {
   "cell_type": "code",
   "execution_count": 90,
   "id": "357de87f",
   "metadata": {
    "hidden": true
   },
   "outputs": [],
   "source": [
    "# Suppression des variables redondantes\n",
    "openfoodfacts_en.drop(['created_datetime', 'last_modified_datetime'], axis=1, inplace = True)"
   ]
  },
  {
   "cell_type": "code",
   "execution_count": 91,
   "id": "cfe83dd1",
   "metadata": {
    "hidden": true
   },
   "outputs": [],
   "source": [
    "# On renomme les variables de date\n",
    "openfoodfacts_en.rename(columns={'created_t': 'creation_date', \n",
    "                              'last_modified_t': 'last_modified_date'}, inplace = True)"
   ]
  },
  {
   "cell_type": "code",
   "execution_count": 92,
   "id": "7c9e5382",
   "metadata": {
    "hidden": true
   },
   "outputs": [],
   "source": [
    "# On créé des variables \"Année\"\n",
    "openfoodfacts_en['creation_year'] = pd.to_datetime(openfoodfacts_en['creation_date'], format='%d:%m:%Y').dt.year\n",
    "openfoodfacts_en['last_modified_year'] = pd.to_datetime(openfoodfacts_en['last_modified_date'], format='%d:%m:%Y').dt.year"
   ]
  },
  {
   "cell_type": "code",
   "execution_count": 93,
   "id": "85d40441",
   "metadata": {
    "hidden": true
   },
   "outputs": [],
   "source": [
    "# On décale les colonnes \"Année\" après les colonnes de date:\n",
    "colonne_a_decaler = openfoodfacts_en.pop('creation_year') \n",
    "openfoodfacts_en.insert(openfoodfacts_en.columns.get_loc(\"creation_date\")+1, 'creation_year', colonne_a_decaler) \n",
    "\n",
    "colonne_a_decaler = openfoodfacts_en.pop('last_modified_year') \n",
    "openfoodfacts_en.insert(openfoodfacts_en.columns.get_loc(\"last_modified_date\")+1, 'last_modified_year', colonne_a_decaler) "
   ]
  },
  {
   "cell_type": "code",
   "execution_count": 94,
   "id": "59213ccf",
   "metadata": {
    "hidden": true
   },
   "outputs": [
    {
     "data": {
      "text/plain": [
       "code                          object\n",
       "creator                       object\n",
       "creation_date         datetime64[ns]\n",
       "creation_year                  int64\n",
       "last_modified_date    datetime64[ns]\n",
       "last_modified_year             int64\n",
       "product_name                  object\n",
       "quantity                      object\n",
       "brands_tags                   object\n",
       "categories_en                 object\n",
       "dtype: object"
      ]
     },
     "execution_count": 94,
     "metadata": {},
     "output_type": "execute_result"
    }
   ],
   "source": [
    "openfoodfacts_en.dtypes[0:10]"
   ]
  },
  {
   "cell_type": "markdown",
   "id": "acf47b87",
   "metadata": {
    "heading_collapsed": true
   },
   "source": [
    "#### serving_ "
   ]
  },
  {
   "cell_type": "markdown",
   "id": "102a6af0",
   "metadata": {
    "hidden": true
   },
   "source": [
    "Les variables qui commencent par serving_ correspondent au nombre de nutriments (en g, ou kj pour l'énergie) pour une part du produit. Elles doivent être de type numérique."
   ]
  },
  {
   "cell_type": "code",
   "execution_count": 95,
   "id": "8a38867d",
   "metadata": {
    "hidden": true
   },
   "outputs": [
    {
     "name": "stdout",
     "output_type": "stream",
     "text": [
      "Liste des variables commençant par serving: \n",
      "\n",
      " ['serving_size', 'serving_quantity']\n"
     ]
    }
   ],
   "source": [
    "liste_col_serving = openfoodfacts_en.iloc[:,\n",
    "                                            openfoodfacts_en.columns.str.\n",
    "                                            startswith('serving_'\n",
    "                                                       )].columns.unique(\n",
    "                                                       ).tolist()\n",
    "\n",
    "print(f\"Liste des variables commençant par serving: \\n\\n {liste_col_serving}\")"
   ]
  },
  {
   "cell_type": "code",
   "execution_count": 96,
   "id": "cd6a9296",
   "metadata": {
    "hidden": true
   },
   "outputs": [
    {
     "data": {
      "text/html": [
       "<div>\n",
       "<style scoped>\n",
       "    .dataframe tbody tr th:only-of-type {\n",
       "        vertical-align: middle;\n",
       "    }\n",
       "\n",
       "    .dataframe tbody tr th {\n",
       "        vertical-align: top;\n",
       "    }\n",
       "\n",
       "    .dataframe thead th {\n",
       "        text-align: right;\n",
       "    }\n",
       "</style>\n",
       "<table border=\"1\" class=\"dataframe\">\n",
       "  <thead>\n",
       "    <tr style=\"text-align: right;\">\n",
       "      <th></th>\n",
       "      <th>serving_size</th>\n",
       "      <th>serving_quantity</th>\n",
       "    </tr>\n",
       "  </thead>\n",
       "  <tbody>\n",
       "    <tr>\n",
       "      <th>40309</th>\n",
       "      <td>19 g</td>\n",
       "      <td>19.0</td>\n",
       "    </tr>\n",
       "    <tr>\n",
       "      <th>434186</th>\n",
       "      <td>3 PIECES (33 g)</td>\n",
       "      <td>33.0</td>\n",
       "    </tr>\n",
       "    <tr>\n",
       "      <th>519137</th>\n",
       "      <td>8 OZA (240 ml)</td>\n",
       "      <td>240.0</td>\n",
       "    </tr>\n",
       "    <tr>\n",
       "      <th>298369</th>\n",
       "      <td>1 BOTTLE (474 ml)</td>\n",
       "      <td>474.0</td>\n",
       "    </tr>\n",
       "    <tr>\n",
       "      <th>519489</th>\n",
       "      <td>1 ONZ (28 g)</td>\n",
       "      <td>28.0</td>\n",
       "    </tr>\n",
       "  </tbody>\n",
       "</table>\n",
       "</div>"
      ],
      "text/plain": [
       "             serving_size  serving_quantity\n",
       "40309                19 g              19.0\n",
       "434186    3 PIECES (33 g)              33.0\n",
       "519137     8 OZA (240 ml)             240.0\n",
       "298369  1 BOTTLE (474 ml)             474.0\n",
       "519489       1 ONZ (28 g)              28.0"
      ]
     },
     "execution_count": 96,
     "metadata": {},
     "output_type": "execute_result"
    }
   ],
   "source": [
    "# Exemples de variables contenant serving_ sans données manquantes\n",
    "openfoodfacts_en[openfoodfacts_en[liste_col_serving].notnull().all(1)][liste_col_serving].sample(5)"
   ]
  },
  {
   "cell_type": "markdown",
   "id": "77b7357a",
   "metadata": {
    "hidden": true
   },
   "source": [
    "Ces 2 colonnes semblent être redondantes, vérifions le % de NaN"
   ]
  },
  {
   "cell_type": "code",
   "execution_count": 97,
   "id": "1d1958d6",
   "metadata": {
    "hidden": true
   },
   "outputs": [
    {
     "data": {
      "text/html": [
       "<div>\n",
       "<style scoped>\n",
       "    .dataframe tbody tr th:only-of-type {\n",
       "        vertical-align: middle;\n",
       "    }\n",
       "\n",
       "    .dataframe tbody tr th {\n",
       "        vertical-align: top;\n",
       "    }\n",
       "\n",
       "    .dataframe thead th {\n",
       "        text-align: right;\n",
       "    }\n",
       "</style>\n",
       "<table border=\"1\" class=\"dataframe\">\n",
       "  <thead>\n",
       "    <tr style=\"text-align: right;\">\n",
       "      <th></th>\n",
       "      <th>Variable name</th>\n",
       "      <th>Variable type</th>\n",
       "      <th>Example</th>\n",
       "      <th>Raws</th>\n",
       "      <th>Distinct</th>\n",
       "      <th>% distinct</th>\n",
       "      <th>Not NaN</th>\n",
       "      <th>% Not NaN</th>\n",
       "      <th>NaN</th>\n",
       "      <th>% NaN</th>\n",
       "    </tr>\n",
       "  </thead>\n",
       "  <tbody>\n",
       "    <tr>\n",
       "      <th>0</th>\n",
       "      <td>serving_size</td>\n",
       "      <td>object</td>\n",
       "      <td>serving</td>\n",
       "      <td>2053679</td>\n",
       "      <td>47101</td>\n",
       "      <td>2.29</td>\n",
       "      <td>509794</td>\n",
       "      <td>24.82</td>\n",
       "      <td>1543885</td>\n",
       "      <td>75.18</td>\n",
       "    </tr>\n",
       "    <tr>\n",
       "      <th>1</th>\n",
       "      <td>serving_quantity</td>\n",
       "      <td>float64</td>\n",
       "      <td>28.0</td>\n",
       "      <td>2053679</td>\n",
       "      <td>2456</td>\n",
       "      <td>0.12</td>\n",
       "      <td>505560</td>\n",
       "      <td>24.62</td>\n",
       "      <td>1548119</td>\n",
       "      <td>75.38</td>\n",
       "    </tr>\n",
       "  </tbody>\n",
       "</table>\n",
       "</div>"
      ],
      "text/plain": [
       "      Variable name Variable type  Example     Raws Distinct  % distinct  \\\n",
       "0      serving_size        object  serving  2053679    47101        2.29   \n",
       "1  serving_quantity       float64     28.0  2053679     2456        0.12   \n",
       "\n",
       "  Not NaN  % Not NaN      NaN  % NaN  \n",
       "0  509794      24.82  1543885  75.18  \n",
       "1  505560      24.62  1548119  75.38  "
      ]
     },
     "execution_count": 97,
     "metadata": {},
     "output_type": "execute_result"
    }
   ],
   "source": [
    "describe_variables_light(openfoodfacts_en[liste_col_serving])"
   ]
  },
  {
   "cell_type": "markdown",
   "id": "ff47aaea",
   "metadata": {
    "hidden": true
   },
   "source": [
    "Le % de NaN étant assez similaire et la variable serving_quantity déjà au format numérique, supprimons la variable serving_size."
   ]
  },
  {
   "cell_type": "code",
   "execution_count": 98,
   "id": "887352c2",
   "metadata": {
    "hidden": true
   },
   "outputs": [
    {
     "name": "stdout",
     "output_type": "stream",
     "text": [
      "Nombre de lignes: 2053679\n",
      "Nombre de variables: 113\n"
     ]
    }
   ],
   "source": [
    "# Suppression de la variable serving_size\n",
    "openfoodfacts_en.drop('serving_size', axis = 'columns', inplace = True)\n",
    "\n",
    "print(f\"Nombre de lignes: {openfoodfacts_en.shape[0]}\\nNombre de variables: {openfoodfacts_en.shape[1]}\")"
   ]
  },
  {
   "cell_type": "markdown",
   "id": "a074e0b9",
   "metadata": {
    "hidden": true
   },
   "source": [
    "<div class=\"alert alert-block alert-warning\">\n",
    "    <p> Suppression de variables pour libérer de la RAM </p>\n",
    "</div>"
   ]
  },
  {
   "cell_type": "markdown",
   "id": "ac63dfbb",
   "metadata": {},
   "source": [
    "## Sélection de variables pertinentes en lien avec le choix d'application <a class=\"anchor\" id=\"selec_var\"></a>"
   ]
  },
  {
   "cell_type": "markdown",
   "id": "57fa29f4",
   "metadata": {},
   "source": [
    "L'agence \"Santé publique France\" a lancé un appel à projets pour trouver des idées innovantes d’applications en lien avec l'alimentation. Je souhaite y contribuer en proposant **une nouvelle signalétique permettant aux femmes enceintes de s'assurer que le produit ne contient pas d'aliment proscrit pendant la grossesse et de proposer une alternative avec le meilleur nutriscore si le produit sélectionné ne convient pas**.\n",
    "\n",
    "Je me suis basée sur le guide nutrition de la grossesse dont les données proviennent de l'Agence française de sécurité sanitaire des aliments (AFSSA) disponibles en téléchargement sur le site de Santé Publique France à cette adresse: https://www.santepubliquefrance.fr/determinants-de-sante/nutrition-et-activite-physique/documents/brochure/le-guide-nutrition-de-la-grossesse\n",
    "\n",
    "On y retrouve les vitamines et oligoéléments essentiels pendant la grossesse tels que: \n",
    "- les **folates** (vitamine B9) pour le développement du système nerveux de l'embryon \n",
    "- le **calcium** (construction du squelette de l'enfant)\n",
    "- la **viatmine D** qui permet à l'organisme à mieux absorber le calcium des aliments\n",
    "- le **fer**\n",
    "- l'**iode** (fonctionnement de la glande thyroïde + développement cerveau de l'enfant)\n",
    "\n",
    "\n",
    "Certains aliments sont à proscrire pendant la grossesse ou à manger en petite quantité. Parmis eux: \n",
    "- le **soja**\n",
    "- **certains poissons**: anguille, barbeau, brème, carpe, silure, lotte, bar, bonite, empereur, grenadier, flétan, brochet, dorade, raie, sabre, thon, espadon, marlin, siki, requin, lamproie\n",
    "- les boissons contenant de la **caféine**\n",
    "- le foie et les **produits à base de foie**\n",
    "- les **fromages à pâte molle à croûte fleurie** (type camembert, brie) et à **croûte lavée** (type munster, pont- l’évêque), surtout s’ils sont au lait cru ; les **fromages râpés industriels**\n",
    "- certains produits de charcuterie, notamment **rillettes, pâtés, foie gras, produits en gelée**\n",
    "- la **viande crue** ou peu cuite, le **poisson cru** (sushi, sashimi, tarama), les **poissons fumés** (saumon, truite),et les **crustacés décortiqués vendus cuits**\n",
    "- les produits enrichis en **phytostérols**\n",
    "- l'**alcool**\n",
    "\n",
    "Nous allons donc filtrer le dataset sur les variables qui nous apportent de l'information sur les éléments ci-dessus. Notre application aura pour cible les femmes enceintes qui achètent en France. Il est en effet obligatoire de traduire les étiquettes dans la langue où le produit est vendu ce qui facilitera l'analyse. Cette application pourrait être adaptée à différents pays ultérieurement."
   ]
  },
  {
   "cell_type": "code",
   "execution_count": 99,
   "id": "d65f3fb1",
   "metadata": {},
   "outputs": [],
   "source": [
    "# Copie du dataset\n",
    "openfoodfacts_light = openfoodfacts_en.copy()"
   ]
  },
  {
   "cell_type": "markdown",
   "id": "f483a4e7",
   "metadata": {},
   "source": [
    "### Vitamines et oligoéléments  <a class=\"anchor\" id=\"vitamines\"></a>"
   ]
  },
  {
   "cell_type": "code",
   "execution_count": null,
   "id": "0ed660b8",
   "metadata": {},
   "outputs": [],
   "source": []
  },
  {
   "cell_type": "code",
   "execution_count": null,
   "id": "f2a9c537",
   "metadata": {},
   "outputs": [],
   "source": []
  },
  {
   "cell_type": "code",
   "execution_count": 100,
   "id": "2f2a6273",
   "metadata": {},
   "outputs": [
    {
     "name": "stdout",
     "output_type": "stream",
     "text": [
      "['France', 'Spain', 'United States', 'Ireland', nan, 'Belgium', 'United Kingdom', 'France,United States', \"Côte d'Ivoire\", 'Canada', 'Switzerland', 'Italy', 'Germany', 'Belgium,France', 'Peru', 'Oman', 'Slovenia', 'France,Germany', 'France,Germany,Netherlands', 'Kuwait', 'United Arab Emirates', 'France,Switzerland', 'India', 'Romania', 'Australia', 'Norway', 'Luxembourg', 'Portugal', 'Mexico', 'Dominican Republic', 'Réunion', 'Israel', 'Netherlands', 'Saudi Arabia', 'Poland', 'Germany,United States', 'Germany,Ireland', 'Rwanda', 'France,United Kingdom', 'Belgium,France,Netherlands,United Kingdom', 'Guadeloupe', 'Chile', 'Thailand', 'El Salvador', 'Algeria', 'Greece', 'Spain,Switzerland', 'France,Russia', 'France,India', 'Austria,Frankreich,Spanien', 'Senegal', 'United Kingdom,United States', 'Andorra', 'Austria,France', 'Luxembourg,Deutschland,Spanien', 'Lithuania', 'Germany,Spain', 'Russia', 'Panama', 'Jersey']\n"
     ]
    }
   ],
   "source": [
    "# Modalités de la variable countries_en\n",
    "print(openfoodfacts_light['countries_en'].unique().tolist()[0:60])"
   ]
  },
  {
   "cell_type": "markdown",
   "id": "22e8eeb2",
   "metadata": {},
   "source": [
    "Nous avions vu précédement que la variable countries_en ne possède que 0.30% de NaN, nous allons donc sélectionner uniquement les lignes où cette variable est remplie (na = False). Nous remarquons également qu'un produit peut être vendu dans plusieurs pays et que parfois le pays France est traduit dans une autre langue."
   ]
  },
  {
   "cell_type": "code",
   "execution_count": null,
   "id": "1a013535",
   "metadata": {},
   "outputs": [],
   "source": []
  },
  {
   "cell_type": "code",
   "execution_count": null,
   "id": "7e0e0839",
   "metadata": {},
   "outputs": [],
   "source": [
    "liste_pays_FR = ['France', 'FR', 'en:FR', 'en:fr', 'en:France', 'Frankreich', \n",
    "              'france', 'Réunion', 'Francia', 'French Polynesia', 'Frankrijk', \n",
    "              'Nouvelle-Calédonie', 'Martinique', 'Guadeloupe', \n",
    "              'Polynésie Française', 'Mayotte']"
   ]
  },
  {
   "cell_type": "code",
   "execution_count": null,
   "id": "c21d6714",
   "metadata": {},
   "outputs": [],
   "source": [
    "# Filtre des données sur le Country 'France'\n",
    "openfoodfacts_France = openfoodfacts_light[openfoodfacts_light['countries_en'] == ]"
   ]
  },
  {
   "cell_type": "code",
   "execution_count": null,
   "id": "2f793b23",
   "metadata": {},
   "outputs": [],
   "source": [
    "openfoodfacts_light[openfoodfacts_light['countries_en'].isin(liste_pays)]"
   ]
  },
  {
   "cell_type": "code",
   "execution_count": null,
   "id": "07b73ec0",
   "metadata": {},
   "outputs": [],
   "source": [
    "openfoodfacts_light[openfoodfacts_light['countries_en'].str.contains('fran', na = False)]['countries_en'].unique()"
   ]
  },
  {
   "cell_type": "code",
   "execution_count": null,
   "id": "c7b2bfb5",
   "metadata": {},
   "outputs": [],
   "source": [
    "openfoodfacts_en['countries_en'].unique().tolist()"
   ]
  },
  {
   "cell_type": "code",
   "execution_count": null,
   "id": "7d16e250",
   "metadata": {
    "scrolled": true
   },
   "outputs": [],
   "source": [
    "openfoodfacts_en.columns.tolist()"
   ]
  },
  {
   "cell_type": "markdown",
   "id": "753ddf4b",
   "metadata": {},
   "source": [
    "Les nutriments sont des variables distinctes dans le dataset. Nous allons filtrer ce dernier sur les nutriments essentiels traduits en anglais."
   ]
  },
  {
   "cell_type": "code",
   "execution_count": 116,
   "id": "6da403ef",
   "metadata": {},
   "outputs": [],
   "source": [
    "# Liste des nutriments essentiels\n",
    "liste_nutriments_essentiels = openfoodfacts_en.iloc[:,openfoodfacts_en.columns.str.contains(\n",
    "    'folates|vitamin-b9|calcium|vitamin-d|iron|iodine|alcohol')].columns.tolist()"
   ]
  },
  {
   "cell_type": "markdown",
   "id": "54798fd9",
   "metadata": {},
   "source": [
    "Les aliments à proscrire sont des modalités de la variable"
   ]
  },
  {
   "cell_type": "code",
   "execution_count": null,
   "id": "2ab30fa7",
   "metadata": {},
   "outputs": [],
   "source": [
    "# Liste des aliments à proscrire"
   ]
  },
  {
   "cell_type": "code",
   "execution_count": 121,
   "id": "44bb14d3",
   "metadata": {},
   "outputs": [
    {
     "data": {
      "text/html": [
       "<div>\n",
       "<style scoped>\n",
       "    .dataframe tbody tr th:only-of-type {\n",
       "        vertical-align: middle;\n",
       "    }\n",
       "\n",
       "    .dataframe tbody tr th {\n",
       "        vertical-align: top;\n",
       "    }\n",
       "\n",
       "    .dataframe thead th {\n",
       "        text-align: right;\n",
       "    }\n",
       "</style>\n",
       "<table border=\"1\" class=\"dataframe\">\n",
       "  <thead>\n",
       "    <tr style=\"text-align: right;\">\n",
       "      <th></th>\n",
       "      <th>product_name</th>\n",
       "      <th>ingredients_text</th>\n",
       "      <th>countries_en</th>\n",
       "    </tr>\n",
       "  </thead>\n",
       "  <tbody>\n",
       "    <tr>\n",
       "      <th>468</th>\n",
       "      <td>Preparation mug cake chocolat-caramel au beurr...</td>\n",
       "      <td>farine de blé (gluten), sucre de canne, pépite...</td>\n",
       "      <td>France</td>\n",
       "    </tr>\n",
       "    <tr>\n",
       "      <th>476</th>\n",
       "      <td>Colorant alimentaire bleu velours en spray</td>\n",
       "      <td>VELOURS EN S RAY dessert, passé préalableme Bi...</td>\n",
       "      <td>France</td>\n",
       "    </tr>\n",
       "    <tr>\n",
       "      <th>497</th>\n",
       "      <td>Preparation biscuits cacao/noisette</td>\n",
       "      <td>farine de riz, sucre, amidon de maïs, cacao (4...</td>\n",
       "      <td>France</td>\n",
       "    </tr>\n",
       "    <tr>\n",
       "      <th>499</th>\n",
       "      <td>Chocolat lait noisette</td>\n",
       "      <td>FR - CHOCOLAT LAIT (40% min. caéao) AVEC NOISE...</td>\n",
       "      <td>France</td>\n",
       "    </tr>\n",
       "    <tr>\n",
       "      <th>581</th>\n",
       "      <td>mini doony's chocolat x8</td>\n",
       "      <td>farine: BLE, SOJA huiles et graisses vegetales...</td>\n",
       "      <td>France</td>\n",
       "    </tr>\n",
       "    <tr>\n",
       "      <th>...</th>\n",
       "      <td>...</td>\n",
       "      <td>...</td>\n",
       "      <td>...</td>\n",
       "    </tr>\n",
       "    <tr>\n",
       "      <th>2047642</th>\n",
       "      <td>Les Estivales Mangue Passion</td>\n",
       "      <td>Mangue (28 %), eau, sucre, _amandes_, sirop de...</td>\n",
       "      <td>France</td>\n",
       "    </tr>\n",
       "    <tr>\n",
       "      <th>2047764</th>\n",
       "      <td>Truffe de noix de pécan</td>\n",
       "      <td>Noix de pécan, sucre, lait entier en poudre, p...</td>\n",
       "      <td>France</td>\n",
       "    </tr>\n",
       "    <tr>\n",
       "      <th>2048255</th>\n",
       "      <td>Mini stollen</td>\n",
       "      <td>45 % massepain (44% amandes, sucre, sirop de g...</td>\n",
       "      <td>France</td>\n",
       "    </tr>\n",
       "    <tr>\n",
       "      <th>2048258</th>\n",
       "      <td>Saumon à l'oseille</td>\n",
       "      <td>'1/1/1/ Riz basmati accompagné d'une sauce à l...</td>\n",
       "      <td>France</td>\n",
       "    </tr>\n",
       "    <tr>\n",
       "      <th>2048353</th>\n",
       "      <td>raviolis pekinois surgelés</td>\n",
       "      <td>farine de blé  eau  porc 17 pourcents joue bar...</td>\n",
       "      <td>France</td>\n",
       "    </tr>\n",
       "  </tbody>\n",
       "</table>\n",
       "<p>44441 rows × 3 columns</p>\n",
       "</div>"
      ],
      "text/plain": [
       "                                              product_name  \\\n",
       "468      Preparation mug cake chocolat-caramel au beurr...   \n",
       "476             Colorant alimentaire bleu velours en spray   \n",
       "497                    Preparation biscuits cacao/noisette   \n",
       "499                                 Chocolat lait noisette   \n",
       "581                               mini doony's chocolat x8   \n",
       "...                                                    ...   \n",
       "2047642                       Les Estivales Mangue Passion   \n",
       "2047764                            Truffe de noix de pécan   \n",
       "2048255                                       Mini stollen   \n",
       "2048258                                 Saumon à l'oseille   \n",
       "2048353                         raviolis pekinois surgelés   \n",
       "\n",
       "                                          ingredients_text countries_en  \n",
       "468      farine de blé (gluten), sucre de canne, pépite...       France  \n",
       "476      VELOURS EN S RAY dessert, passé préalableme Bi...       France  \n",
       "497      farine de riz, sucre, amidon de maïs, cacao (4...       France  \n",
       "499      FR - CHOCOLAT LAIT (40% min. caéao) AVEC NOISE...       France  \n",
       "581      farine: BLE, SOJA huiles et graisses vegetales...       France  \n",
       "...                                                    ...          ...  \n",
       "2047642  Mangue (28 %), eau, sucre, _amandes_, sirop de...       France  \n",
       "2047764  Noix de pécan, sucre, lait entier en poudre, p...       France  \n",
       "2048255  45 % massepain (44% amandes, sucre, sirop de g...       France  \n",
       "2048258  '1/1/1/ Riz basmati accompagné d'une sauce à l...       France  \n",
       "2048353  farine de blé  eau  porc 17 pourcents joue bar...       France  \n",
       "\n",
       "[44441 rows x 3 columns]"
      ]
     },
     "execution_count": 121,
     "metadata": {},
     "output_type": "execute_result"
    }
   ],
   "source": [
    "openfoodfacts_en[openfoodfacts_en['ingredients_text'].str.contains(\n",
    "    'soja|caféine|foie|phytostérols', na = False)][['product_name', 'ingredients_text', 'countries_en']]"
   ]
  },
  {
   "cell_type": "code",
   "execution_count": 118,
   "id": "49860833",
   "metadata": {},
   "outputs": [
    {
     "data": {
      "text/html": [
       "<div>\n",
       "<style scoped>\n",
       "    .dataframe tbody tr th:only-of-type {\n",
       "        vertical-align: middle;\n",
       "    }\n",
       "\n",
       "    .dataframe tbody tr th {\n",
       "        vertical-align: top;\n",
       "    }\n",
       "\n",
       "    .dataframe thead th {\n",
       "        text-align: right;\n",
       "    }\n",
       "</style>\n",
       "<table border=\"1\" class=\"dataframe\">\n",
       "  <thead>\n",
       "    <tr style=\"text-align: right;\">\n",
       "      <th></th>\n",
       "      <th>product_name</th>\n",
       "      <th>ingredients_text</th>\n",
       "    </tr>\n",
       "  </thead>\n",
       "  <tbody>\n",
       "    <tr>\n",
       "      <th>6</th>\n",
       "      <td>hyde icon</td>\n",
       "      <td>beta alanine, creatine hcl, ancient peat &amp; app...</td>\n",
       "    </tr>\n",
       "    <tr>\n",
       "      <th>295</th>\n",
       "      <td>M&amp;S Extrenely Chocolatey Milk, Dark &amp; White Ch...</td>\n",
       "      <td>milk chocolate (32%) (sugar, cocoa butter, dri...</td>\n",
       "    </tr>\n",
       "    <tr>\n",
       "      <th>468</th>\n",
       "      <td>Preparation mug cake chocolat-caramel au beurr...</td>\n",
       "      <td>farine de blé (gluten), sucre de canne, pépite...</td>\n",
       "    </tr>\n",
       "    <tr>\n",
       "      <th>476</th>\n",
       "      <td>Colorant alimentaire bleu velours en spray</td>\n",
       "      <td>VELOURS EN S RAY dessert, passé préalableme Bi...</td>\n",
       "    </tr>\n",
       "    <tr>\n",
       "      <th>497</th>\n",
       "      <td>Preparation biscuits cacao/noisette</td>\n",
       "      <td>farine de riz, sucre, amidon de maïs, cacao (4...</td>\n",
       "    </tr>\n",
       "    <tr>\n",
       "      <th>...</th>\n",
       "      <td>...</td>\n",
       "      <td>...</td>\n",
       "    </tr>\n",
       "    <tr>\n",
       "      <th>2047642</th>\n",
       "      <td>Les Estivales Mangue Passion</td>\n",
       "      <td>Mangue (28 %), eau, sucre, _amandes_, sirop de...</td>\n",
       "    </tr>\n",
       "    <tr>\n",
       "      <th>2047764</th>\n",
       "      <td>Truffe de noix de pécan</td>\n",
       "      <td>Noix de pécan, sucre, lait entier en poudre, p...</td>\n",
       "    </tr>\n",
       "    <tr>\n",
       "      <th>2048255</th>\n",
       "      <td>Mini stollen</td>\n",
       "      <td>45 % massepain (44% amandes, sucre, sirop de g...</td>\n",
       "    </tr>\n",
       "    <tr>\n",
       "      <th>2048258</th>\n",
       "      <td>Saumon à l'oseille</td>\n",
       "      <td>'1/1/1/ Riz basmati accompagné d'une sauce à l...</td>\n",
       "    </tr>\n",
       "    <tr>\n",
       "      <th>2048353</th>\n",
       "      <td>raviolis pekinois surgelés</td>\n",
       "      <td>farine de blé  eau  porc 17 pourcents joue bar...</td>\n",
       "    </tr>\n",
       "  </tbody>\n",
       "</table>\n",
       "<p>54681 rows × 2 columns</p>\n",
       "</div>"
      ],
      "text/plain": [
       "                                              product_name  \\\n",
       "6                                                hyde icon   \n",
       "295      M&S Extrenely Chocolatey Milk, Dark & White Ch...   \n",
       "468      Preparation mug cake chocolat-caramel au beurr...   \n",
       "476             Colorant alimentaire bleu velours en spray   \n",
       "497                    Preparation biscuits cacao/noisette   \n",
       "...                                                    ...   \n",
       "2047642                       Les Estivales Mangue Passion   \n",
       "2047764                            Truffe de noix de pécan   \n",
       "2048255                                       Mini stollen   \n",
       "2048258                                 Saumon à l'oseille   \n",
       "2048353                         raviolis pekinois surgelés   \n",
       "\n",
       "                                          ingredients_text  \n",
       "6        beta alanine, creatine hcl, ancient peat & app...  \n",
       "295      milk chocolate (32%) (sugar, cocoa butter, dri...  \n",
       "468      farine de blé (gluten), sucre de canne, pépite...  \n",
       "476      VELOURS EN S RAY dessert, passé préalableme Bi...  \n",
       "497      farine de riz, sucre, amidon de maïs, cacao (4...  \n",
       "...                                                    ...  \n",
       "2047642  Mangue (28 %), eau, sucre, _amandes_, sirop de...  \n",
       "2047764  Noix de pécan, sucre, lait entier en poudre, p...  \n",
       "2048255  45 % massepain (44% amandes, sucre, sirop de g...  \n",
       "2048258  '1/1/1/ Riz basmati accompagné d'une sauce à l...  \n",
       "2048353  farine de blé  eau  porc 17 pourcents joue bar...  \n",
       "\n",
       "[54681 rows x 2 columns]"
      ]
     },
     "execution_count": 118,
     "metadata": {},
     "output_type": "execute_result"
    }
   ],
   "source": [
    "openfoodfacts_en[openfoodfacts_en['ingredients_text'].str.contains(\n",
    "    'soya|soja|caféine|caffeine|foie|liver|phytostérols|phytosterols', na = False)][['product_name', 'ingredients_text']]"
   ]
  },
  {
   "cell_type": "code",
   "execution_count": 117,
   "id": "ef2db94c",
   "metadata": {
    "scrolled": false
   },
   "outputs": [
    {
     "data": {
      "text/html": [
       "<div>\n",
       "<style scoped>\n",
       "    .dataframe tbody tr th:only-of-type {\n",
       "        vertical-align: middle;\n",
       "    }\n",
       "\n",
       "    .dataframe tbody tr th {\n",
       "        vertical-align: top;\n",
       "    }\n",
       "\n",
       "    .dataframe thead th {\n",
       "        text-align: right;\n",
       "    }\n",
       "</style>\n",
       "<table border=\"1\" class=\"dataframe\">\n",
       "  <thead>\n",
       "    <tr style=\"text-align: right;\">\n",
       "      <th></th>\n",
       "      <th>product_name</th>\n",
       "      <th>ingredients_text</th>\n",
       "    </tr>\n",
       "  </thead>\n",
       "  <tbody>\n",
       "    <tr>\n",
       "      <th>431611</th>\n",
       "      <td>Ekang</td>\n",
       "      <td>Émolliente, nourrissante et protectrice.  Ce j...</td>\n",
       "    </tr>\n",
       "    <tr>\n",
       "      <th>1967536</th>\n",
       "      <td>Proactiv</td>\n",
       "      <td>huiles végétales 54% (tournesol, colza, palme'...</td>\n",
       "    </tr>\n",
       "    <tr>\n",
       "      <th>1968305</th>\n",
       "      <td>ProActiv - Margarine</td>\n",
       "      <td>Eau, huiles végétales 30% (tournesol, palme, l...</td>\n",
       "    </tr>\n",
       "    <tr>\n",
       "      <th>1988352</th>\n",
       "      <td>ProActiv Margarine Tartine Sans Huile de Palme...</td>\n",
       "      <td>Eau, huiles végétales 36% (tournesol, lin, kar...</td>\n",
       "    </tr>\n",
       "    <tr>\n",
       "      <th>1988353</th>\n",
       "      <td>ProActiv Margarine🧈 Tartine Sans Huile🪔 de Pal...</td>\n",
       "      <td>Liste des ingrédients: Eau, huiles végétales 3...</td>\n",
       "    </tr>\n",
       "    <tr>\n",
       "      <th>1988356</th>\n",
       "      <td>ProActiv Expert Tartine et Gourmet Sans Huile ...</td>\n",
       "      <td>Huiles végétales 50% (colza, tournesol, karité...</td>\n",
       "    </tr>\n",
       "    <tr>\n",
       "      <th>1988751</th>\n",
       "      <td>Pro active</td>\n",
       "      <td>Eau, huiles végétales 35% (tournesol, colza, p...</td>\n",
       "    </tr>\n",
       "  </tbody>\n",
       "</table>\n",
       "</div>"
      ],
      "text/plain": [
       "                                              product_name  \\\n",
       "431611                                               Ekang   \n",
       "1967536                                           Proactiv   \n",
       "1968305                               ProActiv - Margarine   \n",
       "1988352  ProActiv Margarine Tartine Sans Huile de Palme...   \n",
       "1988353  ProActiv Margarine🧈 Tartine Sans Huile🪔 de Pal...   \n",
       "1988356  ProActiv Expert Tartine et Gourmet Sans Huile ...   \n",
       "1988751                                         Pro active   \n",
       "\n",
       "                                          ingredients_text  \n",
       "431611   Émolliente, nourrissante et protectrice.  Ce j...  \n",
       "1967536  huiles végétales 54% (tournesol, colza, palme'...  \n",
       "1968305  Eau, huiles végétales 30% (tournesol, palme, l...  \n",
       "1988352  Eau, huiles végétales 36% (tournesol, lin, kar...  \n",
       "1988353  Liste des ingrédients: Eau, huiles végétales 3...  \n",
       "1988356  Huiles végétales 50% (colza, tournesol, karité...  \n",
       "1988751  Eau, huiles végétales 35% (tournesol, colza, p...  "
      ]
     },
     "execution_count": 117,
     "metadata": {},
     "output_type": "execute_result"
    }
   ],
   "source": [
    "openfoodfacts_en[openfoodfacts_en['ingredients_text'].str.contains('phytostérols', na = False)][['product_name', 'ingredients_text']]"
   ]
  },
  {
   "cell_type": "code",
   "execution_count": 119,
   "id": "06c0bd94",
   "metadata": {},
   "outputs": [
    {
     "data": {
      "text/plain": [
       "[]"
      ]
     },
     "execution_count": 119,
     "metadata": {},
     "output_type": "execute_result"
    }
   ],
   "source": [
    "openfoodfacts_en.iloc[:,openfoodfacts_en.columns.str.contains(\n",
    "    'phytosterols')].columns.tolist()"
   ]
  },
  {
   "cell_type": "code",
   "execution_count": null,
   "id": "54c80d11",
   "metadata": {},
   "outputs": [],
   "source": []
  },
  {
   "cell_type": "code",
   "execution_count": null,
   "id": "48d81bdb",
   "metadata": {},
   "outputs": [],
   "source": [
    "liste_var_categ = ['code','last_modified_date','last_modified_year','product_name', \n",
    "                   'brands_tags','categories_en','labels_en','countries_en','ingredients_text','allergens',\n",
    "                   'traces_en','serving_quantity','additives_n','additives_en','nova_group','pnns_groups_1',\n",
    "                   'pnns_groups_2','brand_owner','ecoscore_score_fr','ecoscore_grade_fr','main_category',\n",
    "                   'main_category_en','energy-kcal_100g','energy_100g','energy-from-fat_100g','fat_100g']\n",
    "\n",
    "liste_a_eviter =  ['caffeine_100g', 'taurine_100g', 'salt_100g', 'sodium_100g', 'alcohol_100g', 'sugars_100g']\n",
    "\n",
    ", \n",
    "        \n",
    "\n",
    "liste_nutriscore = ['nutrition-score-fr_100g', 'nutrition-score-uk_100g', 'nutriscore_score', \n",
    "                    'nutriscore_grade']"
   ]
  },
  {
   "cell_type": "code",
   "execution_count": null,
   "id": "b232a5e4",
   "metadata": {
    "scrolled": false
   },
   "outputs": [],
   "source": [
    "describe_variables_light(openfoodfacts_en)"
   ]
  },
  {
   "cell_type": "code",
   "execution_count": null,
   "id": "8cef8098",
   "metadata": {},
   "outputs": [],
   "source": [
    "liste_var_a_conserver = [,\n",
    "\n",
    "\n",
    "\n",
    "\n",
    "\n",
    "\n",
    "                         \n",
    "\n",
    "                      \n",
    "                         \n"
   ]
  },
  {
   "cell_type": "markdown",
   "id": "ad8eca41",
   "metadata": {},
   "source": [
    "[Retour à la table des matières](#0)"
   ]
  },
  {
   "cell_type": "markdown",
   "id": "6a10af4e",
   "metadata": {},
   "source": [
    "<div class=\"alert alert-block alert-info\">\n",
    "    <p> Si on filtre sur le nom des ingrédients en français, peut être qu'il n'y a pas besoin de filtrer sur le pays </p>\n",
    "</div>"
   ]
  }
 ],
 "metadata": {
  "kernelspec": {
   "display_name": "projet3",
   "language": "python",
   "name": "projet3"
  },
  "language_info": {
   "codemirror_mode": {
    "name": "ipython",
    "version": 3
   },
   "file_extension": ".py",
   "mimetype": "text/x-python",
   "name": "python",
   "nbconvert_exporter": "python",
   "pygments_lexer": "ipython3",
   "version": "3.8.12"
  },
  "varInspector": {
   "cols": {
    "lenName": 16,
    "lenType": 16,
    "lenVar": 40
   },
   "kernels_config": {
    "python": {
     "delete_cmd_postfix": "",
     "delete_cmd_prefix": "del ",
     "library": "var_list.py",
     "varRefreshCmd": "print(var_dic_list())"
    },
    "r": {
     "delete_cmd_postfix": ") ",
     "delete_cmd_prefix": "rm(",
     "library": "var_list.r",
     "varRefreshCmd": "cat(var_dic_list()) "
    }
   },
   "oldHeight": 455.583666,
   "position": {
    "height": "477.217px",
    "left": "948px",
    "right": "20px",
    "top": "1px",
    "width": "566.733px"
   },
   "types_to_exclude": [
    "module",
    "function",
    "builtin_function_or_method",
    "instance",
    "_Feature"
   ],
   "varInspector_section_display": "block",
   "window_display": false
  }
 },
 "nbformat": 4,
 "nbformat_minor": 5
}
